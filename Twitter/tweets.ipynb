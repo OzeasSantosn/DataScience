{
 "cells": [
  {
   "cell_type": "code",
   "execution_count": 12,
   "metadata": {},
   "outputs": [],
   "source": [
    "#pip install tweepy"
   ]
  },
  {
   "cell_type": "code",
   "execution_count": 1,
   "metadata": {},
   "outputs": [],
   "source": [
    "import tweepy as tw       # Importando dados do tweepy\n",
    "import pandas as pd       # Importar Pandas"
   ]
  },
  {
   "cell_type": "code",
   "execution_count": 14,
   "metadata": {},
   "outputs": [],
   "source": [
    "#Aplicando API key e API Secret\n",
    "f1 = open('C:/Users/ozeas/OneDrive/Documentos/Estudos/Projetos/my_api_key.txt','r')\n",
    "f2 = open('C:/Users/ozeas/OneDrive/Documentos/Estudos/Projetos/my_api_secret.txt','r')\n",
    "\n",
    "my_api_key = f1.read()\n",
    "my_api_secret = f2.read()\n",
    "\n",
    "\n",
    "#Autenticação\n",
    "\n",
    "auth = tw.OAuthHandler(my_api_key, my_api_secret)\n",
    "api= tw.API(auth, wait_on_rate_limit = True)"
   ]
  },
  {
   "cell_type": "code",
   "execution_count": 16,
   "metadata": {},
   "outputs": [],
   "source": [
    "search_query = '[Bolsonaro, Brasil] - filter:retweets'"
   ]
  },
  {
   "cell_type": "code",
   "execution_count": 17,
   "metadata": {},
   "outputs": [
    {
     "name": "stderr",
     "output_type": "stream",
     "text": [
      "Unexpected parameter: since\n",
      "Unexpected parameter: since\n",
      "Unexpected parameter: since\n",
      "Unexpected parameter: since\n",
      "Unexpected parameter: since\n",
      "Unexpected parameter: since\n",
      "Unexpected parameter: since\n"
     ]
    },
    {
     "name": "stdout",
     "output_type": "stream",
     "text": [
      "Total Tweets coletados:  100\n"
     ]
    }
   ],
   "source": [
    "#Pega tweets da API\n",
    "\n",
    "tweets = tw.Cursor(api.search_tweets,\n",
    "                   q=search_query,\n",
    "                   lang = 'pt',\n",
    "                   since ='2022-01-01').items(100)\n",
    "\n",
    "#Armazena as respostas da API em uma lista\n",
    "tweet_copy = []\n",
    "\n",
    "for tweet in tweets:\n",
    "    tweet_copy.append(tweet)\n",
    "    \n",
    "\n",
    "\n",
    "print('Total Tweets coletados: ', len(tweet_copy))"
   ]
  },
  {
   "cell_type": "code",
   "execution_count": 18,
   "metadata": {},
   "outputs": [
    {
     "name": "stderr",
     "output_type": "stream",
     "text": [
      "C:\\Users\\ozeas\\AppData\\Local\\Temp\\ipykernel_14152\\3442406389.py:15: FutureWarning: The frame.append method is deprecated and will be removed from pandas in a future version. Use pandas.concat instead.\n",
      "  tweets_df = tweets_df.append(pd.DataFrame({#'user_name': tweet.user.name,\n"
     ]
    },
    {
     "data": {
      "text/html": [
       "<div>\n",
       "<style scoped>\n",
       "    .dataframe tbody tr th:only-of-type {\n",
       "        vertical-align: middle;\n",
       "    }\n",
       "\n",
       "    .dataframe tbody tr th {\n",
       "        vertical-align: top;\n",
       "    }\n",
       "\n",
       "    .dataframe thead th {\n",
       "        text-align: right;\n",
       "    }\n",
       "</style>\n",
       "<table border=\"1\" class=\"dataframe\">\n",
       "  <thead>\n",
       "    <tr style=\"text-align: right;\">\n",
       "      <th></th>\n",
       "      <th>user_location</th>\n",
       "      <th>user_description</th>\n",
       "      <th>date</th>\n",
       "      <th>text</th>\n",
       "      <th>hashtags</th>\n",
       "      <th>source</th>\n",
       "    </tr>\n",
       "  </thead>\n",
       "  <tbody>\n",
       "    <tr>\n",
       "      <th>0</th>\n",
       "      <td>Aracaju/SE</td>\n",
       "      <td>MEU OUTRO PERFIL JÁ FOI DERRUBADO VÁRIAS VEZES...</td>\n",
       "      <td>2023-01-11 16:42:23+00:00</td>\n",
       "      <td>RT @caioblinder: Reflexões óbvias:\\nLula é o p...</td>\n",
       "      <td>None</td>\n",
       "      <td>Twitter for Android</td>\n",
       "    </tr>\n",
       "    <tr>\n",
       "      <th>1</th>\n",
       "      <td></td>\n",
       "      <td>Deus, pátria, família e liberdade. 💚🤍🇧🇷</td>\n",
       "      <td>2023-01-11 16:42:15+00:00</td>\n",
       "      <td>RT @DIXONGALVAO: @MarcoMtonis Interessante, pa...</td>\n",
       "      <td>None</td>\n",
       "      <td>Twitter for Android</td>\n",
       "    </tr>\n",
       "    <tr>\n",
       "      <th>2</th>\n",
       "      <td></td>\n",
       "      <td>Eiii Esquerdista Vai tomar no .....</td>\n",
       "      <td>2023-01-11 16:42:11+00:00</td>\n",
       "      <td>RT @MichelleBolso22: Meus queridos, venho info...</td>\n",
       "      <td>None</td>\n",
       "      <td>Twitter for Android</td>\n",
       "    </tr>\n",
       "    <tr>\n",
       "      <th>3</th>\n",
       "      <td></td>\n",
       "      <td>Sempre em busca de um mundo mais justo</td>\n",
       "      <td>2023-01-11 16:42:11+00:00</td>\n",
       "      <td>RT @DoutorPandego: 💣💣💣 da @tatpovoa. Aguardem....</td>\n",
       "      <td>None</td>\n",
       "      <td>Twitter for Android</td>\n",
       "    </tr>\n",
       "    <tr>\n",
       "      <th>4</th>\n",
       "      <td></td>\n",
       "      <td>Um peregrino na terra...</td>\n",
       "      <td>2023-01-11 16:42:11+00:00</td>\n",
       "      <td>RT @Aleatoriedades9: @ggreenwald Mas o arco qu...</td>\n",
       "      <td>None</td>\n",
       "      <td>Twitter for Android</td>\n",
       "    </tr>\n",
       "  </tbody>\n",
       "</table>\n",
       "</div>"
      ],
      "text/plain": [
       "  user_location                                   user_description  \\\n",
       "0    Aracaju/SE  MEU OUTRO PERFIL JÁ FOI DERRUBADO VÁRIAS VEZES...   \n",
       "1                          Deus, pátria, família e liberdade. 💚🤍🇧🇷   \n",
       "2                              Eiii Esquerdista Vai tomar no .....   \n",
       "3                           Sempre em busca de um mundo mais justo   \n",
       "4                                         Um peregrino na terra...   \n",
       "\n",
       "                       date  \\\n",
       "0 2023-01-11 16:42:23+00:00   \n",
       "1 2023-01-11 16:42:15+00:00   \n",
       "2 2023-01-11 16:42:11+00:00   \n",
       "3 2023-01-11 16:42:11+00:00   \n",
       "4 2023-01-11 16:42:11+00:00   \n",
       "\n",
       "                                                text hashtags  \\\n",
       "0  RT @caioblinder: Reflexões óbvias:\\nLula é o p...     None   \n",
       "1  RT @DIXONGALVAO: @MarcoMtonis Interessante, pa...     None   \n",
       "2  RT @MichelleBolso22: Meus queridos, venho info...     None   \n",
       "3  RT @DoutorPandego: 💣💣💣 da @tatpovoa. Aguardem....     None   \n",
       "4  RT @Aleatoriedades9: @ggreenwald Mas o arco qu...     None   \n",
       "\n",
       "                source  \n",
       "0  Twitter for Android  \n",
       "1  Twitter for Android  \n",
       "2  Twitter for Android  \n",
       "3  Twitter for Android  \n",
       "4  Twitter for Android  "
      ]
     },
     "execution_count": 18,
     "metadata": {},
     "output_type": "execute_result"
    }
   ],
   "source": [
    "# Inicializando o Dataframe\n",
    "tweets_df = pd.DataFrame()\n",
    "\n",
    "for tweet in tweet_copy:\n",
    "    hashtags = []\n",
    "    \n",
    "    try:\n",
    "        for hashtag in tweet.entities[\"hashtags\"]:\n",
    "            hashtags.append(hashtag[\"text\"])\n",
    "        text = api.get_status(id=tweet.id, tweet_mode='extended').full_text\n",
    "    \n",
    "    except:\n",
    "        pass\n",
    "    \n",
    "    tweets_df = tweets_df.append(pd.DataFrame({#'user_name': tweet.user.name, \n",
    "                                               'user_location': tweet.user.location,\\\n",
    "                                               'user_description': tweet.user.description,\n",
    "                                               #'user_verified': tweet.user.verified,\n",
    "                                               'date': tweet.created_at,\n",
    "                                               #'tweet':tweet.retweets,\n",
    "                                               'text': text, \n",
    "                                               'hashtags': [hashtags if hashtags else None],\n",
    "                                               'source': tweet.source}))\n",
    "    tweets_df = tweets_df.reset_index(drop=True)\n",
    "\n",
    "\n",
    "# Mostrando o dataframe\n",
    "tweets_df.head()\n",
    "\n"
   ]
  },
  {
   "cell_type": "code",
   "execution_count": 19,
   "metadata": {},
   "outputs": [],
   "source": [
    "twBolson_Br700_df = tweets_df"
   ]
  },
  {
   "cell_type": "code",
   "execution_count": 29,
   "metadata": {},
   "outputs": [],
   "source": [
    "#700 Tweetes sobre o Bolsonaro e Brasil\n",
    "twBolson_Br700_df.to_csv('df_bols.csv')"
   ]
  },
  {
   "cell_type": "code",
   "execution_count": 30,
   "metadata": {},
   "outputs": [],
   "source": [
    "#700 Tweetes sobre o Lula e Brasil\n",
    "twLula_Br700_df.to_csv('df_Lula.csv')"
   ]
  },
  {
   "cell_type": "code",
   "execution_count": 31,
   "metadata": {},
   "outputs": [],
   "source": [
    "#700 Tweetes sobre o STF e invasão\n",
    "tw700_df.to_csv('df_STF.csv')"
   ]
  }
 ],
 "metadata": {
  "kernelspec": {
   "display_name": "Python 3",
   "language": "python",
   "name": "python3"
  },
  "language_info": {
   "codemirror_mode": {
    "name": "ipython",
    "version": 3
   },
   "file_extension": ".py",
   "mimetype": "text/x-python",
   "name": "python",
   "nbconvert_exporter": "python",
   "pygments_lexer": "ipython3",
   "version": "3.8.10"
  },
  "orig_nbformat": 4,
  "vscode": {
   "interpreter": {
    "hash": "2e06956fd489a3329cb8434b4c7e43cc21bed0cc9b3070b5daf05e55565e9df5"
   }
  }
 },
 "nbformat": 4,
 "nbformat_minor": 2
}
