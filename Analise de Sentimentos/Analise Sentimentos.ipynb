{
  "cells": [
    {
      "attachments": {},
      "cell_type": "markdown",
      "metadata": {
        "id": "Fx01oBsSNTRB"
      },
      "source": [
        "### Processamento de Linguagem Natural"
      ]
    },
    {
      "attachments": {},
      "cell_type": "markdown",
      "metadata": {
        "id": "cRGXAFqBMk-t"
      },
      "source": [
        "### PROCESSAMENTO DE TEXTO E ANÁLISE DE SENTIMENTOS COM PLN\n",
        "\n",
        "\n"
      ]
    },
    {
      "attachments": {},
      "cell_type": "markdown",
      "metadata": {
        "id": "GOEbZ_4_Modz"
      },
      "source": [
        "Ozeas Dos Santos Nascimento <br>\n",
        "Cientista de Dados / Analista de Dados<br>\n",
        "Linkedin: www.linkedin.com/in/ozeassantos\n"
      ]
    },
    {
      "attachments": {},
      "cell_type": "markdown",
      "metadata": {
        "id": "OJqFkM5kMx7B"
      },
      "source": [
        "### INTRODUÇÃO\n",
        "\n",
        "Com o objetivo de aplicar as práticas de NLP, trouxe aqui a proposta os dados para tratamento de textos e análise de sentimentos. O tema principal é a base de dados textual, levando em consideração textos utilizados em pesquisa de qualidade respondidas em campo aberto pelo usuário.\n",
        "\n",
        "#### PROBLEMA \n",
        "O campo de texto aberto costuma ser problema em qualquer sistema justamente pela complexidade de análise dessa informação. É importante poder usar a informação inserida em campos abertos para entender os principais problemas que ainda não foram endereçados.\n",
        "\n",
        "#### OBJETIVO \n",
        "\n",
        " O objetivo é utilizar uma base de dados com respostas fornecidas por usuários em campos de texto abertos e criar um código automatizado para ler este dataset, tratar o texto e também tirar insights sobre o sentimento descrito nas respostas. Isso tudo sem a intervenção humana no trabalho, com o intuído de aplicar os as tecnicas de NLP em um caso prático que poderá gerar valor a qualquer empresa.\n",
        "\n",
        "#### OBJETIVOS ESPECÍFICOS\n",
        "\n",
        "Para tal objetivo citado anteriormente, precisaremos: \n",
        "-\tColetar a base de dados\n",
        "-\tLevantar os principais insights iniciais\n",
        "-\tIdentificar as principais colunas\n",
        "-\tPré-processamento de Texto: Expressões regulares; Tokenization, lemmatization e stemming.\n",
        "-\tExtração de informação\n",
        "-\tClassificação de textos\n",
        "-\tAnálise de Sentimento \n",
        "-\tConfrontar os resultados com os dados iniciais\n",
        "-\tGerar insights finais sobre a base de dados."
      ]
    },
    {
      "cell_type": "markdown",
      "metadata": {
        "id": "2HdYMQMF8FEE"
      },
      "source": [
        "Origem dos dados utilizados:\n",
        "\n",
        "https://notebook.community/melqkiades/yelp/notebooks/TripAdvisor-Datasets\n",
        "\n",
        "http://www.cs.cmu.edu/~jiweil/html/hotel-review.html"
      ]
    },
    {
      "cell_type": "markdown",
      "metadata": {
        "id": "zlzBR1MXMbKU"
      },
      "source": [
        "*Conjuntos de dados do TripAdvisor*\n",
        "\n",
        "*Este conjunto de dados consiste em 878.561 avaliações (1,3 GB) de 4.333 hotéis rastreados do TripAdvisor*"
      ]
    },
    {
      "cell_type": "markdown",
      "metadata": {
        "id": "5x0AHocx42Gl"
      },
      "source": [
        "# Imports\n"
      ]
    },
    {
      "cell_type": "code",
      "execution_count": 1,
      "metadata": {
        "colab": {
          "base_uri": "https://localhost:8080/"
        },
        "id": "QzE_uCx_LRUd",
        "outputId": "b1598242-17fc-47cc-ad5c-6b7a7f2170bf"
      },
      "outputs": [
        {
          "ename": "KeyboardInterrupt",
          "evalue": "",
          "output_type": "error",
          "traceback": [
            "\u001b[1;31m---------------------------------------------------------------------------\u001b[0m",
            "\u001b[1;31mKeyboardInterrupt\u001b[0m                         Traceback (most recent call last)",
            "Cell \u001b[1;32mIn[1], line 7\u001b[0m\n\u001b[0;32m      5\u001b[0m \u001b[39mfrom\u001b[39;00m \u001b[39mzipfile\u001b[39;00m \u001b[39mimport\u001b[39;00m ZipFile\n\u001b[0;32m      6\u001b[0m \u001b[39mimport\u001b[39;00m \u001b[39mjson\u001b[39;00m\n\u001b[1;32m----> 7\u001b[0m \u001b[39mfrom\u001b[39;00m \u001b[39msklearn\u001b[39;00m\u001b[39m.\u001b[39;00m\u001b[39mcluster\u001b[39;00m \u001b[39mimport\u001b[39;00m KMeans\n\u001b[0;32m      9\u001b[0m \u001b[39mimport\u001b[39;00m \u001b[39mgensim\u001b[39;00m\n\u001b[0;32m     11\u001b[0m \u001b[39mimport\u001b[39;00m \u001b[39mre\u001b[39;00m\n",
            "File \u001b[1;32mc:\\Users\\ozeas\\AppData\\Local\\Programs\\Python\\Python38\\lib\\site-packages\\sklearn\\cluster\\__init__.py:6\u001b[0m\n\u001b[0;32m      1\u001b[0m \u001b[39m\"\"\"\u001b[39;00m\n\u001b[0;32m      2\u001b[0m \u001b[39mThe :mod:`sklearn.cluster` module gathers popular unsupervised clustering\u001b[39;00m\n\u001b[0;32m      3\u001b[0m \u001b[39malgorithms.\u001b[39;00m\n\u001b[0;32m      4\u001b[0m \u001b[39m\"\"\"\u001b[39;00m\n\u001b[1;32m----> 6\u001b[0m \u001b[39mfrom\u001b[39;00m \u001b[39m.\u001b[39;00m\u001b[39m_spectral\u001b[39;00m \u001b[39mimport\u001b[39;00m spectral_clustering, SpectralClustering\n\u001b[0;32m      7\u001b[0m \u001b[39mfrom\u001b[39;00m \u001b[39m.\u001b[39;00m\u001b[39m_mean_shift\u001b[39;00m \u001b[39mimport\u001b[39;00m mean_shift, MeanShift, estimate_bandwidth, get_bin_seeds\n\u001b[0;32m      8\u001b[0m \u001b[39mfrom\u001b[39;00m \u001b[39m.\u001b[39;00m\u001b[39m_affinity_propagation\u001b[39;00m \u001b[39mimport\u001b[39;00m affinity_propagation, AffinityPropagation\n",
            "File \u001b[1;32mc:\\Users\\ozeas\\AppData\\Local\\Programs\\Python\\Python38\\lib\\site-packages\\sklearn\\cluster\\_spectral.py:21\u001b[0m\n\u001b[0;32m     19\u001b[0m \u001b[39mfrom\u001b[39;00m \u001b[39m.\u001b[39;00m\u001b[39m.\u001b[39;00m\u001b[39mutils\u001b[39;00m \u001b[39mimport\u001b[39;00m check_random_state, as_float_array\n\u001b[0;32m     20\u001b[0m \u001b[39mfrom\u001b[39;00m \u001b[39m.\u001b[39;00m\u001b[39m.\u001b[39;00m\u001b[39mmetrics\u001b[39;00m\u001b[39m.\u001b[39;00m\u001b[39mpairwise\u001b[39;00m \u001b[39mimport\u001b[39;00m pairwise_kernels, KERNEL_PARAMS\n\u001b[1;32m---> 21\u001b[0m \u001b[39mfrom\u001b[39;00m \u001b[39m.\u001b[39;00m\u001b[39m.\u001b[39;00m\u001b[39mneighbors\u001b[39;00m \u001b[39mimport\u001b[39;00m kneighbors_graph, NearestNeighbors\n\u001b[0;32m     22\u001b[0m \u001b[39mfrom\u001b[39;00m \u001b[39m.\u001b[39;00m\u001b[39m.\u001b[39;00m\u001b[39mmanifold\u001b[39;00m \u001b[39mimport\u001b[39;00m spectral_embedding\n\u001b[0;32m     23\u001b[0m \u001b[39mfrom\u001b[39;00m \u001b[39m.\u001b[39;00m\u001b[39m_kmeans\u001b[39;00m \u001b[39mimport\u001b[39;00m k_means\n",
            "File \u001b[1;32mc:\\Users\\ozeas\\AppData\\Local\\Programs\\Python\\Python38\\lib\\site-packages\\sklearn\\neighbors\\__init__.py:17\u001b[0m\n\u001b[0;32m     15\u001b[0m \u001b[39mfrom\u001b[39;00m \u001b[39m.\u001b[39;00m\u001b[39m_kde\u001b[39;00m \u001b[39mimport\u001b[39;00m KernelDensity\n\u001b[0;32m     16\u001b[0m \u001b[39mfrom\u001b[39;00m \u001b[39m.\u001b[39;00m\u001b[39m_lof\u001b[39;00m \u001b[39mimport\u001b[39;00m LocalOutlierFactor\n\u001b[1;32m---> 17\u001b[0m \u001b[39mfrom\u001b[39;00m \u001b[39m.\u001b[39;00m\u001b[39m_nca\u001b[39;00m \u001b[39mimport\u001b[39;00m NeighborhoodComponentsAnalysis\n\u001b[0;32m     18\u001b[0m \u001b[39mfrom\u001b[39;00m \u001b[39m.\u001b[39;00m\u001b[39m_base\u001b[39;00m \u001b[39mimport\u001b[39;00m sort_graph_by_row_values\n\u001b[0;32m     19\u001b[0m \u001b[39mfrom\u001b[39;00m \u001b[39m.\u001b[39;00m\u001b[39m_base\u001b[39;00m \u001b[39mimport\u001b[39;00m VALID_METRICS, VALID_METRICS_SPARSE\n",
            "File \u001b[1;32mc:\\Users\\ozeas\\AppData\\Local\\Programs\\Python\\Python38\\lib\\site-packages\\sklearn\\neighbors\\_nca.py:19\u001b[0m\n\u001b[0;32m     17\u001b[0m \u001b[39mfrom\u001b[39;00m \u001b[39m.\u001b[39;00m\u001b[39m.\u001b[39;00m\u001b[39mbase\u001b[39;00m \u001b[39mimport\u001b[39;00m BaseEstimator, TransformerMixin, ClassNamePrefixFeaturesOutMixin\n\u001b[0;32m     18\u001b[0m \u001b[39mfrom\u001b[39;00m \u001b[39m.\u001b[39;00m\u001b[39m.\u001b[39;00m\u001b[39mpreprocessing\u001b[39;00m \u001b[39mimport\u001b[39;00m LabelEncoder\n\u001b[1;32m---> 19\u001b[0m \u001b[39mfrom\u001b[39;00m \u001b[39m.\u001b[39;00m\u001b[39m.\u001b[39;00m\u001b[39mdecomposition\u001b[39;00m \u001b[39mimport\u001b[39;00m PCA\n\u001b[0;32m     20\u001b[0m \u001b[39mfrom\u001b[39;00m \u001b[39m.\u001b[39;00m\u001b[39m.\u001b[39;00m\u001b[39mutils\u001b[39;00m\u001b[39m.\u001b[39;00m\u001b[39mmulticlass\u001b[39;00m \u001b[39mimport\u001b[39;00m check_classification_targets\n\u001b[0;32m     21\u001b[0m \u001b[39mfrom\u001b[39;00m \u001b[39m.\u001b[39;00m\u001b[39m.\u001b[39;00m\u001b[39mutils\u001b[39;00m\u001b[39m.\u001b[39;00m\u001b[39mrandom\u001b[39;00m \u001b[39mimport\u001b[39;00m check_random_state\n",
            "File \u001b[1;32mc:\\Users\\ozeas\\AppData\\Local\\Programs\\Python\\Python38\\lib\\site-packages\\sklearn\\decomposition\\__init__.py:16\u001b[0m\n\u001b[0;32m     14\u001b[0m \u001b[39mfrom\u001b[39;00m \u001b[39m.\u001b[39;00m\u001b[39m_incremental_pca\u001b[39;00m \u001b[39mimport\u001b[39;00m IncrementalPCA\n\u001b[0;32m     15\u001b[0m \u001b[39mfrom\u001b[39;00m \u001b[39m.\u001b[39;00m\u001b[39m_kernel_pca\u001b[39;00m \u001b[39mimport\u001b[39;00m KernelPCA\n\u001b[1;32m---> 16\u001b[0m \u001b[39mfrom\u001b[39;00m \u001b[39m.\u001b[39;00m\u001b[39m_sparse_pca\u001b[39;00m \u001b[39mimport\u001b[39;00m SparsePCA, MiniBatchSparsePCA\n\u001b[0;32m     17\u001b[0m \u001b[39mfrom\u001b[39;00m \u001b[39m.\u001b[39;00m\u001b[39m_truncated_svd\u001b[39;00m \u001b[39mimport\u001b[39;00m TruncatedSVD\n\u001b[0;32m     18\u001b[0m \u001b[39mfrom\u001b[39;00m \u001b[39m.\u001b[39;00m\u001b[39m_fastica\u001b[39;00m \u001b[39mimport\u001b[39;00m FastICA, fastica\n",
            "File \u001b[1;32mc:\\Users\\ozeas\\AppData\\Local\\Programs\\Python\\Python38\\lib\\site-packages\\sklearn\\decomposition\\_sparse_pca.py:13\u001b[0m\n\u001b[0;32m     11\u001b[0m \u001b[39mfrom\u001b[39;00m \u001b[39m.\u001b[39;00m\u001b[39m.\u001b[39;00m\u001b[39mutils\u001b[39;00m\u001b[39m.\u001b[39;00m\u001b[39m_param_validation\u001b[39;00m \u001b[39mimport\u001b[39;00m Hidden, Interval, StrOptions\n\u001b[0;32m     12\u001b[0m \u001b[39mfrom\u001b[39;00m \u001b[39m.\u001b[39;00m\u001b[39m.\u001b[39;00m\u001b[39mutils\u001b[39;00m\u001b[39m.\u001b[39;00m\u001b[39mvalidation\u001b[39;00m \u001b[39mimport\u001b[39;00m check_array, check_is_fitted\n\u001b[1;32m---> 13\u001b[0m \u001b[39mfrom\u001b[39;00m \u001b[39m.\u001b[39;00m\u001b[39m.\u001b[39;00m\u001b[39mlinear_model\u001b[39;00m \u001b[39mimport\u001b[39;00m ridge_regression\n\u001b[0;32m     14\u001b[0m \u001b[39mfrom\u001b[39;00m \u001b[39m.\u001b[39;00m\u001b[39m.\u001b[39;00m\u001b[39mbase\u001b[39;00m \u001b[39mimport\u001b[39;00m BaseEstimator, TransformerMixin, ClassNamePrefixFeaturesOutMixin\n\u001b[0;32m     15\u001b[0m \u001b[39mfrom\u001b[39;00m \u001b[39m.\u001b[39;00m\u001b[39m_dict_learning\u001b[39;00m \u001b[39mimport\u001b[39;00m dict_learning, MiniBatchDictionaryLearning\n",
            "File \u001b[1;32mc:\\Users\\ozeas\\AppData\\Local\\Programs\\Python\\Python38\\lib\\site-packages\\sklearn\\linear_model\\__init__.py:37\u001b[0m\n\u001b[0;32m     35\u001b[0m \u001b[39mfrom\u001b[39;00m \u001b[39m.\u001b[39;00m\u001b[39m_stochastic_gradient\u001b[39;00m \u001b[39mimport\u001b[39;00m SGDClassifier, SGDRegressor, SGDOneClassSVM\n\u001b[0;32m     36\u001b[0m \u001b[39mfrom\u001b[39;00m \u001b[39m.\u001b[39;00m\u001b[39m_ridge\u001b[39;00m \u001b[39mimport\u001b[39;00m Ridge, RidgeCV, RidgeClassifier, RidgeClassifierCV, ridge_regression\n\u001b[1;32m---> 37\u001b[0m \u001b[39mfrom\u001b[39;00m \u001b[39m.\u001b[39;00m\u001b[39m_logistic\u001b[39;00m \u001b[39mimport\u001b[39;00m LogisticRegression, LogisticRegressionCV\n\u001b[0;32m     38\u001b[0m \u001b[39mfrom\u001b[39;00m \u001b[39m.\u001b[39;00m\u001b[39m_omp\u001b[39;00m \u001b[39mimport\u001b[39;00m (\n\u001b[0;32m     39\u001b[0m     orthogonal_mp,\n\u001b[0;32m     40\u001b[0m     orthogonal_mp_gram,\n\u001b[0;32m     41\u001b[0m     OrthogonalMatchingPursuit,\n\u001b[0;32m     42\u001b[0m     OrthogonalMatchingPursuitCV,\n\u001b[0;32m     43\u001b[0m )\n\u001b[0;32m     44\u001b[0m \u001b[39mfrom\u001b[39;00m \u001b[39m.\u001b[39;00m\u001b[39m_passive_aggressive\u001b[39;00m \u001b[39mimport\u001b[39;00m PassiveAggressiveClassifier\n",
            "File \u001b[1;32mc:\\Users\\ozeas\\AppData\\Local\\Programs\\Python\\Python38\\lib\\site-packages\\sklearn\\linear_model\\_logistic.py:29\u001b[0m\n\u001b[0;32m     27\u001b[0m \u001b[39mfrom\u001b[39;00m \u001b[39m.\u001b[39;00m\u001b[39m.\u001b[39;00m\u001b[39m_loss\u001b[39;00m\u001b[39m.\u001b[39;00m\u001b[39mloss\u001b[39;00m \u001b[39mimport\u001b[39;00m HalfBinomialLoss, HalfMultinomialLoss\n\u001b[0;32m     28\u001b[0m \u001b[39mfrom\u001b[39;00m \u001b[39m.\u001b[39;00m\u001b[39m.\u001b[39;00m\u001b[39mpreprocessing\u001b[39;00m \u001b[39mimport\u001b[39;00m LabelEncoder, LabelBinarizer\n\u001b[1;32m---> 29\u001b[0m \u001b[39mfrom\u001b[39;00m \u001b[39m.\u001b[39;00m\u001b[39m.\u001b[39;00m\u001b[39msvm\u001b[39;00m\u001b[39m.\u001b[39;00m\u001b[39m_base\u001b[39;00m \u001b[39mimport\u001b[39;00m _fit_liblinear\n\u001b[0;32m     30\u001b[0m \u001b[39mfrom\u001b[39;00m \u001b[39m.\u001b[39;00m\u001b[39m.\u001b[39;00m\u001b[39mutils\u001b[39;00m \u001b[39mimport\u001b[39;00m check_array, check_consistent_length, compute_class_weight\n\u001b[0;32m     31\u001b[0m \u001b[39mfrom\u001b[39;00m \u001b[39m.\u001b[39;00m\u001b[39m.\u001b[39;00m\u001b[39mutils\u001b[39;00m \u001b[39mimport\u001b[39;00m check_random_state\n",
            "File \u001b[1;32mc:\\Users\\ozeas\\AppData\\Local\\Programs\\Python\\Python38\\lib\\site-packages\\sklearn\\svm\\__init__.py:13\u001b[0m\n\u001b[0;32m      1\u001b[0m \u001b[39m\"\"\"\u001b[39;00m\n\u001b[0;32m      2\u001b[0m \u001b[39mThe :mod:`sklearn.svm` module includes Support Vector Machine algorithms.\u001b[39;00m\n\u001b[0;32m      3\u001b[0m \u001b[39m\"\"\"\u001b[39;00m\n\u001b[0;32m      5\u001b[0m \u001b[39m# See http://scikit-learn.sourceforge.net/modules/svm.html for complete\u001b[39;00m\n\u001b[0;32m      6\u001b[0m \u001b[39m# documentation.\u001b[39;00m\n\u001b[0;32m      7\u001b[0m \n\u001b[1;32m   (...)\u001b[0m\n\u001b[0;32m     10\u001b[0m \u001b[39m#         of their respective owners.\u001b[39;00m\n\u001b[0;32m     11\u001b[0m \u001b[39m# License: BSD 3 clause (C) INRIA 2010\u001b[39;00m\n\u001b[1;32m---> 13\u001b[0m \u001b[39mfrom\u001b[39;00m \u001b[39m.\u001b[39;00m\u001b[39m_classes\u001b[39;00m \u001b[39mimport\u001b[39;00m SVC, NuSVC, SVR, NuSVR, OneClassSVM, LinearSVC, LinearSVR\n\u001b[0;32m     14\u001b[0m \u001b[39mfrom\u001b[39;00m \u001b[39m.\u001b[39;00m\u001b[39m_bounds\u001b[39;00m \u001b[39mimport\u001b[39;00m l1_min_c\n\u001b[0;32m     16\u001b[0m __all__ \u001b[39m=\u001b[39m [\n\u001b[0;32m     17\u001b[0m     \u001b[39m\"\u001b[39m\u001b[39mLinearSVC\u001b[39m\u001b[39m\"\u001b[39m,\n\u001b[0;32m     18\u001b[0m     \u001b[39m\"\u001b[39m\u001b[39mLinearSVR\u001b[39m\u001b[39m\"\u001b[39m,\n\u001b[1;32m   (...)\u001b[0m\n\u001b[0;32m     24\u001b[0m     \u001b[39m\"\u001b[39m\u001b[39ml1_min_c\u001b[39m\u001b[39m\"\u001b[39m,\n\u001b[0;32m     25\u001b[0m ]\n",
            "File \u001b[1;32mc:\\Users\\ozeas\\AppData\\Local\\Programs\\Python\\Python38\\lib\\site-packages\\sklearn\\svm\\_classes.py:5\u001b[0m\n\u001b[0;32m      1\u001b[0m \u001b[39mfrom\u001b[39;00m \u001b[39mnumbers\u001b[39;00m \u001b[39mimport\u001b[39;00m Integral, Real\n\u001b[0;32m      3\u001b[0m \u001b[39mimport\u001b[39;00m \u001b[39mnumpy\u001b[39;00m \u001b[39mas\u001b[39;00m \u001b[39mnp\u001b[39;00m\n\u001b[1;32m----> 5\u001b[0m \u001b[39mfrom\u001b[39;00m \u001b[39m.\u001b[39;00m\u001b[39m_base\u001b[39;00m \u001b[39mimport\u001b[39;00m _fit_liblinear, BaseSVC, BaseLibSVM\n\u001b[0;32m      6\u001b[0m \u001b[39mfrom\u001b[39;00m \u001b[39m.\u001b[39;00m\u001b[39m.\u001b[39;00m\u001b[39mbase\u001b[39;00m \u001b[39mimport\u001b[39;00m BaseEstimator, RegressorMixin, OutlierMixin\n\u001b[0;32m      7\u001b[0m \u001b[39mfrom\u001b[39;00m \u001b[39m.\u001b[39;00m\u001b[39m.\u001b[39;00m\u001b[39mlinear_model\u001b[39;00m\u001b[39m.\u001b[39;00m\u001b[39m_base\u001b[39;00m \u001b[39mimport\u001b[39;00m LinearClassifierMixin, SparseCoefMixin, LinearModel\n",
            "File \u001b[1;32mc:\\Users\\ozeas\\AppData\\Local\\Programs\\Python\\Python38\\lib\\site-packages\\sklearn\\svm\\_base.py:10\u001b[0m\n\u001b[0;32m      6\u001b[0m \u001b[39mimport\u001b[39;00m \u001b[39mscipy\u001b[39;00m\u001b[39m.\u001b[39;00m\u001b[39msparse\u001b[39;00m \u001b[39mas\u001b[39;00m \u001b[39msp\u001b[39;00m\n\u001b[0;32m      8\u001b[0m \u001b[39m# mypy error: error: Module 'sklearn.svm' has no attribute '_libsvm'\u001b[39;00m\n\u001b[0;32m      9\u001b[0m \u001b[39m# (and same for other imports)\u001b[39;00m\n\u001b[1;32m---> 10\u001b[0m \u001b[39mfrom\u001b[39;00m \u001b[39m.\u001b[39;00m \u001b[39mimport\u001b[39;00m _libsvm \u001b[39mas\u001b[39;00m libsvm  \u001b[39m# type: ignore\u001b[39;00m\n\u001b[0;32m     11\u001b[0m \u001b[39mfrom\u001b[39;00m \u001b[39m.\u001b[39;00m \u001b[39mimport\u001b[39;00m _liblinear \u001b[39mas\u001b[39;00m liblinear  \u001b[39m# type: ignore\u001b[39;00m\n\u001b[0;32m     12\u001b[0m \u001b[39mfrom\u001b[39;00m \u001b[39m.\u001b[39;00m \u001b[39mimport\u001b[39;00m _libsvm_sparse \u001b[39mas\u001b[39;00m libsvm_sparse  \u001b[39m# type: ignore\u001b[39;00m\n",
            "File \u001b[1;32m<frozen importlib._bootstrap>:389\u001b[0m, in \u001b[0;36mparent\u001b[1;34m(self)\u001b[0m\n",
            "\u001b[1;31mKeyboardInterrupt\u001b[0m: "
          ]
        }
      ],
      "source": [
        "from urllib import request\n",
        "import pandas as pd\n",
        "import numpy as np\n",
        "import os\n",
        "from zipfile import ZipFile\n",
        "import json\n",
        "from sklearn.cluster import KMeans\n",
        "\n",
        "import gensim\n",
        "\n",
        "import re\n",
        "from nltk.corpus import stopwords\n",
        "import string\n",
        "\n",
        "from tqdm._tqdm_notebook import tqdm_notebook\n",
        "tqdm_notebook.pandas()\n",
        "\n",
        "import nltk\n",
        "#nltk.download('stopwords')\n",
        "#nltk.download('vader_lexicon')\n",
        "#nltk.download()\n",
        "from nltk.tokenize import word_tokenize\n",
        "from nltk.probability import FreqDist\n",
        "\n",
        "from textblob.sentiments import NaiveBayesAnalyzer\n",
        "import textblob\n",
        "\n",
        "from nltk.stem import LancasterStemmer, WordNetLemmatizer, PorterStemmer\n",
        "from wordcloud import WordCloud, STOPWORDS\n",
        "import matplotlib.pyplot as plt\n",
        "\n",
        "from nltk.sentiment.vader import SentimentIntensityAnalyzer\n",
        "from nltk.sentiment import SentimentIntensityAnalyzer\n",
        "\n",
        "import seaborn as sns \n",
        "from sklearn.decomposition import PCA"
      ]
    },
    {
      "cell_type": "markdown",
      "metadata": {
        "id": "FLmyWLVn49KC"
      },
      "source": [
        "# Carrego e tratamento da base"
      ]
    },
    {
      "attachments": {},
      "cell_type": "markdown",
      "metadata": {},
      "source": [
        "Inicialmente tentamos baixar a base e descompactar para poder usar direto do site, porém o volume da base foi um impecilio, portanto fizemos o download e testamos local."
      ]
    },
    {
      "cell_type": "markdown",
      "metadata": {
        "id": "t7NwttLQqr5V"
      },
      "source": [
        "Parametros do arquivo/bse a ser utilizado"
      ]
    },
    {
      "cell_type": "code",
      "execution_count": null,
      "metadata": {
        "id": "v8LsGYb7MnTT"
      },
      "outputs": [],
      "source": [
        "#url = 'http://www.cs.cmu.edu/~jiweil/html/hotel-review.html'\n",
        "#file_name = 'review.txt.zip'"
      ]
    },
    {
      "cell_type": "markdown",
      "metadata": {
        "id": "vATRdUb4qvQI"
      },
      "source": [
        "Baixando a base de dados"
      ]
    },
    {
      "cell_type": "code",
      "execution_count": null,
      "metadata": {
        "colab": {
          "base_uri": "https://localhost:8080/"
        },
        "id": "JlYPPg5MPWp0",
        "outputId": "6c31f7e0-6dce-4977-a244-75f82152d11a"
      },
      "outputs": [],
      "source": [
        "#request.urlretrieve(url, file_name)"
      ]
    },
    {
      "cell_type": "markdown",
      "metadata": {
        "id": "Y_QBKqGlqyWy"
      },
      "source": [
        "Extração da base de dados"
      ]
    },
    {
      "cell_type": "code",
      "execution_count": null,
      "metadata": {
        "id": "85skdxx2WLDX",
        "outputId": "a5d52e72-b627-402c-a134-155b9518aee4"
      },
      "outputs": [
        {
          "ename": "PermissionError",
          "evalue": "[Errno 13] Permission denied: 'c:\\\\Users\\\\ozeas\\\\OneDrive\\\\Documentos\\\\Estudos\\\\PROJETOS\\\\DataScience\\\\Analise de Sentimentos\\\\review.txt'",
          "output_type": "error",
          "traceback": [
            "\u001b[1;31m---------------------------------------------------------------------------\u001b[0m",
            "\u001b[1;31mPermissionError\u001b[0m                           Traceback (most recent call last)",
            "Cell \u001b[1;32mIn[8], line 4\u001b[0m\n\u001b[0;32m      1\u001b[0m file_name \u001b[39m=\u001b[39m \u001b[39m'\u001b[39m\u001b[39mreview.txt/review.txt.zip\u001b[39m\u001b[39m'\u001b[39m\n\u001b[0;32m      3\u001b[0m \u001b[39mzip\u001b[39m \u001b[39m=\u001b[39m ZipFile(file_name)\n\u001b[1;32m----> 4\u001b[0m \u001b[39mzip\u001b[39;49m\u001b[39m.\u001b[39;49mextractall()\n",
            "File \u001b[1;32mc:\\Users\\ozeas\\AppData\\Local\\Programs\\Python\\Python38\\lib\\zipfile.py:1647\u001b[0m, in \u001b[0;36mZipFile.extractall\u001b[1;34m(self, path, members, pwd)\u001b[0m\n\u001b[0;32m   1644\u001b[0m     path \u001b[39m=\u001b[39m os\u001b[39m.\u001b[39mfspath(path)\n\u001b[0;32m   1646\u001b[0m \u001b[39mfor\u001b[39;00m zipinfo \u001b[39min\u001b[39;00m members:\n\u001b[1;32m-> 1647\u001b[0m     \u001b[39mself\u001b[39;49m\u001b[39m.\u001b[39;49m_extract_member(zipinfo, path, pwd)\n",
            "File \u001b[1;32mc:\\Users\\ozeas\\AppData\\Local\\Programs\\Python\\Python38\\lib\\zipfile.py:1701\u001b[0m, in \u001b[0;36mZipFile._extract_member\u001b[1;34m(self, member, targetpath, pwd)\u001b[0m\n\u001b[0;32m   1697\u001b[0m         os\u001b[39m.\u001b[39mmkdir(targetpath)\n\u001b[0;32m   1698\u001b[0m     \u001b[39mreturn\u001b[39;00m targetpath\n\u001b[0;32m   1700\u001b[0m \u001b[39mwith\u001b[39;00m \u001b[39mself\u001b[39m\u001b[39m.\u001b[39mopen(member, pwd\u001b[39m=\u001b[39mpwd) \u001b[39mas\u001b[39;00m source, \\\n\u001b[1;32m-> 1701\u001b[0m      \u001b[39mopen\u001b[39;49m(targetpath, \u001b[39m\"\u001b[39;49m\u001b[39mwb\u001b[39;49m\u001b[39m\"\u001b[39;49m) \u001b[39mas\u001b[39;00m target:\n\u001b[0;32m   1702\u001b[0m     shutil\u001b[39m.\u001b[39mcopyfileobj(source, target)\n\u001b[0;32m   1704\u001b[0m \u001b[39mreturn\u001b[39;00m targetpath\n",
            "\u001b[1;31mPermissionError\u001b[0m: [Errno 13] Permission denied: 'c:\\\\Users\\\\ozeas\\\\OneDrive\\\\Documentos\\\\Estudos\\\\PROJETOS\\\\DataScience\\\\Analise de Sentimentos\\\\review.txt'"
          ]
        }
      ],
      "source": [
        "file_name = 'review.txt/review.txt.zip'\n",
        "\n",
        "zip = ZipFile(file_name)\n",
        "zip.extractall()"
      ]
    },
    {
      "cell_type": "code",
      "execution_count": null,
      "metadata": {
        "id": "V0m2nHJsX7cG"
      },
      "outputs": [],
      "source": [
        "arquivo = 'review.txt/review.txt'"
      ]
    },
    {
      "cell_type": "code",
      "execution_count": null,
      "metadata": {
        "id": "azZlhLhFXNXB",
        "outputId": "e28988a7-bffb-4814-80d0-0de8018d74b7"
      },
      "outputs": [],
      "source": [
        "os.rename(arquivo, arquivo+'.json')"
      ]
    },
    {
      "cell_type": "code",
      "execution_count": null,
      "metadata": {
        "id": "DyQrN1quZbK3"
      },
      "outputs": [],
      "source": [
        "arquivo_n = arquivo+'.json'"
      ]
    },
    {
      "cell_type": "code",
      "execution_count": null,
      "metadata": {
        "id": "TIFMlM6lKK8L"
      },
      "outputs": [],
      "source": [
        "arquivo_n = 'review.txt/review.txt.json'"
      ]
    },
    {
      "cell_type": "code",
      "execution_count": null,
      "metadata": {
        "id": "Rb6LaicVdyjr"
      },
      "outputs": [],
      "source": [
        "df = pd.read_json(arquivo_n, lines= True)"
      ]
    },
    {
      "cell_type": "markdown",
      "metadata": {
        "id": "uXmIj0IAq0vz"
      },
      "source": [
        "Este código é para listar as colunas que foram inseridas na coluna ratings devido a estrutura do json"
      ]
    },
    {
      "cell_type": "code",
      "execution_count": null,
      "metadata": {
        "colab": {
          "base_uri": "https://localhost:8080/"
        },
        "id": "LWj7IJq_wglF",
        "outputId": "56e0d725-83d2-485e-d5f5-81835f62377b"
      },
      "outputs": [
        {
          "data": {
            "text/plain": [
              "['service',\n",
              " 'cleanliness',\n",
              " 'overall',\n",
              " 'value',\n",
              " 'location',\n",
              " 'sleep_quality',\n",
              " 'rooms',\n",
              " 'check_in_front_desk',\n",
              " 'business_service_(e_g_internet_access)']"
            ]
          },
          "execution_count": 16,
          "metadata": {},
          "output_type": "execute_result"
        }
      ],
      "source": [
        "list(pd.DataFrame(df['ratings'].to_list()).columns)"
      ]
    },
    {
      "cell_type": "code",
      "execution_count": null,
      "metadata": {
        "colab": {
          "base_uri": "https://localhost:8080/"
        },
        "id": "A9w2kkhQ7nf-",
        "outputId": "c1c39f64-058b-4007-dc95-a023a6d39b0e"
      },
      "outputs": [
        {
          "data": {
            "text/plain": [
              "['username',\n",
              " 'num_cities',\n",
              " 'num_helpful_votes',\n",
              " 'num_reviews',\n",
              " 'num_type_reviews',\n",
              " 'id',\n",
              " 'location']"
            ]
          },
          "execution_count": 17,
          "metadata": {},
          "output_type": "execute_result"
        }
      ],
      "source": [
        "list(pd.DataFrame(df['author'].to_list()).columns)"
      ]
    },
    {
      "cell_type": "markdown",
      "metadata": {
        "id": "ZEg4il8Dq6_L"
      },
      "source": [
        "Utilizamos estes dois blocos a seguir para fazer o Flatten nested, tornar os campos do json em uma única flat table."
      ]
    },
    {
      "cell_type": "code",
      "execution_count": null,
      "metadata": {
        "id": "s6-CMllg148Y"
      },
      "outputs": [],
      "source": [
        "df1 = df.drop('ratings', axis=1)\n",
        "df2ratings = pd.json_normalize(df['ratings'])\n",
        "dfn = df1.merge(df2ratings, left_index=True, right_index=True)"
      ]
    },
    {
      "cell_type": "code",
      "execution_count": null,
      "metadata": {
        "id": "LIjZlCUR3FqB"
      },
      "outputs": [],
      "source": [
        "df1 = dfn.drop('author', axis=1)\n",
        "df2author = pd.json_normalize(dfn['author'])\n",
        "dfn2 = df1.merge(df2author, left_index=True, right_index=True)"
      ]
    },
    {
      "cell_type": "code",
      "execution_count": null,
      "metadata": {
        "colab": {
          "base_uri": "https://localhost:8080/",
          "height": 449
        },
        "id": "0nSjxTGr3uLI",
        "outputId": "ac50c1dd-d72c-4a96-f2bd-0a8bd6a3726e"
      },
      "outputs": [
        {
          "data": {
            "text/html": [
              "<div>\n",
              "<style scoped>\n",
              "    .dataframe tbody tr th:only-of-type {\n",
              "        vertical-align: middle;\n",
              "    }\n",
              "\n",
              "    .dataframe tbody tr th {\n",
              "        vertical-align: top;\n",
              "    }\n",
              "\n",
              "    .dataframe thead th {\n",
              "        text-align: right;\n",
              "    }\n",
              "</style>\n",
              "<table border=\"1\" class=\"dataframe\">\n",
              "  <thead>\n",
              "    <tr style=\"text-align: right;\">\n",
              "      <th></th>\n",
              "      <th>title</th>\n",
              "      <th>text</th>\n",
              "      <th>date_stayed</th>\n",
              "      <th>offering_id</th>\n",
              "      <th>num_helpful_votes_x</th>\n",
              "      <th>date</th>\n",
              "      <th>id_x</th>\n",
              "      <th>via_mobile</th>\n",
              "      <th>service</th>\n",
              "      <th>cleanliness</th>\n",
              "      <th>...</th>\n",
              "      <th>rooms</th>\n",
              "      <th>check_in_front_desk</th>\n",
              "      <th>business_service_(e_g_internet_access)</th>\n",
              "      <th>username</th>\n",
              "      <th>num_cities</th>\n",
              "      <th>num_helpful_votes_y</th>\n",
              "      <th>num_reviews</th>\n",
              "      <th>num_type_reviews</th>\n",
              "      <th>id_y</th>\n",
              "      <th>location_y</th>\n",
              "    </tr>\n",
              "  </thead>\n",
              "  <tbody>\n",
              "    <tr>\n",
              "      <th>0</th>\n",
              "      <td>“Truly is \"Jewel of the Upper Wets Side\"”</td>\n",
              "      <td>Stayed in a king suite for 11 nights and yes i...</td>\n",
              "      <td>December 2012</td>\n",
              "      <td>93338</td>\n",
              "      <td>0</td>\n",
              "      <td>2012-12-17</td>\n",
              "      <td>147643103</td>\n",
              "      <td>False</td>\n",
              "      <td>5.0</td>\n",
              "      <td>5.0</td>\n",
              "      <td>...</td>\n",
              "      <td>5.0</td>\n",
              "      <td>NaN</td>\n",
              "      <td>NaN</td>\n",
              "      <td>Papa_Panda</td>\n",
              "      <td>22.0</td>\n",
              "      <td>12.0</td>\n",
              "      <td>29.0</td>\n",
              "      <td>24.0</td>\n",
              "      <td>8C0B42FF3C0FA366A21CFD785302A032</td>\n",
              "      <td>Gold Coast</td>\n",
              "    </tr>\n",
              "    <tr>\n",
              "      <th>1</th>\n",
              "      <td>“My home away from home!”</td>\n",
              "      <td>On every visit to NYC, the Hotel Beacon is the...</td>\n",
              "      <td>December 2012</td>\n",
              "      <td>93338</td>\n",
              "      <td>0</td>\n",
              "      <td>2012-12-17</td>\n",
              "      <td>147639004</td>\n",
              "      <td>False</td>\n",
              "      <td>5.0</td>\n",
              "      <td>5.0</td>\n",
              "      <td>...</td>\n",
              "      <td>5.0</td>\n",
              "      <td>NaN</td>\n",
              "      <td>NaN</td>\n",
              "      <td>Maureen V</td>\n",
              "      <td>2.0</td>\n",
              "      <td>NaN</td>\n",
              "      <td>2.0</td>\n",
              "      <td>NaN</td>\n",
              "      <td>E3C85CA9DBBBC77E0DB534ABE93E4713</td>\n",
              "      <td>Sydney, New South Wales, Australia</td>\n",
              "    </tr>\n",
              "  </tbody>\n",
              "</table>\n",
              "<p>2 rows × 24 columns</p>\n",
              "</div>"
            ],
            "text/plain": [
              "                                       title  \\\n",
              "0  “Truly is \"Jewel of the Upper Wets Side\"”   \n",
              "1                  “My home away from home!”   \n",
              "\n",
              "                                                text    date_stayed  \\\n",
              "0  Stayed in a king suite for 11 nights and yes i...  December 2012   \n",
              "1  On every visit to NYC, the Hotel Beacon is the...  December 2012   \n",
              "\n",
              "   offering_id  num_helpful_votes_x       date       id_x  via_mobile  \\\n",
              "0        93338                    0 2012-12-17  147643103       False   \n",
              "1        93338                    0 2012-12-17  147639004       False   \n",
              "\n",
              "   service  cleanliness  ...  rooms  check_in_front_desk  \\\n",
              "0      5.0          5.0  ...    5.0                  NaN   \n",
              "1      5.0          5.0  ...    5.0                  NaN   \n",
              "\n",
              "   business_service_(e_g_internet_access)    username  num_cities  \\\n",
              "0                                     NaN  Papa_Panda        22.0   \n",
              "1                                     NaN   Maureen V         2.0   \n",
              "\n",
              "   num_helpful_votes_y  num_reviews num_type_reviews  \\\n",
              "0                 12.0         29.0             24.0   \n",
              "1                  NaN          2.0              NaN   \n",
              "\n",
              "                               id_y                          location_y  \n",
              "0  8C0B42FF3C0FA366A21CFD785302A032                          Gold Coast  \n",
              "1  E3C85CA9DBBBC77E0DB534ABE93E4713  Sydney, New South Wales, Australia  \n",
              "\n",
              "[2 rows x 24 columns]"
            ]
          },
          "execution_count": 25,
          "metadata": {},
          "output_type": "execute_result"
        }
      ],
      "source": [
        "dfn2.head(2)"
      ]
    },
    {
      "cell_type": "markdown",
      "metadata": {
        "id": "SyH2X7J-0RUu"
      },
      "source": [
        "Limpeza de colunas que não iremos utilizar"
      ]
    },
    {
      "cell_type": "code",
      "execution_count": null,
      "metadata": {
        "id": "qSVmNHZ_s9Os"
      },
      "outputs": [],
      "source": [
        "dfn2 = dfn2.drop(['num_helpful_votes_x','num_helpful_votes_y', 'title', 'via_mobile','num_type_reviews','num_reviews','check_in_front_desk','num_cities','business_service_(e_g_internet_access)','username','id_y','date_stayed','offering_id'], axis=1)"
      ]
    },
    {
      "cell_type": "code",
      "execution_count": null,
      "metadata": {
        "id": "zyo7nwM4KK8O",
        "outputId": "7fd8b814-3f27-4fd0-ba0c-5c50972a2145"
      },
      "outputs": [
        {
          "data": {
            "text/html": [
              "<div>\n",
              "<style scoped>\n",
              "    .dataframe tbody tr th:only-of-type {\n",
              "        vertical-align: middle;\n",
              "    }\n",
              "\n",
              "    .dataframe tbody tr th {\n",
              "        vertical-align: top;\n",
              "    }\n",
              "\n",
              "    .dataframe thead th {\n",
              "        text-align: right;\n",
              "    }\n",
              "</style>\n",
              "<table border=\"1\" class=\"dataframe\">\n",
              "  <thead>\n",
              "    <tr style=\"text-align: right;\">\n",
              "      <th></th>\n",
              "      <th>text</th>\n",
              "      <th>date</th>\n",
              "      <th>id_x</th>\n",
              "      <th>service</th>\n",
              "      <th>cleanliness</th>\n",
              "      <th>overall</th>\n",
              "      <th>value</th>\n",
              "      <th>location_x</th>\n",
              "      <th>sleep_quality</th>\n",
              "      <th>rooms</th>\n",
              "      <th>location_y</th>\n",
              "    </tr>\n",
              "  </thead>\n",
              "  <tbody>\n",
              "    <tr>\n",
              "      <th>0</th>\n",
              "      <td>Stayed in a king suite for 11 nights and yes i...</td>\n",
              "      <td>2012-12-17</td>\n",
              "      <td>147643103</td>\n",
              "      <td>5.0</td>\n",
              "      <td>5.0</td>\n",
              "      <td>5.0</td>\n",
              "      <td>5.0</td>\n",
              "      <td>5.0</td>\n",
              "      <td>5.0</td>\n",
              "      <td>5.0</td>\n",
              "      <td>Gold Coast</td>\n",
              "    </tr>\n",
              "    <tr>\n",
              "      <th>1</th>\n",
              "      <td>On every visit to NYC, the Hotel Beacon is the...</td>\n",
              "      <td>2012-12-17</td>\n",
              "      <td>147639004</td>\n",
              "      <td>5.0</td>\n",
              "      <td>5.0</td>\n",
              "      <td>5.0</td>\n",
              "      <td>5.0</td>\n",
              "      <td>5.0</td>\n",
              "      <td>5.0</td>\n",
              "      <td>5.0</td>\n",
              "      <td>Sydney, New South Wales, Australia</td>\n",
              "    </tr>\n",
              "  </tbody>\n",
              "</table>\n",
              "</div>"
            ],
            "text/plain": [
              "                                                text       date       id_x  \\\n",
              "0  Stayed in a king suite for 11 nights and yes i... 2012-12-17  147643103   \n",
              "1  On every visit to NYC, the Hotel Beacon is the... 2012-12-17  147639004   \n",
              "\n",
              "   service  cleanliness  overall  value  location_x  sleep_quality  rooms  \\\n",
              "0      5.0          5.0      5.0    5.0         5.0            5.0    5.0   \n",
              "1      5.0          5.0      5.0    5.0         5.0            5.0    5.0   \n",
              "\n",
              "                           location_y  \n",
              "0                          Gold Coast  \n",
              "1  Sydney, New South Wales, Australia  "
            ]
          },
          "execution_count": 27,
          "metadata": {},
          "output_type": "execute_result"
        }
      ],
      "source": [
        "dfn2.head(2)"
      ]
    },
    {
      "cell_type": "markdown",
      "metadata": {
        "id": "Kt4eIjcK0T3j"
      },
      "source": [
        "Função que vamos utilizar para o pré-processamento na coluna text:\n",
        "\n",
        "    Removendo as stopwords do texto\n",
        "    Removendo as pontuções\n",
        "    Mantendo o texto sem tokenização, ou seja uma string\n"
      ]
    },
    {
      "cell_type": "markdown",
      "metadata": {
        "id": "AjsnYML45GHV"
      },
      "source": [
        "# Inicio das análises\n"
      ]
    },
    {
      "cell_type": "markdown",
      "metadata": {
        "id": "wZT0prZOKK8P"
      },
      "source": [
        "Em uma rápida verificação, identificamos que as colunas sleep_quality e rooms apresentam registros em branco/nulo (nan)."
      ]
    },
    {
      "cell_type": "markdown",
      "metadata": {
        "id": "J4-PMcoKKK8P"
      },
      "source": [
        "Com base em nossa analise estatistica, 75% dos clientes estão plenamente satisfeitos com os serviços prestados"
      ]
    },
    {
      "cell_type": "code",
      "execution_count": null,
      "metadata": {
        "id": "cbiv_-FMKK8P",
        "outputId": "0540e2ee-d4c0-4b9a-da4c-5d8dfb871296"
      },
      "outputs": [
        {
          "data": {
            "text/html": [
              "<div>\n",
              "<style scoped>\n",
              "    .dataframe tbody tr th:only-of-type {\n",
              "        vertical-align: middle;\n",
              "    }\n",
              "\n",
              "    .dataframe tbody tr th {\n",
              "        vertical-align: top;\n",
              "    }\n",
              "\n",
              "    .dataframe thead th {\n",
              "        text-align: right;\n",
              "    }\n",
              "</style>\n",
              "<table border=\"1\" class=\"dataframe\">\n",
              "  <thead>\n",
              "    <tr style=\"text-align: right;\">\n",
              "      <th></th>\n",
              "      <th>id_x</th>\n",
              "      <th>service</th>\n",
              "      <th>cleanliness</th>\n",
              "      <th>overall</th>\n",
              "      <th>value</th>\n",
              "      <th>location_x</th>\n",
              "      <th>sleep_quality</th>\n",
              "      <th>rooms</th>\n",
              "    </tr>\n",
              "  </thead>\n",
              "  <tbody>\n",
              "    <tr>\n",
              "      <th>count</th>\n",
              "      <td>8.785610e+05</td>\n",
              "      <td>760918.000000</td>\n",
              "      <td>759835.000000</td>\n",
              "      <td>878561.000000</td>\n",
              "      <td>753695.000000</td>\n",
              "      <td>664904.000000</td>\n",
              "      <td>500903.000000</td>\n",
              "      <td>705404.000000</td>\n",
              "    </tr>\n",
              "    <tr>\n",
              "      <th>mean</th>\n",
              "      <td>8.633481e+07</td>\n",
              "      <td>4.069742</td>\n",
              "      <td>4.208512</td>\n",
              "      <td>3.936228</td>\n",
              "      <td>3.896310</td>\n",
              "      <td>4.415007</td>\n",
              "      <td>4.114891</td>\n",
              "      <td>3.921873</td>\n",
              "    </tr>\n",
              "    <tr>\n",
              "      <th>std</th>\n",
              "      <td>4.999254e+07</td>\n",
              "      <td>1.179085</td>\n",
              "      <td>1.075466</td>\n",
              "      <td>1.165074</td>\n",
              "      <td>1.179857</td>\n",
              "      <td>0.889482</td>\n",
              "      <td>1.112003</td>\n",
              "      <td>1.149181</td>\n",
              "    </tr>\n",
              "    <tr>\n",
              "      <th>min</th>\n",
              "      <td>2.243990e+05</td>\n",
              "      <td>1.000000</td>\n",
              "      <td>1.000000</td>\n",
              "      <td>0.000000</td>\n",
              "      <td>1.000000</td>\n",
              "      <td>1.000000</td>\n",
              "      <td>1.000000</td>\n",
              "      <td>1.000000</td>\n",
              "    </tr>\n",
              "    <tr>\n",
              "      <th>25%</th>\n",
              "      <td>3.488850e+07</td>\n",
              "      <td>4.000000</td>\n",
              "      <td>4.000000</td>\n",
              "      <td>3.000000</td>\n",
              "      <td>3.000000</td>\n",
              "      <td>4.000000</td>\n",
              "      <td>4.000000</td>\n",
              "      <td>3.000000</td>\n",
              "    </tr>\n",
              "    <tr>\n",
              "      <th>50%</th>\n",
              "      <td>1.113905e+08</td>\n",
              "      <td>4.000000</td>\n",
              "      <td>5.000000</td>\n",
              "      <td>4.000000</td>\n",
              "      <td>4.000000</td>\n",
              "      <td>5.000000</td>\n",
              "      <td>4.000000</td>\n",
              "      <td>4.000000</td>\n",
              "    </tr>\n",
              "    <tr>\n",
              "      <th>75%</th>\n",
              "      <td>1.283089e+08</td>\n",
              "      <td>5.000000</td>\n",
              "      <td>5.000000</td>\n",
              "      <td>5.000000</td>\n",
              "      <td>5.000000</td>\n",
              "      <td>5.000000</td>\n",
              "      <td>5.000000</td>\n",
              "      <td>5.000000</td>\n",
              "    </tr>\n",
              "    <tr>\n",
              "      <th>max</th>\n",
              "      <td>1.478017e+08</td>\n",
              "      <td>5.000000</td>\n",
              "      <td>5.000000</td>\n",
              "      <td>5.000000</td>\n",
              "      <td>5.000000</td>\n",
              "      <td>5.000000</td>\n",
              "      <td>5.000000</td>\n",
              "      <td>5.000000</td>\n",
              "    </tr>\n",
              "  </tbody>\n",
              "</table>\n",
              "</div>"
            ],
            "text/plain": [
              "               id_x        service    cleanliness        overall  \\\n",
              "count  8.785610e+05  760918.000000  759835.000000  878561.000000   \n",
              "mean   8.633481e+07       4.069742       4.208512       3.936228   \n",
              "std    4.999254e+07       1.179085       1.075466       1.165074   \n",
              "min    2.243990e+05       1.000000       1.000000       0.000000   \n",
              "25%    3.488850e+07       4.000000       4.000000       3.000000   \n",
              "50%    1.113905e+08       4.000000       5.000000       4.000000   \n",
              "75%    1.283089e+08       5.000000       5.000000       5.000000   \n",
              "max    1.478017e+08       5.000000       5.000000       5.000000   \n",
              "\n",
              "               value     location_x  sleep_quality          rooms  \n",
              "count  753695.000000  664904.000000  500903.000000  705404.000000  \n",
              "mean        3.896310       4.415007       4.114891       3.921873  \n",
              "std         1.179857       0.889482       1.112003       1.149181  \n",
              "min         1.000000       1.000000       1.000000       1.000000  \n",
              "25%         3.000000       4.000000       4.000000       3.000000  \n",
              "50%         4.000000       5.000000       4.000000       4.000000  \n",
              "75%         5.000000       5.000000       5.000000       5.000000  \n",
              "max         5.000000       5.000000       5.000000       5.000000  "
            ]
          },
          "execution_count": 28,
          "metadata": {},
          "output_type": "execute_result"
        }
      ],
      "source": [
        "dfn2.describe()"
      ]
    },
    {
      "cell_type": "code",
      "execution_count": null,
      "metadata": {
        "id": "53jxx2wpKK8Q",
        "outputId": "ce755fcd-a341-49f1-f619-8e20f59192b4"
      },
      "outputs": [
        {
          "data": {
            "text/plain": [
              "service          117643\n",
              "cleanliness      118726\n",
              "overall               0\n",
              "value            124866\n",
              "location_x       213657\n",
              "sleep_quality    377658\n",
              "rooms            173157\n",
              "dtype: int64"
            ]
          },
          "execution_count": 29,
          "metadata": {},
          "output_type": "execute_result"
        }
      ],
      "source": [
        "dfn2[['service','cleanliness','overall','value','location_x','sleep_quality','rooms']].isna().sum()"
      ]
    },
    {
      "cell_type": "code",
      "execution_count": null,
      "metadata": {
        "id": "Ps7mxcnzKK8Q",
        "outputId": "8b92d96c-a58d-4e45-ecc1-96f34b708059"
      },
      "outputs": [
        {
          "name": "stdout",
          "output_type": "stream",
          "text": [
            "Porcentagem dados Nulos removidos em service =  0.1339041910578776 %\n",
            "Porcentagem dados Nulos removidos em cleanliness =  0.13513688861672668 %\n",
            "Porcentagem dados Nulos removidos em overall =  0.0 %\n",
            "Porcentagem dados Nulos removidos em value =  0.14212558945821632 %\n",
            "Porcentagem dados Nulos removidos em location_x =  0.24318971591044902 %\n",
            "Porcentagem dados Nulos removidos em sleep_quality =  0.4298597365464663 %\n",
            "Porcentagem dados Nulos removidos em rooms =  0.19709160775404325 %\n"
          ]
        }
      ],
      "source": [
        "print('Porcentagem dados Nulos removidos em service = ', dfn2['service'].isna().sum()/dfn2.shape[0],'%')\n",
        "print('Porcentagem dados Nulos removidos em cleanliness = ', dfn2['cleanliness'].isna().sum()/dfn2.shape[0],'%')\n",
        "print('Porcentagem dados Nulos removidos em overall = ', dfn2['overall'].isna().sum()/dfn2.shape[0],'%')\n",
        "print('Porcentagem dados Nulos removidos em value = ', dfn2['value'].isna().sum()/dfn2.shape[0],'%')\n",
        "print('Porcentagem dados Nulos removidos em location_x = ', dfn2['location_x'].isna().sum()/dfn2.shape[0],'%')\n",
        "print('Porcentagem dados Nulos removidos em sleep_quality = ', dfn2['sleep_quality'].isna().sum()/dfn2.shape[0],'%')\n",
        "print('Porcentagem dados Nulos removidos em rooms = ', dfn2['rooms'].isna().sum()/dfn2.shape[0],'%')"
      ]
    },
    {
      "cell_type": "code",
      "execution_count": null,
      "metadata": {
        "id": "b5GA5KKCKK8Q",
        "outputId": "67e9c88e-4e84-45c9-adcb-e36a1dac28a7"
      },
      "outputs": [
        {
          "data": {
            "text/html": [
              "<div>\n",
              "<style scoped>\n",
              "    .dataframe tbody tr th:only-of-type {\n",
              "        vertical-align: middle;\n",
              "    }\n",
              "\n",
              "    .dataframe tbody tr th {\n",
              "        vertical-align: top;\n",
              "    }\n",
              "\n",
              "    .dataframe thead th {\n",
              "        text-align: right;\n",
              "    }\n",
              "</style>\n",
              "<table border=\"1\" class=\"dataframe\">\n",
              "  <thead>\n",
              "    <tr style=\"text-align: right;\">\n",
              "      <th></th>\n",
              "      <th>service</th>\n",
              "      <th>cleanliness</th>\n",
              "      <th>overall</th>\n",
              "      <th>value</th>\n",
              "      <th>location_x</th>\n",
              "      <th>sleep_quality</th>\n",
              "      <th>rooms</th>\n",
              "    </tr>\n",
              "  </thead>\n",
              "  <tbody>\n",
              "    <tr>\n",
              "      <th>0</th>\n",
              "      <td>5.0</td>\n",
              "      <td>5.0</td>\n",
              "      <td>5.0</td>\n",
              "      <td>5.0</td>\n",
              "      <td>5.0</td>\n",
              "      <td>5.0</td>\n",
              "      <td>5.0</td>\n",
              "    </tr>\n",
              "    <tr>\n",
              "      <th>1</th>\n",
              "      <td>5.0</td>\n",
              "      <td>5.0</td>\n",
              "      <td>5.0</td>\n",
              "      <td>5.0</td>\n",
              "      <td>5.0</td>\n",
              "      <td>5.0</td>\n",
              "      <td>5.0</td>\n",
              "    </tr>\n",
              "    <tr>\n",
              "      <th>2</th>\n",
              "      <td>4.0</td>\n",
              "      <td>5.0</td>\n",
              "      <td>4.0</td>\n",
              "      <td>4.0</td>\n",
              "      <td>5.0</td>\n",
              "      <td>4.0</td>\n",
              "      <td>4.0</td>\n",
              "    </tr>\n",
              "    <tr>\n",
              "      <th>3</th>\n",
              "      <td>5.0</td>\n",
              "      <td>5.0</td>\n",
              "      <td>4.0</td>\n",
              "      <td>5.0</td>\n",
              "      <td>5.0</td>\n",
              "      <td>5.0</td>\n",
              "      <td>5.0</td>\n",
              "    </tr>\n",
              "    <tr>\n",
              "      <th>4</th>\n",
              "      <td>4.0</td>\n",
              "      <td>5.0</td>\n",
              "      <td>4.0</td>\n",
              "      <td>3.0</td>\n",
              "      <td>5.0</td>\n",
              "      <td>5.0</td>\n",
              "      <td>5.0</td>\n",
              "    </tr>\n",
              "    <tr>\n",
              "      <th>...</th>\n",
              "      <td>...</td>\n",
              "      <td>...</td>\n",
              "      <td>...</td>\n",
              "      <td>...</td>\n",
              "      <td>...</td>\n",
              "      <td>...</td>\n",
              "      <td>...</td>\n",
              "    </tr>\n",
              "    <tr>\n",
              "      <th>878548</th>\n",
              "      <td>4.0</td>\n",
              "      <td>5.0</td>\n",
              "      <td>4.0</td>\n",
              "      <td>3.0</td>\n",
              "      <td>4.0</td>\n",
              "      <td>4.0</td>\n",
              "      <td>4.0</td>\n",
              "    </tr>\n",
              "    <tr>\n",
              "      <th>878549</th>\n",
              "      <td>5.0</td>\n",
              "      <td>5.0</td>\n",
              "      <td>5.0</td>\n",
              "      <td>5.0</td>\n",
              "      <td>5.0</td>\n",
              "      <td>5.0</td>\n",
              "      <td>5.0</td>\n",
              "    </tr>\n",
              "    <tr>\n",
              "      <th>878550</th>\n",
              "      <td>5.0</td>\n",
              "      <td>5.0</td>\n",
              "      <td>5.0</td>\n",
              "      <td>4.0</td>\n",
              "      <td>5.0</td>\n",
              "      <td>5.0</td>\n",
              "      <td>5.0</td>\n",
              "    </tr>\n",
              "    <tr>\n",
              "      <th>878551</th>\n",
              "      <td>5.0</td>\n",
              "      <td>5.0</td>\n",
              "      <td>5.0</td>\n",
              "      <td>5.0</td>\n",
              "      <td>5.0</td>\n",
              "      <td>5.0</td>\n",
              "      <td>5.0</td>\n",
              "    </tr>\n",
              "    <tr>\n",
              "      <th>878552</th>\n",
              "      <td>4.0</td>\n",
              "      <td>5.0</td>\n",
              "      <td>4.0</td>\n",
              "      <td>4.0</td>\n",
              "      <td>3.0</td>\n",
              "      <td>5.0</td>\n",
              "      <td>4.0</td>\n",
              "    </tr>\n",
              "  </tbody>\n",
              "</table>\n",
              "<p>436391 rows × 7 columns</p>\n",
              "</div>"
            ],
            "text/plain": [
              "        service  cleanliness  overall  value  location_x  sleep_quality  rooms\n",
              "0           5.0          5.0      5.0    5.0         5.0            5.0    5.0\n",
              "1           5.0          5.0      5.0    5.0         5.0            5.0    5.0\n",
              "2           4.0          5.0      4.0    4.0         5.0            4.0    4.0\n",
              "3           5.0          5.0      4.0    5.0         5.0            5.0    5.0\n",
              "4           4.0          5.0      4.0    3.0         5.0            5.0    5.0\n",
              "...         ...          ...      ...    ...         ...            ...    ...\n",
              "878548      4.0          5.0      4.0    3.0         4.0            4.0    4.0\n",
              "878549      5.0          5.0      5.0    5.0         5.0            5.0    5.0\n",
              "878550      5.0          5.0      5.0    4.0         5.0            5.0    5.0\n",
              "878551      5.0          5.0      5.0    5.0         5.0            5.0    5.0\n",
              "878552      4.0          5.0      4.0    4.0         3.0            5.0    4.0\n",
              "\n",
              "[436391 rows x 7 columns]"
            ]
          },
          "execution_count": 31,
          "metadata": {},
          "output_type": "execute_result"
        }
      ],
      "source": [
        "tes = dfn2[['service','cleanliness','overall','value','location_x','sleep_quality','rooms']].dropna()\n",
        "tes"
      ]
    },
    {
      "cell_type": "markdown",
      "metadata": {
        "id": "XJrbDRVhKK8R"
      },
      "source": [
        "#### Clusterização"
      ]
    },
    {
      "cell_type": "markdown",
      "metadata": {
        "id": "TY0mxS6sKK8R"
      },
      "source": [
        "Nosso objetivo, agora é criar um modelo, que classifique os clientes de nossa base como INSATISFEITOS, NEUTROS E SATISFEITOS, com a intenção de confrontar com nossa analise de sentimentos"
      ]
    },
    {
      "cell_type": "code",
      "execution_count": null,
      "metadata": {
        "id": "4r5WSanqKK8S",
        "outputId": "474f2aaa-e750-4946-a037-b3ab765a6c18"
      },
      "outputs": [
        {
          "name": "stderr",
          "output_type": "stream",
          "text": [
            "c:\\Users\\ozeas\\AppData\\Local\\Programs\\Python\\Python38\\lib\\site-packages\\sklearn\\cluster\\_kmeans.py:870: FutureWarning: The default value of `n_init` will change from 10 to 'auto' in 1.4. Set the value of `n_init` explicitly to suppress the warning\n",
            "  warnings.warn(\n",
            "c:\\Users\\ozeas\\AppData\\Local\\Programs\\Python\\Python38\\lib\\site-packages\\sklearn\\cluster\\_kmeans.py:870: FutureWarning: The default value of `n_init` will change from 10 to 'auto' in 1.4. Set the value of `n_init` explicitly to suppress the warning\n",
            "  warnings.warn(\n",
            "c:\\Users\\ozeas\\AppData\\Local\\Programs\\Python\\Python38\\lib\\site-packages\\sklearn\\cluster\\_kmeans.py:870: FutureWarning: The default value of `n_init` will change from 10 to 'auto' in 1.4. Set the value of `n_init` explicitly to suppress the warning\n",
            "  warnings.warn(\n",
            "c:\\Users\\ozeas\\AppData\\Local\\Programs\\Python\\Python38\\lib\\site-packages\\sklearn\\cluster\\_kmeans.py:870: FutureWarning: The default value of `n_init` will change from 10 to 'auto' in 1.4. Set the value of `n_init` explicitly to suppress the warning\n",
            "  warnings.warn(\n",
            "c:\\Users\\ozeas\\AppData\\Local\\Programs\\Python\\Python38\\lib\\site-packages\\sklearn\\cluster\\_kmeans.py:870: FutureWarning: The default value of `n_init` will change from 10 to 'auto' in 1.4. Set the value of `n_init` explicitly to suppress the warning\n",
            "  warnings.warn(\n"
          ]
        },
        {
          "data": {
            "image/png": "[encoded data removed]",
            "text/plain": [
              "<Figure size 640x480 with 1 Axes>"
            ]
          },
          "metadata": {},
          "output_type": "display_data"
        }
      ],
      "source": [
        "from sklearn.preprocessing import MinMaxScaler\n",
        "\n",
        "normaliza = MinMaxScaler()\n",
        "X_std = normaliza.fit_transform(tes)\n",
        "\n",
        "ks = range(1,6)\n",
        "inertias = []\n",
        "\n",
        "for k in ks:\n",
        "    model = KMeans(n_clusters = k, max_iter=200, random_state=170).fit(X_std)\n",
        "\n",
        "    inertias.append(model.inertia_)\n",
        "\n",
        "plt.plot(ks,inertias, '-o', color = 'black')\n",
        "plt.xlabel('Numero de Cluster, k')\n",
        "plt.ylabel('Distancias')\n",
        "plt.title('Segundo o Grafico de cotovelo, 3 clusters Atenderiam o nosso modelo')\n",
        "plt.xticks(ks)\n",
        "plt.show()"
      ]
    },
    {
      "attachments": {},
      "cell_type": "markdown",
      "metadata": {
        "id": "cXagNzKjKK8S"
      },
      "source": [
        "Segundo o Gráfico de cotovelo, 3 clusters já atenderia o nosso modelo (INSATISFEITOS, NEUTROS E SATISFEITOS)."
      ]
    },
    {
      "cell_type": "markdown",
      "metadata": {
        "id": "__itkbnUKK8S"
      },
      "source": [
        "Novo Dataframe = df_avaliação_cliente"
      ]
    },
    {
      "cell_type": "code",
      "execution_count": null,
      "metadata": {
        "id": "7-5YMiz3KK8S"
      },
      "outputs": [],
      "source": [
        "df_avaliacao_cliente = pd.DataFrame(X_std,columns=['service','cleanliness','overall','value','location_x','sleep_quality','rooms'])"
      ]
    },
    {
      "cell_type": "code",
      "execution_count": null,
      "metadata": {
        "id": "01ZXKs5TKK8S",
        "outputId": "a78536ba-44e3-45bd-aabf-e819e1ff0f5a"
      },
      "outputs": [
        {
          "name": "stderr",
          "output_type": "stream",
          "text": [
            "c:\\Users\\ozeas\\AppData\\Local\\Programs\\Python\\Python38\\lib\\site-packages\\sklearn\\cluster\\_kmeans.py:870: FutureWarning: The default value of `n_init` will change from 10 to 'auto' in 1.4. Set the value of `n_init` explicitly to suppress the warning\n",
            "  warnings.warn(\n"
          ]
        },
        {
          "data": {
            "text/html": [
              "<div>\n",
              "<style scoped>\n",
              "    .dataframe tbody tr th:only-of-type {\n",
              "        vertical-align: middle;\n",
              "    }\n",
              "\n",
              "    .dataframe tbody tr th {\n",
              "        vertical-align: top;\n",
              "    }\n",
              "\n",
              "    .dataframe thead th {\n",
              "        text-align: right;\n",
              "    }\n",
              "</style>\n",
              "<table border=\"1\" class=\"dataframe\">\n",
              "  <thead>\n",
              "    <tr style=\"text-align: right;\">\n",
              "      <th></th>\n",
              "      <th>service</th>\n",
              "      <th>cleanliness</th>\n",
              "      <th>overall</th>\n",
              "      <th>value</th>\n",
              "      <th>location_x</th>\n",
              "      <th>sleep_quality</th>\n",
              "      <th>rooms</th>\n",
              "      <th>Class</th>\n",
              "    </tr>\n",
              "  </thead>\n",
              "  <tbody>\n",
              "    <tr>\n",
              "      <th>0</th>\n",
              "      <td>1.00</td>\n",
              "      <td>1.0</td>\n",
              "      <td>1.00</td>\n",
              "      <td>1.00</td>\n",
              "      <td>1.00</td>\n",
              "      <td>1.00</td>\n",
              "      <td>1.00</td>\n",
              "      <td>1</td>\n",
              "    </tr>\n",
              "    <tr>\n",
              "      <th>1</th>\n",
              "      <td>1.00</td>\n",
              "      <td>1.0</td>\n",
              "      <td>1.00</td>\n",
              "      <td>1.00</td>\n",
              "      <td>1.00</td>\n",
              "      <td>1.00</td>\n",
              "      <td>1.00</td>\n",
              "      <td>1</td>\n",
              "    </tr>\n",
              "    <tr>\n",
              "      <th>2</th>\n",
              "      <td>0.75</td>\n",
              "      <td>1.0</td>\n",
              "      <td>0.75</td>\n",
              "      <td>0.75</td>\n",
              "      <td>1.00</td>\n",
              "      <td>0.75</td>\n",
              "      <td>0.75</td>\n",
              "      <td>0</td>\n",
              "    </tr>\n",
              "    <tr>\n",
              "      <th>3</th>\n",
              "      <td>1.00</td>\n",
              "      <td>1.0</td>\n",
              "      <td>0.75</td>\n",
              "      <td>1.00</td>\n",
              "      <td>1.00</td>\n",
              "      <td>1.00</td>\n",
              "      <td>1.00</td>\n",
              "      <td>1</td>\n",
              "    </tr>\n",
              "    <tr>\n",
              "      <th>4</th>\n",
              "      <td>0.75</td>\n",
              "      <td>1.0</td>\n",
              "      <td>0.75</td>\n",
              "      <td>0.50</td>\n",
              "      <td>1.00</td>\n",
              "      <td>1.00</td>\n",
              "      <td>1.00</td>\n",
              "      <td>1</td>\n",
              "    </tr>\n",
              "    <tr>\n",
              "      <th>...</th>\n",
              "      <td>...</td>\n",
              "      <td>...</td>\n",
              "      <td>...</td>\n",
              "      <td>...</td>\n",
              "      <td>...</td>\n",
              "      <td>...</td>\n",
              "      <td>...</td>\n",
              "      <td>...</td>\n",
              "    </tr>\n",
              "    <tr>\n",
              "      <th>436386</th>\n",
              "      <td>0.75</td>\n",
              "      <td>1.0</td>\n",
              "      <td>0.75</td>\n",
              "      <td>0.50</td>\n",
              "      <td>0.75</td>\n",
              "      <td>0.75</td>\n",
              "      <td>0.75</td>\n",
              "      <td>0</td>\n",
              "    </tr>\n",
              "    <tr>\n",
              "      <th>436387</th>\n",
              "      <td>1.00</td>\n",
              "      <td>1.0</td>\n",
              "      <td>1.00</td>\n",
              "      <td>1.00</td>\n",
              "      <td>1.00</td>\n",
              "      <td>1.00</td>\n",
              "      <td>1.00</td>\n",
              "      <td>1</td>\n",
              "    </tr>\n",
              "    <tr>\n",
              "      <th>436388</th>\n",
              "      <td>1.00</td>\n",
              "      <td>1.0</td>\n",
              "      <td>1.00</td>\n",
              "      <td>0.75</td>\n",
              "      <td>1.00</td>\n",
              "      <td>1.00</td>\n",
              "      <td>1.00</td>\n",
              "      <td>1</td>\n",
              "    </tr>\n",
              "    <tr>\n",
              "      <th>436389</th>\n",
              "      <td>1.00</td>\n",
              "      <td>1.0</td>\n",
              "      <td>1.00</td>\n",
              "      <td>1.00</td>\n",
              "      <td>1.00</td>\n",
              "      <td>1.00</td>\n",
              "      <td>1.00</td>\n",
              "      <td>1</td>\n",
              "    </tr>\n",
              "    <tr>\n",
              "      <th>436390</th>\n",
              "      <td>0.75</td>\n",
              "      <td>1.0</td>\n",
              "      <td>0.75</td>\n",
              "      <td>0.75</td>\n",
              "      <td>0.50</td>\n",
              "      <td>1.00</td>\n",
              "      <td>0.75</td>\n",
              "      <td>0</td>\n",
              "    </tr>\n",
              "  </tbody>\n",
              "</table>\n",
              "<p>436391 rows × 8 columns</p>\n",
              "</div>"
            ],
            "text/plain": [
              "        service  cleanliness  overall  value  location_x  sleep_quality  \\\n",
              "0          1.00          1.0     1.00   1.00        1.00           1.00   \n",
              "1          1.00          1.0     1.00   1.00        1.00           1.00   \n",
              "2          0.75          1.0     0.75   0.75        1.00           0.75   \n",
              "3          1.00          1.0     0.75   1.00        1.00           1.00   \n",
              "4          0.75          1.0     0.75   0.50        1.00           1.00   \n",
              "...         ...          ...      ...    ...         ...            ...   \n",
              "436386     0.75          1.0     0.75   0.50        0.75           0.75   \n",
              "436387     1.00          1.0     1.00   1.00        1.00           1.00   \n",
              "436388     1.00          1.0     1.00   0.75        1.00           1.00   \n",
              "436389     1.00          1.0     1.00   1.00        1.00           1.00   \n",
              "436390     0.75          1.0     0.75   0.75        0.50           1.00   \n",
              "\n",
              "        rooms  Class  \n",
              "0        1.00      1  \n",
              "1        1.00      1  \n",
              "2        0.75      0  \n",
              "3        1.00      1  \n",
              "4        1.00      1  \n",
              "...       ...    ...  \n",
              "436386   0.75      0  \n",
              "436387   1.00      1  \n",
              "436388   1.00      1  \n",
              "436389   1.00      1  \n",
              "436390   0.75      0  \n",
              "\n",
              "[436391 rows x 8 columns]"
            ]
          },
          "execution_count": 34,
          "metadata": {},
          "output_type": "execute_result"
        }
      ],
      "source": [
        "km = KMeans(n_clusters=3, max_iter=600, random_state=170)\n",
        "y_pred = km.fit_predict(df_avaliacao_cliente)\n",
        "df_avaliacao_cliente['Class'] = y_pred\n",
        "df_avaliacao_cliente"
      ]
    },
    {
      "cell_type": "code",
      "execution_count": null,
      "metadata": {
        "id": "w6mtG2K7KK8T"
      },
      "outputs": [],
      "source": [
        "retorno = normaliza.inverse_transform(X_std)\n",
        "df_avaliados = pd.DataFrame(retorno, columns=['service','cleanliness','overall','value','location_x','sleep_quality','rooms'])\n",
        "df_avaliados['Class'] = y_pred"
      ]
    },
    {
      "cell_type": "code",
      "execution_count": null,
      "metadata": {},
      "outputs": [
        {
          "data": {
            "text/html": [
              "<div>\n",
              "<style scoped>\n",
              "    .dataframe tbody tr th:only-of-type {\n",
              "        vertical-align: middle;\n",
              "    }\n",
              "\n",
              "    .dataframe tbody tr th {\n",
              "        vertical-align: top;\n",
              "    }\n",
              "\n",
              "    .dataframe thead th {\n",
              "        text-align: right;\n",
              "    }\n",
              "</style>\n",
              "<table border=\"1\" class=\"dataframe\">\n",
              "  <thead>\n",
              "    <tr style=\"text-align: right;\">\n",
              "      <th></th>\n",
              "      <th>service</th>\n",
              "      <th>cleanliness</th>\n",
              "      <th>overall</th>\n",
              "      <th>value</th>\n",
              "      <th>location_x</th>\n",
              "      <th>sleep_quality</th>\n",
              "      <th>rooms</th>\n",
              "      <th>Class</th>\n",
              "    </tr>\n",
              "  </thead>\n",
              "  <tbody>\n",
              "    <tr>\n",
              "      <th>0</th>\n",
              "      <td>5.0</td>\n",
              "      <td>5.0</td>\n",
              "      <td>5.0</td>\n",
              "      <td>5.0</td>\n",
              "      <td>5.0</td>\n",
              "      <td>5.0</td>\n",
              "      <td>5.0</td>\n",
              "      <td>satisfeito</td>\n",
              "    </tr>\n",
              "    <tr>\n",
              "      <th>1</th>\n",
              "      <td>5.0</td>\n",
              "      <td>5.0</td>\n",
              "      <td>5.0</td>\n",
              "      <td>5.0</td>\n",
              "      <td>5.0</td>\n",
              "      <td>5.0</td>\n",
              "      <td>5.0</td>\n",
              "      <td>satisfeito</td>\n",
              "    </tr>\n",
              "    <tr>\n",
              "      <th>2</th>\n",
              "      <td>4.0</td>\n",
              "      <td>5.0</td>\n",
              "      <td>4.0</td>\n",
              "      <td>4.0</td>\n",
              "      <td>5.0</td>\n",
              "      <td>4.0</td>\n",
              "      <td>4.0</td>\n",
              "      <td>neutro</td>\n",
              "    </tr>\n",
              "    <tr>\n",
              "      <th>3</th>\n",
              "      <td>5.0</td>\n",
              "      <td>5.0</td>\n",
              "      <td>4.0</td>\n",
              "      <td>5.0</td>\n",
              "      <td>5.0</td>\n",
              "      <td>5.0</td>\n",
              "      <td>5.0</td>\n",
              "      <td>satisfeito</td>\n",
              "    </tr>\n",
              "    <tr>\n",
              "      <th>4</th>\n",
              "      <td>4.0</td>\n",
              "      <td>5.0</td>\n",
              "      <td>4.0</td>\n",
              "      <td>3.0</td>\n",
              "      <td>5.0</td>\n",
              "      <td>5.0</td>\n",
              "      <td>5.0</td>\n",
              "      <td>satisfeito</td>\n",
              "    </tr>\n",
              "    <tr>\n",
              "      <th>...</th>\n",
              "      <td>...</td>\n",
              "      <td>...</td>\n",
              "      <td>...</td>\n",
              "      <td>...</td>\n",
              "      <td>...</td>\n",
              "      <td>...</td>\n",
              "      <td>...</td>\n",
              "      <td>...</td>\n",
              "    </tr>\n",
              "    <tr>\n",
              "      <th>436386</th>\n",
              "      <td>4.0</td>\n",
              "      <td>5.0</td>\n",
              "      <td>4.0</td>\n",
              "      <td>3.0</td>\n",
              "      <td>4.0</td>\n",
              "      <td>4.0</td>\n",
              "      <td>4.0</td>\n",
              "      <td>neutro</td>\n",
              "    </tr>\n",
              "    <tr>\n",
              "      <th>436387</th>\n",
              "      <td>5.0</td>\n",
              "      <td>5.0</td>\n",
              "      <td>5.0</td>\n",
              "      <td>5.0</td>\n",
              "      <td>5.0</td>\n",
              "      <td>5.0</td>\n",
              "      <td>5.0</td>\n",
              "      <td>satisfeito</td>\n",
              "    </tr>\n",
              "    <tr>\n",
              "      <th>436388</th>\n",
              "      <td>5.0</td>\n",
              "      <td>5.0</td>\n",
              "      <td>5.0</td>\n",
              "      <td>4.0</td>\n",
              "      <td>5.0</td>\n",
              "      <td>5.0</td>\n",
              "      <td>5.0</td>\n",
              "      <td>satisfeito</td>\n",
              "    </tr>\n",
              "    <tr>\n",
              "      <th>436389</th>\n",
              "      <td>5.0</td>\n",
              "      <td>5.0</td>\n",
              "      <td>5.0</td>\n",
              "      <td>5.0</td>\n",
              "      <td>5.0</td>\n",
              "      <td>5.0</td>\n",
              "      <td>5.0</td>\n",
              "      <td>satisfeito</td>\n",
              "    </tr>\n",
              "    <tr>\n",
              "      <th>436390</th>\n",
              "      <td>4.0</td>\n",
              "      <td>5.0</td>\n",
              "      <td>4.0</td>\n",
              "      <td>4.0</td>\n",
              "      <td>3.0</td>\n",
              "      <td>5.0</td>\n",
              "      <td>4.0</td>\n",
              "      <td>neutro</td>\n",
              "    </tr>\n",
              "  </tbody>\n",
              "</table>\n",
              "<p>436391 rows × 8 columns</p>\n",
              "</div>"
            ],
            "text/plain": [
              "        service  cleanliness  overall  value  location_x  sleep_quality  \\\n",
              "0           5.0          5.0      5.0    5.0         5.0            5.0   \n",
              "1           5.0          5.0      5.0    5.0         5.0            5.0   \n",
              "2           4.0          5.0      4.0    4.0         5.0            4.0   \n",
              "3           5.0          5.0      4.0    5.0         5.0            5.0   \n",
              "4           4.0          5.0      4.0    3.0         5.0            5.0   \n",
              "...         ...          ...      ...    ...         ...            ...   \n",
              "436386      4.0          5.0      4.0    3.0         4.0            4.0   \n",
              "436387      5.0          5.0      5.0    5.0         5.0            5.0   \n",
              "436388      5.0          5.0      5.0    4.0         5.0            5.0   \n",
              "436389      5.0          5.0      5.0    5.0         5.0            5.0   \n",
              "436390      4.0          5.0      4.0    4.0         3.0            5.0   \n",
              "\n",
              "        rooms       Class  \n",
              "0         5.0  satisfeito  \n",
              "1         5.0  satisfeito  \n",
              "2         4.0      neutro  \n",
              "3         5.0  satisfeito  \n",
              "4         5.0  satisfeito  \n",
              "...       ...         ...  \n",
              "436386    4.0      neutro  \n",
              "436387    5.0  satisfeito  \n",
              "436388    5.0  satisfeito  \n",
              "436389    5.0  satisfeito  \n",
              "436390    4.0      neutro  \n",
              "\n",
              "[436391 rows x 8 columns]"
            ]
          },
          "execution_count": 38,
          "metadata": {},
          "output_type": "execute_result"
        }
      ],
      "source": [
        "mapping = {0:'neutro',1: 'satisfeito', 2: 'insatisfeito'}\n",
        "df_avaliados['Class'] = df_avaliados['Class'].replace(mapping)\n",
        "df_avaliados"
      ]
    },
    {
      "attachments": {},
      "cell_type": "markdown",
      "metadata": {
        "id": "dtF5BRRDKK8T"
      },
      "source": [
        "Clientes classificados como neutros"
      ]
    },
    {
      "cell_type": "code",
      "execution_count": null,
      "metadata": {
        "id": "BTu6Kee0KK8T",
        "outputId": "1ff2c0f1-e2d4-42f4-9921-62c9fd58e9fe"
      },
      "outputs": [
        {
          "data": {
            "text/html": [
              "<div>\n",
              "<style scoped>\n",
              "    .dataframe tbody tr th:only-of-type {\n",
              "        vertical-align: middle;\n",
              "    }\n",
              "\n",
              "    .dataframe tbody tr th {\n",
              "        vertical-align: top;\n",
              "    }\n",
              "\n",
              "    .dataframe thead th {\n",
              "        text-align: right;\n",
              "    }\n",
              "</style>\n",
              "<table border=\"1\" class=\"dataframe\">\n",
              "  <thead>\n",
              "    <tr style=\"text-align: right;\">\n",
              "      <th></th>\n",
              "      <th>service</th>\n",
              "      <th>cleanliness</th>\n",
              "      <th>overall</th>\n",
              "      <th>value</th>\n",
              "      <th>location_x</th>\n",
              "      <th>sleep_quality</th>\n",
              "      <th>rooms</th>\n",
              "      <th>Class</th>\n",
              "    </tr>\n",
              "  </thead>\n",
              "  <tbody>\n",
              "    <tr>\n",
              "      <th>2</th>\n",
              "      <td>4.0</td>\n",
              "      <td>5.0</td>\n",
              "      <td>4.0</td>\n",
              "      <td>4.0</td>\n",
              "      <td>5.0</td>\n",
              "      <td>4.0</td>\n",
              "      <td>4.0</td>\n",
              "      <td>neutro</td>\n",
              "    </tr>\n",
              "    <tr>\n",
              "      <th>12</th>\n",
              "      <td>4.0</td>\n",
              "      <td>4.0</td>\n",
              "      <td>4.0</td>\n",
              "      <td>4.0</td>\n",
              "      <td>5.0</td>\n",
              "      <td>4.0</td>\n",
              "      <td>4.0</td>\n",
              "      <td>neutro</td>\n",
              "    </tr>\n",
              "    <tr>\n",
              "      <th>21</th>\n",
              "      <td>5.0</td>\n",
              "      <td>4.0</td>\n",
              "      <td>4.0</td>\n",
              "      <td>4.0</td>\n",
              "      <td>5.0</td>\n",
              "      <td>4.0</td>\n",
              "      <td>4.0</td>\n",
              "      <td>neutro</td>\n",
              "    </tr>\n",
              "    <tr>\n",
              "      <th>32</th>\n",
              "      <td>4.0</td>\n",
              "      <td>4.0</td>\n",
              "      <td>4.0</td>\n",
              "      <td>4.0</td>\n",
              "      <td>4.0</td>\n",
              "      <td>5.0</td>\n",
              "      <td>4.0</td>\n",
              "      <td>neutro</td>\n",
              "    </tr>\n",
              "    <tr>\n",
              "      <th>33</th>\n",
              "      <td>5.0</td>\n",
              "      <td>5.0</td>\n",
              "      <td>4.0</td>\n",
              "      <td>4.0</td>\n",
              "      <td>5.0</td>\n",
              "      <td>4.0</td>\n",
              "      <td>3.0</td>\n",
              "      <td>neutro</td>\n",
              "    </tr>\n",
              "    <tr>\n",
              "      <th>...</th>\n",
              "      <td>...</td>\n",
              "      <td>...</td>\n",
              "      <td>...</td>\n",
              "      <td>...</td>\n",
              "      <td>...</td>\n",
              "      <td>...</td>\n",
              "      <td>...</td>\n",
              "      <td>...</td>\n",
              "    </tr>\n",
              "    <tr>\n",
              "      <th>436378</th>\n",
              "      <td>3.0</td>\n",
              "      <td>5.0</td>\n",
              "      <td>4.0</td>\n",
              "      <td>3.0</td>\n",
              "      <td>4.0</td>\n",
              "      <td>5.0</td>\n",
              "      <td>5.0</td>\n",
              "      <td>neutro</td>\n",
              "    </tr>\n",
              "    <tr>\n",
              "      <th>436379</th>\n",
              "      <td>2.0</td>\n",
              "      <td>4.0</td>\n",
              "      <td>3.0</td>\n",
              "      <td>3.0</td>\n",
              "      <td>4.0</td>\n",
              "      <td>5.0</td>\n",
              "      <td>4.0</td>\n",
              "      <td>neutro</td>\n",
              "    </tr>\n",
              "    <tr>\n",
              "      <th>436383</th>\n",
              "      <td>4.0</td>\n",
              "      <td>4.0</td>\n",
              "      <td>4.0</td>\n",
              "      <td>4.0</td>\n",
              "      <td>4.0</td>\n",
              "      <td>5.0</td>\n",
              "      <td>4.0</td>\n",
              "      <td>neutro</td>\n",
              "    </tr>\n",
              "    <tr>\n",
              "      <th>436386</th>\n",
              "      <td>4.0</td>\n",
              "      <td>5.0</td>\n",
              "      <td>4.0</td>\n",
              "      <td>3.0</td>\n",
              "      <td>4.0</td>\n",
              "      <td>4.0</td>\n",
              "      <td>4.0</td>\n",
              "      <td>neutro</td>\n",
              "    </tr>\n",
              "    <tr>\n",
              "      <th>436390</th>\n",
              "      <td>4.0</td>\n",
              "      <td>5.0</td>\n",
              "      <td>4.0</td>\n",
              "      <td>4.0</td>\n",
              "      <td>3.0</td>\n",
              "      <td>5.0</td>\n",
              "      <td>4.0</td>\n",
              "      <td>neutro</td>\n",
              "    </tr>\n",
              "  </tbody>\n",
              "</table>\n",
              "<p>149136 rows × 8 columns</p>\n",
              "</div>"
            ],
            "text/plain": [
              "        service  cleanliness  overall  value  location_x  sleep_quality  \\\n",
              "2           4.0          5.0      4.0    4.0         5.0            4.0   \n",
              "12          4.0          4.0      4.0    4.0         5.0            4.0   \n",
              "21          5.0          4.0      4.0    4.0         5.0            4.0   \n",
              "32          4.0          4.0      4.0    4.0         4.0            5.0   \n",
              "33          5.0          5.0      4.0    4.0         5.0            4.0   \n",
              "...         ...          ...      ...    ...         ...            ...   \n",
              "436378      3.0          5.0      4.0    3.0         4.0            5.0   \n",
              "436379      2.0          4.0      3.0    3.0         4.0            5.0   \n",
              "436383      4.0          4.0      4.0    4.0         4.0            5.0   \n",
              "436386      4.0          5.0      4.0    3.0         4.0            4.0   \n",
              "436390      4.0          5.0      4.0    4.0         3.0            5.0   \n",
              "\n",
              "        rooms   Class  \n",
              "2         4.0  neutro  \n",
              "12        4.0  neutro  \n",
              "21        4.0  neutro  \n",
              "32        4.0  neutro  \n",
              "33        3.0  neutro  \n",
              "...       ...     ...  \n",
              "436378    5.0  neutro  \n",
              "436379    4.0  neutro  \n",
              "436383    4.0  neutro  \n",
              "436386    4.0  neutro  \n",
              "436390    4.0  neutro  \n",
              "\n",
              "[149136 rows x 8 columns]"
            ]
          },
          "execution_count": 39,
          "metadata": {},
          "output_type": "execute_result"
        }
      ],
      "source": [
        "neutros = df_avaliados.loc[(df_avaliados['Class']=='neutro')]\n",
        "neutros"
      ]
    },
    {
      "cell_type": "code",
      "execution_count": null,
      "metadata": {
        "id": "HelbW5-YKK8T",
        "outputId": "2c7e1566-3380-4c18-d479-79fea11d9d4e"
      },
      "outputs": [
        {
          "data": {
            "image/png": "[encoded data removed]",
            "text/plain": [
              "<Figure size 1200x600 with 6 Axes>"
            ]
          },
          "metadata": {},
          "output_type": "display_data"
        }
      ],
      "source": [
        "neutros[['service', 'cleanliness', 'value', 'location_x','sleep_quality','rooms']].hist(\n",
        "    bins=15,\n",
        "    figsize=(12, 6),\n",
        "    grid = False,\n",
        "    rwidth = 0.9,\n",
        "    sharex = True,\n",
        "    sharey = True\n",
        ")\n",
        "plt.show()"
      ]
    },
    {
      "cell_type": "markdown",
      "metadata": {
        "id": "qOc-_vQiKK8T"
      },
      "source": [
        "Clientes classificados como Satisfeitos"
      ]
    },
    {
      "cell_type": "code",
      "execution_count": null,
      "metadata": {
        "id": "P6tU0hA6KK8U",
        "outputId": "6610ab48-1b8a-4b23-e221-c331617369c3"
      },
      "outputs": [
        {
          "data": {
            "text/html": [
              "<div>\n",
              "<style scoped>\n",
              "    .dataframe tbody tr th:only-of-type {\n",
              "        vertical-align: middle;\n",
              "    }\n",
              "\n",
              "    .dataframe tbody tr th {\n",
              "        vertical-align: top;\n",
              "    }\n",
              "\n",
              "    .dataframe thead th {\n",
              "        text-align: right;\n",
              "    }\n",
              "</style>\n",
              "<table border=\"1\" class=\"dataframe\">\n",
              "  <thead>\n",
              "    <tr style=\"text-align: right;\">\n",
              "      <th></th>\n",
              "      <th>service</th>\n",
              "      <th>cleanliness</th>\n",
              "      <th>overall</th>\n",
              "      <th>value</th>\n",
              "      <th>location_x</th>\n",
              "      <th>sleep_quality</th>\n",
              "      <th>rooms</th>\n",
              "      <th>Class</th>\n",
              "    </tr>\n",
              "  </thead>\n",
              "  <tbody>\n",
              "    <tr>\n",
              "      <th>0</th>\n",
              "      <td>5.0</td>\n",
              "      <td>5.0</td>\n",
              "      <td>5.0</td>\n",
              "      <td>5.0</td>\n",
              "      <td>5.0</td>\n",
              "      <td>5.0</td>\n",
              "      <td>5.0</td>\n",
              "      <td>satisfeito</td>\n",
              "    </tr>\n",
              "    <tr>\n",
              "      <th>1</th>\n",
              "      <td>5.0</td>\n",
              "      <td>5.0</td>\n",
              "      <td>5.0</td>\n",
              "      <td>5.0</td>\n",
              "      <td>5.0</td>\n",
              "      <td>5.0</td>\n",
              "      <td>5.0</td>\n",
              "      <td>satisfeito</td>\n",
              "    </tr>\n",
              "    <tr>\n",
              "      <th>3</th>\n",
              "      <td>5.0</td>\n",
              "      <td>5.0</td>\n",
              "      <td>4.0</td>\n",
              "      <td>5.0</td>\n",
              "      <td>5.0</td>\n",
              "      <td>5.0</td>\n",
              "      <td>5.0</td>\n",
              "      <td>satisfeito</td>\n",
              "    </tr>\n",
              "    <tr>\n",
              "      <th>4</th>\n",
              "      <td>4.0</td>\n",
              "      <td>5.0</td>\n",
              "      <td>4.0</td>\n",
              "      <td>3.0</td>\n",
              "      <td>5.0</td>\n",
              "      <td>5.0</td>\n",
              "      <td>5.0</td>\n",
              "      <td>satisfeito</td>\n",
              "    </tr>\n",
              "    <tr>\n",
              "      <th>5</th>\n",
              "      <td>5.0</td>\n",
              "      <td>5.0</td>\n",
              "      <td>5.0</td>\n",
              "      <td>4.0</td>\n",
              "      <td>5.0</td>\n",
              "      <td>4.0</td>\n",
              "      <td>5.0</td>\n",
              "      <td>satisfeito</td>\n",
              "    </tr>\n",
              "    <tr>\n",
              "      <th>...</th>\n",
              "      <td>...</td>\n",
              "      <td>...</td>\n",
              "      <td>...</td>\n",
              "      <td>...</td>\n",
              "      <td>...</td>\n",
              "      <td>...</td>\n",
              "      <td>...</td>\n",
              "      <td>...</td>\n",
              "    </tr>\n",
              "    <tr>\n",
              "      <th>436384</th>\n",
              "      <td>5.0</td>\n",
              "      <td>5.0</td>\n",
              "      <td>5.0</td>\n",
              "      <td>5.0</td>\n",
              "      <td>5.0</td>\n",
              "      <td>4.0</td>\n",
              "      <td>5.0</td>\n",
              "      <td>satisfeito</td>\n",
              "    </tr>\n",
              "    <tr>\n",
              "      <th>436385</th>\n",
              "      <td>5.0</td>\n",
              "      <td>5.0</td>\n",
              "      <td>5.0</td>\n",
              "      <td>4.0</td>\n",
              "      <td>4.0</td>\n",
              "      <td>5.0</td>\n",
              "      <td>5.0</td>\n",
              "      <td>satisfeito</td>\n",
              "    </tr>\n",
              "    <tr>\n",
              "      <th>436387</th>\n",
              "      <td>5.0</td>\n",
              "      <td>5.0</td>\n",
              "      <td>5.0</td>\n",
              "      <td>5.0</td>\n",
              "      <td>5.0</td>\n",
              "      <td>5.0</td>\n",
              "      <td>5.0</td>\n",
              "      <td>satisfeito</td>\n",
              "    </tr>\n",
              "    <tr>\n",
              "      <th>436388</th>\n",
              "      <td>5.0</td>\n",
              "      <td>5.0</td>\n",
              "      <td>5.0</td>\n",
              "      <td>4.0</td>\n",
              "      <td>5.0</td>\n",
              "      <td>5.0</td>\n",
              "      <td>5.0</td>\n",
              "      <td>satisfeito</td>\n",
              "    </tr>\n",
              "    <tr>\n",
              "      <th>436389</th>\n",
              "      <td>5.0</td>\n",
              "      <td>5.0</td>\n",
              "      <td>5.0</td>\n",
              "      <td>5.0</td>\n",
              "      <td>5.0</td>\n",
              "      <td>5.0</td>\n",
              "      <td>5.0</td>\n",
              "      <td>satisfeito</td>\n",
              "    </tr>\n",
              "  </tbody>\n",
              "</table>\n",
              "<p>234833 rows × 8 columns</p>\n",
              "</div>"
            ],
            "text/plain": [
              "        service  cleanliness  overall  value  location_x  sleep_quality  \\\n",
              "0           5.0          5.0      5.0    5.0         5.0            5.0   \n",
              "1           5.0          5.0      5.0    5.0         5.0            5.0   \n",
              "3           5.0          5.0      4.0    5.0         5.0            5.0   \n",
              "4           4.0          5.0      4.0    3.0         5.0            5.0   \n",
              "5           5.0          5.0      5.0    4.0         5.0            4.0   \n",
              "...         ...          ...      ...    ...         ...            ...   \n",
              "436384      5.0          5.0      5.0    5.0         5.0            4.0   \n",
              "436385      5.0          5.0      5.0    4.0         4.0            5.0   \n",
              "436387      5.0          5.0      5.0    5.0         5.0            5.0   \n",
              "436388      5.0          5.0      5.0    4.0         5.0            5.0   \n",
              "436389      5.0          5.0      5.0    5.0         5.0            5.0   \n",
              "\n",
              "        rooms       Class  \n",
              "0         5.0  satisfeito  \n",
              "1         5.0  satisfeito  \n",
              "3         5.0  satisfeito  \n",
              "4         5.0  satisfeito  \n",
              "5         5.0  satisfeito  \n",
              "...       ...         ...  \n",
              "436384    5.0  satisfeito  \n",
              "436385    5.0  satisfeito  \n",
              "436387    5.0  satisfeito  \n",
              "436388    5.0  satisfeito  \n",
              "436389    5.0  satisfeito  \n",
              "\n",
              "[234833 rows x 8 columns]"
            ]
          },
          "execution_count": 41,
          "metadata": {},
          "output_type": "execute_result"
        }
      ],
      "source": [
        "satisfeitos = df_avaliados.loc[df_avaliados['Class']=='satisfeito']\n",
        "satisfeitos"
      ]
    },
    {
      "cell_type": "code",
      "execution_count": null,
      "metadata": {
        "id": "9LF0DJ-LKK8U",
        "outputId": "8f71280c-44df-4ce3-8dcc-a62ae6848cfe"
      },
      "outputs": [
        {
          "data": {
            "image/png": "[encoded data removed]",
            "text/plain": [
              "<Figure size 1200x600 with 6 Axes>"
            ]
          },
          "metadata": {},
          "output_type": "display_data"
        }
      ],
      "source": [
        "satisfeitos[['service', 'cleanliness', 'value', 'location_x','sleep_quality','rooms']].hist(\n",
        "    bins=15,\n",
        "    figsize=(12, 6),\n",
        "    grid = False,\n",
        "    rwidth = 0.9,\n",
        "    sharex = True,\n",
        "    sharey = True\n",
        ")\n",
        "plt.show()"
      ]
    },
    {
      "attachments": {},
      "cell_type": "markdown",
      "metadata": {
        "id": "6wypPfCcKK8U"
      },
      "source": [
        "Clientes classificados como insatisfeitos"
      ]
    },
    {
      "cell_type": "code",
      "execution_count": null,
      "metadata": {
        "id": "FQpwmvXKKK8U",
        "outputId": "a0e51420-d6bb-49c5-f0cf-a523a5620394"
      },
      "outputs": [
        {
          "data": {
            "text/html": [
              "<div>\n",
              "<style scoped>\n",
              "    .dataframe tbody tr th:only-of-type {\n",
              "        vertical-align: middle;\n",
              "    }\n",
              "\n",
              "    .dataframe tbody tr th {\n",
              "        vertical-align: top;\n",
              "    }\n",
              "\n",
              "    .dataframe thead th {\n",
              "        text-align: right;\n",
              "    }\n",
              "</style>\n",
              "<table border=\"1\" class=\"dataframe\">\n",
              "  <thead>\n",
              "    <tr style=\"text-align: right;\">\n",
              "      <th></th>\n",
              "      <th>service</th>\n",
              "      <th>cleanliness</th>\n",
              "      <th>overall</th>\n",
              "      <th>value</th>\n",
              "      <th>location_x</th>\n",
              "      <th>sleep_quality</th>\n",
              "      <th>rooms</th>\n",
              "      <th>Class</th>\n",
              "    </tr>\n",
              "  </thead>\n",
              "  <tbody>\n",
              "    <tr>\n",
              "      <th>28</th>\n",
              "      <td>2.0</td>\n",
              "      <td>4.0</td>\n",
              "      <td>1.0</td>\n",
              "      <td>1.0</td>\n",
              "      <td>3.0</td>\n",
              "      <td>2.0</td>\n",
              "      <td>2.0</td>\n",
              "      <td>insatisfeito</td>\n",
              "    </tr>\n",
              "    <tr>\n",
              "      <th>35</th>\n",
              "      <td>2.0</td>\n",
              "      <td>3.0</td>\n",
              "      <td>3.0</td>\n",
              "      <td>1.0</td>\n",
              "      <td>5.0</td>\n",
              "      <td>3.0</td>\n",
              "      <td>2.0</td>\n",
              "      <td>insatisfeito</td>\n",
              "    </tr>\n",
              "    <tr>\n",
              "      <th>39</th>\n",
              "      <td>2.0</td>\n",
              "      <td>3.0</td>\n",
              "      <td>2.0</td>\n",
              "      <td>1.0</td>\n",
              "      <td>5.0</td>\n",
              "      <td>3.0</td>\n",
              "      <td>3.0</td>\n",
              "      <td>insatisfeito</td>\n",
              "    </tr>\n",
              "    <tr>\n",
              "      <th>52</th>\n",
              "      <td>1.0</td>\n",
              "      <td>1.0</td>\n",
              "      <td>1.0</td>\n",
              "      <td>1.0</td>\n",
              "      <td>1.0</td>\n",
              "      <td>1.0</td>\n",
              "      <td>1.0</td>\n",
              "      <td>insatisfeito</td>\n",
              "    </tr>\n",
              "    <tr>\n",
              "      <th>67</th>\n",
              "      <td>1.0</td>\n",
              "      <td>1.0</td>\n",
              "      <td>1.0</td>\n",
              "      <td>1.0</td>\n",
              "      <td>1.0</td>\n",
              "      <td>1.0</td>\n",
              "      <td>1.0</td>\n",
              "      <td>insatisfeito</td>\n",
              "    </tr>\n",
              "    <tr>\n",
              "      <th>...</th>\n",
              "      <td>...</td>\n",
              "      <td>...</td>\n",
              "      <td>...</td>\n",
              "      <td>...</td>\n",
              "      <td>...</td>\n",
              "      <td>...</td>\n",
              "      <td>...</td>\n",
              "      <td>...</td>\n",
              "    </tr>\n",
              "    <tr>\n",
              "      <th>436255</th>\n",
              "      <td>1.0</td>\n",
              "      <td>5.0</td>\n",
              "      <td>3.0</td>\n",
              "      <td>3.0</td>\n",
              "      <td>5.0</td>\n",
              "      <td>3.0</td>\n",
              "      <td>1.0</td>\n",
              "      <td>insatisfeito</td>\n",
              "    </tr>\n",
              "    <tr>\n",
              "      <th>436262</th>\n",
              "      <td>3.0</td>\n",
              "      <td>3.0</td>\n",
              "      <td>3.0</td>\n",
              "      <td>3.0</td>\n",
              "      <td>5.0</td>\n",
              "      <td>2.0</td>\n",
              "      <td>2.0</td>\n",
              "      <td>insatisfeito</td>\n",
              "    </tr>\n",
              "    <tr>\n",
              "      <th>436279</th>\n",
              "      <td>1.0</td>\n",
              "      <td>4.0</td>\n",
              "      <td>2.0</td>\n",
              "      <td>2.0</td>\n",
              "      <td>4.0</td>\n",
              "      <td>4.0</td>\n",
              "      <td>4.0</td>\n",
              "      <td>insatisfeito</td>\n",
              "    </tr>\n",
              "    <tr>\n",
              "      <th>436312</th>\n",
              "      <td>1.0</td>\n",
              "      <td>3.0</td>\n",
              "      <td>2.0</td>\n",
              "      <td>1.0</td>\n",
              "      <td>2.0</td>\n",
              "      <td>1.0</td>\n",
              "      <td>1.0</td>\n",
              "      <td>insatisfeito</td>\n",
              "    </tr>\n",
              "    <tr>\n",
              "      <th>436353</th>\n",
              "      <td>3.0</td>\n",
              "      <td>3.0</td>\n",
              "      <td>2.0</td>\n",
              "      <td>1.0</td>\n",
              "      <td>5.0</td>\n",
              "      <td>4.0</td>\n",
              "      <td>3.0</td>\n",
              "      <td>insatisfeito</td>\n",
              "    </tr>\n",
              "  </tbody>\n",
              "</table>\n",
              "<p>52422 rows × 8 columns</p>\n",
              "</div>"
            ],
            "text/plain": [
              "        service  cleanliness  overall  value  location_x  sleep_quality  \\\n",
              "28          2.0          4.0      1.0    1.0         3.0            2.0   \n",
              "35          2.0          3.0      3.0    1.0         5.0            3.0   \n",
              "39          2.0          3.0      2.0    1.0         5.0            3.0   \n",
              "52          1.0          1.0      1.0    1.0         1.0            1.0   \n",
              "67          1.0          1.0      1.0    1.0         1.0            1.0   \n",
              "...         ...          ...      ...    ...         ...            ...   \n",
              "436255      1.0          5.0      3.0    3.0         5.0            3.0   \n",
              "436262      3.0          3.0      3.0    3.0         5.0            2.0   \n",
              "436279      1.0          4.0      2.0    2.0         4.0            4.0   \n",
              "436312      1.0          3.0      2.0    1.0         2.0            1.0   \n",
              "436353      3.0          3.0      2.0    1.0         5.0            4.0   \n",
              "\n",
              "        rooms         Class  \n",
              "28        2.0  insatisfeito  \n",
              "35        2.0  insatisfeito  \n",
              "39        3.0  insatisfeito  \n",
              "52        1.0  insatisfeito  \n",
              "67        1.0  insatisfeito  \n",
              "...       ...           ...  \n",
              "436255    1.0  insatisfeito  \n",
              "436262    2.0  insatisfeito  \n",
              "436279    4.0  insatisfeito  \n",
              "436312    1.0  insatisfeito  \n",
              "436353    3.0  insatisfeito  \n",
              "\n",
              "[52422 rows x 8 columns]"
            ]
          },
          "execution_count": 43,
          "metadata": {},
          "output_type": "execute_result"
        }
      ],
      "source": [
        "insatisfeitos = df_avaliados.loc[df_avaliados['Class']=='insatisfeito']\n",
        "insatisfeitos"
      ]
    },
    {
      "cell_type": "code",
      "execution_count": null,
      "metadata": {
        "id": "MgcKtXVFKK8V",
        "outputId": "c32cd3cf-c65b-4aca-86ea-667dc0da4351"
      },
      "outputs": [
        {
          "data": {
            "image/png": "[encoded data removed]",
            "text/plain": [
              "<Figure size 1200x600 with 6 Axes>"
            ]
          },
          "metadata": {},
          "output_type": "display_data"
        }
      ],
      "source": [
        "insatisfeitos[['service', 'cleanliness', 'value', 'location_x','sleep_quality','rooms']].hist(\n",
        "    bins=15,\n",
        "    figsize=(12, 6),\n",
        "    grid = False,\n",
        "    rwidth = 0.9,\n",
        "    sharex = True,\n",
        "    sharey = True\n",
        ")\n",
        "plt.show()"
      ]
    },
    {
      "cell_type": "code",
      "execution_count": null,
      "metadata": {},
      "outputs": [],
      "source": [
        "print('Os clientes SATISFEITOS representam ',(satisfeitos.shape[0]/ df_avaliados.shape[0]) *100,'% de nossa base.')\n",
        "print('Os clientes NEUTROS representam ',(neutros.shape[0]/ df_avaliados.shape[0]) *100,'% de nossa base.')\n",
        "print('Os clientes INSATISFEITOS representam ',(insatisfeitos.shape[0]/ df_avaliados.shape[0]) *100,'% de nossa base.')"
      ]
    },
    {
      "attachments": {},
      "cell_type": "markdown",
      "metadata": {
        "id": "_kcwctdNKK8V"
      },
      "source": [
        "### Avaliação final das pontuações"
      ]
    },
    {
      "attachments": {},
      "cell_type": "markdown",
      "metadata": {},
      "source": [
        "Clientes INSATISFEITOS: 12% dos clientes mostram-se neutros quanto ao posicionamento do hotel, porém quanto aos demais serviços prestados, considera-os abaixo da média considerada neutra, não atendendo assim as suas espectativas.\n",
        "\n",
        "Clientes NEUTROS: Para 34% dos clientes, tantos os serviços prestados quanto a localização estão dentro da média esperada.\n",
        "\n",
        "Clientes SATISFEITOS: A maioria dos clientes (54%), encontram-se plenamente satisfeitos, tanto com a localização quanto com os serviços internos prestados."
      ]
    },
    {
      "cell_type": "code",
      "execution_count": null,
      "metadata": {
        "id": "-Eoem049KK8V",
        "outputId": "c2729090-fade-477c-d884-52d9fcec319e"
      },
      "outputs": [
        {
          "data": {
            "text/html": [
              "<div>\n",
              "<style scoped>\n",
              "    .dataframe tbody tr th:only-of-type {\n",
              "        vertical-align: middle;\n",
              "    }\n",
              "\n",
              "    .dataframe tbody tr th {\n",
              "        vertical-align: top;\n",
              "    }\n",
              "\n",
              "    .dataframe thead tr th {\n",
              "        text-align: left;\n",
              "    }\n",
              "\n",
              "    .dataframe thead tr:last-of-type th {\n",
              "        text-align: right;\n",
              "    }\n",
              "</style>\n",
              "<table border=\"1\" class=\"dataframe\">\n",
              "  <thead>\n",
              "    <tr>\n",
              "      <th></th>\n",
              "      <th colspan=\"5\" halign=\"left\">service</th>\n",
              "      <th colspan=\"5\" halign=\"left\">cleanliness</th>\n",
              "      <th colspan=\"5\" halign=\"left\">overall</th>\n",
              "    </tr>\n",
              "    <tr>\n",
              "      <th></th>\n",
              "      <th>median</th>\n",
              "      <th>count</th>\n",
              "      <th>min</th>\n",
              "      <th>mean</th>\n",
              "      <th>max</th>\n",
              "      <th>median</th>\n",
              "      <th>count</th>\n",
              "      <th>min</th>\n",
              "      <th>mean</th>\n",
              "      <th>max</th>\n",
              "      <th>median</th>\n",
              "      <th>count</th>\n",
              "      <th>min</th>\n",
              "      <th>mean</th>\n",
              "      <th>max</th>\n",
              "    </tr>\n",
              "    <tr>\n",
              "      <th>Class</th>\n",
              "      <th></th>\n",
              "      <th></th>\n",
              "      <th></th>\n",
              "      <th></th>\n",
              "      <th></th>\n",
              "      <th></th>\n",
              "      <th></th>\n",
              "      <th></th>\n",
              "      <th></th>\n",
              "      <th></th>\n",
              "      <th></th>\n",
              "      <th></th>\n",
              "      <th></th>\n",
              "      <th></th>\n",
              "      <th></th>\n",
              "    </tr>\n",
              "  </thead>\n",
              "  <tbody>\n",
              "    <tr>\n",
              "      <th>insatisfeito</th>\n",
              "      <td>2.0</td>\n",
              "      <td>52422</td>\n",
              "      <td>1.0</td>\n",
              "      <td>2.112224</td>\n",
              "      <td>5.0</td>\n",
              "      <td>2.0</td>\n",
              "      <td>52422</td>\n",
              "      <td>1.0</td>\n",
              "      <td>2.385792</td>\n",
              "      <td>5.0</td>\n",
              "      <td>2.0</td>\n",
              "      <td>52422</td>\n",
              "      <td>1.0</td>\n",
              "      <td>1.892450</td>\n",
              "      <td>5.0</td>\n",
              "    </tr>\n",
              "    <tr>\n",
              "      <th>neutro</th>\n",
              "      <td>4.0</td>\n",
              "      <td>149136</td>\n",
              "      <td>1.0</td>\n",
              "      <td>3.809784</td>\n",
              "      <td>5.0</td>\n",
              "      <td>4.0</td>\n",
              "      <td>149136</td>\n",
              "      <td>1.0</td>\n",
              "      <td>3.970966</td>\n",
              "      <td>5.0</td>\n",
              "      <td>4.0</td>\n",
              "      <td>149136</td>\n",
              "      <td>1.0</td>\n",
              "      <td>3.660914</td>\n",
              "      <td>5.0</td>\n",
              "    </tr>\n",
              "    <tr>\n",
              "      <th>satisfeito</th>\n",
              "      <td>5.0</td>\n",
              "      <td>234833</td>\n",
              "      <td>1.0</td>\n",
              "      <td>4.840184</td>\n",
              "      <td>5.0</td>\n",
              "      <td>5.0</td>\n",
              "      <td>234833</td>\n",
              "      <td>1.0</td>\n",
              "      <td>4.886042</td>\n",
              "      <td>5.0</td>\n",
              "      <td>5.0</td>\n",
              "      <td>234833</td>\n",
              "      <td>1.0</td>\n",
              "      <td>4.761635</td>\n",
              "      <td>5.0</td>\n",
              "    </tr>\n",
              "  </tbody>\n",
              "</table>\n",
              "</div>"
            ],
            "text/plain": [
              "             service                             cleanliness               \\\n",
              "              median   count  min      mean  max      median   count  min   \n",
              "Class                                                                       \n",
              "insatisfeito     2.0   52422  1.0  2.112224  5.0         2.0   52422  1.0   \n",
              "neutro           4.0  149136  1.0  3.809784  5.0         4.0  149136  1.0   \n",
              "satisfeito       5.0  234833  1.0  4.840184  5.0         5.0  234833  1.0   \n",
              "\n",
              "                            overall                              \n",
              "                  mean  max  median   count  min      mean  max  \n",
              "Class                                                            \n",
              "insatisfeito  2.385792  5.0     2.0   52422  1.0  1.892450  5.0  \n",
              "neutro        3.970966  5.0     4.0  149136  1.0  3.660914  5.0  \n",
              "satisfeito    4.886042  5.0     5.0  234833  1.0  4.761635  5.0  "
            ]
          },
          "execution_count": 45,
          "metadata": {},
          "output_type": "execute_result"
        }
      ],
      "source": [
        "df_avaliados.groupby('Class').agg({'service':['median','count','min','mean','max'],'cleanliness':['median','count','min','mean','max'],'overall':['median','count','min','mean','max']})"
      ]
    },
    {
      "cell_type": "code",
      "execution_count": null,
      "metadata": {
        "id": "1ij5ORl5KK8V",
        "outputId": "3bd006fc-5052-4be8-98fb-f847ad888f61"
      },
      "outputs": [
        {
          "data": {
            "text/html": [
              "<div>\n",
              "<style scoped>\n",
              "    .dataframe tbody tr th:only-of-type {\n",
              "        vertical-align: middle;\n",
              "    }\n",
              "\n",
              "    .dataframe tbody tr th {\n",
              "        vertical-align: top;\n",
              "    }\n",
              "\n",
              "    .dataframe thead tr th {\n",
              "        text-align: left;\n",
              "    }\n",
              "\n",
              "    .dataframe thead tr:last-of-type th {\n",
              "        text-align: right;\n",
              "    }\n",
              "</style>\n",
              "<table border=\"1\" class=\"dataframe\">\n",
              "  <thead>\n",
              "    <tr>\n",
              "      <th></th>\n",
              "      <th colspan=\"4\" halign=\"left\">value</th>\n",
              "      <th colspan=\"4\" halign=\"left\">location_x</th>\n",
              "      <th colspan=\"4\" halign=\"left\">sleep_quality</th>\n",
              "      <th colspan=\"4\" halign=\"left\">rooms</th>\n",
              "    </tr>\n",
              "    <tr>\n",
              "      <th></th>\n",
              "      <th>median</th>\n",
              "      <th>min</th>\n",
              "      <th>mean</th>\n",
              "      <th>max</th>\n",
              "      <th>median</th>\n",
              "      <th>min</th>\n",
              "      <th>mean</th>\n",
              "      <th>max</th>\n",
              "      <th>median</th>\n",
              "      <th>min</th>\n",
              "      <th>mean</th>\n",
              "      <th>max</th>\n",
              "      <th>median</th>\n",
              "      <th>min</th>\n",
              "      <th>mean</th>\n",
              "      <th>max</th>\n",
              "    </tr>\n",
              "    <tr>\n",
              "      <th>Class</th>\n",
              "      <th></th>\n",
              "      <th></th>\n",
              "      <th></th>\n",
              "      <th></th>\n",
              "      <th></th>\n",
              "      <th></th>\n",
              "      <th></th>\n",
              "      <th></th>\n",
              "      <th></th>\n",
              "      <th></th>\n",
              "      <th></th>\n",
              "      <th></th>\n",
              "      <th></th>\n",
              "      <th></th>\n",
              "      <th></th>\n",
              "      <th></th>\n",
              "    </tr>\n",
              "  </thead>\n",
              "  <tbody>\n",
              "    <tr>\n",
              "      <th>insatisfeito</th>\n",
              "      <td>2.0</td>\n",
              "      <td>1.0</td>\n",
              "      <td>1.928999</td>\n",
              "      <td>5.0</td>\n",
              "      <td>4.0</td>\n",
              "      <td>1.0</td>\n",
              "      <td>3.445576</td>\n",
              "      <td>5.0</td>\n",
              "      <td>2.0</td>\n",
              "      <td>1.0</td>\n",
              "      <td>2.106883</td>\n",
              "      <td>5.0</td>\n",
              "      <td>2.0</td>\n",
              "      <td>1.0</td>\n",
              "      <td>2.007211</td>\n",
              "      <td>5.0</td>\n",
              "    </tr>\n",
              "    <tr>\n",
              "      <th>neutro</th>\n",
              "      <td>4.0</td>\n",
              "      <td>1.0</td>\n",
              "      <td>3.612179</td>\n",
              "      <td>5.0</td>\n",
              "      <td>4.0</td>\n",
              "      <td>1.0</td>\n",
              "      <td>4.304729</td>\n",
              "      <td>5.0</td>\n",
              "      <td>4.0</td>\n",
              "      <td>1.0</td>\n",
              "      <td>3.742182</td>\n",
              "      <td>5.0</td>\n",
              "      <td>4.0</td>\n",
              "      <td>1.0</td>\n",
              "      <td>3.569205</td>\n",
              "      <td>5.0</td>\n",
              "    </tr>\n",
              "    <tr>\n",
              "      <th>satisfeito</th>\n",
              "      <td>5.0</td>\n",
              "      <td>1.0</td>\n",
              "      <td>4.624644</td>\n",
              "      <td>5.0</td>\n",
              "      <td>5.0</td>\n",
              "      <td>1.0</td>\n",
              "      <td>4.782607</td>\n",
              "      <td>5.0</td>\n",
              "      <td>5.0</td>\n",
              "      <td>1.0</td>\n",
              "      <td>4.788092</td>\n",
              "      <td>5.0</td>\n",
              "      <td>5.0</td>\n",
              "      <td>1.0</td>\n",
              "      <td>4.714427</td>\n",
              "      <td>5.0</td>\n",
              "    </tr>\n",
              "  </tbody>\n",
              "</table>\n",
              "</div>"
            ],
            "text/plain": [
              "              value                     location_x                      \\\n",
              "             median  min      mean  max     median  min      mean  max   \n",
              "Class                                                                    \n",
              "insatisfeito    2.0  1.0  1.928999  5.0        4.0  1.0  3.445576  5.0   \n",
              "neutro          4.0  1.0  3.612179  5.0        4.0  1.0  4.304729  5.0   \n",
              "satisfeito      5.0  1.0  4.624644  5.0        5.0  1.0  4.782607  5.0   \n",
              "\n",
              "             sleep_quality                      rooms                      \n",
              "                    median  min      mean  max median  min      mean  max  \n",
              "Class                                                                      \n",
              "insatisfeito           2.0  1.0  2.106883  5.0    2.0  1.0  2.007211  5.0  \n",
              "neutro                 4.0  1.0  3.742182  5.0    4.0  1.0  3.569205  5.0  \n",
              "satisfeito             5.0  1.0  4.788092  5.0    5.0  1.0  4.714427  5.0  "
            ]
          },
          "execution_count": 46,
          "metadata": {},
          "output_type": "execute_result"
        }
      ],
      "source": [
        "df_avaliados.groupby('Class').agg({'value':['median','min','mean','max'],'location_x':['median','min','mean','max'],'sleep_quality':['median','min','mean','max'],'rooms':['median','min','mean','max']})"
      ]
    },
    {
      "attachments": {},
      "cell_type": "markdown",
      "metadata": {
        "id": "N9zs4adxKK8W"
      },
      "source": [
        "#### Análise e pre processamento das avaliações (Comentários)"
      ]
    },
    {
      "cell_type": "code",
      "execution_count": null,
      "metadata": {},
      "outputs": [],
      "source": [
        "english_stops = stopwords.words('english')"
      ]
    },
    {
      "cell_type": "code",
      "execution_count": null,
      "metadata": {
        "id": "uEjm55JH3wwy"
      },
      "outputs": [],
      "source": [
        "def df_pre_processamento(texto):\n",
        "\n",
        "  #Tokenizacao\n",
        "  texto_n = re.findall(r\"\\w+(?:'\\w+)?|[^\\w\\s]\", texto)\n",
        "\n",
        "  #Stop Words\n",
        "  texto_n = [t for t in texto_n if t not in english_stops]\n",
        "\n",
        "  #Números\n",
        "  texto_n = [re.sub(r\"\\d\",\"\",t) for t in texto_n]\n",
        "\n",
        "  #Pontuação\n",
        "  texto_n = [t for t in texto_n if t not in string.punctuation]\n",
        "  \n",
        "  texto_n_str = ' '.join(texto_n).lower()\n",
        "\n",
        "  return texto_n_str"
      ]
    },
    {
      "cell_type": "markdown",
      "metadata": {
        "id": "HIeA0QGm0qiY"
      },
      "source": [
        "Mudamos os tipos das colunas que vieram como resquícios do json"
      ]
    },
    {
      "cell_type": "code",
      "execution_count": null,
      "metadata": {
        "id": "lVcBuOarwvXt"
      },
      "outputs": [],
      "source": [
        "dfn2['text'] = dfn2['text'].astype(pd.StringDtype())\n",
        "dfn2['location_y'] = dfn2['location_y'].astype(pd.StringDtype())"
      ]
    },
    {
      "cell_type": "code",
      "execution_count": null,
      "metadata": {
        "colab": {
          "base_uri": "https://localhost:8080/"
        },
        "id": "deP63dkt01Az",
        "outputId": "0bf12947-066d-41cb-c7cc-2f2d2379d37a"
      },
      "outputs": [
        {
          "name": "stdout",
          "output_type": "stream",
          "text": [
            "<class 'pandas.core.frame.DataFrame'>\n",
            "RangeIndex: 878561 entries, 0 to 878560\n",
            "Data columns (total 11 columns):\n",
            " #   Column         Non-Null Count   Dtype         \n",
            "---  ------         --------------   -----         \n",
            " 0   text           878561 non-null  string        \n",
            " 1   date           878561 non-null  datetime64[ns]\n",
            " 2   id_x           878561 non-null  int64         \n",
            " 3   service        760918 non-null  float64       \n",
            " 4   cleanliness    759835 non-null  float64       \n",
            " 5   overall        878561 non-null  float64       \n",
            " 6   value          753695 non-null  float64       \n",
            " 7   location_x     664904 non-null  float64       \n",
            " 8   sleep_quality  500903 non-null  float64       \n",
            " 9   rooms          705404 non-null  float64       \n",
            " 10  location_y     878561 non-null  string        \n",
            "dtypes: datetime64[ns](1), float64(7), int64(1), string(2)\n",
            "memory usage: 73.7 MB\n"
          ]
        }
      ],
      "source": [
        "dfn2.info()"
      ]
    },
    {
      "cell_type": "markdown",
      "metadata": {
        "id": "Jxv9uxx495UK"
      },
      "source": [
        "Aplicação dos metodos na coluna text e salvando na nova coluna text_sem_stopwords"
      ]
    },
    {
      "cell_type": "code",
      "execution_count": null,
      "metadata": {
        "colab": {
          "base_uri": "https://localhost:8080/",
          "height": 49,
          "referenced_widgets": [
            "8e13f1beba394bd3b2041db698ecace0",
            "e77ffb3c917d4015900a1ea8e3cab9d5",
            "f0f52bb9d9f9475e9e3bbd9494591e4a",
            "140fb68f3bcc4f4dbf9c9c37c9bc9676",
            "c3e7f1183ce04ad098f118612c9800f2",
            "de17afbcefa044bbb6db4ff45c26346b",
            "43eebf73c4494bc08dab3481957c6f9f",
            "8543a78f7c38421b9b2ffeba63481f50",
            "d59fdbfff37345fba5d017442a16b44e",
            "6a80fade5d9a4ce09762fbc6321746c3",
            "be4e4854e67a46b5bbe44a420976a650",
            "62ad04ba77f2410eabc7868f1dac28bd"
          ]
        },
        "id": "AOK-XlJ5s38X",
        "outputId": "63d7b4f9-19c2-43fc-db46-962596b4ab71"
      },
      "outputs": [
        {
          "data": {
            "application/json": {
              "ascii": false,
              "bar_format": null,
              "colour": null,
              "elapsed": 0.0434877872467041,
              "initial": 0,
              "n": 0,
              "ncols": null,
              "nrows": null,
              "postfix": null,
              "prefix": "",
              "rate": null,
              "total": 878561,
              "unit": "it",
              "unit_divisor": 1000,
              "unit_scale": false
            },
            "application/vnd.jupyter.widget-view+json": {
              "model_id": "3dadaa0305754dbc8ad442da938476f1",
              "version_major": 2,
              "version_minor": 0
            },
            "text/plain": [
              "  0%|          | 0/878561 [00:00<?, ?it/s]"
            ]
          },
          "metadata": {},
          "output_type": "display_data"
        }
      ],
      "source": [
        "dfn2['text_sem_stopwords'] = dfn2['text'].progress_apply(df_pre_processamento)"
      ]
    },
    {
      "cell_type": "code",
      "execution_count": null,
      "metadata": {
        "id": "KiWMNcFoD6Y0"
      },
      "outputs": [],
      "source": [
        "dfn2['text_sem_stopwords'] = dfn2['text_sem_stopwords'].astype(pd.StringDtype())"
      ]
    },
    {
      "cell_type": "code",
      "execution_count": null,
      "metadata": {
        "colab": {
          "base_uri": "https://localhost:8080/"
        },
        "id": "vpE64o5M8kJI",
        "outputId": "3bfe19cb-48b2-45d9-cda8-6d8af025e0c2"
      },
      "outputs": [
        {
          "data": {
            "text/plain": [
              "0         stayed king suite nights yes cots us bit happy...\n",
              "1         on every visit nyc hotel beacon place love sta...\n",
              "2         this great property midtown we two different r...\n",
              "3         the andaz nice hotel central location manhatta...\n",
              "4         i stayed us andaz properties one best much bet...\n",
              "                                ...                        \n",
              "878556    pænt hotel et livligt miljø store værelser eno...\n",
              "878557    un excellent hotel pour un prix raisonnable un...\n",
              "878558    l'hotel situato una zona tranquilla e due pass...\n",
              "878559    sehr schön ausgestattetes hotel bester lage zu...\n",
              "878560    el hotel está entre el aeropuerto washington m...\n",
              "Name: text_sem_stopwords, Length: 878561, dtype: string"
            ]
          },
          "execution_count": 53,
          "metadata": {},
          "output_type": "execute_result"
        }
      ],
      "source": [
        "dfn2['text_sem_stopwords']"
      ]
    },
    {
      "attachments": {},
      "cell_type": "markdown",
      "metadata": {
        "id": "JOeWrUF15x0E"
      },
      "source": [
        "### Bigramas"
      ]
    },
    {
      "attachments": {},
      "cell_type": "markdown",
      "metadata": {},
      "source": [
        "Nuvem de palavras com as mais utilizadas nas respostas"
      ]
    },
    {
      "cell_type": "code",
      "execution_count": null,
      "metadata": {
        "id": "OmhO9Dfj4soa"
      },
      "outputs": [],
      "source": [
        "all_words_lem = ' '.join([word for word in dfn2['text_sem_stopwords']])"
      ]
    },
    {
      "cell_type": "code",
      "execution_count": null,
      "metadata": {
        "colab": {
          "base_uri": "https://localhost:8080/",
          "height": 403
        },
        "id": "4NJ9Fmb_5hqf",
        "outputId": "366dd960-736a-49c1-b60b-a44fde6456b6"
      },
      "outputs": [],
      "source": [
        "wordcloud = WordCloud(width=600, \n",
        "                     height=400, \n",
        "                     random_state=2, \n",
        "                     max_font_size=100).generate(all_words_lem)\n",
        "\n",
        "plt.figure(figsize=(10, 7))\n",
        "plt.imshow(wordcloud, interpolation='bilinear')\n",
        "plt.axis('off');"
      ]
    },
    {
      "cell_type": "code",
      "execution_count": null,
      "metadata": {},
      "outputs": [],
      "source": [
        "token = nltk.word_tokenize(all_words_lem)"
      ]
    },
    {
      "cell_type": "code",
      "execution_count": null,
      "metadata": {},
      "outputs": [],
      "source": [
        "freq_termos_tokens = FreqDist(token)"
      ]
    },
    {
      "attachments": {},
      "cell_type": "markdown",
      "metadata": {},
      "source": [
        "Top 15 termos mais comuns"
      ]
    },
    {
      "cell_type": "code",
      "execution_count": null,
      "metadata": {},
      "outputs": [],
      "source": [
        "freq_termos_tokens.most_common(20)"
      ]
    },
    {
      "cell_type": "code",
      "execution_count": null,
      "metadata": {},
      "outputs": [],
      "source": [
        "top_termos = freq_termos_tokens.most_common(20)\n",
        "\n",
        "fdist = pd.Series(dict(top_termos))\n",
        "\n",
        "sns.barplot(y=fdist.index, x=fdist.values);"
      ]
    },
    {
      "cell_type": "markdown",
      "metadata": {
        "id": "2xR11LQS55dl"
      },
      "source": [
        "### Tratamento de sentimentos no texto"
      ]
    },
    {
      "cell_type": "code",
      "execution_count": null,
      "metadata": {
        "id": "fWdPNtgwKK8Z"
      },
      "outputs": [],
      "source": [
        "analyzer = SentimentIntensityAnalyzer()"
      ]
    },
    {
      "cell_type": "code",
      "execution_count": null,
      "metadata": {
        "id": "vxmLClCmKK8Z"
      },
      "outputs": [],
      "source": [
        "dfn2['polarity'] = dfn2['text_sem_stopwords'].apply(lambda x: analyzer.polarity_scores(x))"
      ]
    },
    {
      "cell_type": "code",
      "execution_count": null,
      "metadata": {
        "id": "xwkGtWdyKK8Z"
      },
      "outputs": [],
      "source": [
        "dfn2  = pd.concat(\n",
        "    [dfn2 .drop(['polarity'], axis=1), \n",
        "     dfn2 ['polarity'].apply(pd.Series)], axis=1)"
      ]
    },
    {
      "cell_type": "code",
      "execution_count": null,
      "metadata": {
        "id": "dHmZAhwZKK8Z"
      },
      "outputs": [],
      "source": [
        "conditions = [\n",
        "  (dfn2['compound']<0),\n",
        "  (dfn2['compound']==0),\n",
        "  (dfn2['compound']>0)\n",
        "  ]\n",
        "\n",
        "values = ['negative', 'neutral', 'positive']\n",
        "\n",
        "dfn2['sentimento'] = np.select(conditions, values)"
      ]
    },
    {
      "cell_type": "code",
      "execution_count": null,
      "metadata": {
        "id": "xC2td5YWKK8Z",
        "outputId": "cb447f64-b465-4f44-becc-9ee86e5f62d8"
      },
      "outputs": [],
      "source": [
        "dfn2['sentimento'] = dfn2['sentimento'].astype(pd.StringDtype())\n",
        "dfn2.info()"
      ]
    },
    {
      "cell_type": "code",
      "execution_count": null,
      "metadata": {
        "id": "jAx4-qdbBYvH"
      },
      "outputs": [],
      "source": [
        "dfn2 = dfn2.drop(['neg','neu','pos'], axis=1)"
      ]
    },
    {
      "cell_type": "code",
      "execution_count": null,
      "metadata": {
        "colab": {
          "base_uri": "https://localhost:8080/"
        },
        "id": "hunpdCPf3USY",
        "outputId": "a030f0f2-be38-41ec-a2da-e8f34f51f4dc"
      },
      "outputs": [],
      "source": [
        "dfn2['sentimento'].unique()"
      ]
    },
    {
      "cell_type": "markdown",
      "metadata": {
        "id": "wqUHzxUs6E6m"
      },
      "source": [
        "### NPS"
      ]
    },
    {
      "cell_type": "markdown",
      "metadata": {
        "id": "nbV67l_42V8Q"
      },
      "source": [
        "**Net Promoter Score (NPS).**\n",
        "\n",
        "Através de uma pesquisa quanti-qualitativa, podemos ter um panorama sobre a fidelidade dos seus clientes e quão satisfeitos estão com o que sua empresa oferece.\n",
        "\n",
        "Os clientes que dão uma nota de 0 a 6 são considerados detratores, ou seja, não \n",
        "\n",
        "1.   Os clientes que dão uma nota de 0 a 6 são considerados detratores, ou seja, não estão satisfeitos\n",
        "2.   Os clientes que dão nota 7 ou 8 são considerados passivos/neutros: não estão insatisfeitos, mas também não são leais\n",
        "3.   Já os clientes que dão nota entre 9 e 10 são considerados promotores: aqueles que amam a sua empresa e provavelmente recomendam sua empresa\n",
        "\n",
        "Na base que utilizamos, não temos o classico NPS com a avaliação entre 1 a 10 e por isso vamos utilizar uma regra para poder fazer a classificação usando o overall entre 1 e 5."
      ]
    },
    {
      "cell_type": "markdown",
      "metadata": {
        "id": "gcWcgHRp13vz"
      },
      "source": [
        "Aqui vamos utilizar uma condição para categorizar nossos overalls em NPS, assim teremos uma leitura mais clara de quem teve sentimento diferente da avaliação. Como por exemplo: Sentimento positivo e NPS detrator."
      ]
    },
    {
      "cell_type": "code",
      "execution_count": null,
      "metadata": {
        "id": "o-S3Ef4MyPsB"
      },
      "outputs": [],
      "source": [
        "conditions = [\n",
        "  (dfn2['overall']<=3),\n",
        "  (dfn2['overall']==4),\n",
        "  (dfn2['overall']>=5)\n",
        "    ]\n",
        "\n",
        "values = ['detratores', 'passivos', 'promotores']\n",
        "\n",
        "dfn2['nps'] = np.select(conditions, values)"
      ]
    },
    {
      "cell_type": "code",
      "execution_count": null,
      "metadata": {
        "id": "BGtfIxSqKK8b",
        "outputId": "8ae864cb-b5e6-433e-c9e5-ec2141399e2b"
      },
      "outputs": [],
      "source": [
        "dfn2.head(10)"
      ]
    },
    {
      "cell_type": "code",
      "execution_count": null,
      "metadata": {
        "id": "2iBVURWvKK8b",
        "outputId": "48a1eba1-1955-40c0-b0aa-6181797e1c2e"
      },
      "outputs": [],
      "source": [
        "a_df=dfn2.drop_duplicates(['sentimento','nps'])[['sentimento','nps']]\n",
        "a_df.head(10)"
      ]
    },
    {
      "cell_type": "markdown",
      "metadata": {
        "id": "Z7AKX11KKc_Z"
      },
      "source": [
        "### Análise confrontando as notas de NPS e o Sentimento encontrado no texto de campo aberto preenchido pelo cliente"
      ]
    },
    {
      "cell_type": "markdown",
      "metadata": {
        "id": "ZW4_m_wqKK8b"
      },
      "source": [
        "A ideia a partir deste resultado é buscar entender porque alguns clientes dão notas opostas em ambos os campos, texto aberto descritivo x a nota informada.\n",
        "Quando olhamos para os registros com sentimento positivo e nps detrator, no ano de 2012, podemos perceber que dentre as notas informas que compoem o overall, o principal impacto está no valor da acomodação."
      ]
    },
    {
      "cell_type": "code",
      "execution_count": null,
      "metadata": {
        "id": "OReZdV-SKK8b"
      },
      "outputs": [],
      "source": [
        "df_sentimento_nps = dfn2.loc[(dfn2['sentimento'] == 'positive') & (dfn2['nps'] == 'detratores') & (dfn2['date'].dt.year == 2012) & (dfn2['location_y'].notnull() & (dfn2['location_y'] != ''))]"
      ]
    },
    {
      "cell_type": "code",
      "execution_count": null,
      "metadata": {
        "id": "wIC8WXu4KK8c"
      },
      "outputs": [],
      "source": [
        "df_sentimento_nps = df_sentimento_nps.drop(['text','date','id_x','location_y','sentimento','nps','text_sem_stopwords','compound','overall'], axis=1)"
      ]
    },
    {
      "cell_type": "code",
      "execution_count": null,
      "metadata": {
        "id": "lrPLobfKKK8c",
        "outputId": "4dc4aa94-8f9e-4936-a5c1-80576b7bc282"
      },
      "outputs": [],
      "source": [
        "df_sentimento_nps.mean().sort_values()"
      ]
    },
    {
      "cell_type": "markdown",
      "metadata": {
        "id": "-ZbtnqjOKK8c"
      },
      "source": [
        "A ideia a partir deste resultado é buscar entender porque alguns clientes dão notas opostas em ambos os campos, texto aberto descritivo x a nota informada.\n",
        "Quando olhamos para os registros com sentimento positivo e nps detrator, no ano de 2012, podemos perceber que dentre as notas informas que compoem o overall, o principal impacto também está no valor da acomodação."
      ]
    },
    {
      "cell_type": "code",
      "execution_count": null,
      "metadata": {
        "id": "8ntUv9eRKK8c"
      },
      "outputs": [],
      "source": [
        "df_nps_sentimento = dfn2.loc[(dfn2['sentimento'] == 'negative') & (dfn2['nps'] == 'promotores') & (dfn2['date'].dt.year == 2012) & (dfn2['location_y'].notnull() & (dfn2['location_y'] != ''))]"
      ]
    },
    {
      "cell_type": "code",
      "execution_count": null,
      "metadata": {
        "id": "XzgHTzJkKK8c",
        "outputId": "724d85d0-8440-4d13-feef-4534f02efcdd"
      },
      "outputs": [],
      "source": [
        "df_nps_sentimento.head()"
      ]
    },
    {
      "cell_type": "code",
      "execution_count": null,
      "metadata": {
        "id": "Bo2AVyKDKK8d"
      },
      "outputs": [],
      "source": [
        "df_nps_sentimento = df_nps_sentimento.drop(['text','date','id_x','location_y','sentimento','nps','text_sem_stopwords','compound','overall'], axis=1)"
      ]
    },
    {
      "cell_type": "code",
      "execution_count": null,
      "metadata": {
        "id": "6mOPrSOWKK8d",
        "outputId": "ea743195-711e-462a-d455-6566d7715adb"
      },
      "outputs": [],
      "source": [
        "df_nps_sentimento.mean().sort_values()"
      ]
    },
    {
      "cell_type": "code",
      "execution_count": null,
      "metadata": {},
      "outputs": [],
      "source": []
    }
  ],
  "metadata": {
    "colab": {
      "provenance": [],
      "toc_visible": true
    },
    "kernelspec": {
      "display_name": "Python 3.9.7 64-bit",
      "language": "python",
      "name": "python3"
    },
    "language_info": {
      "codemirror_mode": {
        "name": "ipython",
        "version": 3
      },
      "file_extension": ".py",
      "mimetype": "text/x-python",
      "name": "python",
      "nbconvert_exporter": "python",
      "pygments_lexer": "ipython3",
      "version": "3.8.10"
    },
    "vscode": {
      "interpreter": {
        "hash": "25034407fed5d681614dac11a1c0537e8cb49e3a8883c071303eea01322943d9"
      }
    },
    "widgets": {
      "application/vnd.jupyter.widget-state+json": {
        "140fb68f3bcc4f4dbf9c9c37c9bc9676": {
          "model_module": "@jupyter-widgets/controls",
          "model_module_version": "1.5.0",
          "model_name": "HTMLModel",
          "state": {
            "_dom_classes": [],
            "_model_module": "@jupyter-widgets/controls",
            "_model_module_version": "1.5.0",
            "_model_name": "HTMLModel",
            "_view_count": null,
            "_view_module": "@jupyter-widgets/controls",
            "_view_module_version": "1.5.0",
            "_view_name": "HTMLView",
            "description": "",
            "description_tooltip": null,
            "layout": "IPY_MODEL_6a80fade5d9a4ce09762fbc6321746c3",
            "placeholder": "​",
            "style": "IPY_MODEL_be4e4854e67a46b5bbe44a420976a650",
            "value": " 50/50 [00:00&lt;00:00, 369.75it/s]"
          }
        },
        "43eebf73c4494bc08dab3481957c6f9f": {
          "model_module": "@jupyter-widgets/controls",
          "model_module_version": "1.5.0",
          "model_name": "DescriptionStyleModel",
          "state": {
            "_model_module": "@jupyter-widgets/controls",
            "_model_module_version": "1.5.0",
            "_model_name": "DescriptionStyleModel",
            "_view_count": null,
            "_view_module": "@jupyter-widgets/base",
            "_view_module_version": "1.2.0",
            "_view_name": "StyleView",
            "description_width": ""
          }
        },
        "6a80fade5d9a4ce09762fbc6321746c3": {
          "model_module": "@jupyter-widgets/base",
          "model_module_version": "1.2.0",
          "model_name": "LayoutModel",
          "state": {
            "_model_module": "@jupyter-widgets/base",
            "_model_module_version": "1.2.0",
            "_model_name": "LayoutModel",
            "_view_count": null,
            "_view_module": "@jupyter-widgets/base",
            "_view_module_version": "1.2.0",
            "_view_name": "LayoutView",
            "align_content": null,
            "align_items": null,
            "align_self": null,
            "border": null,
            "bottom": null,
            "display": null,
            "flex": null,
            "flex_flow": null,
            "grid_area": null,
            "grid_auto_columns": null,
            "grid_auto_flow": null,
            "grid_auto_rows": null,
            "grid_column": null,
            "grid_gap": null,
            "grid_row": null,
            "grid_template_areas": null,
            "grid_template_columns": null,
            "grid_template_rows": null,
            "height": null,
            "justify_content": null,
            "justify_items": null,
            "left": null,
            "margin": null,
            "max_height": null,
            "max_width": null,
            "min_height": null,
            "min_width": null,
            "object_fit": null,
            "object_position": null,
            "order": null,
            "overflow": null,
            "overflow_x": null,
            "overflow_y": null,
            "padding": null,
            "right": null,
            "top": null,
            "visibility": null,
            "width": null
          }
        },
        "8543a78f7c38421b9b2ffeba63481f50": {
          "model_module": "@jupyter-widgets/base",
          "model_module_version": "1.2.0",
          "model_name": "LayoutModel",
          "state": {
            "_model_module": "@jupyter-widgets/base",
            "_model_module_version": "1.2.0",
            "_model_name": "LayoutModel",
            "_view_count": null,
            "_view_module": "@jupyter-widgets/base",
            "_view_module_version": "1.2.0",
            "_view_name": "LayoutView",
            "align_content": null,
            "align_items": null,
            "align_self": null,
            "border": null,
            "bottom": null,
            "display": null,
            "flex": null,
            "flex_flow": null,
            "grid_area": null,
            "grid_auto_columns": null,
            "grid_auto_flow": null,
            "grid_auto_rows": null,
            "grid_column": null,
            "grid_gap": null,
            "grid_row": null,
            "grid_template_areas": null,
            "grid_template_columns": null,
            "grid_template_rows": null,
            "height": null,
            "justify_content": null,
            "justify_items": null,
            "left": null,
            "margin": null,
            "max_height": null,
            "max_width": null,
            "min_height": null,
            "min_width": null,
            "object_fit": null,
            "object_position": null,
            "order": null,
            "overflow": null,
            "overflow_x": null,
            "overflow_y": null,
            "padding": null,
            "right": null,
            "top": null,
            "visibility": null,
            "width": null
          }
        },
        "8e13f1beba394bd3b2041db698ecace0": {
          "model_module": "@jupyter-widgets/controls",
          "model_module_version": "1.5.0",
          "model_name": "HBoxModel",
          "state": {
            "_dom_classes": [],
            "_model_module": "@jupyter-widgets/controls",
            "_model_module_version": "1.5.0",
            "_model_name": "HBoxModel",
            "_view_count": null,
            "_view_module": "@jupyter-widgets/controls",
            "_view_module_version": "1.5.0",
            "_view_name": "HBoxView",
            "box_style": "",
            "children": [
              "IPY_MODEL_e77ffb3c917d4015900a1ea8e3cab9d5",
              "IPY_MODEL_f0f52bb9d9f9475e9e3bbd9494591e4a",
              "IPY_MODEL_140fb68f3bcc4f4dbf9c9c37c9bc9676"
            ],
            "layout": "IPY_MODEL_c3e7f1183ce04ad098f118612c9800f2"
          }
        },
        "be4e4854e67a46b5bbe44a420976a650": {
          "model_module": "@jupyter-widgets/controls",
          "model_module_version": "1.5.0",
          "model_name": "DescriptionStyleModel",
          "state": {
            "_model_module": "@jupyter-widgets/controls",
            "_model_module_version": "1.5.0",
            "_model_name": "DescriptionStyleModel",
            "_view_count": null,
            "_view_module": "@jupyter-widgets/base",
            "_view_module_version": "1.2.0",
            "_view_name": "StyleView",
            "description_width": ""
          }
        },
        "c3e7f1183ce04ad098f118612c9800f2": {
          "model_module": "@jupyter-widgets/base",
          "model_module_version": "1.2.0",
          "model_name": "LayoutModel",
          "state": {
            "_model_module": "@jupyter-widgets/base",
            "_model_module_version": "1.2.0",
            "_model_name": "LayoutModel",
            "_view_count": null,
            "_view_module": "@jupyter-widgets/base",
            "_view_module_version": "1.2.0",
            "_view_name": "LayoutView",
            "align_content": null,
            "align_items": null,
            "align_self": null,
            "border": null,
            "bottom": null,
            "display": null,
            "flex": null,
            "flex_flow": null,
            "grid_area": null,
            "grid_auto_columns": null,
            "grid_auto_flow": null,
            "grid_auto_rows": null,
            "grid_column": null,
            "grid_gap": null,
            "grid_row": null,
            "grid_template_areas": null,
            "grid_template_columns": null,
            "grid_template_rows": null,
            "height": null,
            "justify_content": null,
            "justify_items": null,
            "left": null,
            "margin": null,
            "max_height": null,
            "max_width": null,
            "min_height": null,
            "min_width": null,
            "object_fit": null,
            "object_position": null,
            "order": null,
            "overflow": null,
            "overflow_x": null,
            "overflow_y": null,
            "padding": null,
            "right": null,
            "top": null,
            "visibility": null,
            "width": null
          }
        },
        "d59fdbfff37345fba5d017442a16b44e": {
          "model_module": "@jupyter-widgets/controls",
          "model_module_version": "1.5.0",
          "model_name": "ProgressStyleModel",
          "state": {
            "_model_module": "@jupyter-widgets/controls",
            "_model_module_version": "1.5.0",
            "_model_name": "ProgressStyleModel",
            "_view_count": null,
            "_view_module": "@jupyter-widgets/base",
            "_view_module_version": "1.2.0",
            "_view_name": "StyleView",
            "bar_color": null,
            "description_width": ""
          }
        },
        "de17afbcefa044bbb6db4ff45c26346b": {
          "model_module": "@jupyter-widgets/base",
          "model_module_version": "1.2.0",
          "model_name": "LayoutModel",
          "state": {
            "_model_module": "@jupyter-widgets/base",
            "_model_module_version": "1.2.0",
            "_model_name": "LayoutModel",
            "_view_count": null,
            "_view_module": "@jupyter-widgets/base",
            "_view_module_version": "1.2.0",
            "_view_name": "LayoutView",
            "align_content": null,
            "align_items": null,
            "align_self": null,
            "border": null,
            "bottom": null,
            "display": null,
            "flex": null,
            "flex_flow": null,
            "grid_area": null,
            "grid_auto_columns": null,
            "grid_auto_flow": null,
            "grid_auto_rows": null,
            "grid_column": null,
            "grid_gap": null,
            "grid_row": null,
            "grid_template_areas": null,
            "grid_template_columns": null,
            "grid_template_rows": null,
            "height": null,
            "justify_content": null,
            "justify_items": null,
            "left": null,
            "margin": null,
            "max_height": null,
            "max_width": null,
            "min_height": null,
            "min_width": null,
            "object_fit": null,
            "object_position": null,
            "order": null,
            "overflow": null,
            "overflow_x": null,
            "overflow_y": null,
            "padding": null,
            "right": null,
            "top": null,
            "visibility": null,
            "width": null
          }
        },
        "e77ffb3c917d4015900a1ea8e3cab9d5": {
          "model_module": "@jupyter-widgets/controls",
          "model_module_version": "1.5.0",
          "model_name": "HTMLModel",
          "state": {
            "_dom_classes": [],
            "_model_module": "@jupyter-widgets/controls",
            "_model_module_version": "1.5.0",
            "_model_name": "HTMLModel",
            "_view_count": null,
            "_view_module": "@jupyter-widgets/controls",
            "_view_module_version": "1.5.0",
            "_view_name": "HTMLView",
            "description": "",
            "description_tooltip": null,
            "layout": "IPY_MODEL_de17afbcefa044bbb6db4ff45c26346b",
            "placeholder": "​",
            "style": "IPY_MODEL_43eebf73c4494bc08dab3481957c6f9f",
            "value": "100%"
          }
        },
        "f0f52bb9d9f9475e9e3bbd9494591e4a": {
          "model_module": "@jupyter-widgets/controls",
          "model_module_version": "1.5.0",
          "model_name": "FloatProgressModel",
          "state": {
            "_dom_classes": [],
            "_model_module": "@jupyter-widgets/controls",
            "_model_module_version": "1.5.0",
            "_model_name": "FloatProgressModel",
            "_view_count": null,
            "_view_module": "@jupyter-widgets/controls",
            "_view_module_version": "1.5.0",
            "_view_name": "ProgressView",
            "bar_style": "success",
            "description": "",
            "description_tooltip": null,
            "layout": "IPY_MODEL_8543a78f7c38421b9b2ffeba63481f50",
            "max": 50,
            "min": 0,
            "orientation": "horizontal",
            "style": "IPY_MODEL_d59fdbfff37345fba5d017442a16b44e",
            "value": 50
          }
        }
      }
    }
  },
  "nbformat": 4,
  "nbformat_minor": 0
}
