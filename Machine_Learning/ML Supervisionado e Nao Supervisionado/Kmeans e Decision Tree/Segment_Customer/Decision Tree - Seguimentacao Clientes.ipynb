{
  "cells": [
    {
      "cell_type": "markdown",
      "metadata": {},
      "source": [
        "### Introdução\n",
        "Ozeas dos Santos Nascimento\n",
        "\n",
        "O objetivo dessa trabalho é classificar pessoas pela sua propensão a comprar um novo leitor digital (eReader), de modo a melhorar a efetividade de campanhas de marketing.\n",
        "Para alcançar este objetivo, utilizarei o modelo de árvores de decisão para minerar hábitos de consumo de usuários de um site de e-commerce. O sociólogo Everett Rogers publicou, na década de 60, um trabalho que mostrava a adoção de novas tecnologias por consumidores. Ele identificou os seguintes grupos de consumidores: inovators, early adopters, early majority e late majority. Os dois primeiros grupos compreendem os usuários mais propensos a comprar uma nova tecnologia, enquanto os dois últimos eventualmente poderão comprar a tecnologia, se achar conveniente."
      ]
    },
    {
      "cell_type": "markdown",
      "metadata": {
        "id": "gzbRJI-OKsS-"
      },
      "source": [
        "Dataset Atividade 3 - Bases.xlsx\n",
        "\n",
        "![image.png](data:image/png;base64,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)"
      ]
    },
    {
      "cell_type": "code",
      "execution_count": 1,
      "metadata": {
        "id": "NyeTED-9zxTC"
      },
      "outputs": [],
      "source": [
        "import numpy as np\n",
        "import pandas as pd\n",
        "import matplotlib.pyplot as plt\n",
        "import pandas as pd\n",
        "from sklearn.datasets import load_iris\n",
        "from sklearn.model_selection import train_test_split\n",
        "from sklearn.naive_bayes import GaussianNB\n",
        "from sklearn.metrics import confusion_matrix, classification_report\n",
        "from sklearn.metrics import accuracy_score\n",
        "from sklearn.tree import DecisionTreeClassifier\n",
        "from sklearn.feature_extraction import DictVectorizer\n",
        "from sklearn.preprocessing import LabelEncoder\n",
        "from sklearn import tree"
      ]
    },
    {
      "cell_type": "markdown",
      "metadata": {
        "id": "fieFBjIq8Z2w"
      },
      "source": [
        "## Carregamento e comparação dos dados "
      ]
    },
    {
      "cell_type": "code",
      "execution_count": 2,
      "metadata": {
        "id": "9lsDtftw2Y-a"
      },
      "outputs": [],
      "source": [
        "df_trein = pd.read_excel(\"Base_clientes.xlsx\", sheet_name = \"TREINAMENTO\")\n",
        "df_valid = pd.read_excel(\"Base_clientes.xlsx\", sheet_name = \"VALIDAÇÃO\")"
      ]
    },
    {
      "cell_type": "code",
      "execution_count": 3,
      "metadata": {
        "colab": {
          "base_uri": "https://localhost:8080/",
          "height": 175
        },
        "id": "C3XMjQig4pMe",
        "outputId": "acfa717c-0b81-482d-8525-799fc9bcf022"
      },
      "outputs": [
        {
          "data": {
            "text/html": [
              "\n",
              "  <div id=\"df-a9273785-9217-4ada-9b82-bf3df457d99c\">\n",
              "    <div class=\"colab-df-container\">\n",
              "      <div>\n",
              "<style scoped>\n",
              "    .dataframe tbody tr th:only-of-type {\n",
              "        vertical-align: middle;\n",
              "    }\n",
              "\n",
              "    .dataframe tbody tr th {\n",
              "        vertical-align: top;\n",
              "    }\n",
              "\n",
              "    .dataframe thead th {\n",
              "        text-align: right;\n",
              "    }\n",
              "</style>\n",
              "<table border=\"1\" class=\"dataframe\">\n",
              "  <thead>\n",
              "    <tr style=\"text-align: right;\">\n",
              "      <th></th>\n",
              "      <th>ID_usuário</th>\n",
              "      <th>Gênero</th>\n",
              "      <th>Idade</th>\n",
              "      <th>Estado_civil</th>\n",
              "      <th>Atividade_no_site</th>\n",
              "      <th>Pesquisou_eletronicos_12m</th>\n",
              "      <th>Comprou_eletronicos_12m</th>\n",
              "      <th>Pesquisou_mídia_digital_18m</th>\n",
              "      <th>Comprou_mídia_digital_18m</th>\n",
              "      <th>Forma_pagamento</th>\n",
              "      <th>Adoção_eReader</th>\n",
              "    </tr>\n",
              "  </thead>\n",
              "  <tbody>\n",
              "    <tr>\n",
              "      <th>0</th>\n",
              "      <td>9552</td>\n",
              "      <td>M</td>\n",
              "      <td>61</td>\n",
              "      <td>C</td>\n",
              "      <td>Esporádico</td>\n",
              "      <td>Sim</td>\n",
              "      <td>Sim</td>\n",
              "      <td>Sim</td>\n",
              "      <td>Não</td>\n",
              "      <td>Transferência</td>\n",
              "      <td>Late Majority</td>\n",
              "    </tr>\n",
              "    <tr>\n",
              "      <th>1</th>\n",
              "      <td>6757</td>\n",
              "      <td>M</td>\n",
              "      <td>27</td>\n",
              "      <td>C</td>\n",
              "      <td>Intermitente</td>\n",
              "      <td>Sim</td>\n",
              "      <td>Não</td>\n",
              "      <td>Sim</td>\n",
              "      <td>Não</td>\n",
              "      <td>Transferência</td>\n",
              "      <td>Innovator</td>\n",
              "    </tr>\n",
              "    <tr>\n",
              "      <th>2</th>\n",
              "      <td>3599</td>\n",
              "      <td>F</td>\n",
              "      <td>29</td>\n",
              "      <td>C</td>\n",
              "      <td>Esporádico</td>\n",
              "      <td>Sim</td>\n",
              "      <td>Sim</td>\n",
              "      <td>Sim</td>\n",
              "      <td>Sim</td>\n",
              "      <td>Transferência</td>\n",
              "      <td>Early Adopter</td>\n",
              "    </tr>\n",
              "    <tr>\n",
              "      <th>3</th>\n",
              "      <td>6811</td>\n",
              "      <td>M</td>\n",
              "      <td>49</td>\n",
              "      <td>C</td>\n",
              "      <td>Esporádico</td>\n",
              "      <td>Sim</td>\n",
              "      <td>Sim</td>\n",
              "      <td>Sim</td>\n",
              "      <td>Sim</td>\n",
              "      <td>Website</td>\n",
              "      <td>Early Adopter</td>\n",
              "    </tr>\n",
              "  </tbody>\n",
              "</table>\n",
              "</div>\n",
              "      <button class=\"colab-df-convert\" onclick=\"convertToInteractive('df-a9273785-9217-4ada-9b82-bf3df457d99c')\"\n",
              "              title=\"Convert this dataframe to an interactive table.\"\n",
              "              style=\"display:none;\">\n",
              "        \n",
              "  <svg xmlns=\"http://www.w3.org/2000/svg\" height=\"24px\"viewBox=\"0 0 24 24\"\n",
              "       width=\"24px\">\n",
              "    <path d=\"M0 0h24v24H0V0z\" fill=\"none\"/>\n",
              "    <path d=\"M18.56 5.44l.94 2.06.94-2.06 2.06-.94-2.06-.94-.94-2.06-.94 2.06-2.06.94zm-11 1L8.5 8.5l.94-2.06 2.06-.94-2.06-.94L8.5 2.5l-.94 2.06-2.06.94zm10 10l.94 2.06.94-2.06 2.06-.94-2.06-.94-.94-2.06-.94 2.06-2.06.94z\"/><path d=\"M17.41 7.96l-1.37-1.37c-.4-.4-.92-.59-1.43-.59-.52 0-1.04.2-1.43.59L10.3 9.45l-7.72 7.72c-.78.78-.78 2.05 0 2.83L4 21.41c.39.39.9.59 1.41.59.51 0 1.02-.2 1.41-.59l7.78-7.78 2.81-2.81c.8-.78.8-2.07 0-2.86zM5.41 20L4 18.59l7.72-7.72 1.47 1.35L5.41 20z\"/>\n",
              "  </svg>\n",
              "      </button>\n",
              "      \n",
              "  <style>\n",
              "    .colab-df-container {\n",
              "      display:flex;\n",
              "      flex-wrap:wrap;\n",
              "      gap: 12px;\n",
              "    }\n",
              "\n",
              "    .colab-df-convert {\n",
              "      background-color: #E8F0FE;\n",
              "      border: none;\n",
              "      border-radius: 50%;\n",
              "      cursor: pointer;\n",
              "      display: none;\n",
              "      fill: #1967D2;\n",
              "      height: 32px;\n",
              "      padding: 0 0 0 0;\n",
              "      width: 32px;\n",
              "    }\n",
              "\n",
              "    .colab-df-convert:hover {\n",
              "      background-color: #E2EBFA;\n",
              "      box-shadow: 0px 1px 2px rgba(60, 64, 67, 0.3), 0px 1px 3px 1px rgba(60, 64, 67, 0.15);\n",
              "      fill: #174EA6;\n",
              "    }\n",
              "\n",
              "    [theme=dark] .colab-df-convert {\n",
              "      background-color: #3B4455;\n",
              "      fill: #D2E3FC;\n",
              "    }\n",
              "\n",
              "    [theme=dark] .colab-df-convert:hover {\n",
              "      background-color: #434B5C;\n",
              "      box-shadow: 0px 1px 3px 1px rgba(0, 0, 0, 0.15);\n",
              "      filter: drop-shadow(0px 1px 2px rgba(0, 0, 0, 0.3));\n",
              "      fill: #FFFFFF;\n",
              "    }\n",
              "  </style>\n",
              "\n",
              "      <script>\n",
              "        const buttonEl =\n",
              "          document.querySelector('#df-a9273785-9217-4ada-9b82-bf3df457d99c button.colab-df-convert');\n",
              "        buttonEl.style.display =\n",
              "          google.colab.kernel.accessAllowed ? 'block' : 'none';\n",
              "\n",
              "        async function convertToInteractive(key) {\n",
              "          const element = document.querySelector('#df-a9273785-9217-4ada-9b82-bf3df457d99c');\n",
              "          const dataTable =\n",
              "            await google.colab.kernel.invokeFunction('convertToInteractive',\n",
              "                                                     [key], {});\n",
              "          if (!dataTable) return;\n",
              "\n",
              "          const docLinkHtml = 'Like what you see? Visit the ' +\n",
              "            '<a target=\"_blank\" href=https://colab.research.google.com/notebooks/data_table.ipynb>data table notebook</a>'\n",
              "            + ' to learn more about interactive tables.';\n",
              "          element.innerHTML = '';\n",
              "          dataTable['output_type'] = 'display_data';\n",
              "          await google.colab.output.renderOutput(dataTable, element);\n",
              "          const docLink = document.createElement('div');\n",
              "          docLink.innerHTML = docLinkHtml;\n",
              "          element.appendChild(docLink);\n",
              "        }\n",
              "      </script>\n",
              "    </div>\n",
              "  </div>\n",
              "  "
            ],
            "text/plain": [
              "   ID_usuário Gênero  Idade Estado_civil Atividade_no_site  \\\n",
              "0        9552      M     61            C        Esporádico   \n",
              "1        6757      M     27            C      Intermitente   \n",
              "2        3599      F     29            C        Esporádico   \n",
              "3        6811      M     49            C        Esporádico   \n",
              "\n",
              "  Pesquisou_eletronicos_12m Comprou_eletronicos_12m  \\\n",
              "0                       Sim                     Sim   \n",
              "1                       Sim                     Não   \n",
              "2                       Sim                     Sim   \n",
              "3                       Sim                     Sim   \n",
              "\n",
              "  Pesquisou_mídia_digital_18m Comprou_mídia_digital_18m Forma_pagamento  \\\n",
              "0                         Sim                       Não   Transferência   \n",
              "1                         Sim                       Não   Transferência   \n",
              "2                         Sim                       Sim   Transferência   \n",
              "3                         Sim                       Sim         Website   \n",
              "\n",
              "  Adoção_eReader  \n",
              "0  Late Majority  \n",
              "1      Innovator  \n",
              "2  Early Adopter  \n",
              "3  Early Adopter  "
            ]
          },
          "execution_count": 3,
          "metadata": {},
          "output_type": "execute_result"
        }
      ],
      "source": [
        "df_trein.head(4)"
      ]
    },
    {
      "cell_type": "code",
      "execution_count": 4,
      "metadata": {
        "colab": {
          "base_uri": "https://localhost:8080/",
          "height": 175
        },
        "id": "uPcV5vyZ4uF0",
        "outputId": "35ee19c9-562d-4810-cd94-f2634a4a27a9"
      },
      "outputs": [
        {
          "data": {
            "text/html": [
              "\n",
              "  <div id=\"df-2d374027-a343-4653-a606-02e829d69ddc\">\n",
              "    <div class=\"colab-df-container\">\n",
              "      <div>\n",
              "<style scoped>\n",
              "    .dataframe tbody tr th:only-of-type {\n",
              "        vertical-align: middle;\n",
              "    }\n",
              "\n",
              "    .dataframe tbody tr th {\n",
              "        vertical-align: top;\n",
              "    }\n",
              "\n",
              "    .dataframe thead th {\n",
              "        text-align: right;\n",
              "    }\n",
              "</style>\n",
              "<table border=\"1\" class=\"dataframe\">\n",
              "  <thead>\n",
              "    <tr style=\"text-align: right;\">\n",
              "      <th></th>\n",
              "      <th>ID_usuário</th>\n",
              "      <th>Gênero</th>\n",
              "      <th>Idade</th>\n",
              "      <th>Estado_civil</th>\n",
              "      <th>Atividade_no_site</th>\n",
              "      <th>Pesquisou_eletronicos_12m</th>\n",
              "      <th>Comprou_eletronicos_12m</th>\n",
              "      <th>Pesquisou_mídia_digital_18m</th>\n",
              "      <th>Comprou_mídia_digital_18m</th>\n",
              "      <th>Forma_pagamento</th>\n",
              "    </tr>\n",
              "  </thead>\n",
              "  <tbody>\n",
              "    <tr>\n",
              "      <th>0</th>\n",
              "      <td>56031</td>\n",
              "      <td>M</td>\n",
              "      <td>57</td>\n",
              "      <td>S</td>\n",
              "      <td>Intermitente</td>\n",
              "      <td>Sim</td>\n",
              "      <td>Sim</td>\n",
              "      <td>Sim</td>\n",
              "      <td>Sim</td>\n",
              "      <td>Transferência</td>\n",
              "    </tr>\n",
              "    <tr>\n",
              "      <th>1</th>\n",
              "      <td>25913</td>\n",
              "      <td>F</td>\n",
              "      <td>51</td>\n",
              "      <td>C</td>\n",
              "      <td>Intermitente</td>\n",
              "      <td>Sim</td>\n",
              "      <td>Sim</td>\n",
              "      <td>Não</td>\n",
              "      <td>Não</td>\n",
              "      <td>Transferência</td>\n",
              "    </tr>\n",
              "    <tr>\n",
              "      <th>2</th>\n",
              "      <td>19396</td>\n",
              "      <td>M</td>\n",
              "      <td>41</td>\n",
              "      <td>C</td>\n",
              "      <td>Esporádico</td>\n",
              "      <td>Sim</td>\n",
              "      <td>Sim</td>\n",
              "      <td>Sim</td>\n",
              "      <td>Não</td>\n",
              "      <td>Website</td>\n",
              "    </tr>\n",
              "    <tr>\n",
              "      <th>3</th>\n",
              "      <td>93666</td>\n",
              "      <td>M</td>\n",
              "      <td>66</td>\n",
              "      <td>S</td>\n",
              "      <td>Intermitente</td>\n",
              "      <td>Sim</td>\n",
              "      <td>Sim</td>\n",
              "      <td>Sim</td>\n",
              "      <td>Sim</td>\n",
              "      <td>Cartão de crédito</td>\n",
              "    </tr>\n",
              "  </tbody>\n",
              "</table>\n",
              "</div>\n",
              "      <button class=\"colab-df-convert\" onclick=\"convertToInteractive('df-2d374027-a343-4653-a606-02e829d69ddc')\"\n",
              "              title=\"Convert this dataframe to an interactive table.\"\n",
              "              style=\"display:none;\">\n",
              "        \n",
              "  <svg xmlns=\"http://www.w3.org/2000/svg\" height=\"24px\"viewBox=\"0 0 24 24\"\n",
              "       width=\"24px\">\n",
              "    <path d=\"M0 0h24v24H0V0z\" fill=\"none\"/>\n",
              "    <path d=\"M18.56 5.44l.94 2.06.94-2.06 2.06-.94-2.06-.94-.94-2.06-.94 2.06-2.06.94zm-11 1L8.5 8.5l.94-2.06 2.06-.94-2.06-.94L8.5 2.5l-.94 2.06-2.06.94zm10 10l.94 2.06.94-2.06 2.06-.94-2.06-.94-.94-2.06-.94 2.06-2.06.94z\"/><path d=\"M17.41 7.96l-1.37-1.37c-.4-.4-.92-.59-1.43-.59-.52 0-1.04.2-1.43.59L10.3 9.45l-7.72 7.72c-.78.78-.78 2.05 0 2.83L4 21.41c.39.39.9.59 1.41.59.51 0 1.02-.2 1.41-.59l7.78-7.78 2.81-2.81c.8-.78.8-2.07 0-2.86zM5.41 20L4 18.59l7.72-7.72 1.47 1.35L5.41 20z\"/>\n",
              "  </svg>\n",
              "      </button>\n",
              "      \n",
              "  <style>\n",
              "    .colab-df-container {\n",
              "      display:flex;\n",
              "      flex-wrap:wrap;\n",
              "      gap: 12px;\n",
              "    }\n",
              "\n",
              "    .colab-df-convert {\n",
              "      background-color: #E8F0FE;\n",
              "      border: none;\n",
              "      border-radius: 50%;\n",
              "      cursor: pointer;\n",
              "      display: none;\n",
              "      fill: #1967D2;\n",
              "      height: 32px;\n",
              "      padding: 0 0 0 0;\n",
              "      width: 32px;\n",
              "    }\n",
              "\n",
              "    .colab-df-convert:hover {\n",
              "      background-color: #E2EBFA;\n",
              "      box-shadow: 0px 1px 2px rgba(60, 64, 67, 0.3), 0px 1px 3px 1px rgba(60, 64, 67, 0.15);\n",
              "      fill: #174EA6;\n",
              "    }\n",
              "\n",
              "    [theme=dark] .colab-df-convert {\n",
              "      background-color: #3B4455;\n",
              "      fill: #D2E3FC;\n",
              "    }\n",
              "\n",
              "    [theme=dark] .colab-df-convert:hover {\n",
              "      background-color: #434B5C;\n",
              "      box-shadow: 0px 1px 3px 1px rgba(0, 0, 0, 0.15);\n",
              "      filter: drop-shadow(0px 1px 2px rgba(0, 0, 0, 0.3));\n",
              "      fill: #FFFFFF;\n",
              "    }\n",
              "  </style>\n",
              "\n",
              "      <script>\n",
              "        const buttonEl =\n",
              "          document.querySelector('#df-2d374027-a343-4653-a606-02e829d69ddc button.colab-df-convert');\n",
              "        buttonEl.style.display =\n",
              "          google.colab.kernel.accessAllowed ? 'block' : 'none';\n",
              "\n",
              "        async function convertToInteractive(key) {\n",
              "          const element = document.querySelector('#df-2d374027-a343-4653-a606-02e829d69ddc');\n",
              "          const dataTable =\n",
              "            await google.colab.kernel.invokeFunction('convertToInteractive',\n",
              "                                                     [key], {});\n",
              "          if (!dataTable) return;\n",
              "\n",
              "          const docLinkHtml = 'Like what you see? Visit the ' +\n",
              "            '<a target=\"_blank\" href=https://colab.research.google.com/notebooks/data_table.ipynb>data table notebook</a>'\n",
              "            + ' to learn more about interactive tables.';\n",
              "          element.innerHTML = '';\n",
              "          dataTable['output_type'] = 'display_data';\n",
              "          await google.colab.output.renderOutput(dataTable, element);\n",
              "          const docLink = document.createElement('div');\n",
              "          docLink.innerHTML = docLinkHtml;\n",
              "          element.appendChild(docLink);\n",
              "        }\n",
              "      </script>\n",
              "    </div>\n",
              "  </div>\n",
              "  "
            ],
            "text/plain": [
              "   ID_usuário Gênero  Idade Estado_civil Atividade_no_site  \\\n",
              "0       56031      M     57            S      Intermitente   \n",
              "1       25913      F     51            C      Intermitente   \n",
              "2       19396      M     41            C        Esporádico   \n",
              "3       93666      M     66            S      Intermitente   \n",
              "\n",
              "  Pesquisou_eletronicos_12m Comprou_eletronicos_12m  \\\n",
              "0                       Sim                     Sim   \n",
              "1                       Sim                     Sim   \n",
              "2                       Sim                     Sim   \n",
              "3                       Sim                     Sim   \n",
              "\n",
              "  Pesquisou_mídia_digital_18m Comprou_mídia_digital_18m    Forma_pagamento  \n",
              "0                         Sim                       Sim      Transferência  \n",
              "1                         Não                       Não      Transferência  \n",
              "2                         Sim                       Não            Website  \n",
              "3                         Sim                       Sim  Cartão de crédito  "
            ]
          },
          "execution_count": 4,
          "metadata": {},
          "output_type": "execute_result"
        }
      ],
      "source": [
        "df_valid.head(4)"
      ]
    },
    {
      "cell_type": "code",
      "execution_count": 5,
      "metadata": {
        "colab": {
          "base_uri": "https://localhost:8080/"
        },
        "id": "oy1UjWsm5udo",
        "outputId": "21ab304b-967d-4f18-b0a1-3c615473e0f0"
      },
      "outputs": [
        {
          "name": "stdout",
          "output_type": "stream",
          "text": [
            "<class 'pandas.core.frame.DataFrame'>\n",
            "RangeIndex: 661 entries, 0 to 660\n",
            "Data columns (total 11 columns):\n",
            " #   Column                       Non-Null Count  Dtype \n",
            "---  ------                       --------------  ----- \n",
            " 0   ID_usuário                   661 non-null    int64 \n",
            " 1   Gênero                       661 non-null    object\n",
            " 2   Idade                        661 non-null    int64 \n",
            " 3   Estado_civil                 661 non-null    object\n",
            " 4   Atividade_no_site            661 non-null    object\n",
            " 5   Pesquisou_eletronicos_12m    661 non-null    object\n",
            " 6   Comprou_eletronicos_12m      661 non-null    object\n",
            " 7   Pesquisou_mídia_digital_18m  661 non-null    object\n",
            " 8   Comprou_mídia_digital_18m    661 non-null    object\n",
            " 9   Forma_pagamento              661 non-null    object\n",
            " 10  Adoção_eReader               661 non-null    object\n",
            "dtypes: int64(2), object(9)\n",
            "memory usage: 56.9+ KB\n",
            "<class 'pandas.core.frame.DataFrame'>\n",
            "RangeIndex: 473 entries, 0 to 472\n",
            "Data columns (total 10 columns):\n",
            " #   Column                       Non-Null Count  Dtype \n",
            "---  ------                       --------------  ----- \n",
            " 0   ID_usuário                   473 non-null    int64 \n",
            " 1   Gênero                       473 non-null    object\n",
            " 2   Idade                        473 non-null    int64 \n",
            " 3   Estado_civil                 473 non-null    object\n",
            " 4   Atividade_no_site            473 non-null    object\n",
            " 5   Pesquisou_eletronicos_12m    473 non-null    object\n",
            " 6   Comprou_eletronicos_12m      473 non-null    object\n",
            " 7   Pesquisou_mídia_digital_18m  473 non-null    object\n",
            " 8   Comprou_mídia_digital_18m    473 non-null    object\n",
            " 9   Forma_pagamento              473 non-null    object\n",
            "dtypes: int64(2), object(8)\n",
            "memory usage: 37.1+ KB\n"
          ]
        },
        {
          "data": {
            "text/plain": [
              "(None, None)"
            ]
          },
          "execution_count": 5,
          "metadata": {},
          "output_type": "execute_result"
        }
      ],
      "source": [
        "df_trein.info(), df_valid.info()"
      ]
    },
    {
      "cell_type": "code",
      "execution_count": 6,
      "metadata": {
        "colab": {
          "base_uri": "https://localhost:8080/"
        },
        "id": "z5nfLhxcm8wD",
        "outputId": "726b5d88-865c-4783-fe39-448e6aa40436"
      },
      "outputs": [
        {
          "data": {
            "text/plain": [
              "((661, 11), (473, 10))"
            ]
          },
          "execution_count": 6,
          "metadata": {},
          "output_type": "execute_result"
        }
      ],
      "source": [
        "df_trein.shape, df_valid.shape # linhas, colunas tabela TREINAMENTO // VALIDAÇÃO"
      ]
    },
    {
      "cell_type": "code",
      "execution_count": 7,
      "metadata": {
        "colab": {
          "base_uri": "https://localhost:8080/"
        },
        "id": "gNiqMG8nkBR5",
        "outputId": "e4a79f67-6b9a-49f8-812e-d5760b47f2ca"
      },
      "outputs": [
        {
          "data": {
            "text/plain": [
              "(Index(['ID_usuário', 'Gênero', 'Idade', 'Estado_civil', 'Atividade_no_site',\n",
              "        'Pesquisou_eletronicos_12m', 'Comprou_eletronicos_12m',\n",
              "        'Pesquisou_mídia_digital_18m', 'Comprou_mídia_digital_18m',\n",
              "        'Forma_pagamento', 'Adoção_eReader'],\n",
              "       dtype='object'),\n",
              " Index(['ID_usuário', 'Gênero', 'Idade', 'Estado_civil', 'Atividade_no_site',\n",
              "        'Pesquisou_eletronicos_12m', 'Comprou_eletronicos_12m',\n",
              "        'Pesquisou_mídia_digital_18m', 'Comprou_mídia_digital_18m',\n",
              "        'Forma_pagamento'],\n",
              "       dtype='object'))"
            ]
          },
          "execution_count": 7,
          "metadata": {},
          "output_type": "execute_result"
        }
      ],
      "source": [
        "df_trein.columns, df_valid.columns"
      ]
    },
    {
      "cell_type": "markdown",
      "metadata": {
        "id": "5-VxLKNs8-lP"
      },
      "source": [
        "### ESTATÍSTICA DESCRITIVA DOS DADOS\n",
        "(apenas os campos numéricos)"
      ]
    },
    {
      "cell_type": "code",
      "execution_count": 8,
      "metadata": {
        "colab": {
          "base_uri": "https://localhost:8080/"
        },
        "id": "sYzMMksi1O4N",
        "outputId": "41ece07b-115a-4e5d-9209-3377f2287906"
      },
      "outputs": [
        {
          "data": {
            "text/plain": [
              "count    661.000000\n",
              "mean      42.794251\n",
              "std       13.861983\n",
              "min       16.000000\n",
              "25%       32.000000\n",
              "50%       44.000000\n",
              "75%       55.000000\n",
              "max       66.000000\n",
              "Name: Idade, dtype: float64"
            ]
          },
          "execution_count": 8,
          "metadata": {},
          "output_type": "execute_result"
        }
      ],
      "source": [
        "df_trein[\"Idade\"].describe()"
      ]
    },
    {
      "cell_type": "code",
      "execution_count": 9,
      "metadata": {
        "colab": {
          "base_uri": "https://localhost:8080/"
        },
        "id": "JIQ2DZnw7CO8",
        "outputId": "c30ac379-d236-4814-9072-48bce9b7dce7"
      },
      "outputs": [
        {
          "data": {
            "text/plain": [
              "count    473.000000\n",
              "mean      45.972516\n",
              "std       13.385313\n",
              "min       17.000000\n",
              "25%       35.000000\n",
              "50%       47.000000\n",
              "75%       56.000000\n",
              "max       70.000000\n",
              "Name: Idade, dtype: float64"
            ]
          },
          "execution_count": 9,
          "metadata": {},
          "output_type": "execute_result"
        }
      ],
      "source": [
        "df_valid[\"Idade\"].describe()"
      ]
    },
    {
      "cell_type": "code",
      "execution_count": 10,
      "metadata": {
        "colab": {
          "base_uri": "https://localhost:8080/",
          "height": 175
        },
        "id": "4aCdL67o8-G_",
        "outputId": "1c94c2f2-5d70-4d01-adc7-fe316b82871d"
      },
      "outputs": [
        {
          "data": {
            "text/html": [
              "\n",
              "  <div id=\"df-6763fe0d-f178-4530-b4c4-f15e5609c3f0\">\n",
              "    <div class=\"colab-df-container\">\n",
              "      <div>\n",
              "<style scoped>\n",
              "    .dataframe tbody tr th:only-of-type {\n",
              "        vertical-align: middle;\n",
              "    }\n",
              "\n",
              "    .dataframe tbody tr th {\n",
              "        vertical-align: top;\n",
              "    }\n",
              "\n",
              "    .dataframe thead th {\n",
              "        text-align: right;\n",
              "    }\n",
              "</style>\n",
              "<table border=\"1\" class=\"dataframe\">\n",
              "  <thead>\n",
              "    <tr style=\"text-align: right;\">\n",
              "      <th></th>\n",
              "      <th>Gênero</th>\n",
              "      <th>Estado_civil</th>\n",
              "      <th>Atividade_no_site</th>\n",
              "      <th>Pesquisou_eletronicos_12m</th>\n",
              "      <th>Comprou_eletronicos_12m</th>\n",
              "      <th>Pesquisou_mídia_digital_18m</th>\n",
              "      <th>Comprou_mídia_digital_18m</th>\n",
              "      <th>Forma_pagamento</th>\n",
              "      <th>Adoção_eReader</th>\n",
              "    </tr>\n",
              "  </thead>\n",
              "  <tbody>\n",
              "    <tr>\n",
              "      <th>count</th>\n",
              "      <td>661</td>\n",
              "      <td>661</td>\n",
              "      <td>661</td>\n",
              "      <td>661</td>\n",
              "      <td>661</td>\n",
              "      <td>661</td>\n",
              "      <td>661</td>\n",
              "      <td>661</td>\n",
              "      <td>661</td>\n",
              "    </tr>\n",
              "    <tr>\n",
              "      <th>unique</th>\n",
              "      <td>2</td>\n",
              "      <td>2</td>\n",
              "      <td>3</td>\n",
              "      <td>2</td>\n",
              "      <td>2</td>\n",
              "      <td>2</td>\n",
              "      <td>2</td>\n",
              "      <td>4</td>\n",
              "      <td>4</td>\n",
              "    </tr>\n",
              "    <tr>\n",
              "      <th>top</th>\n",
              "      <td>M</td>\n",
              "      <td>C</td>\n",
              "      <td>Esporádico</td>\n",
              "      <td>Sim</td>\n",
              "      <td>Sim</td>\n",
              "      <td>Sim</td>\n",
              "      <td>Não</td>\n",
              "      <td>Website</td>\n",
              "      <td>Early Adopter</td>\n",
              "    </tr>\n",
              "    <tr>\n",
              "      <th>freq</th>\n",
              "      <td>346</td>\n",
              "      <td>381</td>\n",
              "      <td>424</td>\n",
              "      <td>613</td>\n",
              "      <td>339</td>\n",
              "      <td>525</td>\n",
              "      <td>364</td>\n",
              "      <td>235</td>\n",
              "      <td>205</td>\n",
              "    </tr>\n",
              "  </tbody>\n",
              "</table>\n",
              "</div>\n",
              "      <button class=\"colab-df-convert\" onclick=\"convertToInteractive('df-6763fe0d-f178-4530-b4c4-f15e5609c3f0')\"\n",
              "              title=\"Convert this dataframe to an interactive table.\"\n",
              "              style=\"display:none;\">\n",
              "        \n",
              "  <svg xmlns=\"http://www.w3.org/2000/svg\" height=\"24px\"viewBox=\"0 0 24 24\"\n",
              "       width=\"24px\">\n",
              "    <path d=\"M0 0h24v24H0V0z\" fill=\"none\"/>\n",
              "    <path d=\"M18.56 5.44l.94 2.06.94-2.06 2.06-.94-2.06-.94-.94-2.06-.94 2.06-2.06.94zm-11 1L8.5 8.5l.94-2.06 2.06-.94-2.06-.94L8.5 2.5l-.94 2.06-2.06.94zm10 10l.94 2.06.94-2.06 2.06-.94-2.06-.94-.94-2.06-.94 2.06-2.06.94z\"/><path d=\"M17.41 7.96l-1.37-1.37c-.4-.4-.92-.59-1.43-.59-.52 0-1.04.2-1.43.59L10.3 9.45l-7.72 7.72c-.78.78-.78 2.05 0 2.83L4 21.41c.39.39.9.59 1.41.59.51 0 1.02-.2 1.41-.59l7.78-7.78 2.81-2.81c.8-.78.8-2.07 0-2.86zM5.41 20L4 18.59l7.72-7.72 1.47 1.35L5.41 20z\"/>\n",
              "  </svg>\n",
              "      </button>\n",
              "      \n",
              "  <style>\n",
              "    .colab-df-container {\n",
              "      display:flex;\n",
              "      flex-wrap:wrap;\n",
              "      gap: 12px;\n",
              "    }\n",
              "\n",
              "    .colab-df-convert {\n",
              "      background-color: #E8F0FE;\n",
              "      border: none;\n",
              "      border-radius: 50%;\n",
              "      cursor: pointer;\n",
              "      display: none;\n",
              "      fill: #1967D2;\n",
              "      height: 32px;\n",
              "      padding: 0 0 0 0;\n",
              "      width: 32px;\n",
              "    }\n",
              "\n",
              "    .colab-df-convert:hover {\n",
              "      background-color: #E2EBFA;\n",
              "      box-shadow: 0px 1px 2px rgba(60, 64, 67, 0.3), 0px 1px 3px 1px rgba(60, 64, 67, 0.15);\n",
              "      fill: #174EA6;\n",
              "    }\n",
              "\n",
              "    [theme=dark] .colab-df-convert {\n",
              "      background-color: #3B4455;\n",
              "      fill: #D2E3FC;\n",
              "    }\n",
              "\n",
              "    [theme=dark] .colab-df-convert:hover {\n",
              "      background-color: #434B5C;\n",
              "      box-shadow: 0px 1px 3px 1px rgba(0, 0, 0, 0.15);\n",
              "      filter: drop-shadow(0px 1px 2px rgba(0, 0, 0, 0.3));\n",
              "      fill: #FFFFFF;\n",
              "    }\n",
              "  </style>\n",
              "\n",
              "      <script>\n",
              "        const buttonEl =\n",
              "          document.querySelector('#df-6763fe0d-f178-4530-b4c4-f15e5609c3f0 button.colab-df-convert');\n",
              "        buttonEl.style.display =\n",
              "          google.colab.kernel.accessAllowed ? 'block' : 'none';\n",
              "\n",
              "        async function convertToInteractive(key) {\n",
              "          const element = document.querySelector('#df-6763fe0d-f178-4530-b4c4-f15e5609c3f0');\n",
              "          const dataTable =\n",
              "            await google.colab.kernel.invokeFunction('convertToInteractive',\n",
              "                                                     [key], {});\n",
              "          if (!dataTable) return;\n",
              "\n",
              "          const docLinkHtml = 'Like what you see? Visit the ' +\n",
              "            '<a target=\"_blank\" href=https://colab.research.google.com/notebooks/data_table.ipynb>data table notebook</a>'\n",
              "            + ' to learn more about interactive tables.';\n",
              "          element.innerHTML = '';\n",
              "          dataTable['output_type'] = 'display_data';\n",
              "          await google.colab.output.renderOutput(dataTable, element);\n",
              "          const docLink = document.createElement('div');\n",
              "          docLink.innerHTML = docLinkHtml;\n",
              "          element.appendChild(docLink);\n",
              "        }\n",
              "      </script>\n",
              "    </div>\n",
              "  </div>\n",
              "  "
            ],
            "text/plain": [
              "       Gênero Estado_civil Atividade_no_site Pesquisou_eletronicos_12m  \\\n",
              "count     661          661               661                       661   \n",
              "unique      2            2                 3                         2   \n",
              "top         M            C        Esporádico                       Sim   \n",
              "freq      346          381               424                       613   \n",
              "\n",
              "       Comprou_eletronicos_12m Pesquisou_mídia_digital_18m  \\\n",
              "count                      661                         661   \n",
              "unique                       2                           2   \n",
              "top                        Sim                         Sim   \n",
              "freq                       339                         525   \n",
              "\n",
              "       Comprou_mídia_digital_18m Forma_pagamento Adoção_eReader  \n",
              "count                        661             661            661  \n",
              "unique                         2               4              4  \n",
              "top                          Não         Website  Early Adopter  \n",
              "freq                         364             235            205  "
            ]
          },
          "execution_count": 10,
          "metadata": {},
          "output_type": "execute_result"
        }
      ],
      "source": [
        "# Para se ter uma visão dos atributos categóricos, os atributos não numéricos são descartados. \n",
        "df_trein.select_dtypes(include='object').describe()"
      ]
    },
    {
      "cell_type": "code",
      "execution_count": 11,
      "metadata": {
        "colab": {
          "base_uri": "https://localhost:8080/",
          "height": 175
        },
        "id": "1mBLfMVY7c8L",
        "outputId": "a0139dd3-33cf-43f4-998b-85540b557545"
      },
      "outputs": [
        {
          "data": {
            "text/html": [
              "\n",
              "  <div id=\"df-fd46eee4-de5d-497e-b6c1-332f12b8b074\">\n",
              "    <div class=\"colab-df-container\">\n",
              "      <div>\n",
              "<style scoped>\n",
              "    .dataframe tbody tr th:only-of-type {\n",
              "        vertical-align: middle;\n",
              "    }\n",
              "\n",
              "    .dataframe tbody tr th {\n",
              "        vertical-align: top;\n",
              "    }\n",
              "\n",
              "    .dataframe thead th {\n",
              "        text-align: right;\n",
              "    }\n",
              "</style>\n",
              "<table border=\"1\" class=\"dataframe\">\n",
              "  <thead>\n",
              "    <tr style=\"text-align: right;\">\n",
              "      <th></th>\n",
              "      <th>Gênero</th>\n",
              "      <th>Estado_civil</th>\n",
              "      <th>Atividade_no_site</th>\n",
              "      <th>Pesquisou_eletronicos_12m</th>\n",
              "      <th>Comprou_eletronicos_12m</th>\n",
              "      <th>Pesquisou_mídia_digital_18m</th>\n",
              "      <th>Comprou_mídia_digital_18m</th>\n",
              "      <th>Forma_pagamento</th>\n",
              "    </tr>\n",
              "  </thead>\n",
              "  <tbody>\n",
              "    <tr>\n",
              "      <th>count</th>\n",
              "      <td>473</td>\n",
              "      <td>473</td>\n",
              "      <td>473</td>\n",
              "      <td>473</td>\n",
              "      <td>473</td>\n",
              "      <td>473</td>\n",
              "      <td>473</td>\n",
              "      <td>473</td>\n",
              "    </tr>\n",
              "    <tr>\n",
              "      <th>unique</th>\n",
              "      <td>2</td>\n",
              "      <td>2</td>\n",
              "      <td>3</td>\n",
              "      <td>2</td>\n",
              "      <td>2</td>\n",
              "      <td>2</td>\n",
              "      <td>2</td>\n",
              "      <td>4</td>\n",
              "    </tr>\n",
              "    <tr>\n",
              "      <th>top</th>\n",
              "      <td>M</td>\n",
              "      <td>C</td>\n",
              "      <td>Esporádico</td>\n",
              "      <td>Sim</td>\n",
              "      <td>Não</td>\n",
              "      <td>Sim</td>\n",
              "      <td>Não</td>\n",
              "      <td>Website</td>\n",
              "    </tr>\n",
              "    <tr>\n",
              "      <th>freq</th>\n",
              "      <td>252</td>\n",
              "      <td>243</td>\n",
              "      <td>286</td>\n",
              "      <td>451</td>\n",
              "      <td>245</td>\n",
              "      <td>378</td>\n",
              "      <td>271</td>\n",
              "      <td>193</td>\n",
              "    </tr>\n",
              "  </tbody>\n",
              "</table>\n",
              "</div>\n",
              "      <button class=\"colab-df-convert\" onclick=\"convertToInteractive('df-fd46eee4-de5d-497e-b6c1-332f12b8b074')\"\n",
              "              title=\"Convert this dataframe to an interactive table.\"\n",
              "              style=\"display:none;\">\n",
              "        \n",
              "  <svg xmlns=\"http://www.w3.org/2000/svg\" height=\"24px\"viewBox=\"0 0 24 24\"\n",
              "       width=\"24px\">\n",
              "    <path d=\"M0 0h24v24H0V0z\" fill=\"none\"/>\n",
              "    <path d=\"M18.56 5.44l.94 2.06.94-2.06 2.06-.94-2.06-.94-.94-2.06-.94 2.06-2.06.94zm-11 1L8.5 8.5l.94-2.06 2.06-.94-2.06-.94L8.5 2.5l-.94 2.06-2.06.94zm10 10l.94 2.06.94-2.06 2.06-.94-2.06-.94-.94-2.06-.94 2.06-2.06.94z\"/><path d=\"M17.41 7.96l-1.37-1.37c-.4-.4-.92-.59-1.43-.59-.52 0-1.04.2-1.43.59L10.3 9.45l-7.72 7.72c-.78.78-.78 2.05 0 2.83L4 21.41c.39.39.9.59 1.41.59.51 0 1.02-.2 1.41-.59l7.78-7.78 2.81-2.81c.8-.78.8-2.07 0-2.86zM5.41 20L4 18.59l7.72-7.72 1.47 1.35L5.41 20z\"/>\n",
              "  </svg>\n",
              "      </button>\n",
              "      \n",
              "  <style>\n",
              "    .colab-df-container {\n",
              "      display:flex;\n",
              "      flex-wrap:wrap;\n",
              "      gap: 12px;\n",
              "    }\n",
              "\n",
              "    .colab-df-convert {\n",
              "      background-color: #E8F0FE;\n",
              "      border: none;\n",
              "      border-radius: 50%;\n",
              "      cursor: pointer;\n",
              "      display: none;\n",
              "      fill: #1967D2;\n",
              "      height: 32px;\n",
              "      padding: 0 0 0 0;\n",
              "      width: 32px;\n",
              "    }\n",
              "\n",
              "    .colab-df-convert:hover {\n",
              "      background-color: #E2EBFA;\n",
              "      box-shadow: 0px 1px 2px rgba(60, 64, 67, 0.3), 0px 1px 3px 1px rgba(60, 64, 67, 0.15);\n",
              "      fill: #174EA6;\n",
              "    }\n",
              "\n",
              "    [theme=dark] .colab-df-convert {\n",
              "      background-color: #3B4455;\n",
              "      fill: #D2E3FC;\n",
              "    }\n",
              "\n",
              "    [theme=dark] .colab-df-convert:hover {\n",
              "      background-color: #434B5C;\n",
              "      box-shadow: 0px 1px 3px 1px rgba(0, 0, 0, 0.15);\n",
              "      filter: drop-shadow(0px 1px 2px rgba(0, 0, 0, 0.3));\n",
              "      fill: #FFFFFF;\n",
              "    }\n",
              "  </style>\n",
              "\n",
              "      <script>\n",
              "        const buttonEl =\n",
              "          document.querySelector('#df-fd46eee4-de5d-497e-b6c1-332f12b8b074 button.colab-df-convert');\n",
              "        buttonEl.style.display =\n",
              "          google.colab.kernel.accessAllowed ? 'block' : 'none';\n",
              "\n",
              "        async function convertToInteractive(key) {\n",
              "          const element = document.querySelector('#df-fd46eee4-de5d-497e-b6c1-332f12b8b074');\n",
              "          const dataTable =\n",
              "            await google.colab.kernel.invokeFunction('convertToInteractive',\n",
              "                                                     [key], {});\n",
              "          if (!dataTable) return;\n",
              "\n",
              "          const docLinkHtml = 'Like what you see? Visit the ' +\n",
              "            '<a target=\"_blank\" href=https://colab.research.google.com/notebooks/data_table.ipynb>data table notebook</a>'\n",
              "            + ' to learn more about interactive tables.';\n",
              "          element.innerHTML = '';\n",
              "          dataTable['output_type'] = 'display_data';\n",
              "          await google.colab.output.renderOutput(dataTable, element);\n",
              "          const docLink = document.createElement('div');\n",
              "          docLink.innerHTML = docLinkHtml;\n",
              "          element.appendChild(docLink);\n",
              "        }\n",
              "      </script>\n",
              "    </div>\n",
              "  </div>\n",
              "  "
            ],
            "text/plain": [
              "       Gênero Estado_civil Atividade_no_site Pesquisou_eletronicos_12m  \\\n",
              "count     473          473               473                       473   \n",
              "unique      2            2                 3                         2   \n",
              "top         M            C        Esporádico                       Sim   \n",
              "freq      252          243               286                       451   \n",
              "\n",
              "       Comprou_eletronicos_12m Pesquisou_mídia_digital_18m  \\\n",
              "count                      473                         473   \n",
              "unique                       2                           2   \n",
              "top                        Não                         Sim   \n",
              "freq                       245                         378   \n",
              "\n",
              "       Comprou_mídia_digital_18m Forma_pagamento  \n",
              "count                        473             473  \n",
              "unique                         2               4  \n",
              "top                          Não         Website  \n",
              "freq                         271             193  "
            ]
          },
          "execution_count": 11,
          "metadata": {},
          "output_type": "execute_result"
        }
      ],
      "source": [
        "df_valid.select_dtypes(include='object').describe()"
      ]
    },
    {
      "cell_type": "markdown",
      "metadata": {
        "id": "PjKEBdGTynHd"
      },
      "source": [
        "# Transformação de dados"
      ]
    },
    {
      "cell_type": "markdown",
      "metadata": {
        "id": "1G0l6X1s970Q"
      },
      "source": [
        "### REMOÇÃO DE ATRIBUTOS IRRELEVANTES\n",
        "\n",
        "* ```ID_usuário``` é apenas uma chave primária para identificar um usuário e não é relevante para o problema.\n"
      ]
    },
    {
      "cell_type": "code",
      "execution_count": 12,
      "metadata": {
        "id": "0KheF1X787au"
      },
      "outputs": [],
      "source": [
        "del df_trein[\"ID_usuário\"]\n",
        "del df_valid[\"ID_usuário\"]\n"
      ]
    },
    {
      "cell_type": "code",
      "execution_count": 13,
      "metadata": {
        "colab": {
          "base_uri": "https://localhost:8080/"
        },
        "id": "T1KB9k1c9N1H",
        "outputId": "916669d5-37e8-469f-cc98-d6f507ea9b50"
      },
      "outputs": [
        {
          "data": {
            "text/plain": [
              "((661, 10), (473, 9))"
            ]
          },
          "execution_count": 13,
          "metadata": {},
          "output_type": "execute_result"
        }
      ],
      "source": [
        "df_trein.shape, df_valid.shape"
      ]
    },
    {
      "cell_type": "code",
      "execution_count": 14,
      "metadata": {
        "colab": {
          "base_uri": "https://localhost:8080/",
          "height": 206
        },
        "id": "5aveKI1981lR",
        "outputId": "72604c48-eca1-4e43-dd8b-56b00049388c"
      },
      "outputs": [
        {
          "data": {
            "text/html": [
              "\n",
              "  <div id=\"df-68c7c2fc-bd68-4ebf-80ed-6b8bcc215b24\">\n",
              "    <div class=\"colab-df-container\">\n",
              "      <div>\n",
              "<style scoped>\n",
              "    .dataframe tbody tr th:only-of-type {\n",
              "        vertical-align: middle;\n",
              "    }\n",
              "\n",
              "    .dataframe tbody tr th {\n",
              "        vertical-align: top;\n",
              "    }\n",
              "\n",
              "    .dataframe thead th {\n",
              "        text-align: right;\n",
              "    }\n",
              "</style>\n",
              "<table border=\"1\" class=\"dataframe\">\n",
              "  <thead>\n",
              "    <tr style=\"text-align: right;\">\n",
              "      <th></th>\n",
              "      <th>Gênero</th>\n",
              "      <th>Idade</th>\n",
              "      <th>Estado_civil</th>\n",
              "      <th>Atividade_no_site</th>\n",
              "      <th>Pesquisou_eletronicos_12m</th>\n",
              "      <th>Comprou_eletronicos_12m</th>\n",
              "      <th>Pesquisou_mídia_digital_18m</th>\n",
              "      <th>Comprou_mídia_digital_18m</th>\n",
              "      <th>Forma_pagamento</th>\n",
              "      <th>Adoção_eReader</th>\n",
              "    </tr>\n",
              "  </thead>\n",
              "  <tbody>\n",
              "    <tr>\n",
              "      <th>0</th>\n",
              "      <td>M</td>\n",
              "      <td>61</td>\n",
              "      <td>C</td>\n",
              "      <td>Esporádico</td>\n",
              "      <td>Sim</td>\n",
              "      <td>Sim</td>\n",
              "      <td>Sim</td>\n",
              "      <td>Não</td>\n",
              "      <td>Transferência</td>\n",
              "      <td>Late Majority</td>\n",
              "    </tr>\n",
              "    <tr>\n",
              "      <th>1</th>\n",
              "      <td>M</td>\n",
              "      <td>27</td>\n",
              "      <td>C</td>\n",
              "      <td>Intermitente</td>\n",
              "      <td>Sim</td>\n",
              "      <td>Não</td>\n",
              "      <td>Sim</td>\n",
              "      <td>Não</td>\n",
              "      <td>Transferência</td>\n",
              "      <td>Innovator</td>\n",
              "    </tr>\n",
              "    <tr>\n",
              "      <th>2</th>\n",
              "      <td>F</td>\n",
              "      <td>29</td>\n",
              "      <td>C</td>\n",
              "      <td>Esporádico</td>\n",
              "      <td>Sim</td>\n",
              "      <td>Sim</td>\n",
              "      <td>Sim</td>\n",
              "      <td>Sim</td>\n",
              "      <td>Transferência</td>\n",
              "      <td>Early Adopter</td>\n",
              "    </tr>\n",
              "    <tr>\n",
              "      <th>3</th>\n",
              "      <td>M</td>\n",
              "      <td>49</td>\n",
              "      <td>C</td>\n",
              "      <td>Esporádico</td>\n",
              "      <td>Sim</td>\n",
              "      <td>Sim</td>\n",
              "      <td>Sim</td>\n",
              "      <td>Sim</td>\n",
              "      <td>Website</td>\n",
              "      <td>Early Adopter</td>\n",
              "    </tr>\n",
              "    <tr>\n",
              "      <th>4</th>\n",
              "      <td>M</td>\n",
              "      <td>29</td>\n",
              "      <td>S</td>\n",
              "      <td>Esporádico</td>\n",
              "      <td>Sim</td>\n",
              "      <td>Sim</td>\n",
              "      <td>Sim</td>\n",
              "      <td>Não</td>\n",
              "      <td>Website</td>\n",
              "      <td>Late Majority</td>\n",
              "    </tr>\n",
              "  </tbody>\n",
              "</table>\n",
              "</div>\n",
              "      <button class=\"colab-df-convert\" onclick=\"convertToInteractive('df-68c7c2fc-bd68-4ebf-80ed-6b8bcc215b24')\"\n",
              "              title=\"Convert this dataframe to an interactive table.\"\n",
              "              style=\"display:none;\">\n",
              "        \n",
              "  <svg xmlns=\"http://www.w3.org/2000/svg\" height=\"24px\"viewBox=\"0 0 24 24\"\n",
              "       width=\"24px\">\n",
              "    <path d=\"M0 0h24v24H0V0z\" fill=\"none\"/>\n",
              "    <path d=\"M18.56 5.44l.94 2.06.94-2.06 2.06-.94-2.06-.94-.94-2.06-.94 2.06-2.06.94zm-11 1L8.5 8.5l.94-2.06 2.06-.94-2.06-.94L8.5 2.5l-.94 2.06-2.06.94zm10 10l.94 2.06.94-2.06 2.06-.94-2.06-.94-.94-2.06-.94 2.06-2.06.94z\"/><path d=\"M17.41 7.96l-1.37-1.37c-.4-.4-.92-.59-1.43-.59-.52 0-1.04.2-1.43.59L10.3 9.45l-7.72 7.72c-.78.78-.78 2.05 0 2.83L4 21.41c.39.39.9.59 1.41.59.51 0 1.02-.2 1.41-.59l7.78-7.78 2.81-2.81c.8-.78.8-2.07 0-2.86zM5.41 20L4 18.59l7.72-7.72 1.47 1.35L5.41 20z\"/>\n",
              "  </svg>\n",
              "      </button>\n",
              "      \n",
              "  <style>\n",
              "    .colab-df-container {\n",
              "      display:flex;\n",
              "      flex-wrap:wrap;\n",
              "      gap: 12px;\n",
              "    }\n",
              "\n",
              "    .colab-df-convert {\n",
              "      background-color: #E8F0FE;\n",
              "      border: none;\n",
              "      border-radius: 50%;\n",
              "      cursor: pointer;\n",
              "      display: none;\n",
              "      fill: #1967D2;\n",
              "      height: 32px;\n",
              "      padding: 0 0 0 0;\n",
              "      width: 32px;\n",
              "    }\n",
              "\n",
              "    .colab-df-convert:hover {\n",
              "      background-color: #E2EBFA;\n",
              "      box-shadow: 0px 1px 2px rgba(60, 64, 67, 0.3), 0px 1px 3px 1px rgba(60, 64, 67, 0.15);\n",
              "      fill: #174EA6;\n",
              "    }\n",
              "\n",
              "    [theme=dark] .colab-df-convert {\n",
              "      background-color: #3B4455;\n",
              "      fill: #D2E3FC;\n",
              "    }\n",
              "\n",
              "    [theme=dark] .colab-df-convert:hover {\n",
              "      background-color: #434B5C;\n",
              "      box-shadow: 0px 1px 3px 1px rgba(0, 0, 0, 0.15);\n",
              "      filter: drop-shadow(0px 1px 2px rgba(0, 0, 0, 0.3));\n",
              "      fill: #FFFFFF;\n",
              "    }\n",
              "  </style>\n",
              "\n",
              "      <script>\n",
              "        const buttonEl =\n",
              "          document.querySelector('#df-68c7c2fc-bd68-4ebf-80ed-6b8bcc215b24 button.colab-df-convert');\n",
              "        buttonEl.style.display =\n",
              "          google.colab.kernel.accessAllowed ? 'block' : 'none';\n",
              "\n",
              "        async function convertToInteractive(key) {\n",
              "          const element = document.querySelector('#df-68c7c2fc-bd68-4ebf-80ed-6b8bcc215b24');\n",
              "          const dataTable =\n",
              "            await google.colab.kernel.invokeFunction('convertToInteractive',\n",
              "                                                     [key], {});\n",
              "          if (!dataTable) return;\n",
              "\n",
              "          const docLinkHtml = 'Like what you see? Visit the ' +\n",
              "            '<a target=\"_blank\" href=https://colab.research.google.com/notebooks/data_table.ipynb>data table notebook</a>'\n",
              "            + ' to learn more about interactive tables.';\n",
              "          element.innerHTML = '';\n",
              "          dataTable['output_type'] = 'display_data';\n",
              "          await google.colab.output.renderOutput(dataTable, element);\n",
              "          const docLink = document.createElement('div');\n",
              "          docLink.innerHTML = docLinkHtml;\n",
              "          element.appendChild(docLink);\n",
              "        }\n",
              "      </script>\n",
              "    </div>\n",
              "  </div>\n",
              "  "
            ],
            "text/plain": [
              "  Gênero  Idade Estado_civil Atividade_no_site Pesquisou_eletronicos_12m  \\\n",
              "0      M     61            C        Esporádico                       Sim   \n",
              "1      M     27            C      Intermitente                       Sim   \n",
              "2      F     29            C        Esporádico                       Sim   \n",
              "3      M     49            C        Esporádico                       Sim   \n",
              "4      M     29            S        Esporádico                       Sim   \n",
              "\n",
              "  Comprou_eletronicos_12m Pesquisou_mídia_digital_18m  \\\n",
              "0                     Sim                         Sim   \n",
              "1                     Não                         Sim   \n",
              "2                     Sim                         Sim   \n",
              "3                     Sim                         Sim   \n",
              "4                     Sim                         Sim   \n",
              "\n",
              "  Comprou_mídia_digital_18m Forma_pagamento Adoção_eReader  \n",
              "0                       Não   Transferência  Late Majority  \n",
              "1                       Não   Transferência      Innovator  \n",
              "2                       Sim   Transferência  Early Adopter  \n",
              "3                       Sim         Website  Early Adopter  \n",
              "4                       Não         Website  Late Majority  "
            ]
          },
          "execution_count": 14,
          "metadata": {},
          "output_type": "execute_result"
        }
      ],
      "source": [
        "df_trein.head(5)"
      ]
    },
    {
      "cell_type": "markdown",
      "metadata": {
        "id": "EDYqKkY1_h3I"
      },
      "source": [
        "### TRANSFORMAÇÃO DE VARIÁVEIS\n",
        "#### Converter numérico em categórico.\n",
        "Não foi necessário converter a variável idade em categórico numérico. As demais foram convertidas de object para categorical."
      ]
    },
    {
      "cell_type": "code",
      "execution_count": 15,
      "metadata": {
        "colab": {
          "base_uri": "https://localhost:8080/"
        },
        "id": "85Mg36fa2T0j",
        "outputId": "54437980-aa85-4d89-98e2-9a97de385d20"
      },
      "outputs": [
        {
          "data": {
            "text/plain": [
              "(array(['Sim', 'Não'], dtype=object),\n",
              " array(['Sim', 'Não'], dtype=object),\n",
              " array(['Sim', 'Não'], dtype=object),\n",
              " array(['Sim', 'Não'], dtype=object),\n",
              " array(['M', 'F'], dtype=object),\n",
              " array(['S', 'C'], dtype=object),\n",
              " array(['Intermitente', 'Esporádico', 'Frequênte'], dtype=object),\n",
              " array(['Transferência', 'Website', 'Cartão de crédito', 'Boleto bancário'],\n",
              "       dtype=object))"
            ]
          },
          "execution_count": 15,
          "metadata": {},
          "output_type": "execute_result"
        }
      ],
      "source": [
        "df_valid[\"Pesquisou_eletronicos_12m\"].unique(), df_valid[\"Comprou_eletronicos_12m\"].unique(),  df_valid[\"Pesquisou_mídia_digital_18m\"].unique(),  df_valid[\"Comprou_mídia_digital_18m\"].unique(),  df_valid[\"Gênero\"].unique(),  df_valid[\"Estado_civil\"].unique(),  df_valid[\"Atividade_no_site\"].unique(),  df_valid[\"Forma_pagamento\"].unique()"
      ]
    },
    {
      "cell_type": "code",
      "execution_count": 16,
      "metadata": {
        "colab": {
          "base_uri": "https://localhost:8080/"
        },
        "id": "93BwzY_lABKV",
        "outputId": "a6c9eb19-e384-408d-8f63-44fb16036bb0"
      },
      "outputs": [
        {
          "name": "stdout",
          "output_type": "stream",
          "text": [
            "<class 'pandas.core.frame.DataFrame'>\n",
            "RangeIndex: 473 entries, 0 to 472\n",
            "Data columns (total 9 columns):\n",
            " #   Column                       Non-Null Count  Dtype   \n",
            "---  ------                       --------------  -----   \n",
            " 0   Gênero                       473 non-null    category\n",
            " 1   Idade                        473 non-null    int64   \n",
            " 2   Estado_civil                 473 non-null    category\n",
            " 3   Atividade_no_site            473 non-null    category\n",
            " 4   Pesquisou_eletronicos_12m    473 non-null    category\n",
            " 5   Comprou_eletronicos_12m      473 non-null    category\n",
            " 6   Pesquisou_mídia_digital_18m  473 non-null    category\n",
            " 7   Comprou_mídia_digital_18m    473 non-null    category\n",
            " 8   Forma_pagamento              473 non-null    category\n",
            "dtypes: category(8), int64(1)\n",
            "memory usage: 8.6 KB\n"
          ]
        }
      ],
      "source": [
        "\n",
        "df_valid[\"Pesquisou_eletronicos_12m\"] = df_valid[\"Pesquisou_eletronicos_12m\"].astype('category')\n",
        "df_valid[\"Comprou_eletronicos_12m\"] = df_valid[\"Comprou_eletronicos_12m\"].astype('category')\n",
        "df_valid[\"Pesquisou_mídia_digital_18m\"] = df_valid[\"Pesquisou_mídia_digital_18m\"].astype('category')\n",
        "df_valid[\"Comprou_mídia_digital_18m\"] = df_valid[\"Comprou_mídia_digital_18m\"].astype('category')\n",
        "df_valid[\"Gênero\"] = df_valid[\"Gênero\"].astype('category')\n",
        "df_valid[\"Estado_civil\"] = df_valid[\"Estado_civil\"].astype('category')\n",
        "df_valid[\"Atividade_no_site\"] = df_valid[\"Atividade_no_site\"].astype('category')\n",
        "df_valid[\"Forma_pagamento\"] = df_valid[\"Forma_pagamento\"].astype('category')\n",
        "\n",
        "df_valid.info()"
      ]
    },
    {
      "cell_type": "code",
      "execution_count": 17,
      "metadata": {
        "colab": {
          "base_uri": "https://localhost:8080/",
          "height": 175
        },
        "id": "N6OTPFJs3ZV5",
        "outputId": "efc930c4-dfed-40f2-c220-cdb5b146989b"
      },
      "outputs": [
        {
          "data": {
            "text/html": [
              "\n",
              "  <div id=\"df-08ed0381-9204-44b7-861f-a0515040bf0b\">\n",
              "    <div class=\"colab-df-container\">\n",
              "      <div>\n",
              "<style scoped>\n",
              "    .dataframe tbody tr th:only-of-type {\n",
              "        vertical-align: middle;\n",
              "    }\n",
              "\n",
              "    .dataframe tbody tr th {\n",
              "        vertical-align: top;\n",
              "    }\n",
              "\n",
              "    .dataframe thead th {\n",
              "        text-align: right;\n",
              "    }\n",
              "</style>\n",
              "<table border=\"1\" class=\"dataframe\">\n",
              "  <thead>\n",
              "    <tr style=\"text-align: right;\">\n",
              "      <th></th>\n",
              "      <th>Gênero</th>\n",
              "      <th>Estado_civil</th>\n",
              "      <th>Atividade_no_site</th>\n",
              "      <th>Pesquisou_eletronicos_12m</th>\n",
              "      <th>Comprou_eletronicos_12m</th>\n",
              "      <th>Pesquisou_mídia_digital_18m</th>\n",
              "      <th>Comprou_mídia_digital_18m</th>\n",
              "      <th>Forma_pagamento</th>\n",
              "    </tr>\n",
              "  </thead>\n",
              "  <tbody>\n",
              "    <tr>\n",
              "      <th>count</th>\n",
              "      <td>473</td>\n",
              "      <td>473</td>\n",
              "      <td>473</td>\n",
              "      <td>473</td>\n",
              "      <td>473</td>\n",
              "      <td>473</td>\n",
              "      <td>473</td>\n",
              "      <td>473</td>\n",
              "    </tr>\n",
              "    <tr>\n",
              "      <th>unique</th>\n",
              "      <td>2</td>\n",
              "      <td>2</td>\n",
              "      <td>3</td>\n",
              "      <td>2</td>\n",
              "      <td>2</td>\n",
              "      <td>2</td>\n",
              "      <td>2</td>\n",
              "      <td>4</td>\n",
              "    </tr>\n",
              "    <tr>\n",
              "      <th>top</th>\n",
              "      <td>M</td>\n",
              "      <td>C</td>\n",
              "      <td>Esporádico</td>\n",
              "      <td>Sim</td>\n",
              "      <td>Não</td>\n",
              "      <td>Sim</td>\n",
              "      <td>Não</td>\n",
              "      <td>Website</td>\n",
              "    </tr>\n",
              "    <tr>\n",
              "      <th>freq</th>\n",
              "      <td>252</td>\n",
              "      <td>243</td>\n",
              "      <td>286</td>\n",
              "      <td>451</td>\n",
              "      <td>245</td>\n",
              "      <td>378</td>\n",
              "      <td>271</td>\n",
              "      <td>193</td>\n",
              "    </tr>\n",
              "  </tbody>\n",
              "</table>\n",
              "</div>\n",
              "      <button class=\"colab-df-convert\" onclick=\"convertToInteractive('df-08ed0381-9204-44b7-861f-a0515040bf0b')\"\n",
              "              title=\"Convert this dataframe to an interactive table.\"\n",
              "              style=\"display:none;\">\n",
              "        \n",
              "  <svg xmlns=\"http://www.w3.org/2000/svg\" height=\"24px\"viewBox=\"0 0 24 24\"\n",
              "       width=\"24px\">\n",
              "    <path d=\"M0 0h24v24H0V0z\" fill=\"none\"/>\n",
              "    <path d=\"M18.56 5.44l.94 2.06.94-2.06 2.06-.94-2.06-.94-.94-2.06-.94 2.06-2.06.94zm-11 1L8.5 8.5l.94-2.06 2.06-.94-2.06-.94L8.5 2.5l-.94 2.06-2.06.94zm10 10l.94 2.06.94-2.06 2.06-.94-2.06-.94-.94-2.06-.94 2.06-2.06.94z\"/><path d=\"M17.41 7.96l-1.37-1.37c-.4-.4-.92-.59-1.43-.59-.52 0-1.04.2-1.43.59L10.3 9.45l-7.72 7.72c-.78.78-.78 2.05 0 2.83L4 21.41c.39.39.9.59 1.41.59.51 0 1.02-.2 1.41-.59l7.78-7.78 2.81-2.81c.8-.78.8-2.07 0-2.86zM5.41 20L4 18.59l7.72-7.72 1.47 1.35L5.41 20z\"/>\n",
              "  </svg>\n",
              "      </button>\n",
              "      \n",
              "  <style>\n",
              "    .colab-df-container {\n",
              "      display:flex;\n",
              "      flex-wrap:wrap;\n",
              "      gap: 12px;\n",
              "    }\n",
              "\n",
              "    .colab-df-convert {\n",
              "      background-color: #E8F0FE;\n",
              "      border: none;\n",
              "      border-radius: 50%;\n",
              "      cursor: pointer;\n",
              "      display: none;\n",
              "      fill: #1967D2;\n",
              "      height: 32px;\n",
              "      padding: 0 0 0 0;\n",
              "      width: 32px;\n",
              "    }\n",
              "\n",
              "    .colab-df-convert:hover {\n",
              "      background-color: #E2EBFA;\n",
              "      box-shadow: 0px 1px 2px rgba(60, 64, 67, 0.3), 0px 1px 3px 1px rgba(60, 64, 67, 0.15);\n",
              "      fill: #174EA6;\n",
              "    }\n",
              "\n",
              "    [theme=dark] .colab-df-convert {\n",
              "      background-color: #3B4455;\n",
              "      fill: #D2E3FC;\n",
              "    }\n",
              "\n",
              "    [theme=dark] .colab-df-convert:hover {\n",
              "      background-color: #434B5C;\n",
              "      box-shadow: 0px 1px 3px 1px rgba(0, 0, 0, 0.15);\n",
              "      filter: drop-shadow(0px 1px 2px rgba(0, 0, 0, 0.3));\n",
              "      fill: #FFFFFF;\n",
              "    }\n",
              "  </style>\n",
              "\n",
              "      <script>\n",
              "        const buttonEl =\n",
              "          document.querySelector('#df-08ed0381-9204-44b7-861f-a0515040bf0b button.colab-df-convert');\n",
              "        buttonEl.style.display =\n",
              "          google.colab.kernel.accessAllowed ? 'block' : 'none';\n",
              "\n",
              "        async function convertToInteractive(key) {\n",
              "          const element = document.querySelector('#df-08ed0381-9204-44b7-861f-a0515040bf0b');\n",
              "          const dataTable =\n",
              "            await google.colab.kernel.invokeFunction('convertToInteractive',\n",
              "                                                     [key], {});\n",
              "          if (!dataTable) return;\n",
              "\n",
              "          const docLinkHtml = 'Like what you see? Visit the ' +\n",
              "            '<a target=\"_blank\" href=https://colab.research.google.com/notebooks/data_table.ipynb>data table notebook</a>'\n",
              "            + ' to learn more about interactive tables.';\n",
              "          element.innerHTML = '';\n",
              "          dataTable['output_type'] = 'display_data';\n",
              "          await google.colab.output.renderOutput(dataTable, element);\n",
              "          const docLink = document.createElement('div');\n",
              "          docLink.innerHTML = docLinkHtml;\n",
              "          element.appendChild(docLink);\n",
              "        }\n",
              "      </script>\n",
              "    </div>\n",
              "  </div>\n",
              "  "
            ],
            "text/plain": [
              "       Gênero Estado_civil Atividade_no_site Pesquisou_eletronicos_12m  \\\n",
              "count     473          473               473                       473   \n",
              "unique      2            2                 3                         2   \n",
              "top         M            C        Esporádico                       Sim   \n",
              "freq      252          243               286                       451   \n",
              "\n",
              "       Comprou_eletronicos_12m Pesquisou_mídia_digital_18m  \\\n",
              "count                      473                         473   \n",
              "unique                       2                           2   \n",
              "top                        Não                         Sim   \n",
              "freq                       245                         378   \n",
              "\n",
              "       Comprou_mídia_digital_18m Forma_pagamento  \n",
              "count                        473             473  \n",
              "unique                         2               4  \n",
              "top                          Não         Website  \n",
              "freq                         271             193  "
            ]
          },
          "execution_count": 17,
          "metadata": {},
          "output_type": "execute_result"
        }
      ],
      "source": [
        "df_valid.select_dtypes(include='category').describe()"
      ]
    },
    {
      "cell_type": "code",
      "execution_count": 18,
      "metadata": {
        "colab": {
          "base_uri": "https://localhost:8080/",
          "height": 175
        },
        "id": "iI5xXIfMGwGx",
        "outputId": "b4766125-636f-433e-ac5b-b0004b21ebdc"
      },
      "outputs": [
        {
          "data": {
            "text/html": [
              "\n",
              "  <div id=\"df-80d34dc6-62cd-4c15-8b0f-a459f163f6ce\">\n",
              "    <div class=\"colab-df-container\">\n",
              "      <div>\n",
              "<style scoped>\n",
              "    .dataframe tbody tr th:only-of-type {\n",
              "        vertical-align: middle;\n",
              "    }\n",
              "\n",
              "    .dataframe tbody tr th {\n",
              "        vertical-align: top;\n",
              "    }\n",
              "\n",
              "    .dataframe thead th {\n",
              "        text-align: right;\n",
              "    }\n",
              "</style>\n",
              "<table border=\"1\" class=\"dataframe\">\n",
              "  <thead>\n",
              "    <tr style=\"text-align: right;\">\n",
              "      <th></th>\n",
              "      <th>Gênero</th>\n",
              "      <th>Idade</th>\n",
              "      <th>Estado_civil</th>\n",
              "      <th>Atividade_no_site</th>\n",
              "      <th>Pesquisou_eletronicos_12m</th>\n",
              "      <th>Comprou_eletronicos_12m</th>\n",
              "      <th>Pesquisou_mídia_digital_18m</th>\n",
              "      <th>Comprou_mídia_digital_18m</th>\n",
              "      <th>Forma_pagamento</th>\n",
              "    </tr>\n",
              "  </thead>\n",
              "  <tbody>\n",
              "    <tr>\n",
              "      <th>0</th>\n",
              "      <td>M</td>\n",
              "      <td>57</td>\n",
              "      <td>S</td>\n",
              "      <td>Intermitente</td>\n",
              "      <td>Sim</td>\n",
              "      <td>Sim</td>\n",
              "      <td>Sim</td>\n",
              "      <td>Sim</td>\n",
              "      <td>Transferência</td>\n",
              "    </tr>\n",
              "    <tr>\n",
              "      <th>1</th>\n",
              "      <td>F</td>\n",
              "      <td>51</td>\n",
              "      <td>C</td>\n",
              "      <td>Intermitente</td>\n",
              "      <td>Sim</td>\n",
              "      <td>Sim</td>\n",
              "      <td>Não</td>\n",
              "      <td>Não</td>\n",
              "      <td>Transferência</td>\n",
              "    </tr>\n",
              "    <tr>\n",
              "      <th>2</th>\n",
              "      <td>M</td>\n",
              "      <td>41</td>\n",
              "      <td>C</td>\n",
              "      <td>Esporádico</td>\n",
              "      <td>Sim</td>\n",
              "      <td>Sim</td>\n",
              "      <td>Sim</td>\n",
              "      <td>Não</td>\n",
              "      <td>Website</td>\n",
              "    </tr>\n",
              "    <tr>\n",
              "      <th>3</th>\n",
              "      <td>M</td>\n",
              "      <td>66</td>\n",
              "      <td>S</td>\n",
              "      <td>Intermitente</td>\n",
              "      <td>Sim</td>\n",
              "      <td>Sim</td>\n",
              "      <td>Sim</td>\n",
              "      <td>Sim</td>\n",
              "      <td>Cartão de crédito</td>\n",
              "    </tr>\n",
              "  </tbody>\n",
              "</table>\n",
              "</div>\n",
              "      <button class=\"colab-df-convert\" onclick=\"convertToInteractive('df-80d34dc6-62cd-4c15-8b0f-a459f163f6ce')\"\n",
              "              title=\"Convert this dataframe to an interactive table.\"\n",
              "              style=\"display:none;\">\n",
              "        \n",
              "  <svg xmlns=\"http://www.w3.org/2000/svg\" height=\"24px\"viewBox=\"0 0 24 24\"\n",
              "       width=\"24px\">\n",
              "    <path d=\"M0 0h24v24H0V0z\" fill=\"none\"/>\n",
              "    <path d=\"M18.56 5.44l.94 2.06.94-2.06 2.06-.94-2.06-.94-.94-2.06-.94 2.06-2.06.94zm-11 1L8.5 8.5l.94-2.06 2.06-.94-2.06-.94L8.5 2.5l-.94 2.06-2.06.94zm10 10l.94 2.06.94-2.06 2.06-.94-2.06-.94-.94-2.06-.94 2.06-2.06.94z\"/><path d=\"M17.41 7.96l-1.37-1.37c-.4-.4-.92-.59-1.43-.59-.52 0-1.04.2-1.43.59L10.3 9.45l-7.72 7.72c-.78.78-.78 2.05 0 2.83L4 21.41c.39.39.9.59 1.41.59.51 0 1.02-.2 1.41-.59l7.78-7.78 2.81-2.81c.8-.78.8-2.07 0-2.86zM5.41 20L4 18.59l7.72-7.72 1.47 1.35L5.41 20z\"/>\n",
              "  </svg>\n",
              "      </button>\n",
              "      \n",
              "  <style>\n",
              "    .colab-df-container {\n",
              "      display:flex;\n",
              "      flex-wrap:wrap;\n",
              "      gap: 12px;\n",
              "    }\n",
              "\n",
              "    .colab-df-convert {\n",
              "      background-color: #E8F0FE;\n",
              "      border: none;\n",
              "      border-radius: 50%;\n",
              "      cursor: pointer;\n",
              "      display: none;\n",
              "      fill: #1967D2;\n",
              "      height: 32px;\n",
              "      padding: 0 0 0 0;\n",
              "      width: 32px;\n",
              "    }\n",
              "\n",
              "    .colab-df-convert:hover {\n",
              "      background-color: #E2EBFA;\n",
              "      box-shadow: 0px 1px 2px rgba(60, 64, 67, 0.3), 0px 1px 3px 1px rgba(60, 64, 67, 0.15);\n",
              "      fill: #174EA6;\n",
              "    }\n",
              "\n",
              "    [theme=dark] .colab-df-convert {\n",
              "      background-color: #3B4455;\n",
              "      fill: #D2E3FC;\n",
              "    }\n",
              "\n",
              "    [theme=dark] .colab-df-convert:hover {\n",
              "      background-color: #434B5C;\n",
              "      box-shadow: 0px 1px 3px 1px rgba(0, 0, 0, 0.15);\n",
              "      filter: drop-shadow(0px 1px 2px rgba(0, 0, 0, 0.3));\n",
              "      fill: #FFFFFF;\n",
              "    }\n",
              "  </style>\n",
              "\n",
              "      <script>\n",
              "        const buttonEl =\n",
              "          document.querySelector('#df-80d34dc6-62cd-4c15-8b0f-a459f163f6ce button.colab-df-convert');\n",
              "        buttonEl.style.display =\n",
              "          google.colab.kernel.accessAllowed ? 'block' : 'none';\n",
              "\n",
              "        async function convertToInteractive(key) {\n",
              "          const element = document.querySelector('#df-80d34dc6-62cd-4c15-8b0f-a459f163f6ce');\n",
              "          const dataTable =\n",
              "            await google.colab.kernel.invokeFunction('convertToInteractive',\n",
              "                                                     [key], {});\n",
              "          if (!dataTable) return;\n",
              "\n",
              "          const docLinkHtml = 'Like what you see? Visit the ' +\n",
              "            '<a target=\"_blank\" href=https://colab.research.google.com/notebooks/data_table.ipynb>data table notebook</a>'\n",
              "            + ' to learn more about interactive tables.';\n",
              "          element.innerHTML = '';\n",
              "          dataTable['output_type'] = 'display_data';\n",
              "          await google.colab.output.renderOutput(dataTable, element);\n",
              "          const docLink = document.createElement('div');\n",
              "          docLink.innerHTML = docLinkHtml;\n",
              "          element.appendChild(docLink);\n",
              "        }\n",
              "      </script>\n",
              "    </div>\n",
              "  </div>\n",
              "  "
            ],
            "text/plain": [
              "  Gênero  Idade Estado_civil Atividade_no_site Pesquisou_eletronicos_12m  \\\n",
              "0      M     57            S      Intermitente                       Sim   \n",
              "1      F     51            C      Intermitente                       Sim   \n",
              "2      M     41            C        Esporádico                       Sim   \n",
              "3      M     66            S      Intermitente                       Sim   \n",
              "\n",
              "  Comprou_eletronicos_12m Pesquisou_mídia_digital_18m  \\\n",
              "0                     Sim                         Sim   \n",
              "1                     Sim                         Não   \n",
              "2                     Sim                         Sim   \n",
              "3                     Sim                         Sim   \n",
              "\n",
              "  Comprou_mídia_digital_18m    Forma_pagamento  \n",
              "0                       Sim      Transferência  \n",
              "1                       Não      Transferência  \n",
              "2                       Não            Website  \n",
              "3                       Sim  Cartão de crédito  "
            ]
          },
          "execution_count": 18,
          "metadata": {},
          "output_type": "execute_result"
        }
      ],
      "source": [
        "df_valid.head(4)"
      ]
    },
    {
      "cell_type": "markdown",
      "metadata": {
        "id": "MdMrKXkK9L_Z"
      },
      "source": [
        "#insight"
      ]
    },
    {
      "cell_type": "code",
      "execution_count": 19,
      "metadata": {
        "colab": {
          "base_uri": "https://localhost:8080/",
          "height": 175
        },
        "id": "tyHxMHoHSuv1",
        "outputId": "645fb5f5-212c-4a21-b639-6119ddc6cbc1"
      },
      "outputs": [
        {
          "data": {
            "text/html": [
              "\n",
              "  <div id=\"df-3fece850-1dae-4a97-9dd0-e8030becce23\">\n",
              "    <div class=\"colab-df-container\">\n",
              "      <div>\n",
              "<style scoped>\n",
              "    .dataframe tbody tr th:only-of-type {\n",
              "        vertical-align: middle;\n",
              "    }\n",
              "\n",
              "    .dataframe tbody tr th {\n",
              "        vertical-align: top;\n",
              "    }\n",
              "\n",
              "    .dataframe thead th {\n",
              "        text-align: right;\n",
              "    }\n",
              "</style>\n",
              "<table border=\"1\" class=\"dataframe\">\n",
              "  <thead>\n",
              "    <tr style=\"text-align: right;\">\n",
              "      <th></th>\n",
              "      <th>Gênero</th>\n",
              "      <th>Comprou_mídia_digital_18m</th>\n",
              "      <th>Adoção_eReader</th>\n",
              "    </tr>\n",
              "  </thead>\n",
              "  <tbody>\n",
              "    <tr>\n",
              "      <th>0</th>\n",
              "      <td>F</td>\n",
              "      <td>Não</td>\n",
              "      <td>137</td>\n",
              "    </tr>\n",
              "    <tr>\n",
              "      <th>1</th>\n",
              "      <td>F</td>\n",
              "      <td>Sim</td>\n",
              "      <td>84</td>\n",
              "    </tr>\n",
              "    <tr>\n",
              "      <th>2</th>\n",
              "      <td>M</td>\n",
              "      <td>Não</td>\n",
              "      <td>134</td>\n",
              "    </tr>\n",
              "    <tr>\n",
              "      <th>3</th>\n",
              "      <td>M</td>\n",
              "      <td>Sim</td>\n",
              "      <td>118</td>\n",
              "    </tr>\n",
              "  </tbody>\n",
              "</table>\n",
              "</div>\n",
              "      <button class=\"colab-df-convert\" onclick=\"convertToInteractive('df-3fece850-1dae-4a97-9dd0-e8030becce23')\"\n",
              "              title=\"Convert this dataframe to an interactive table.\"\n",
              "              style=\"display:none;\">\n",
              "        \n",
              "  <svg xmlns=\"http://www.w3.org/2000/svg\" height=\"24px\"viewBox=\"0 0 24 24\"\n",
              "       width=\"24px\">\n",
              "    <path d=\"M0 0h24v24H0V0z\" fill=\"none\"/>\n",
              "    <path d=\"M18.56 5.44l.94 2.06.94-2.06 2.06-.94-2.06-.94-.94-2.06-.94 2.06-2.06.94zm-11 1L8.5 8.5l.94-2.06 2.06-.94-2.06-.94L8.5 2.5l-.94 2.06-2.06.94zm10 10l.94 2.06.94-2.06 2.06-.94-2.06-.94-.94-2.06-.94 2.06-2.06.94z\"/><path d=\"M17.41 7.96l-1.37-1.37c-.4-.4-.92-.59-1.43-.59-.52 0-1.04.2-1.43.59L10.3 9.45l-7.72 7.72c-.78.78-.78 2.05 0 2.83L4 21.41c.39.39.9.59 1.41.59.51 0 1.02-.2 1.41-.59l7.78-7.78 2.81-2.81c.8-.78.8-2.07 0-2.86zM5.41 20L4 18.59l7.72-7.72 1.47 1.35L5.41 20z\"/>\n",
              "  </svg>\n",
              "      </button>\n",
              "      \n",
              "  <style>\n",
              "    .colab-df-container {\n",
              "      display:flex;\n",
              "      flex-wrap:wrap;\n",
              "      gap: 12px;\n",
              "    }\n",
              "\n",
              "    .colab-df-convert {\n",
              "      background-color: #E8F0FE;\n",
              "      border: none;\n",
              "      border-radius: 50%;\n",
              "      cursor: pointer;\n",
              "      display: none;\n",
              "      fill: #1967D2;\n",
              "      height: 32px;\n",
              "      padding: 0 0 0 0;\n",
              "      width: 32px;\n",
              "    }\n",
              "\n",
              "    .colab-df-convert:hover {\n",
              "      background-color: #E2EBFA;\n",
              "      box-shadow: 0px 1px 2px rgba(60, 64, 67, 0.3), 0px 1px 3px 1px rgba(60, 64, 67, 0.15);\n",
              "      fill: #174EA6;\n",
              "    }\n",
              "\n",
              "    [theme=dark] .colab-df-convert {\n",
              "      background-color: #3B4455;\n",
              "      fill: #D2E3FC;\n",
              "    }\n",
              "\n",
              "    [theme=dark] .colab-df-convert:hover {\n",
              "      background-color: #434B5C;\n",
              "      box-shadow: 0px 1px 3px 1px rgba(0, 0, 0, 0.15);\n",
              "      filter: drop-shadow(0px 1px 2px rgba(0, 0, 0, 0.3));\n",
              "      fill: #FFFFFF;\n",
              "    }\n",
              "  </style>\n",
              "\n",
              "      <script>\n",
              "        const buttonEl =\n",
              "          document.querySelector('#df-3fece850-1dae-4a97-9dd0-e8030becce23 button.colab-df-convert');\n",
              "        buttonEl.style.display =\n",
              "          google.colab.kernel.accessAllowed ? 'block' : 'none';\n",
              "\n",
              "        async function convertToInteractive(key) {\n",
              "          const element = document.querySelector('#df-3fece850-1dae-4a97-9dd0-e8030becce23');\n",
              "          const dataTable =\n",
              "            await google.colab.kernel.invokeFunction('convertToInteractive',\n",
              "                                                     [key], {});\n",
              "          if (!dataTable) return;\n",
              "\n",
              "          const docLinkHtml = 'Like what you see? Visit the ' +\n",
              "            '<a target=\"_blank\" href=https://colab.research.google.com/notebooks/data_table.ipynb>data table notebook</a>'\n",
              "            + ' to learn more about interactive tables.';\n",
              "          element.innerHTML = '';\n",
              "          dataTable['output_type'] = 'display_data';\n",
              "          await google.colab.output.renderOutput(dataTable, element);\n",
              "          const docLink = document.createElement('div');\n",
              "          docLink.innerHTML = docLinkHtml;\n",
              "          element.appendChild(docLink);\n",
              "        }\n",
              "      </script>\n",
              "    </div>\n",
              "  </div>\n",
              "  "
            ],
            "text/plain": [
              "  Gênero Comprou_mídia_digital_18m  Adoção_eReader\n",
              "0      F                       Não             137\n",
              "1      F                       Sim              84\n",
              "2      M                       Não             134\n",
              "3      M                       Sim             118"
            ]
          },
          "execution_count": 19,
          "metadata": {},
          "output_type": "execute_result"
        }
      ],
      "source": [
        "df_valid.groupby([\"Gênero\",\"Comprou_mídia_digital_18m\"]).size().reset_index(name=\"Adoção_eReader\")"
      ]
    },
    {
      "cell_type": "code",
      "execution_count": 20,
      "metadata": {
        "colab": {
          "base_uri": "https://localhost:8080/",
          "height": 175
        },
        "id": "KuuazbW7J07q",
        "outputId": "e742875e-806e-4924-de4b-b7e2a79f32e4"
      },
      "outputs": [
        {
          "data": {
            "text/html": [
              "\n",
              "  <div id=\"df-32780344-909f-4ffb-8dad-55a662da4bd5\">\n",
              "    <div class=\"colab-df-container\">\n",
              "      <div>\n",
              "<style scoped>\n",
              "    .dataframe tbody tr th:only-of-type {\n",
              "        vertical-align: middle;\n",
              "    }\n",
              "\n",
              "    .dataframe tbody tr th {\n",
              "        vertical-align: top;\n",
              "    }\n",
              "\n",
              "    .dataframe thead th {\n",
              "        text-align: right;\n",
              "    }\n",
              "</style>\n",
              "<table border=\"1\" class=\"dataframe\">\n",
              "  <thead>\n",
              "    <tr style=\"text-align: right;\">\n",
              "      <th></th>\n",
              "      <th>Pesquisou_mídia_digital_18m</th>\n",
              "      <th>Comprou_mídia_digital_18m</th>\n",
              "      <th>Adoção_eReader</th>\n",
              "    </tr>\n",
              "  </thead>\n",
              "  <tbody>\n",
              "    <tr>\n",
              "      <th>0</th>\n",
              "      <td>Não</td>\n",
              "      <td>Não</td>\n",
              "      <td>52</td>\n",
              "    </tr>\n",
              "    <tr>\n",
              "      <th>1</th>\n",
              "      <td>Não</td>\n",
              "      <td>Sim</td>\n",
              "      <td>43</td>\n",
              "    </tr>\n",
              "    <tr>\n",
              "      <th>2</th>\n",
              "      <td>Sim</td>\n",
              "      <td>Não</td>\n",
              "      <td>219</td>\n",
              "    </tr>\n",
              "    <tr>\n",
              "      <th>3</th>\n",
              "      <td>Sim</td>\n",
              "      <td>Sim</td>\n",
              "      <td>159</td>\n",
              "    </tr>\n",
              "  </tbody>\n",
              "</table>\n",
              "</div>\n",
              "      <button class=\"colab-df-convert\" onclick=\"convertToInteractive('df-32780344-909f-4ffb-8dad-55a662da4bd5')\"\n",
              "              title=\"Convert this dataframe to an interactive table.\"\n",
              "              style=\"display:none;\">\n",
              "        \n",
              "  <svg xmlns=\"http://www.w3.org/2000/svg\" height=\"24px\"viewBox=\"0 0 24 24\"\n",
              "       width=\"24px\">\n",
              "    <path d=\"M0 0h24v24H0V0z\" fill=\"none\"/>\n",
              "    <path d=\"M18.56 5.44l.94 2.06.94-2.06 2.06-.94-2.06-.94-.94-2.06-.94 2.06-2.06.94zm-11 1L8.5 8.5l.94-2.06 2.06-.94-2.06-.94L8.5 2.5l-.94 2.06-2.06.94zm10 10l.94 2.06.94-2.06 2.06-.94-2.06-.94-.94-2.06-.94 2.06-2.06.94z\"/><path d=\"M17.41 7.96l-1.37-1.37c-.4-.4-.92-.59-1.43-.59-.52 0-1.04.2-1.43.59L10.3 9.45l-7.72 7.72c-.78.78-.78 2.05 0 2.83L4 21.41c.39.39.9.59 1.41.59.51 0 1.02-.2 1.41-.59l7.78-7.78 2.81-2.81c.8-.78.8-2.07 0-2.86zM5.41 20L4 18.59l7.72-7.72 1.47 1.35L5.41 20z\"/>\n",
              "  </svg>\n",
              "      </button>\n",
              "      \n",
              "  <style>\n",
              "    .colab-df-container {\n",
              "      display:flex;\n",
              "      flex-wrap:wrap;\n",
              "      gap: 12px;\n",
              "    }\n",
              "\n",
              "    .colab-df-convert {\n",
              "      background-color: #E8F0FE;\n",
              "      border: none;\n",
              "      border-radius: 50%;\n",
              "      cursor: pointer;\n",
              "      display: none;\n",
              "      fill: #1967D2;\n",
              "      height: 32px;\n",
              "      padding: 0 0 0 0;\n",
              "      width: 32px;\n",
              "    }\n",
              "\n",
              "    .colab-df-convert:hover {\n",
              "      background-color: #E2EBFA;\n",
              "      box-shadow: 0px 1px 2px rgba(60, 64, 67, 0.3), 0px 1px 3px 1px rgba(60, 64, 67, 0.15);\n",
              "      fill: #174EA6;\n",
              "    }\n",
              "\n",
              "    [theme=dark] .colab-df-convert {\n",
              "      background-color: #3B4455;\n",
              "      fill: #D2E3FC;\n",
              "    }\n",
              "\n",
              "    [theme=dark] .colab-df-convert:hover {\n",
              "      background-color: #434B5C;\n",
              "      box-shadow: 0px 1px 3px 1px rgba(0, 0, 0, 0.15);\n",
              "      filter: drop-shadow(0px 1px 2px rgba(0, 0, 0, 0.3));\n",
              "      fill: #FFFFFF;\n",
              "    }\n",
              "  </style>\n",
              "\n",
              "      <script>\n",
              "        const buttonEl =\n",
              "          document.querySelector('#df-32780344-909f-4ffb-8dad-55a662da4bd5 button.colab-df-convert');\n",
              "        buttonEl.style.display =\n",
              "          google.colab.kernel.accessAllowed ? 'block' : 'none';\n",
              "\n",
              "        async function convertToInteractive(key) {\n",
              "          const element = document.querySelector('#df-32780344-909f-4ffb-8dad-55a662da4bd5');\n",
              "          const dataTable =\n",
              "            await google.colab.kernel.invokeFunction('convertToInteractive',\n",
              "                                                     [key], {});\n",
              "          if (!dataTable) return;\n",
              "\n",
              "          const docLinkHtml = 'Like what you see? Visit the ' +\n",
              "            '<a target=\"_blank\" href=https://colab.research.google.com/notebooks/data_table.ipynb>data table notebook</a>'\n",
              "            + ' to learn more about interactive tables.';\n",
              "          element.innerHTML = '';\n",
              "          dataTable['output_type'] = 'display_data';\n",
              "          await google.colab.output.renderOutput(dataTable, element);\n",
              "          const docLink = document.createElement('div');\n",
              "          docLink.innerHTML = docLinkHtml;\n",
              "          element.appendChild(docLink);\n",
              "        }\n",
              "      </script>\n",
              "    </div>\n",
              "  </div>\n",
              "  "
            ],
            "text/plain": [
              "  Pesquisou_mídia_digital_18m Comprou_mídia_digital_18m  Adoção_eReader\n",
              "0                         Não                       Não              52\n",
              "1                         Não                       Sim              43\n",
              "2                         Sim                       Não             219\n",
              "3                         Sim                       Sim             159"
            ]
          },
          "execution_count": 20,
          "metadata": {},
          "output_type": "execute_result"
        }
      ],
      "source": [
        "df_valid.groupby([\"Pesquisou_mídia_digital_18m\",\"Comprou_mídia_digital_18m\"]).size().reset_index(name=\"Adoção_eReader\")"
      ]
    },
    {
      "cell_type": "markdown",
      "metadata": {
        "id": "7npsJkQoDpZp"
      },
      "source": [
        "### VALORES OMISSOS OU INCONSISTENTES\n",
        "\n",
        "Vamos analisar o dataset para visualizar se temos algum valor omisso."
      ]
    },
    {
      "cell_type": "markdown",
      "metadata": {
        "id": "GFImrIUtVaGO"
      },
      "source": [
        "#### Detectando valores faltantes (na)"
      ]
    },
    {
      "cell_type": "code",
      "execution_count": 21,
      "metadata": {
        "colab": {
          "base_uri": "https://localhost:8080/"
        },
        "id": "3ovIUFNXVZvC",
        "outputId": "a30ef1a7-b14c-4f04-801c-e3e87e931fc2"
      },
      "outputs": [
        {
          "data": {
            "text/plain": [
              "Gênero                         0\n",
              "Idade                          0\n",
              "Estado_civil                   0\n",
              "Atividade_no_site              0\n",
              "Pesquisou_eletronicos_12m      0\n",
              "Comprou_eletronicos_12m        0\n",
              "Pesquisou_mídia_digital_18m    0\n",
              "Comprou_mídia_digital_18m      0\n",
              "Forma_pagamento                0\n",
              "Adoção_eReader                 0\n",
              "dtype: int64"
            ]
          },
          "execution_count": 21,
          "metadata": {},
          "output_type": "execute_result"
        }
      ],
      "source": [
        "df_trein.isna().sum()"
      ]
    },
    {
      "cell_type": "code",
      "execution_count": 22,
      "metadata": {
        "colab": {
          "base_uri": "https://localhost:8080/"
        },
        "id": "9J_-7YK-WEM-",
        "outputId": "5ded425e-9d51-4b4f-c9f8-61613a4f2271"
      },
      "outputs": [
        {
          "data": {
            "text/plain": [
              "Gênero                         0\n",
              "Idade                          0\n",
              "Estado_civil                   0\n",
              "Atividade_no_site              0\n",
              "Pesquisou_eletronicos_12m      0\n",
              "Comprou_eletronicos_12m        0\n",
              "Pesquisou_mídia_digital_18m    0\n",
              "Comprou_mídia_digital_18m      0\n",
              "Forma_pagamento                0\n",
              "dtype: int64"
            ]
          },
          "execution_count": 22,
          "metadata": {},
          "output_type": "execute_result"
        }
      ],
      "source": [
        "df_valid.isna().sum()"
      ]
    },
    {
      "cell_type": "markdown",
      "metadata": {
        "id": "GYMpunhYWmuL"
      },
      "source": [
        "### Distribuição do atributo ```Idade```"
      ]
    },
    {
      "cell_type": "code",
      "execution_count": 23,
      "metadata": {
        "colab": {
          "base_uri": "https://localhost:8080/",
          "height": 390
        },
        "id": "1pvbAVQYEXPX",
        "outputId": "81e61cd9-f0da-4887-9f2c-e89cdb5dba11"
      },
      "outputs": [
        {
          "data": {
            "image/png": "[encoded data removed]",
            "text/plain": [
              "<Figure size 648x432 with 1 Axes>"
            ]
          },
          "metadata": {
            "needs_background": "light"
          },
          "output_type": "display_data"
        }
      ],
      "source": [
        "df_valid.hist(column='Idade',    # Coluna a ser plotada\n",
        "                   figsize=(9,6),   # Tamanho do gráfico\n",
        "                   bins=20);        # Numero de colunas/bins do histograma"
      ]
    },
    {
      "cell_type": "markdown",
      "metadata": {
        "id": "t5z8F12WEe-R"
      },
      "source": [
        "O dado possui uma distribuição próxima da distribuição Normal. Se houvessem dados faltantes, poderíamos usar a mediana para preencher-los conforme os códigos abaixo."
      ]
    },
    {
      "cell_type": "code",
      "execution_count": 24,
      "metadata": {
        "id": "aXq1n5cbwvLa"
      },
      "outputs": [],
      "source": [
        "# TODO ler sobre boostrap"
      ]
    },
    {
      "cell_type": "code",
      "execution_count": 25,
      "metadata": {
        "colab": {
          "base_uri": "https://localhost:8080/"
        },
        "id": "WEaoQDhRKudB",
        "outputId": "d5ca8ef2-922b-4200-e567-a42dacda3668"
      },
      "outputs": [
        {
          "data": {
            "text/plain": [
              "[57, 51, 41, 66, 31, 68, 51, 36, 29, 61]"
            ]
          },
          "execution_count": 25,
          "metadata": {},
          "output_type": "execute_result"
        }
      ],
      "source": [
        "[idd for idd in df_valid[\"Idade\"]][:10]"
      ]
    },
    {
      "cell_type": "code",
      "execution_count": 26,
      "metadata": {
        "colab": {
          "base_uri": "https://localhost:8080/"
        },
        "id": "nn0YGDA0K4k5",
        "outputId": "fbed19bd-ff86-4c0a-bd50-4adb20cb9ef4"
      },
      "outputs": [
        {
          "data": {
            "text/plain": [
              "[57, 51, 41, 66, 31, 68, 51, 36, 29, 61]"
            ]
          },
          "execution_count": 26,
          "metadata": {},
          "output_type": "execute_result"
        }
      ],
      "source": [
        "[idd for idd in df_valid[\"Idade\"] if (np.isnan(idd) == False)][:10]"
      ]
    },
    {
      "cell_type": "code",
      "execution_count": 27,
      "metadata": {
        "colab": {
          "base_uri": "https://localhost:8080/"
        },
        "id": "IBl4oW4SKf3R",
        "outputId": "f827ab17-bf55-47b8-c6d1-762dd87cfc32"
      },
      "outputs": [
        {
          "data": {
            "text/plain": [
              "47.0"
            ]
          },
          "execution_count": 27,
          "metadata": {},
          "output_type": "execute_result"
        }
      ],
      "source": [
        "mediana = np.median([idd for idd in df_valid[\"Idade\"] if (np.isnan(idd) == False)])\n",
        "mediana"
      ]
    },
    {
      "cell_type": "code",
      "execution_count": 28,
      "metadata": {
        "id": "T6jgzUiNEp6O"
      },
      "outputs": [],
      "source": [
        "new_age = np.where(df_valid[\"Idade\"].isnull(), # condição\n",
        "                   mediana,                       # valor se verdadeiro\n",
        "                   df_valid[\"Idade\"])          # valor se falso\n",
        "                   \n",
        "df_valid[\"Idade\"] = new_age"
      ]
    },
    {
      "cell_type": "code",
      "execution_count": 29,
      "metadata": {
        "colab": {
          "base_uri": "https://localhost:8080/",
          "height": 616
        },
        "id": "Ju-1DytKL4gG",
        "outputId": "be5bfe1b-939b-4180-e8e6-caac2c2a052e"
      },
      "outputs": [
        {
          "name": "stdout",
          "output_type": "stream",
          "text": [
            "\n",
            "Análise do novo atributo Idade:\n",
            "count    473.000000\n",
            "mean      45.972516\n",
            "std       13.385313\n",
            "min       17.000000\n",
            "25%       35.000000\n",
            "50%       47.000000\n",
            "75%       56.000000\n",
            "max       70.000000\n",
            "Name: Idade, dtype: float64\n"
          ]
        },
        {
          "data": {
            "text/plain": [
              "array([[<matplotlib.axes._subplots.AxesSubplot object at 0x7f87beb02190>]],\n",
              "      dtype=object)"
            ]
          },
          "execution_count": 29,
          "metadata": {},
          "output_type": "execute_result"
        },
        {
          "data": {
            "image/png": "[encoded data removed]",
            "text/plain": [
              "<Figure size 648x432 with 1 Axes>"
            ]
          },
          "metadata": {
            "needs_background": "light"
          },
          "output_type": "display_data"
        }
      ],
      "source": [
        "print(\"\\nAnálise do novo atributo Idade:\")\n",
        "print(df_valid[\"Idade\"].describe())\n",
        "\n",
        "df_valid.hist(column='Idade',    # Coluna a ser plotada\n",
        "                   figsize=(9,6),   # Tamanho do gráfico\n",
        "                   bins=20)         # Numero de colunas do histogram"
      ]
    },
    {
      "cell_type": "code",
      "execution_count": 30,
      "metadata": {
        "colab": {
          "base_uri": "https://localhost:8080/"
        },
        "id": "4UumW4Ngyb3j",
        "outputId": "38040431-b787-44d6-a785-6676da8a5beb"
      },
      "outputs": [
        {
          "name": "stdout",
          "output_type": "stream",
          "text": [
            "<class 'pandas.core.frame.DataFrame'>\n",
            "RangeIndex: 473 entries, 0 to 472\n",
            "Data columns (total 9 columns):\n",
            " #   Column                       Non-Null Count  Dtype   \n",
            "---  ------                       --------------  -----   \n",
            " 0   Gênero                       473 non-null    category\n",
            " 1   Idade                        473 non-null    float64 \n",
            " 2   Estado_civil                 473 non-null    category\n",
            " 3   Atividade_no_site            473 non-null    category\n",
            " 4   Pesquisou_eletronicos_12m    473 non-null    category\n",
            " 5   Comprou_eletronicos_12m      473 non-null    category\n",
            " 6   Pesquisou_mídia_digital_18m  473 non-null    category\n",
            " 7   Comprou_mídia_digital_18m    473 non-null    category\n",
            " 8   Forma_pagamento              473 non-null    category\n",
            "dtypes: category(8), float64(1)\n",
            "memory usage: 8.6 KB\n"
          ]
        }
      ],
      "source": [
        "df_valid.info()"
      ]
    },
    {
      "cell_type": "markdown",
      "metadata": {
        "id": "LDZV3WXrFBNM"
      },
      "source": [
        "### DETECTANDO OUTLIERS\n",
        "\n",
        "Outliers são valores extremos. A estatística descritiva, em geral, provê um bom indicativo da presença de outliers, com valores máximos e mínimo muito distantes; o valor da média muito próximo de um máximo ou mínimo, mostrando problema de distribuição dos dados."
      ]
    },
    {
      "cell_type": "code",
      "execution_count": 31,
      "metadata": {
        "colab": {
          "base_uri": "https://localhost:8080/",
          "height": 537
        },
        "id": "YV71iH7jFKVu",
        "outputId": "1d3f9114-e7ff-4d67-dedd-018924804543"
      },
      "outputs": [
        {
          "data": {
            "image/png": "[encoded data removed]",
            "text/plain": [
              "<Figure size 648x648 with 1 Axes>"
            ]
          },
          "metadata": {
            "needs_background": "light"
          },
          "output_type": "display_data"
        }
      ],
      "source": [
        "df_valid[\"Idade\"].plot(kind=\"box\", figsize=(9,9));"
      ]
    },
    {
      "cell_type": "code",
      "execution_count": 32,
      "metadata": {
        "colab": {
          "base_uri": "https://localhost:8080/",
          "height": 98
        },
        "id": "q5T02wNvzTiS",
        "outputId": "4d54f200-4415-4211-9e1a-8ec4b9fd8992"
      },
      "outputs": [
        {
          "name": "stdout",
          "output_type": "stream",
          "text": [
            "Registros com valores extremos:\n"
          ]
        },
        {
          "data": {
            "text/html": [
              "\n",
              "  <div id=\"df-124c62ff-0aaa-4f46-bfad-98f0c1a2be68\">\n",
              "    <div class=\"colab-df-container\">\n",
              "      <div>\n",
              "<style scoped>\n",
              "    .dataframe tbody tr th:only-of-type {\n",
              "        vertical-align: middle;\n",
              "    }\n",
              "\n",
              "    .dataframe tbody tr th {\n",
              "        vertical-align: top;\n",
              "    }\n",
              "\n",
              "    .dataframe thead th {\n",
              "        text-align: right;\n",
              "    }\n",
              "</style>\n",
              "<table border=\"1\" class=\"dataframe\">\n",
              "  <thead>\n",
              "    <tr style=\"text-align: right;\">\n",
              "      <th></th>\n",
              "      <th>Gênero</th>\n",
              "      <th>Idade</th>\n",
              "      <th>Estado_civil</th>\n",
              "      <th>Atividade_no_site</th>\n",
              "      <th>Pesquisou_eletronicos_12m</th>\n",
              "      <th>Comprou_eletronicos_12m</th>\n",
              "      <th>Pesquisou_mídia_digital_18m</th>\n",
              "      <th>Comprou_mídia_digital_18m</th>\n",
              "      <th>Forma_pagamento</th>\n",
              "    </tr>\n",
              "  </thead>\n",
              "  <tbody>\n",
              "    <tr>\n",
              "      <th>347</th>\n",
              "      <td>M</td>\n",
              "      <td>70.0</td>\n",
              "      <td>C</td>\n",
              "      <td>Intermitente</td>\n",
              "      <td>Sim</td>\n",
              "      <td>Sim</td>\n",
              "      <td>Sim</td>\n",
              "      <td>Não</td>\n",
              "      <td>Transferência</td>\n",
              "    </tr>\n",
              "  </tbody>\n",
              "</table>\n",
              "</div>\n",
              "      <button class=\"colab-df-convert\" onclick=\"convertToInteractive('df-124c62ff-0aaa-4f46-bfad-98f0c1a2be68')\"\n",
              "              title=\"Convert this dataframe to an interactive table.\"\n",
              "              style=\"display:none;\">\n",
              "        \n",
              "  <svg xmlns=\"http://www.w3.org/2000/svg\" height=\"24px\"viewBox=\"0 0 24 24\"\n",
              "       width=\"24px\">\n",
              "    <path d=\"M0 0h24v24H0V0z\" fill=\"none\"/>\n",
              "    <path d=\"M18.56 5.44l.94 2.06.94-2.06 2.06-.94-2.06-.94-.94-2.06-.94 2.06-2.06.94zm-11 1L8.5 8.5l.94-2.06 2.06-.94-2.06-.94L8.5 2.5l-.94 2.06-2.06.94zm10 10l.94 2.06.94-2.06 2.06-.94-2.06-.94-.94-2.06-.94 2.06-2.06.94z\"/><path d=\"M17.41 7.96l-1.37-1.37c-.4-.4-.92-.59-1.43-.59-.52 0-1.04.2-1.43.59L10.3 9.45l-7.72 7.72c-.78.78-.78 2.05 0 2.83L4 21.41c.39.39.9.59 1.41.59.51 0 1.02-.2 1.41-.59l7.78-7.78 2.81-2.81c.8-.78.8-2.07 0-2.86zM5.41 20L4 18.59l7.72-7.72 1.47 1.35L5.41 20z\"/>\n",
              "  </svg>\n",
              "      </button>\n",
              "      \n",
              "  <style>\n",
              "    .colab-df-container {\n",
              "      display:flex;\n",
              "      flex-wrap:wrap;\n",
              "      gap: 12px;\n",
              "    }\n",
              "\n",
              "    .colab-df-convert {\n",
              "      background-color: #E8F0FE;\n",
              "      border: none;\n",
              "      border-radius: 50%;\n",
              "      cursor: pointer;\n",
              "      display: none;\n",
              "      fill: #1967D2;\n",
              "      height: 32px;\n",
              "      padding: 0 0 0 0;\n",
              "      width: 32px;\n",
              "    }\n",
              "\n",
              "    .colab-df-convert:hover {\n",
              "      background-color: #E2EBFA;\n",
              "      box-shadow: 0px 1px 2px rgba(60, 64, 67, 0.3), 0px 1px 3px 1px rgba(60, 64, 67, 0.15);\n",
              "      fill: #174EA6;\n",
              "    }\n",
              "\n",
              "    [theme=dark] .colab-df-convert {\n",
              "      background-color: #3B4455;\n",
              "      fill: #D2E3FC;\n",
              "    }\n",
              "\n",
              "    [theme=dark] .colab-df-convert:hover {\n",
              "      background-color: #434B5C;\n",
              "      box-shadow: 0px 1px 3px 1px rgba(0, 0, 0, 0.15);\n",
              "      filter: drop-shadow(0px 1px 2px rgba(0, 0, 0, 0.3));\n",
              "      fill: #FFFFFF;\n",
              "    }\n",
              "  </style>\n",
              "\n",
              "      <script>\n",
              "        const buttonEl =\n",
              "          document.querySelector('#df-124c62ff-0aaa-4f46-bfad-98f0c1a2be68 button.colab-df-convert');\n",
              "        buttonEl.style.display =\n",
              "          google.colab.kernel.accessAllowed ? 'block' : 'none';\n",
              "\n",
              "        async function convertToInteractive(key) {\n",
              "          const element = document.querySelector('#df-124c62ff-0aaa-4f46-bfad-98f0c1a2be68');\n",
              "          const dataTable =\n",
              "            await google.colab.kernel.invokeFunction('convertToInteractive',\n",
              "                                                     [key], {});\n",
              "          if (!dataTable) return;\n",
              "\n",
              "          const docLinkHtml = 'Like what you see? Visit the ' +\n",
              "            '<a target=\"_blank\" href=https://colab.research.google.com/notebooks/data_table.ipynb>data table notebook</a>'\n",
              "            + ' to learn more about interactive tables.';\n",
              "          element.innerHTML = '';\n",
              "          dataTable['output_type'] = 'display_data';\n",
              "          await google.colab.output.renderOutput(dataTable, element);\n",
              "          const docLink = document.createElement('div');\n",
              "          docLink.innerHTML = docLinkHtml;\n",
              "          element.appendChild(docLink);\n",
              "        }\n",
              "      </script>\n",
              "    </div>\n",
              "  </div>\n",
              "  "
            ],
            "text/plain": [
              "    Gênero  Idade Estado_civil Atividade_no_site Pesquisou_eletronicos_12m  \\\n",
              "347      M   70.0            C      Intermitente                       Sim   \n",
              "\n",
              "    Comprou_eletronicos_12m Pesquisou_mídia_digital_18m  \\\n",
              "347                     Sim                         Sim   \n",
              "\n",
              "    Comprou_mídia_digital_18m Forma_pagamento  \n",
              "347                       Não   Transferência  "
            ]
          },
          "execution_count": 32,
          "metadata": {},
          "output_type": "execute_result"
        }
      ],
      "source": [
        "print(\"Registros com valores extremos:\")\n",
        "df_valid[df_valid[\"Idade\"] == max(df_valid[\"Idade\"])]"
      ]
    },
    {
      "cell_type": "code",
      "execution_count": 33,
      "metadata": {
        "colab": {
          "base_uri": "https://localhost:8080/"
        },
        "id": "KphTI9G6-48Z",
        "outputId": "9fbfd305-06cc-4a1e-f168-69d6c7a1124c"
      },
      "outputs": [
        {
          "data": {
            "text/plain": [
              "69.0"
            ]
          },
          "execution_count": 33,
          "metadata": {},
          "output_type": "execute_result"
        }
      ],
      "source": [
        "df_valid[df_valid[\"Idade\"] < max(df_valid[\"Idade\"])].Idade.max()"
      ]
    },
    {
      "cell_type": "code",
      "execution_count": 34,
      "metadata": {
        "colab": {
          "base_uri": "https://localhost:8080/",
          "height": 206
        },
        "id": "_ath3fqdOLTI",
        "outputId": "c980d10e-acf1-4115-f295-d4e0bb84abd3"
      },
      "outputs": [
        {
          "data": {
            "text/html": [
              "\n",
              "  <div id=\"df-c73acbba-87db-4a1a-bf04-b35a98d5f751\">\n",
              "    <div class=\"colab-df-container\">\n",
              "      <div>\n",
              "<style scoped>\n",
              "    .dataframe tbody tr th:only-of-type {\n",
              "        vertical-align: middle;\n",
              "    }\n",
              "\n",
              "    .dataframe tbody tr th {\n",
              "        vertical-align: top;\n",
              "    }\n",
              "\n",
              "    .dataframe thead th {\n",
              "        text-align: right;\n",
              "    }\n",
              "</style>\n",
              "<table border=\"1\" class=\"dataframe\">\n",
              "  <thead>\n",
              "    <tr style=\"text-align: right;\">\n",
              "      <th></th>\n",
              "      <th>Gênero</th>\n",
              "      <th>Idade</th>\n",
              "      <th>Estado_civil</th>\n",
              "      <th>Atividade_no_site</th>\n",
              "      <th>Pesquisou_eletronicos_12m</th>\n",
              "      <th>Comprou_eletronicos_12m</th>\n",
              "      <th>Pesquisou_mídia_digital_18m</th>\n",
              "      <th>Comprou_mídia_digital_18m</th>\n",
              "      <th>Forma_pagamento</th>\n",
              "    </tr>\n",
              "  </thead>\n",
              "  <tbody>\n",
              "    <tr>\n",
              "      <th>0</th>\n",
              "      <td>M</td>\n",
              "      <td>57.0</td>\n",
              "      <td>S</td>\n",
              "      <td>Intermitente</td>\n",
              "      <td>Sim</td>\n",
              "      <td>Sim</td>\n",
              "      <td>Sim</td>\n",
              "      <td>Sim</td>\n",
              "      <td>Transferência</td>\n",
              "    </tr>\n",
              "    <tr>\n",
              "      <th>1</th>\n",
              "      <td>F</td>\n",
              "      <td>51.0</td>\n",
              "      <td>C</td>\n",
              "      <td>Intermitente</td>\n",
              "      <td>Sim</td>\n",
              "      <td>Sim</td>\n",
              "      <td>Não</td>\n",
              "      <td>Não</td>\n",
              "      <td>Transferência</td>\n",
              "    </tr>\n",
              "    <tr>\n",
              "      <th>2</th>\n",
              "      <td>M</td>\n",
              "      <td>41.0</td>\n",
              "      <td>C</td>\n",
              "      <td>Esporádico</td>\n",
              "      <td>Sim</td>\n",
              "      <td>Sim</td>\n",
              "      <td>Sim</td>\n",
              "      <td>Não</td>\n",
              "      <td>Website</td>\n",
              "    </tr>\n",
              "    <tr>\n",
              "      <th>3</th>\n",
              "      <td>M</td>\n",
              "      <td>66.0</td>\n",
              "      <td>S</td>\n",
              "      <td>Intermitente</td>\n",
              "      <td>Sim</td>\n",
              "      <td>Sim</td>\n",
              "      <td>Sim</td>\n",
              "      <td>Sim</td>\n",
              "      <td>Cartão de crédito</td>\n",
              "    </tr>\n",
              "    <tr>\n",
              "      <th>4</th>\n",
              "      <td>F</td>\n",
              "      <td>31.0</td>\n",
              "      <td>S</td>\n",
              "      <td>Esporádico</td>\n",
              "      <td>Sim</td>\n",
              "      <td>Não</td>\n",
              "      <td>Sim</td>\n",
              "      <td>Não</td>\n",
              "      <td>Website</td>\n",
              "    </tr>\n",
              "  </tbody>\n",
              "</table>\n",
              "</div>\n",
              "      <button class=\"colab-df-convert\" onclick=\"convertToInteractive('df-c73acbba-87db-4a1a-bf04-b35a98d5f751')\"\n",
              "              title=\"Convert this dataframe to an interactive table.\"\n",
              "              style=\"display:none;\">\n",
              "        \n",
              "  <svg xmlns=\"http://www.w3.org/2000/svg\" height=\"24px\"viewBox=\"0 0 24 24\"\n",
              "       width=\"24px\">\n",
              "    <path d=\"M0 0h24v24H0V0z\" fill=\"none\"/>\n",
              "    <path d=\"M18.56 5.44l.94 2.06.94-2.06 2.06-.94-2.06-.94-.94-2.06-.94 2.06-2.06.94zm-11 1L8.5 8.5l.94-2.06 2.06-.94-2.06-.94L8.5 2.5l-.94 2.06-2.06.94zm10 10l.94 2.06.94-2.06 2.06-.94-2.06-.94-.94-2.06-.94 2.06-2.06.94z\"/><path d=\"M17.41 7.96l-1.37-1.37c-.4-.4-.92-.59-1.43-.59-.52 0-1.04.2-1.43.59L10.3 9.45l-7.72 7.72c-.78.78-.78 2.05 0 2.83L4 21.41c.39.39.9.59 1.41.59.51 0 1.02-.2 1.41-.59l7.78-7.78 2.81-2.81c.8-.78.8-2.07 0-2.86zM5.41 20L4 18.59l7.72-7.72 1.47 1.35L5.41 20z\"/>\n",
              "  </svg>\n",
              "      </button>\n",
              "      \n",
              "  <style>\n",
              "    .colab-df-container {\n",
              "      display:flex;\n",
              "      flex-wrap:wrap;\n",
              "      gap: 12px;\n",
              "    }\n",
              "\n",
              "    .colab-df-convert {\n",
              "      background-color: #E8F0FE;\n",
              "      border: none;\n",
              "      border-radius: 50%;\n",
              "      cursor: pointer;\n",
              "      display: none;\n",
              "      fill: #1967D2;\n",
              "      height: 32px;\n",
              "      padding: 0 0 0 0;\n",
              "      width: 32px;\n",
              "    }\n",
              "\n",
              "    .colab-df-convert:hover {\n",
              "      background-color: #E2EBFA;\n",
              "      box-shadow: 0px 1px 2px rgba(60, 64, 67, 0.3), 0px 1px 3px 1px rgba(60, 64, 67, 0.15);\n",
              "      fill: #174EA6;\n",
              "    }\n",
              "\n",
              "    [theme=dark] .colab-df-convert {\n",
              "      background-color: #3B4455;\n",
              "      fill: #D2E3FC;\n",
              "    }\n",
              "\n",
              "    [theme=dark] .colab-df-convert:hover {\n",
              "      background-color: #434B5C;\n",
              "      box-shadow: 0px 1px 3px 1px rgba(0, 0, 0, 0.15);\n",
              "      filter: drop-shadow(0px 1px 2px rgba(0, 0, 0, 0.3));\n",
              "      fill: #FFFFFF;\n",
              "    }\n",
              "  </style>\n",
              "\n",
              "      <script>\n",
              "        const buttonEl =\n",
              "          document.querySelector('#df-c73acbba-87db-4a1a-bf04-b35a98d5f751 button.colab-df-convert');\n",
              "        buttonEl.style.display =\n",
              "          google.colab.kernel.accessAllowed ? 'block' : 'none';\n",
              "\n",
              "        async function convertToInteractive(key) {\n",
              "          const element = document.querySelector('#df-c73acbba-87db-4a1a-bf04-b35a98d5f751');\n",
              "          const dataTable =\n",
              "            await google.colab.kernel.invokeFunction('convertToInteractive',\n",
              "                                                     [key], {});\n",
              "          if (!dataTable) return;\n",
              "\n",
              "          const docLinkHtml = 'Like what you see? Visit the ' +\n",
              "            '<a target=\"_blank\" href=https://colab.research.google.com/notebooks/data_table.ipynb>data table notebook</a>'\n",
              "            + ' to learn more about interactive tables.';\n",
              "          element.innerHTML = '';\n",
              "          dataTable['output_type'] = 'display_data';\n",
              "          await google.colab.output.renderOutput(dataTable, element);\n",
              "          const docLink = document.createElement('div');\n",
              "          docLink.innerHTML = docLinkHtml;\n",
              "          element.appendChild(docLink);\n",
              "        }\n",
              "      </script>\n",
              "    </div>\n",
              "  </div>\n",
              "  "
            ],
            "text/plain": [
              "  Gênero  Idade Estado_civil Atividade_no_site Pesquisou_eletronicos_12m  \\\n",
              "0      M   57.0            S      Intermitente                       Sim   \n",
              "1      F   51.0            C      Intermitente                       Sim   \n",
              "2      M   41.0            C        Esporádico                       Sim   \n",
              "3      M   66.0            S      Intermitente                       Sim   \n",
              "4      F   31.0            S        Esporádico                       Sim   \n",
              "\n",
              "  Comprou_eletronicos_12m Pesquisou_mídia_digital_18m  \\\n",
              "0                     Sim                         Sim   \n",
              "1                     Sim                         Não   \n",
              "2                     Sim                         Sim   \n",
              "3                     Sim                         Sim   \n",
              "4                     Não                         Sim   \n",
              "\n",
              "  Comprou_mídia_digital_18m    Forma_pagamento  \n",
              "0                       Sim      Transferência  \n",
              "1                       Não      Transferência  \n",
              "2                       Não            Website  \n",
              "3                       Sim  Cartão de crédito  \n",
              "4                       Não            Website  "
            ]
          },
          "execution_count": 34,
          "metadata": {},
          "output_type": "execute_result"
        }
      ],
      "source": [
        "df_idade = df_valid[df_valid[\"Idade\"] < max(df_valid[\"Idade\"])]\n",
        "\n",
        "df_idade.head()"
      ]
    },
    {
      "cell_type": "code",
      "execution_count": 35,
      "metadata": {
        "colab": {
          "base_uri": "https://localhost:8080/",
          "height": 112
        },
        "id": "YGabeLqrSUft",
        "outputId": "892988a8-fcf9-48ca-9a37-6148def411fd"
      },
      "outputs": [
        {
          "data": {
            "text/html": [
              "\n",
              "  <div id=\"df-34ff8155-abd0-400a-b987-3fd917069e3c\">\n",
              "    <div class=\"colab-df-container\">\n",
              "      <div>\n",
              "<style scoped>\n",
              "    .dataframe tbody tr th:only-of-type {\n",
              "        vertical-align: middle;\n",
              "    }\n",
              "\n",
              "    .dataframe tbody tr th {\n",
              "        vertical-align: top;\n",
              "    }\n",
              "\n",
              "    .dataframe thead th {\n",
              "        text-align: right;\n",
              "    }\n",
              "</style>\n",
              "<table border=\"1\" class=\"dataframe\">\n",
              "  <thead>\n",
              "    <tr style=\"text-align: right;\">\n",
              "      <th></th>\n",
              "      <th>Gênero</th>\n",
              "      <th>Idade</th>\n",
              "      <th>Estado_civil</th>\n",
              "      <th>Atividade_no_site</th>\n",
              "      <th>Pesquisou_eletronicos_12m</th>\n",
              "      <th>Comprou_eletronicos_12m</th>\n",
              "      <th>Pesquisou_mídia_digital_18m</th>\n",
              "      <th>Comprou_mídia_digital_18m</th>\n",
              "      <th>Forma_pagamento</th>\n",
              "    </tr>\n",
              "  </thead>\n",
              "  <tbody>\n",
              "    <tr>\n",
              "      <th>0</th>\n",
              "      <td>M</td>\n",
              "      <td>57.0</td>\n",
              "      <td>S</td>\n",
              "      <td>Intermitente</td>\n",
              "      <td>Sim</td>\n",
              "      <td>Sim</td>\n",
              "      <td>Sim</td>\n",
              "      <td>Sim</td>\n",
              "      <td>Transferência</td>\n",
              "    </tr>\n",
              "    <tr>\n",
              "      <th>1</th>\n",
              "      <td>F</td>\n",
              "      <td>51.0</td>\n",
              "      <td>C</td>\n",
              "      <td>Intermitente</td>\n",
              "      <td>Sim</td>\n",
              "      <td>Sim</td>\n",
              "      <td>Não</td>\n",
              "      <td>Não</td>\n",
              "      <td>Transferência</td>\n",
              "    </tr>\n",
              "  </tbody>\n",
              "</table>\n",
              "</div>\n",
              "      <button class=\"colab-df-convert\" onclick=\"convertToInteractive('df-34ff8155-abd0-400a-b987-3fd917069e3c')\"\n",
              "              title=\"Convert this dataframe to an interactive table.\"\n",
              "              style=\"display:none;\">\n",
              "        \n",
              "  <svg xmlns=\"http://www.w3.org/2000/svg\" height=\"24px\"viewBox=\"0 0 24 24\"\n",
              "       width=\"24px\">\n",
              "    <path d=\"M0 0h24v24H0V0z\" fill=\"none\"/>\n",
              "    <path d=\"M18.56 5.44l.94 2.06.94-2.06 2.06-.94-2.06-.94-.94-2.06-.94 2.06-2.06.94zm-11 1L8.5 8.5l.94-2.06 2.06-.94-2.06-.94L8.5 2.5l-.94 2.06-2.06.94zm10 10l.94 2.06.94-2.06 2.06-.94-2.06-.94-.94-2.06-.94 2.06-2.06.94z\"/><path d=\"M17.41 7.96l-1.37-1.37c-.4-.4-.92-.59-1.43-.59-.52 0-1.04.2-1.43.59L10.3 9.45l-7.72 7.72c-.78.78-.78 2.05 0 2.83L4 21.41c.39.39.9.59 1.41.59.51 0 1.02-.2 1.41-.59l7.78-7.78 2.81-2.81c.8-.78.8-2.07 0-2.86zM5.41 20L4 18.59l7.72-7.72 1.47 1.35L5.41 20z\"/>\n",
              "  </svg>\n",
              "      </button>\n",
              "      \n",
              "  <style>\n",
              "    .colab-df-container {\n",
              "      display:flex;\n",
              "      flex-wrap:wrap;\n",
              "      gap: 12px;\n",
              "    }\n",
              "\n",
              "    .colab-df-convert {\n",
              "      background-color: #E8F0FE;\n",
              "      border: none;\n",
              "      border-radius: 50%;\n",
              "      cursor: pointer;\n",
              "      display: none;\n",
              "      fill: #1967D2;\n",
              "      height: 32px;\n",
              "      padding: 0 0 0 0;\n",
              "      width: 32px;\n",
              "    }\n",
              "\n",
              "    .colab-df-convert:hover {\n",
              "      background-color: #E2EBFA;\n",
              "      box-shadow: 0px 1px 2px rgba(60, 64, 67, 0.3), 0px 1px 3px 1px rgba(60, 64, 67, 0.15);\n",
              "      fill: #174EA6;\n",
              "    }\n",
              "\n",
              "    [theme=dark] .colab-df-convert {\n",
              "      background-color: #3B4455;\n",
              "      fill: #D2E3FC;\n",
              "    }\n",
              "\n",
              "    [theme=dark] .colab-df-convert:hover {\n",
              "      background-color: #434B5C;\n",
              "      box-shadow: 0px 1px 3px 1px rgba(0, 0, 0, 0.15);\n",
              "      filter: drop-shadow(0px 1px 2px rgba(0, 0, 0, 0.3));\n",
              "      fill: #FFFFFF;\n",
              "    }\n",
              "  </style>\n",
              "\n",
              "      <script>\n",
              "        const buttonEl =\n",
              "          document.querySelector('#df-34ff8155-abd0-400a-b987-3fd917069e3c button.colab-df-convert');\n",
              "        buttonEl.style.display =\n",
              "          google.colab.kernel.accessAllowed ? 'block' : 'none';\n",
              "\n",
              "        async function convertToInteractive(key) {\n",
              "          const element = document.querySelector('#df-34ff8155-abd0-400a-b987-3fd917069e3c');\n",
              "          const dataTable =\n",
              "            await google.colab.kernel.invokeFunction('convertToInteractive',\n",
              "                                                     [key], {});\n",
              "          if (!dataTable) return;\n",
              "\n",
              "          const docLinkHtml = 'Like what you see? Visit the ' +\n",
              "            '<a target=\"_blank\" href=https://colab.research.google.com/notebooks/data_table.ipynb>data table notebook</a>'\n",
              "            + ' to learn more about interactive tables.';\n",
              "          element.innerHTML = '';\n",
              "          dataTable['output_type'] = 'display_data';\n",
              "          await google.colab.output.renderOutput(dataTable, element);\n",
              "          const docLink = document.createElement('div');\n",
              "          docLink.innerHTML = docLinkHtml;\n",
              "          element.appendChild(docLink);\n",
              "        }\n",
              "      </script>\n",
              "    </div>\n",
              "  </div>\n",
              "  "
            ],
            "text/plain": [
              "  Gênero  Idade Estado_civil Atividade_no_site Pesquisou_eletronicos_12m  \\\n",
              "0      M   57.0            S      Intermitente                       Sim   \n",
              "1      F   51.0            C      Intermitente                       Sim   \n",
              "\n",
              "  Comprou_eletronicos_12m Pesquisou_mídia_digital_18m  \\\n",
              "0                     Sim                         Sim   \n",
              "1                     Sim                         Não   \n",
              "\n",
              "  Comprou_mídia_digital_18m Forma_pagamento  \n",
              "0                       Sim   Transferência  \n",
              "1                       Não   Transferência  "
            ]
          },
          "execution_count": 35,
          "metadata": {},
          "output_type": "execute_result"
        }
      ],
      "source": [
        "df_valid.head(2)"
      ]
    },
    {
      "cell_type": "code",
      "execution_count": 36,
      "metadata": {
        "colab": {
          "base_uri": "https://localhost:8080/",
          "height": 175
        },
        "id": "-7CaFhvXgo2P",
        "outputId": "419710b2-f865-4c1c-ee7a-1ed5dddb90e8"
      },
      "outputs": [
        {
          "data": {
            "text/html": [
              "\n",
              "  <div id=\"df-c00eb5a7-9cd6-4085-882d-063398ac3d85\">\n",
              "    <div class=\"colab-df-container\">\n",
              "      <div>\n",
              "<style scoped>\n",
              "    .dataframe tbody tr th:only-of-type {\n",
              "        vertical-align: middle;\n",
              "    }\n",
              "\n",
              "    .dataframe tbody tr th {\n",
              "        vertical-align: top;\n",
              "    }\n",
              "\n",
              "    .dataframe thead th {\n",
              "        text-align: right;\n",
              "    }\n",
              "</style>\n",
              "<table border=\"1\" class=\"dataframe\">\n",
              "  <thead>\n",
              "    <tr style=\"text-align: right;\">\n",
              "      <th></th>\n",
              "      <th>Gênero</th>\n",
              "      <th>Idade</th>\n",
              "      <th>Estado_civil</th>\n",
              "      <th>Atividade_no_site</th>\n",
              "      <th>Pesquisou_eletronicos_12m</th>\n",
              "      <th>Comprou_eletronicos_12m</th>\n",
              "      <th>Pesquisou_mídia_digital_18m</th>\n",
              "      <th>Comprou_mídia_digital_18m</th>\n",
              "      <th>Forma_pagamento</th>\n",
              "      <th>Adoção_eReader</th>\n",
              "    </tr>\n",
              "  </thead>\n",
              "  <tbody>\n",
              "    <tr>\n",
              "      <th>0</th>\n",
              "      <td>M</td>\n",
              "      <td>61</td>\n",
              "      <td>C</td>\n",
              "      <td>Esporádico</td>\n",
              "      <td>Sim</td>\n",
              "      <td>Sim</td>\n",
              "      <td>Sim</td>\n",
              "      <td>Não</td>\n",
              "      <td>Transferência</td>\n",
              "      <td>Late Majority</td>\n",
              "    </tr>\n",
              "    <tr>\n",
              "      <th>1</th>\n",
              "      <td>M</td>\n",
              "      <td>27</td>\n",
              "      <td>C</td>\n",
              "      <td>Intermitente</td>\n",
              "      <td>Sim</td>\n",
              "      <td>Não</td>\n",
              "      <td>Sim</td>\n",
              "      <td>Não</td>\n",
              "      <td>Transferência</td>\n",
              "      <td>Innovator</td>\n",
              "    </tr>\n",
              "    <tr>\n",
              "      <th>2</th>\n",
              "      <td>F</td>\n",
              "      <td>29</td>\n",
              "      <td>C</td>\n",
              "      <td>Esporádico</td>\n",
              "      <td>Sim</td>\n",
              "      <td>Sim</td>\n",
              "      <td>Sim</td>\n",
              "      <td>Sim</td>\n",
              "      <td>Transferência</td>\n",
              "      <td>Early Adopter</td>\n",
              "    </tr>\n",
              "    <tr>\n",
              "      <th>3</th>\n",
              "      <td>M</td>\n",
              "      <td>49</td>\n",
              "      <td>C</td>\n",
              "      <td>Esporádico</td>\n",
              "      <td>Sim</td>\n",
              "      <td>Sim</td>\n",
              "      <td>Sim</td>\n",
              "      <td>Sim</td>\n",
              "      <td>Website</td>\n",
              "      <td>Early Adopter</td>\n",
              "    </tr>\n",
              "  </tbody>\n",
              "</table>\n",
              "</div>\n",
              "      <button class=\"colab-df-convert\" onclick=\"convertToInteractive('df-c00eb5a7-9cd6-4085-882d-063398ac3d85')\"\n",
              "              title=\"Convert this dataframe to an interactive table.\"\n",
              "              style=\"display:none;\">\n",
              "        \n",
              "  <svg xmlns=\"http://www.w3.org/2000/svg\" height=\"24px\"viewBox=\"0 0 24 24\"\n",
              "       width=\"24px\">\n",
              "    <path d=\"M0 0h24v24H0V0z\" fill=\"none\"/>\n",
              "    <path d=\"M18.56 5.44l.94 2.06.94-2.06 2.06-.94-2.06-.94-.94-2.06-.94 2.06-2.06.94zm-11 1L8.5 8.5l.94-2.06 2.06-.94-2.06-.94L8.5 2.5l-.94 2.06-2.06.94zm10 10l.94 2.06.94-2.06 2.06-.94-2.06-.94-.94-2.06-.94 2.06-2.06.94z\"/><path d=\"M17.41 7.96l-1.37-1.37c-.4-.4-.92-.59-1.43-.59-.52 0-1.04.2-1.43.59L10.3 9.45l-7.72 7.72c-.78.78-.78 2.05 0 2.83L4 21.41c.39.39.9.59 1.41.59.51 0 1.02-.2 1.41-.59l7.78-7.78 2.81-2.81c.8-.78.8-2.07 0-2.86zM5.41 20L4 18.59l7.72-7.72 1.47 1.35L5.41 20z\"/>\n",
              "  </svg>\n",
              "      </button>\n",
              "      \n",
              "  <style>\n",
              "    .colab-df-container {\n",
              "      display:flex;\n",
              "      flex-wrap:wrap;\n",
              "      gap: 12px;\n",
              "    }\n",
              "\n",
              "    .colab-df-convert {\n",
              "      background-color: #E8F0FE;\n",
              "      border: none;\n",
              "      border-radius: 50%;\n",
              "      cursor: pointer;\n",
              "      display: none;\n",
              "      fill: #1967D2;\n",
              "      height: 32px;\n",
              "      padding: 0 0 0 0;\n",
              "      width: 32px;\n",
              "    }\n",
              "\n",
              "    .colab-df-convert:hover {\n",
              "      background-color: #E2EBFA;\n",
              "      box-shadow: 0px 1px 2px rgba(60, 64, 67, 0.3), 0px 1px 3px 1px rgba(60, 64, 67, 0.15);\n",
              "      fill: #174EA6;\n",
              "    }\n",
              "\n",
              "    [theme=dark] .colab-df-convert {\n",
              "      background-color: #3B4455;\n",
              "      fill: #D2E3FC;\n",
              "    }\n",
              "\n",
              "    [theme=dark] .colab-df-convert:hover {\n",
              "      background-color: #434B5C;\n",
              "      box-shadow: 0px 1px 3px 1px rgba(0, 0, 0, 0.15);\n",
              "      filter: drop-shadow(0px 1px 2px rgba(0, 0, 0, 0.3));\n",
              "      fill: #FFFFFF;\n",
              "    }\n",
              "  </style>\n",
              "\n",
              "      <script>\n",
              "        const buttonEl =\n",
              "          document.querySelector('#df-c00eb5a7-9cd6-4085-882d-063398ac3d85 button.colab-df-convert');\n",
              "        buttonEl.style.display =\n",
              "          google.colab.kernel.accessAllowed ? 'block' : 'none';\n",
              "\n",
              "        async function convertToInteractive(key) {\n",
              "          const element = document.querySelector('#df-c00eb5a7-9cd6-4085-882d-063398ac3d85');\n",
              "          const dataTable =\n",
              "            await google.colab.kernel.invokeFunction('convertToInteractive',\n",
              "                                                     [key], {});\n",
              "          if (!dataTable) return;\n",
              "\n",
              "          const docLinkHtml = 'Like what you see? Visit the ' +\n",
              "            '<a target=\"_blank\" href=https://colab.research.google.com/notebooks/data_table.ipynb>data table notebook</a>'\n",
              "            + ' to learn more about interactive tables.';\n",
              "          element.innerHTML = '';\n",
              "          dataTable['output_type'] = 'display_data';\n",
              "          await google.colab.output.renderOutput(dataTable, element);\n",
              "          const docLink = document.createElement('div');\n",
              "          docLink.innerHTML = docLinkHtml;\n",
              "          element.appendChild(docLink);\n",
              "        }\n",
              "      </script>\n",
              "    </div>\n",
              "  </div>\n",
              "  "
            ],
            "text/plain": [
              "  Gênero  Idade Estado_civil Atividade_no_site Pesquisou_eletronicos_12m  \\\n",
              "0      M     61            C        Esporádico                       Sim   \n",
              "1      M     27            C      Intermitente                       Sim   \n",
              "2      F     29            C        Esporádico                       Sim   \n",
              "3      M     49            C        Esporádico                       Sim   \n",
              "\n",
              "  Comprou_eletronicos_12m Pesquisou_mídia_digital_18m  \\\n",
              "0                     Sim                         Sim   \n",
              "1                     Não                         Sim   \n",
              "2                     Sim                         Sim   \n",
              "3                     Sim                         Sim   \n",
              "\n",
              "  Comprou_mídia_digital_18m Forma_pagamento Adoção_eReader  \n",
              "0                       Não   Transferência  Late Majority  \n",
              "1                       Não   Transferência      Innovator  \n",
              "2                       Sim   Transferência  Early Adopter  \n",
              "3                       Sim         Website  Early Adopter  "
            ]
          },
          "execution_count": 36,
          "metadata": {},
          "output_type": "execute_result"
        }
      ],
      "source": [
        "df_trein.head(4)"
      ]
    },
    {
      "cell_type": "code",
      "execution_count": 37,
      "metadata": {
        "colab": {
          "base_uri": "https://localhost:8080/",
          "height": 175
        },
        "id": "uSU-qFfagt2f",
        "outputId": "b4d337ad-0e28-457b-ee68-819a1bc83741"
      },
      "outputs": [
        {
          "data": {
            "text/html": [
              "\n",
              "  <div id=\"df-667c8746-b0a8-4736-9c34-67ff40090c96\">\n",
              "    <div class=\"colab-df-container\">\n",
              "      <div>\n",
              "<style scoped>\n",
              "    .dataframe tbody tr th:only-of-type {\n",
              "        vertical-align: middle;\n",
              "    }\n",
              "\n",
              "    .dataframe tbody tr th {\n",
              "        vertical-align: top;\n",
              "    }\n",
              "\n",
              "    .dataframe thead th {\n",
              "        text-align: right;\n",
              "    }\n",
              "</style>\n",
              "<table border=\"1\" class=\"dataframe\">\n",
              "  <thead>\n",
              "    <tr style=\"text-align: right;\">\n",
              "      <th></th>\n",
              "      <th>Gênero</th>\n",
              "      <th>Idade</th>\n",
              "      <th>Estado_civil</th>\n",
              "      <th>Atividade_no_site</th>\n",
              "      <th>Pesquisou_eletronicos_12m</th>\n",
              "      <th>Comprou_eletronicos_12m</th>\n",
              "      <th>Pesquisou_mídia_digital_18m</th>\n",
              "      <th>Comprou_mídia_digital_18m</th>\n",
              "      <th>Forma_pagamento</th>\n",
              "    </tr>\n",
              "  </thead>\n",
              "  <tbody>\n",
              "    <tr>\n",
              "      <th>0</th>\n",
              "      <td>M</td>\n",
              "      <td>57.0</td>\n",
              "      <td>S</td>\n",
              "      <td>Intermitente</td>\n",
              "      <td>Sim</td>\n",
              "      <td>Sim</td>\n",
              "      <td>Sim</td>\n",
              "      <td>Sim</td>\n",
              "      <td>Transferência</td>\n",
              "    </tr>\n",
              "    <tr>\n",
              "      <th>1</th>\n",
              "      <td>F</td>\n",
              "      <td>51.0</td>\n",
              "      <td>C</td>\n",
              "      <td>Intermitente</td>\n",
              "      <td>Sim</td>\n",
              "      <td>Sim</td>\n",
              "      <td>Não</td>\n",
              "      <td>Não</td>\n",
              "      <td>Transferência</td>\n",
              "    </tr>\n",
              "    <tr>\n",
              "      <th>2</th>\n",
              "      <td>M</td>\n",
              "      <td>41.0</td>\n",
              "      <td>C</td>\n",
              "      <td>Esporádico</td>\n",
              "      <td>Sim</td>\n",
              "      <td>Sim</td>\n",
              "      <td>Sim</td>\n",
              "      <td>Não</td>\n",
              "      <td>Website</td>\n",
              "    </tr>\n",
              "    <tr>\n",
              "      <th>3</th>\n",
              "      <td>M</td>\n",
              "      <td>66.0</td>\n",
              "      <td>S</td>\n",
              "      <td>Intermitente</td>\n",
              "      <td>Sim</td>\n",
              "      <td>Sim</td>\n",
              "      <td>Sim</td>\n",
              "      <td>Sim</td>\n",
              "      <td>Cartão de crédito</td>\n",
              "    </tr>\n",
              "  </tbody>\n",
              "</table>\n",
              "</div>\n",
              "      <button class=\"colab-df-convert\" onclick=\"convertToInteractive('df-667c8746-b0a8-4736-9c34-67ff40090c96')\"\n",
              "              title=\"Convert this dataframe to an interactive table.\"\n",
              "              style=\"display:none;\">\n",
              "        \n",
              "  <svg xmlns=\"http://www.w3.org/2000/svg\" height=\"24px\"viewBox=\"0 0 24 24\"\n",
              "       width=\"24px\">\n",
              "    <path d=\"M0 0h24v24H0V0z\" fill=\"none\"/>\n",
              "    <path d=\"M18.56 5.44l.94 2.06.94-2.06 2.06-.94-2.06-.94-.94-2.06-.94 2.06-2.06.94zm-11 1L8.5 8.5l.94-2.06 2.06-.94-2.06-.94L8.5 2.5l-.94 2.06-2.06.94zm10 10l.94 2.06.94-2.06 2.06-.94-2.06-.94-.94-2.06-.94 2.06-2.06.94z\"/><path d=\"M17.41 7.96l-1.37-1.37c-.4-.4-.92-.59-1.43-.59-.52 0-1.04.2-1.43.59L10.3 9.45l-7.72 7.72c-.78.78-.78 2.05 0 2.83L4 21.41c.39.39.9.59 1.41.59.51 0 1.02-.2 1.41-.59l7.78-7.78 2.81-2.81c.8-.78.8-2.07 0-2.86zM5.41 20L4 18.59l7.72-7.72 1.47 1.35L5.41 20z\"/>\n",
              "  </svg>\n",
              "      </button>\n",
              "      \n",
              "  <style>\n",
              "    .colab-df-container {\n",
              "      display:flex;\n",
              "      flex-wrap:wrap;\n",
              "      gap: 12px;\n",
              "    }\n",
              "\n",
              "    .colab-df-convert {\n",
              "      background-color: #E8F0FE;\n",
              "      border: none;\n",
              "      border-radius: 50%;\n",
              "      cursor: pointer;\n",
              "      display: none;\n",
              "      fill: #1967D2;\n",
              "      height: 32px;\n",
              "      padding: 0 0 0 0;\n",
              "      width: 32px;\n",
              "    }\n",
              "\n",
              "    .colab-df-convert:hover {\n",
              "      background-color: #E2EBFA;\n",
              "      box-shadow: 0px 1px 2px rgba(60, 64, 67, 0.3), 0px 1px 3px 1px rgba(60, 64, 67, 0.15);\n",
              "      fill: #174EA6;\n",
              "    }\n",
              "\n",
              "    [theme=dark] .colab-df-convert {\n",
              "      background-color: #3B4455;\n",
              "      fill: #D2E3FC;\n",
              "    }\n",
              "\n",
              "    [theme=dark] .colab-df-convert:hover {\n",
              "      background-color: #434B5C;\n",
              "      box-shadow: 0px 1px 3px 1px rgba(0, 0, 0, 0.15);\n",
              "      filter: drop-shadow(0px 1px 2px rgba(0, 0, 0, 0.3));\n",
              "      fill: #FFFFFF;\n",
              "    }\n",
              "  </style>\n",
              "\n",
              "      <script>\n",
              "        const buttonEl =\n",
              "          document.querySelector('#df-667c8746-b0a8-4736-9c34-67ff40090c96 button.colab-df-convert');\n",
              "        buttonEl.style.display =\n",
              "          google.colab.kernel.accessAllowed ? 'block' : 'none';\n",
              "\n",
              "        async function convertToInteractive(key) {\n",
              "          const element = document.querySelector('#df-667c8746-b0a8-4736-9c34-67ff40090c96');\n",
              "          const dataTable =\n",
              "            await google.colab.kernel.invokeFunction('convertToInteractive',\n",
              "                                                     [key], {});\n",
              "          if (!dataTable) return;\n",
              "\n",
              "          const docLinkHtml = 'Like what you see? Visit the ' +\n",
              "            '<a target=\"_blank\" href=https://colab.research.google.com/notebooks/data_table.ipynb>data table notebook</a>'\n",
              "            + ' to learn more about interactive tables.';\n",
              "          element.innerHTML = '';\n",
              "          dataTable['output_type'] = 'display_data';\n",
              "          await google.colab.output.renderOutput(dataTable, element);\n",
              "          const docLink = document.createElement('div');\n",
              "          docLink.innerHTML = docLinkHtml;\n",
              "          element.appendChild(docLink);\n",
              "        }\n",
              "      </script>\n",
              "    </div>\n",
              "  </div>\n",
              "  "
            ],
            "text/plain": [
              "  Gênero  Idade Estado_civil Atividade_no_site Pesquisou_eletronicos_12m  \\\n",
              "0      M   57.0            S      Intermitente                       Sim   \n",
              "1      F   51.0            C      Intermitente                       Sim   \n",
              "2      M   41.0            C        Esporádico                       Sim   \n",
              "3      M   66.0            S      Intermitente                       Sim   \n",
              "\n",
              "  Comprou_eletronicos_12m Pesquisou_mídia_digital_18m  \\\n",
              "0                     Sim                         Sim   \n",
              "1                     Sim                         Não   \n",
              "2                     Sim                         Sim   \n",
              "3                     Sim                         Sim   \n",
              "\n",
              "  Comprou_mídia_digital_18m    Forma_pagamento  \n",
              "0                       Sim      Transferência  \n",
              "1                       Não      Transferência  \n",
              "2                       Não            Website  \n",
              "3                       Sim  Cartão de crédito  "
            ]
          },
          "execution_count": 37,
          "metadata": {},
          "output_type": "execute_result"
        }
      ],
      "source": [
        "df_valid.head(4)"
      ]
    },
    {
      "cell_type": "markdown",
      "metadata": {
        "id": "Dtnik6iforMT"
      },
      "source": [
        "# TESTE dataset: VALIDAÇÃO"
      ]
    },
    {
      "cell_type": "code",
      "execution_count": 38,
      "metadata": {
        "id": "iXmvyy2votKj"
      },
      "outputs": [],
      "source": [
        "X = df_valid.iloc[:,0:(df_valid.shape[1] - 1)].T.to_dict().values() \n",
        "\n",
        "vect = DictVectorizer(sparse=False) \n",
        "X = vect.fit_transform(X)\n",
        "\n",
        "\n",
        "le = LabelEncoder()\n",
        "y = le.fit_transform(df_valid.iloc[:,(df_valid.shape[1] - 1)])"
      ]
    },
    {
      "cell_type": "code",
      "execution_count": 39,
      "metadata": {
        "colab": {
          "base_uri": "https://localhost:8080/"
        },
        "id": "tWF6bezKsozy",
        "outputId": "8cf5a316-d622-4d76-cd5a-714869aa024c"
      },
      "outputs": [
        {
          "data": {
            "text/plain": [
              "array([[0., 0., 1., ..., 1., 0., 1.],\n",
              "       [0., 0., 1., ..., 1., 1., 0.],\n",
              "       [1., 0., 0., ..., 1., 0., 1.],\n",
              "       ...,\n",
              "       [0., 0., 1., ..., 1., 0., 1.],\n",
              "       [1., 0., 0., ..., 1., 0., 1.],\n",
              "       [1., 0., 0., ..., 1., 0., 1.]])"
            ]
          },
          "execution_count": 39,
          "metadata": {},
          "output_type": "execute_result"
        }
      ],
      "source": [
        "X"
      ]
    },
    {
      "cell_type": "code",
      "execution_count": 40,
      "metadata": {
        "id": "E5e5F2uZqdtY"
      },
      "outputs": [],
      "source": [
        "X_train_v, X_test_v, y_train_v, y_test_v = train_test_split(X, y, random_state=0, test_size=0.32)"
      ]
    },
    {
      "cell_type": "code",
      "execution_count": 41,
      "metadata": {
        "id": "eonHedTTqp9d"
      },
      "outputs": [],
      "source": [
        "valid_tree = DecisionTreeClassifier(random_state=0, criterion='gini')\n",
        "valid_tree = valid_tree.fit(X_train_v, y_train_v)"
      ]
    },
    {
      "cell_type": "code",
      "execution_count": 42,
      "metadata": {
        "colab": {
          "base_uri": "https://localhost:8080/"
        },
        "id": "50uW6u2Bthbl",
        "outputId": "2ed71b74-159a-4d66-9678-c9e779f98dcc"
      },
      "outputs": [
        {
          "data": {
            "text/plain": [
              "array([3, 2, 1, 1, 2, 0, 2, 1, 2, 3, 2, 0, 2, 2, 2, 3, 0, 3, 2, 3, 3, 2,\n",
              "       3, 2, 3, 0, 3, 2, 2, 2, 3, 1, 2, 2, 2, 3, 3, 1, 0, 1, 1, 3, 2, 2,\n",
              "       3, 2, 2, 1, 3, 3, 3, 1, 2, 3, 3, 3, 3, 2, 3, 0, 3, 0, 3, 3, 1, 3,\n",
              "       3, 1, 2, 3, 3, 3, 2, 2, 3, 2, 1, 3, 3, 0, 2, 2, 3, 3, 2, 3, 0, 1,\n",
              "       2, 3, 2, 2, 2, 2, 1, 2, 0, 2, 2, 0, 2, 3, 3, 1, 3, 3, 2, 0, 3, 1,\n",
              "       0, 2, 3, 3, 1, 1, 3, 2, 2, 0, 3, 3, 3, 3, 1, 0, 2, 2, 2, 2, 0, 3,\n",
              "       0, 3, 1, 3, 1, 3, 2, 2, 3, 0, 2, 3, 2, 2, 3, 2, 0, 3, 1, 3, 1, 2,\n",
              "       3, 0, 3, 2, 1, 2, 0, 3, 3, 2, 1, 2, 1, 3, 2, 2, 1, 2, 0, 3, 1, 0,\n",
              "       3, 3, 3, 2, 2, 3, 0, 0, 3, 1, 0, 3, 3, 3, 1, 3, 3, 2, 3, 1, 2, 3,\n",
              "       2, 2, 1, 0, 1, 2, 3, 0, 3, 2, 3, 0, 2, 3, 3, 2, 3, 2, 3, 2, 2, 3,\n",
              "       1, 0, 1, 2, 2, 0, 2, 0, 3, 3, 3, 1, 2, 2, 3, 0, 3, 3, 1, 2, 2, 2,\n",
              "       2, 2, 3, 3, 1, 3, 3, 2, 0, 2, 1, 1, 3, 1, 3, 2, 2, 3, 2, 0, 1, 1,\n",
              "       2, 3, 3, 2, 1, 3, 0, 1, 2, 3, 2, 3, 2, 1, 1, 1, 2, 3, 3, 1, 3, 3,\n",
              "       0, 1, 2, 2, 2, 3, 3, 0, 2, 2, 1, 2, 2, 3, 0, 2, 3, 3, 2, 1, 3, 0,\n",
              "       3, 3, 3, 2, 3, 3, 1, 0, 3, 3, 1, 3, 3])"
            ]
          },
          "execution_count": 42,
          "metadata": {},
          "output_type": "execute_result"
        }
      ],
      "source": [
        "valid_tree.predict(X_train_v)"
      ]
    },
    {
      "cell_type": "code",
      "execution_count": 43,
      "metadata": {
        "colab": {
          "base_uri": "https://localhost:8080/"
        },
        "id": "syJbmqCPt2xY",
        "outputId": "76978cf9-6ba8-4af1-a9df-aab0c0f77009"
      },
      "outputs": [
        {
          "data": {
            "text/plain": [
              "array([3, 2, 1, 1, 2, 1, 2, 1, 2, 3, 2, 0, 2, 2, 2, 3, 0, 3, 2, 3, 3, 2,\n",
              "       3, 2, 3, 0, 3, 2, 2, 2, 3, 1, 2, 2, 2, 3, 3, 1, 0, 1, 1, 3, 2, 2,\n",
              "       2, 2, 2, 1, 3, 3, 3, 1, 2, 3, 3, 3, 3, 2, 3, 3, 3, 0, 3, 3, 1, 3,\n",
              "       3, 1, 3, 3, 3, 3, 2, 2, 3, 2, 1, 3, 3, 0, 3, 2, 3, 3, 2, 3, 0, 1,\n",
              "       2, 3, 2, 2, 2, 2, 1, 2, 0, 2, 2, 0, 2, 3, 3, 1, 3, 3, 3, 0, 3, 1,\n",
              "       0, 2, 3, 3, 1, 1, 3, 2, 2, 0, 3, 3, 3, 3, 1, 0, 2, 2, 2, 2, 0, 3,\n",
              "       0, 3, 1, 3, 1, 3, 2, 2, 3, 0, 2, 3, 2, 2, 3, 2, 0, 3, 1, 3, 1, 2,\n",
              "       3, 0, 3, 2, 1, 2, 0, 3, 3, 2, 1, 2, 1, 3, 2, 2, 1, 2, 0, 3, 1, 0,\n",
              "       3, 3, 3, 2, 2, 3, 0, 0, 3, 1, 0, 3, 3, 3, 1, 3, 3, 2, 3, 1, 2, 3,\n",
              "       2, 2, 1, 0, 1, 2, 3, 0, 3, 2, 3, 0, 2, 3, 3, 2, 3, 2, 3, 2, 2, 3,\n",
              "       1, 0, 1, 2, 2, 0, 2, 0, 3, 3, 3, 1, 2, 2, 3, 0, 3, 3, 1, 2, 2, 3,\n",
              "       2, 2, 3, 3, 1, 3, 3, 2, 0, 2, 1, 1, 3, 1, 3, 2, 2, 3, 2, 0, 1, 3,\n",
              "       2, 3, 3, 2, 1, 3, 0, 1, 2, 3, 2, 3, 2, 1, 1, 1, 2, 3, 3, 1, 3, 3,\n",
              "       0, 1, 2, 2, 3, 3, 3, 0, 2, 2, 1, 2, 2, 3, 0, 2, 3, 3, 2, 1, 3, 0,\n",
              "       3, 3, 3, 2, 3, 3, 1, 2, 3, 3, 1, 3, 3])"
            ]
          },
          "execution_count": 43,
          "metadata": {},
          "output_type": "execute_result"
        }
      ],
      "source": [
        "y_train_v"
      ]
    },
    {
      "cell_type": "code",
      "execution_count": 44,
      "metadata": {
        "colab": {
          "base_uri": "https://localhost:8080/"
        },
        "id": "r_H7ztzYt-Dx",
        "outputId": "cf398b4b-bd79-4768-d688-f5b6ce70d1b8"
      },
      "outputs": [
        {
          "name": "stdout",
          "output_type": "stream",
          "text": [
            "Acurácia (base de treinamento): 0.9688473520249221\n"
          ]
        }
      ],
      "source": [
        "print(\"Acurácia (base de treinamento):\", valid_tree.score(X_train_v, y_train_v))  #Foi possível atingir a acurácia de 0.97% da nossa base de treinamento;"
      ]
    },
    {
      "cell_type": "code",
      "execution_count": 45,
      "metadata": {
        "colab": {
          "base_uri": "https://localhost:8080/"
        },
        "id": "m6yYrYiPvU_a",
        "outputId": "b7fda0c7-ec5a-4070-eb37-727aa9108d2d"
      },
      "outputs": [
        {
          "data": {
            "text/plain": [
              "array([2, 3, 3, 2, 3, 3, 3, 1, 3, 2, 3, 0, 3, 0, 2, 1, 3, 3, 3, 2, 1, 2,\n",
              "       3, 3, 0, 3, 2, 0, 2, 0, 3, 1, 2, 0, 1, 0, 3, 3, 3, 2, 3, 2, 3, 1,\n",
              "       2, 2, 3, 2, 3, 1, 0, 0, 3, 3, 3, 2, 3, 3, 3, 1, 3, 2, 1, 3, 1, 3,\n",
              "       2, 3, 2, 0, 3, 2, 3, 3, 3, 0, 0, 2, 0, 2, 3, 2, 2, 1, 1, 0, 3, 0,\n",
              "       3, 3, 2, 3, 0, 3, 2, 2, 2, 0, 3, 3, 2, 2, 3, 3, 0, 3, 3, 1, 0, 1,\n",
              "       3, 1, 3, 3, 2, 0, 3, 3, 3, 2, 3, 3, 3, 2, 3, 3, 3, 3, 2, 2, 3, 2,\n",
              "       2, 2, 3, 3, 1, 1, 3, 2, 2, 1, 3, 0, 3, 3, 2, 3, 3, 3, 3, 0])"
            ]
          },
          "execution_count": 45,
          "metadata": {},
          "output_type": "execute_result"
        }
      ],
      "source": [
        "y_pred_v = valid_tree.predict(X_test_v)\n",
        "y_pred_v"
      ]
    },
    {
      "cell_type": "code",
      "execution_count": 46,
      "metadata": {
        "colab": {
          "base_uri": "https://localhost:8080/"
        },
        "id": "y1Fqovdwvavw",
        "outputId": "e6966d07-e50f-4a8c-9c0e-5f17fd51f5cc"
      },
      "outputs": [
        {
          "data": {
            "text/plain": [
              "array([2, 3, 3, 2, 3, 3, 0, 1, 0, 2, 3, 2, 3, 0, 2, 1, 2, 0, 3, 2, 1, 2,\n",
              "       3, 2, 2, 2, 2, 3, 2, 3, 3, 1, 2, 0, 3, 2, 3, 3, 0, 2, 3, 2, 3, 3,\n",
              "       3, 2, 3, 2, 3, 1, 0, 0, 3, 3, 3, 2, 3, 3, 3, 2, 3, 2, 2, 2, 2, 3,\n",
              "       2, 3, 3, 0, 0, 2, 3, 3, 3, 0, 0, 2, 0, 2, 2, 2, 2, 2, 0, 2, 0, 0,\n",
              "       0, 3, 3, 3, 0, 3, 2, 2, 3, 0, 3, 3, 2, 2, 3, 3, 2, 3, 0, 3, 2, 1,\n",
              "       3, 1, 2, 3, 2, 2, 3, 3, 3, 2, 3, 3, 3, 2, 3, 3, 3, 3, 2, 3, 3, 2,\n",
              "       2, 2, 3, 3, 1, 3, 0, 2, 3, 1, 3, 0, 2, 3, 2, 2, 3, 2, 3, 1])"
            ]
          },
          "execution_count": 46,
          "metadata": {},
          "output_type": "execute_result"
        }
      ],
      "source": [
        "y_test_v"
      ]
    },
    {
      "cell_type": "code",
      "execution_count": 47,
      "metadata": {
        "colab": {
          "base_uri": "https://localhost:8080/"
        },
        "id": "Woy-YT6Wvg2p",
        "outputId": "357d97ce-8dfe-464e-b4d6-7c2567545f9a"
      },
      "outputs": [
        {
          "name": "stdout",
          "output_type": "stream",
          "text": [
            "Acurácia de previsão: 0.7171052631578947\n"
          ]
        }
      ],
      "source": [
        "print(\"Acurácia de previsão:\", accuracy_score(y_test_v, y_pred_v))  #Em nossa Previsão, atingimos a acurácia de 0.72% dos valores; Temos a sendo possivel identificar o overfitting;"
      ]
    },
    {
      "cell_type": "code",
      "execution_count": 48,
      "metadata": {
        "colab": {
          "base_uri": "https://localhost:8080/"
        },
        "id": "bNZ3L3CtvxMy",
        "outputId": "a4f331e0-281f-4df1-aaa9-5eac58e99827"
      },
      "outputs": [
        {
          "name": "stdout",
          "output_type": "stream",
          "text": [
            "[[12  1  0  9]\n",
            " [ 1  9  0  0]\n",
            " [ 7  4 34  9]\n",
            " [ 2  4  6 54]]\n"
          ]
        }
      ],
      "source": [
        "cnf_matrix = confusion_matrix(y_test_v, y_pred_v)\n",
        "print(cnf_matrix)"
      ]
    },
    {
      "cell_type": "markdown",
      "metadata": {
        "id": "ykLQngApsIyJ"
      },
      "source": [
        "## Para o dataset Validação, Não temos como seguir com a comparação"
      ]
    },
    {
      "cell_type": "markdown",
      "metadata": {
        "id": "gcQSPFsmreFY"
      },
      "source": [
        "# TESTE E ARVORE DATASET TREINO"
      ]
    },
    {
      "cell_type": "code",
      "execution_count": null,
      "metadata": {
        "colab": {
          "base_uri": "https://localhost:8080/"
        },
        "id": "T1tLvIKvy10s",
        "outputId": "86e4c177-aafe-430e-e61f-eb7bd1ebe4f5"
      },
      "outputs": [],
      "source": [
        "#Selecionar todas colunas exceto a classe\n",
        "X_dict = df_trein.iloc[:,df_trein.columns != 'Adoção_eReader'].T.to_dict().values()\n",
        "\n",
        "\n",
        "# Exibe o dado convertido em dicionario.\n",
        "print(\"Atributos:\", X_dict)"
      ]
    },
    {
      "cell_type": "code",
      "execution_count": 50,
      "metadata": {
        "colab": {
          "base_uri": "https://localhost:8080/"
        },
        "id": "pQzY_XVp__pZ",
        "outputId": "fa1f852c-1730-4f53-f9e0-c4326e053791"
      },
      "outputs": [
        {
          "name": "stdout",
          "output_type": "stream",
          "text": [
            "Shape do dado de treinamento apos binarizacao: (661, 20)\n"
          ]
        },
        {
          "data": {
            "text/plain": [
              "array([[1., 0., 0., ..., 1., 0., 1.],\n",
              "       [0., 0., 1., ..., 1., 0., 1.],\n",
              "       [1., 0., 0., ..., 1., 0., 1.],\n",
              "       ...,\n",
              "       [1., 0., 0., ..., 1., 0., 1.],\n",
              "       [1., 0., 0., ..., 1., 0., 1.],\n",
              "       [0., 0., 1., ..., 0., 0., 1.]])"
            ]
          },
          "execution_count": 50,
          "metadata": {},
          "output_type": "execute_result"
        }
      ],
      "source": [
        "# Transformar as variáveis categóricas\n",
        "\n",
        "vect = DictVectorizer(sparse=False) \n",
        "X_train = vect.fit_transform(X_dict)\n",
        "\n",
        "# Exibe a estrutura do dado convertido em binário.\n",
        "print(\"Shape do dado de treinamento apos binarizacao: {0}\".format(X_train.shape))\n",
        "X_train\n"
      ]
    },
    {
      "cell_type": "code",
      "execution_count": 51,
      "metadata": {
        "colab": {
          "base_uri": "https://localhost:8080/"
        },
        "id": "7XZ4NPbf0LvG",
        "outputId": "97e2f5f9-40ad-4443-feff-28fd24d893bd"
      },
      "outputs": [
        {
          "data": {
            "text/plain": [
              "['Atividade_no_site=Esporádico',\n",
              " 'Atividade_no_site=Frequênte',\n",
              " 'Atividade_no_site=Intermitente',\n",
              " 'Comprou_eletronicos_12m=Não',\n",
              " 'Comprou_eletronicos_12m=Sim',\n",
              " 'Comprou_mídia_digital_18m=Não',\n",
              " 'Comprou_mídia_digital_18m=Sim',\n",
              " 'Estado_civil=C',\n",
              " 'Estado_civil=S',\n",
              " 'Forma_pagamento=Boleto bancário',\n",
              " 'Forma_pagamento=Cartão de crédito',\n",
              " 'Forma_pagamento=Transferência',\n",
              " 'Forma_pagamento=Website',\n",
              " 'Gênero=F',\n",
              " 'Gênero=M',\n",
              " 'Idade',\n",
              " 'Pesquisou_eletronicos_12m=Não',\n",
              " 'Pesquisou_eletronicos_12m=Sim',\n",
              " 'Pesquisou_mídia_digital_18m=Não',\n",
              " 'Pesquisou_mídia_digital_18m=Sim']"
            ]
          },
          "execution_count": 51,
          "metadata": {},
          "output_type": "execute_result"
        }
      ],
      "source": [
        "vect.feature_names_ #Nome dos atributos"
      ]
    },
    {
      "cell_type": "code",
      "execution_count": 52,
      "metadata": {
        "colab": {
          "base_uri": "https://localhost:8080/",
          "height": 144
        },
        "id": "OLoMfYTeHU_e",
        "outputId": "9cb4ddaf-9799-4250-9d03-a04f7f211393"
      },
      "outputs": [
        {
          "data": {
            "text/html": [
              "\n",
              "  <div id=\"df-665d3de9-9297-428d-80bf-7b7a4ce42dc8\">\n",
              "    <div class=\"colab-df-container\">\n",
              "      <div>\n",
              "<style scoped>\n",
              "    .dataframe tbody tr th:only-of-type {\n",
              "        vertical-align: middle;\n",
              "    }\n",
              "\n",
              "    .dataframe tbody tr th {\n",
              "        vertical-align: top;\n",
              "    }\n",
              "\n",
              "    .dataframe thead th {\n",
              "        text-align: right;\n",
              "    }\n",
              "</style>\n",
              "<table border=\"1\" class=\"dataframe\">\n",
              "  <thead>\n",
              "    <tr style=\"text-align: right;\">\n",
              "      <th></th>\n",
              "      <th>Gênero</th>\n",
              "      <th>Idade</th>\n",
              "      <th>Estado_civil</th>\n",
              "      <th>Atividade_no_site</th>\n",
              "      <th>Pesquisou_eletronicos_12m</th>\n",
              "      <th>Comprou_eletronicos_12m</th>\n",
              "      <th>Pesquisou_mídia_digital_18m</th>\n",
              "      <th>Comprou_mídia_digital_18m</th>\n",
              "      <th>Forma_pagamento</th>\n",
              "      <th>Adoção_eReader</th>\n",
              "    </tr>\n",
              "  </thead>\n",
              "  <tbody>\n",
              "    <tr>\n",
              "      <th>0</th>\n",
              "      <td>M</td>\n",
              "      <td>61</td>\n",
              "      <td>C</td>\n",
              "      <td>Esporádico</td>\n",
              "      <td>Sim</td>\n",
              "      <td>Sim</td>\n",
              "      <td>Sim</td>\n",
              "      <td>Não</td>\n",
              "      <td>Transferência</td>\n",
              "      <td>Late Majority</td>\n",
              "    </tr>\n",
              "    <tr>\n",
              "      <th>1</th>\n",
              "      <td>M</td>\n",
              "      <td>27</td>\n",
              "      <td>C</td>\n",
              "      <td>Intermitente</td>\n",
              "      <td>Sim</td>\n",
              "      <td>Não</td>\n",
              "      <td>Sim</td>\n",
              "      <td>Não</td>\n",
              "      <td>Transferência</td>\n",
              "      <td>Innovator</td>\n",
              "    </tr>\n",
              "    <tr>\n",
              "      <th>2</th>\n",
              "      <td>F</td>\n",
              "      <td>29</td>\n",
              "      <td>C</td>\n",
              "      <td>Esporádico</td>\n",
              "      <td>Sim</td>\n",
              "      <td>Sim</td>\n",
              "      <td>Sim</td>\n",
              "      <td>Sim</td>\n",
              "      <td>Transferência</td>\n",
              "      <td>Early Adopter</td>\n",
              "    </tr>\n",
              "  </tbody>\n",
              "</table>\n",
              "</div>\n",
              "      <button class=\"colab-df-convert\" onclick=\"convertToInteractive('df-665d3de9-9297-428d-80bf-7b7a4ce42dc8')\"\n",
              "              title=\"Convert this dataframe to an interactive table.\"\n",
              "              style=\"display:none;\">\n",
              "        \n",
              "  <svg xmlns=\"http://www.w3.org/2000/svg\" height=\"24px\"viewBox=\"0 0 24 24\"\n",
              "       width=\"24px\">\n",
              "    <path d=\"M0 0h24v24H0V0z\" fill=\"none\"/>\n",
              "    <path d=\"M18.56 5.44l.94 2.06.94-2.06 2.06-.94-2.06-.94-.94-2.06-.94 2.06-2.06.94zm-11 1L8.5 8.5l.94-2.06 2.06-.94-2.06-.94L8.5 2.5l-.94 2.06-2.06.94zm10 10l.94 2.06.94-2.06 2.06-.94-2.06-.94-.94-2.06-.94 2.06-2.06.94z\"/><path d=\"M17.41 7.96l-1.37-1.37c-.4-.4-.92-.59-1.43-.59-.52 0-1.04.2-1.43.59L10.3 9.45l-7.72 7.72c-.78.78-.78 2.05 0 2.83L4 21.41c.39.39.9.59 1.41.59.51 0 1.02-.2 1.41-.59l7.78-7.78 2.81-2.81c.8-.78.8-2.07 0-2.86zM5.41 20L4 18.59l7.72-7.72 1.47 1.35L5.41 20z\"/>\n",
              "  </svg>\n",
              "      </button>\n",
              "      \n",
              "  <style>\n",
              "    .colab-df-container {\n",
              "      display:flex;\n",
              "      flex-wrap:wrap;\n",
              "      gap: 12px;\n",
              "    }\n",
              "\n",
              "    .colab-df-convert {\n",
              "      background-color: #E8F0FE;\n",
              "      border: none;\n",
              "      border-radius: 50%;\n",
              "      cursor: pointer;\n",
              "      display: none;\n",
              "      fill: #1967D2;\n",
              "      height: 32px;\n",
              "      padding: 0 0 0 0;\n",
              "      width: 32px;\n",
              "    }\n",
              "\n",
              "    .colab-df-convert:hover {\n",
              "      background-color: #E2EBFA;\n",
              "      box-shadow: 0px 1px 2px rgba(60, 64, 67, 0.3), 0px 1px 3px 1px rgba(60, 64, 67, 0.15);\n",
              "      fill: #174EA6;\n",
              "    }\n",
              "\n",
              "    [theme=dark] .colab-df-convert {\n",
              "      background-color: #3B4455;\n",
              "      fill: #D2E3FC;\n",
              "    }\n",
              "\n",
              "    [theme=dark] .colab-df-convert:hover {\n",
              "      background-color: #434B5C;\n",
              "      box-shadow: 0px 1px 3px 1px rgba(0, 0, 0, 0.15);\n",
              "      filter: drop-shadow(0px 1px 2px rgba(0, 0, 0, 0.3));\n",
              "      fill: #FFFFFF;\n",
              "    }\n",
              "  </style>\n",
              "\n",
              "      <script>\n",
              "        const buttonEl =\n",
              "          document.querySelector('#df-665d3de9-9297-428d-80bf-7b7a4ce42dc8 button.colab-df-convert');\n",
              "        buttonEl.style.display =\n",
              "          google.colab.kernel.accessAllowed ? 'block' : 'none';\n",
              "\n",
              "        async function convertToInteractive(key) {\n",
              "          const element = document.querySelector('#df-665d3de9-9297-428d-80bf-7b7a4ce42dc8');\n",
              "          const dataTable =\n",
              "            await google.colab.kernel.invokeFunction('convertToInteractive',\n",
              "                                                     [key], {});\n",
              "          if (!dataTable) return;\n",
              "\n",
              "          const docLinkHtml = 'Like what you see? Visit the ' +\n",
              "            '<a target=\"_blank\" href=https://colab.research.google.com/notebooks/data_table.ipynb>data table notebook</a>'\n",
              "            + ' to learn more about interactive tables.';\n",
              "          element.innerHTML = '';\n",
              "          dataTable['output_type'] = 'display_data';\n",
              "          await google.colab.output.renderOutput(dataTable, element);\n",
              "          const docLink = document.createElement('div');\n",
              "          docLink.innerHTML = docLinkHtml;\n",
              "          element.appendChild(docLink);\n",
              "        }\n",
              "      </script>\n",
              "    </div>\n",
              "  </div>\n",
              "  "
            ],
            "text/plain": [
              "  Gênero  Idade Estado_civil Atividade_no_site Pesquisou_eletronicos_12m  \\\n",
              "0      M     61            C        Esporádico                       Sim   \n",
              "1      M     27            C      Intermitente                       Sim   \n",
              "2      F     29            C        Esporádico                       Sim   \n",
              "\n",
              "  Comprou_eletronicos_12m Pesquisou_mídia_digital_18m  \\\n",
              "0                     Sim                         Sim   \n",
              "1                     Não                         Sim   \n",
              "2                     Sim                         Sim   \n",
              "\n",
              "  Comprou_mídia_digital_18m Forma_pagamento Adoção_eReader  \n",
              "0                       Não   Transferência  Late Majority  \n",
              "1                       Não   Transferência      Innovator  \n",
              "2                       Sim   Transferência  Early Adopter  "
            ]
          },
          "execution_count": 52,
          "metadata": {},
          "output_type": "execute_result"
        }
      ],
      "source": [
        "df_trein.head(3)"
      ]
    },
    {
      "cell_type": "code",
      "execution_count": 53,
      "metadata": {
        "colab": {
          "base_uri": "https://localhost:8080/"
        },
        "id": "sUpYM7u3yylt",
        "outputId": "fb80c397-b1dc-476c-9c62-d911496ca5a7"
      },
      "outputs": [
        {
          "name": "stdout",
          "output_type": "stream",
          "text": [
            "Labels: [3 2 0 0 3 1 0 3 2 1 2 0 3 2 2 3 0 0 1 3 0 1 3 3 3 2 0 0 3 0 0 1 1 1 3 2 1\n",
            " 3 2 3 0 3 1 3 2 3 0 3 3 0 3 0 0 0 0 3 1 1 1 2 0 0 0 0 3 0 1 1 0 0 0 3 1 3\n",
            " 1 1 1 3 1 0 3 1 2 0 3 0 1 0 0 3 1 0 3 2 2 0 1 3 2 0 1 0 1 1 1 0 2 2 0 1 1\n",
            " 1 1 1 2 1 1 1 3 0 1 0 1 2 1 0 0 2 3 2 2 0 0 1 2 1 0 0 1 3 3 1 0 2 0 1 0 1\n",
            " 1 3 2 1 1 3 2 3 1 2 1 0 0 1 1 1 2 3 1 0 2 0 0 0 3 3 3 0 0 3 2 1 1 1 1 1 1\n",
            " 3 3 3 3 0 0 0 0 1 3 3 3 1 0 0 0 0 0 0 0 1 1 0 3 3 1 2 1 1 0 0 3 3 2 1 3 3\n",
            " 3 3 0 1 1 3 0 2 3 0 2 2 0 3 0 3 2 2 0 1 3 2 1 3 2 0 3 0 0 3 0 3 2 3 1 0 1\n",
            " 0 1 0 2 2 1 3 2 1 0 1 0 0 0 0 1 2 0 1 2 0 1 2 0 1 3 0 2 1 2 2 1 0 0 1 0 2\n",
            " 2 0 0 0 2 3 3 1 1 1 3 0 1 1 0 0 3 1 3 1 2 1 0 2 2 3 3 3 3 3 0 0 0 0 3 3 3\n",
            " 0 0 1 0 1 3 0 0 3 3 1 1 0 0 3 1 2 0 0 1 3 2 2 0 3 3 3 0 2 0 0 2 3 1 1 3 3\n",
            " 3 3 3 2 0 0 3 1 1 3 1 0 3 3 1 0 1 0 1 0 3 3 0 3 1 0 1 0 0 3 2 0 1 3 3 1 1\n",
            " 1 0 3 3 0 3 0 2 0 0 1 0 0 2 2 3 2 3 1 0 0 1 1 3 3 3 1 1 1 3 0 3 0 3 1 0 0\n",
            " 2 0 1 1 2 3 0 0 1 2 2 1 0 2 3 1 0 0 1 1 2 1 0 1 0 2 1 2 0 3 3 3 0 3 2 0 3\n",
            " 1 1 3 1 1 3 2 0 0 3 1 3 0 1 0 2 1 1 3 0 1 3 2 0 3 3 1 2 1 0 0 3 3 1 3 1 1\n",
            " 2 3 0 1 3 1 3 3 1 3 0 2 2 3 1 0 3 0 3 1 3 2 0 0 3 1 0 3 2 1 2 0 3 2 2 3 0\n",
            " 0 1 3 0 1 3 3 3 2 0 0 3 0 0 1 1 1 3 2 1 3 2 3 0 3 1 3 2 3 0 3 3 0 3 0 0 0\n",
            " 0 3 1 1 1 2 0 0 0 0 3 0 1 1 0 0 0 3 1 3 1 1 1 3 1 0 3 1 2 0 3 0 1 0 0 3 1\n",
            " 0 3 2 2 0 1 3 2 0 1 0 1 1 1 0 2 2 0 1 1 1 1 1 2 1 1 1 3 0 1 0 1]\n"
          ]
        }
      ],
      "source": [
        "le = LabelEncoder()\n",
        "y_train = le.fit_transform(df_trein[\"Adoção_eReader\"])\n",
        "\n",
        "\n",
        "print(\"Labels:\", y_train)"
      ]
    },
    {
      "cell_type": "code",
      "execution_count": 54,
      "metadata": {
        "colab": {
          "base_uri": "https://localhost:8080/"
        },
        "id": "tHC5agecm2MP",
        "outputId": "5f78d343-c781-4104-e744-2cf1c2f91cbd"
      },
      "outputs": [
        {
          "data": {
            "text/plain": [
              "array(['Early Adopter', 'Early Majority', 'Innovator', 'Late Majority'],\n",
              "      dtype=object)"
            ]
          },
          "execution_count": 54,
          "metadata": {},
          "output_type": "execute_result"
        }
      ],
      "source": [
        "le.classes_"
      ]
    },
    {
      "cell_type": "code",
      "execution_count": 55,
      "metadata": {
        "id": "d__-U2PBtXTO"
      },
      "outputs": [],
      "source": [
        "X_train, X_test, y_train, y_test = train_test_split(X_train, y_train, random_state=445, test_size=0.10)"
      ]
    },
    {
      "cell_type": "markdown",
      "metadata": {
        "id": "kg3Fr_1XAoKi"
      },
      "source": [
        "## Indução do Modelo\n",
        "\n",
        "\n"
      ]
    },
    {
      "cell_type": "code",
      "execution_count": 56,
      "metadata": {
        "colab": {
          "base_uri": "https://localhost:8080/"
        },
        "id": "QT3S0B39AnJD",
        "outputId": "d0018b97-f640-4d99-d81f-f7df4d97febc"
      },
      "outputs": [
        {
          "data": {
            "text/plain": [
              "DecisionTreeClassifier(criterion='entropy', random_state=655)"
            ]
          },
          "execution_count": 56,
          "metadata": {},
          "output_type": "execute_result"
        }
      ],
      "source": [
        "treeConsumer = DecisionTreeClassifier(random_state=655, criterion='entropy')\n",
        "\n",
        "treeConsumer = treeConsumer.fit(X_train, y_train)\n",
        "treeConsumer"
      ]
    },
    {
      "cell_type": "code",
      "execution_count": 57,
      "metadata": {
        "colab": {
          "base_uri": "https://localhost:8080/"
        },
        "id": "ACMsBv7_yM9p",
        "outputId": "1cbc9cd3-29b2-447c-dbb9-c6161c7bc51a"
      },
      "outputs": [
        {
          "data": {
            "text/plain": [
              "array([3, 0, 0, 1, 0, 3, 0, 0, 3, 0, 1, 1, 1, 0, 3, 0, 0, 3, 0, 2, 0, 0,\n",
              "       1, 1, 1, 2, 0, 2, 1, 1, 0, 1, 2, 0, 3, 2, 0, 0, 1, 3, 1, 2, 2, 2,\n",
              "       0, 1, 3, 1, 1, 1, 1, 0, 2, 3, 0, 3, 1, 0, 3, 0, 0, 1, 1, 1, 1, 3,\n",
              "       0, 0, 1, 1, 1, 3, 3, 1, 0, 0, 2, 1, 1, 0, 0, 1, 0, 1, 0, 3, 0, 1,\n",
              "       0, 2, 1, 0, 1, 0, 0, 2, 2, 3, 3, 3, 3, 1, 1, 2, 2, 0, 1, 0, 1, 1,\n",
              "       1, 2, 2, 1, 0, 0, 2, 0, 0, 3, 0, 1, 0, 1, 0, 0, 3, 3, 0, 1, 0, 0,\n",
              "       0, 1, 0, 2, 1, 0, 0, 0, 0, 2, 0, 1, 2, 1, 1, 2, 1, 0, 0, 0, 3, 2,\n",
              "       3, 0, 1, 0, 0, 3, 1, 1, 1, 0, 3, 3, 0, 1, 0, 3, 0, 3, 1, 0, 3, 2,\n",
              "       0, 3, 2, 3, 2, 1, 1, 3, 1, 2, 0, 2, 2, 3, 0, 1, 0, 3, 3, 3, 3, 0,\n",
              "       3, 3, 0, 0, 1, 3, 1, 3, 0, 3, 2, 1, 0, 1, 1, 3, 3, 0, 0, 2, 0, 0,\n",
              "       0, 1, 0, 1, 2, 0, 1, 0, 2, 1, 1, 1, 1, 0, 1, 0, 2, 0, 0, 1, 0, 1,\n",
              "       2, 0, 1, 3, 3, 0, 2, 1, 3, 1, 1, 1, 2, 1, 2, 2, 1, 1, 3, 0, 1, 0,\n",
              "       0, 3, 0, 0, 0, 3, 3, 0, 3, 1, 0, 0, 1, 3, 2, 3, 3, 2, 3, 1, 3, 2,\n",
              "       2, 3, 0, 0, 2, 0, 0, 3, 1, 1, 3, 1, 1, 0, 1, 0, 2, 1, 2, 3, 1, 1,\n",
              "       2, 2, 0, 0, 0, 0, 0, 0, 2, 0, 0, 1, 0, 0, 0, 0, 1, 1, 1, 1, 1, 1,\n",
              "       3, 1, 0, 0, 3, 1, 0, 0, 0, 0, 2, 0, 0, 2, 0, 3, 0, 1, 3, 3, 0, 0,\n",
              "       1, 1, 1, 1, 3, 1, 3, 0, 1, 0, 3, 0, 0, 3, 3, 3, 3, 1, 0, 0, 3, 0,\n",
              "       1, 1, 0, 1, 0, 0, 1, 1, 3, 3, 0, 1, 3, 0, 2, 3, 1, 3, 0, 2, 0, 0,\n",
              "       1, 0, 3, 0, 0, 0, 0, 0, 0, 2, 3, 0, 0, 1, 1, 0, 0, 0, 0, 1, 0, 0,\n",
              "       0, 3, 0, 0, 3, 2, 1, 0, 1, 0, 0, 1, 1, 0, 0, 0, 1, 2, 0, 0, 1, 0,\n",
              "       0, 0, 0, 0, 1, 0, 3, 3, 0, 1, 1, 0, 0, 1, 3, 1, 3, 1, 3, 1, 2, 0,\n",
              "       0, 0, 3, 1, 0, 0, 3, 0, 1, 0, 3, 3, 0, 1, 1, 0, 0, 3, 1, 0, 1, 2,\n",
              "       2, 0, 0, 2, 0, 1, 3, 0, 3, 1, 3, 3, 0, 3, 1, 3, 3, 0, 0, 1, 1, 2,\n",
              "       1, 3, 1, 1, 3, 0, 1, 3, 1, 2, 3, 0, 0, 1, 1, 1, 0, 0, 2, 0, 3, 3,\n",
              "       0, 1, 3, 2, 0, 0, 2, 2, 1, 3, 1, 0, 1, 1, 0, 3, 2, 1, 1, 1, 3, 0,\n",
              "       1, 2, 0, 1, 0, 1, 3, 1, 3, 0, 0, 0, 1, 2, 1, 1, 0, 2, 1, 0, 2, 0,\n",
              "       0, 0, 1, 0, 3, 3, 1, 0, 1, 0, 0, 1, 3, 3, 0, 0, 0, 1, 0, 1, 1, 0])"
            ]
          },
          "execution_count": 57,
          "metadata": {},
          "output_type": "execute_result"
        }
      ],
      "source": [
        "treeConsumer.predict(X_train)"
      ]
    },
    {
      "cell_type": "code",
      "execution_count": 58,
      "metadata": {
        "colab": {
          "base_uri": "https://localhost:8080/"
        },
        "id": "b-4wstRmzyrO",
        "outputId": "bda5ca0f-ebd6-43b6-806c-1d0cc4968b1e"
      },
      "outputs": [
        {
          "data": {
            "text/plain": [
              "array([3, 0, 0, 1, 3, 2, 0, 0, 3, 0, 1, 1, 1, 3, 3, 0, 0, 3, 0, 2, 0, 0,\n",
              "       1, 1, 2, 2, 3, 2, 3, 1, 0, 1, 2, 0, 3, 2, 0, 0, 1, 3, 1, 2, 3, 2,\n",
              "       0, 1, 3, 1, 1, 1, 3, 0, 2, 3, 0, 3, 1, 0, 3, 0, 0, 1, 1, 3, 1, 3,\n",
              "       0, 3, 1, 1, 1, 3, 3, 1, 0, 3, 2, 1, 1, 0, 0, 1, 1, 1, 0, 3, 0, 1,\n",
              "       0, 3, 1, 0, 3, 0, 0, 2, 2, 3, 3, 3, 3, 1, 1, 2, 2, 0, 1, 0, 1, 1,\n",
              "       1, 2, 2, 1, 1, 0, 2, 1, 0, 3, 0, 1, 0, 1, 1, 0, 3, 3, 0, 1, 1, 0,\n",
              "       0, 3, 2, 2, 3, 0, 1, 0, 0, 3, 2, 1, 2, 1, 1, 2, 2, 0, 0, 0, 3, 2,\n",
              "       3, 0, 1, 2, 1, 3, 1, 1, 1, 0, 3, 3, 0, 1, 0, 3, 0, 3, 2, 0, 3, 2,\n",
              "       0, 3, 2, 2, 2, 2, 1, 3, 1, 2, 0, 2, 2, 3, 0, 1, 0, 3, 3, 3, 3, 2,\n",
              "       3, 3, 0, 0, 1, 3, 1, 3, 3, 3, 2, 1, 0, 1, 1, 3, 3, 0, 0, 2, 0, 0,\n",
              "       0, 1, 0, 3, 2, 0, 1, 0, 2, 2, 1, 1, 1, 0, 1, 0, 2, 0, 0, 2, 0, 1,\n",
              "       2, 1, 1, 3, 3, 0, 2, 1, 3, 1, 1, 2, 2, 1, 2, 2, 1, 1, 3, 0, 1, 0,\n",
              "       0, 3, 0, 0, 0, 3, 3, 0, 3, 3, 0, 0, 1, 3, 2, 3, 3, 2, 3, 1, 3, 2,\n",
              "       2, 3, 2, 0, 2, 2, 0, 3, 1, 1, 3, 1, 1, 0, 1, 0, 2, 3, 3, 3, 1, 1,\n",
              "       2, 2, 0, 0, 0, 0, 1, 0, 2, 0, 0, 1, 1, 0, 0, 0, 1, 1, 1, 1, 1, 1,\n",
              "       3, 1, 0, 0, 3, 1, 0, 0, 0, 3, 2, 3, 3, 2, 0, 3, 2, 3, 3, 3, 0, 3,\n",
              "       1, 1, 1, 1, 3, 1, 3, 0, 1, 0, 3, 3, 3, 3, 3, 3, 3, 1, 0, 0, 3, 3,\n",
              "       1, 1, 0, 1, 0, 0, 1, 1, 3, 3, 1, 3, 0, 3, 3, 3, 1, 3, 0, 2, 1, 0,\n",
              "       1, 3, 3, 0, 0, 0, 0, 0, 0, 2, 3, 0, 0, 3, 2, 0, 0, 0, 0, 1, 0, 0,\n",
              "       0, 3, 0, 0, 3, 2, 1, 2, 3, 0, 0, 1, 1, 0, 0, 0, 1, 2, 0, 0, 1, 0,\n",
              "       0, 0, 0, 2, 1, 1, 3, 3, 0, 1, 1, 0, 0, 1, 3, 1, 3, 1, 3, 1, 2, 1,\n",
              "       0, 1, 3, 1, 2, 0, 3, 0, 1, 0, 3, 3, 0, 1, 2, 0, 0, 3, 1, 0, 1, 2,\n",
              "       2, 0, 0, 2, 0, 1, 3, 0, 3, 1, 3, 3, 0, 3, 1, 3, 3, 0, 0, 1, 1, 2,\n",
              "       1, 3, 1, 3, 3, 0, 1, 3, 2, 2, 3, 0, 0, 1, 1, 1, 0, 0, 2, 0, 3, 3,\n",
              "       0, 1, 3, 2, 0, 0, 2, 2, 1, 3, 1, 0, 1, 1, 0, 3, 2, 1, 1, 1, 3, 0,\n",
              "       1, 2, 0, 1, 0, 1, 3, 1, 3, 3, 0, 0, 1, 3, 1, 1, 0, 2, 1, 0, 2, 0,\n",
              "       0, 0, 1, 0, 3, 3, 1, 0, 3, 0, 0, 1, 3, 3, 2, 0, 1, 1, 0, 1, 1, 0])"
            ]
          },
          "execution_count": 58,
          "metadata": {},
          "output_type": "execute_result"
        }
      ],
      "source": [
        "y_train"
      ]
    },
    {
      "cell_type": "code",
      "execution_count": 59,
      "metadata": {
        "colab": {
          "base_uri": "https://localhost:8080/"
        },
        "id": "Otp9J-Wo0U40",
        "outputId": "b174ee23-db9e-46da-8b03-2377392acd6b"
      },
      "outputs": [
        {
          "name": "stdout",
          "output_type": "stream",
          "text": [
            "Acurácia da base de treinamento: 0.8703703703703703\n"
          ]
        }
      ],
      "source": [
        "print(\"Acurácia da base de treinamento:\", treeConsumer.score(X_train, y_train)) # Na base de treino, nossa acurácia é de 0.87%, Como não acerta 100% da base de treinamento, Podemos apontar a ocorrência de Underfitting"
      ]
    },
    {
      "cell_type": "code",
      "execution_count": 60,
      "metadata": {
        "colab": {
          "base_uri": "https://localhost:8080/"
        },
        "id": "1H4v2S4S1LLT",
        "outputId": "1683952d-a710-44fb-d012-a8acbcb581dd"
      },
      "outputs": [
        {
          "data": {
            "text/plain": [
              "array([3, 2, 1, 1, 3, 3, 2, 0, 0, 3, 1, 1, 0, 0, 3, 1, 1, 1, 1, 1, 1, 0,\n",
              "       0, 3, 0, 1, 2, 0, 1, 3, 3, 0, 1, 3, 3, 1, 1, 0, 1, 1, 1, 0, 1, 2,\n",
              "       0, 0, 3, 2, 0, 3, 2, 1, 2, 0, 1, 2, 0, 0, 3, 0, 1, 0, 3, 0, 3, 0,\n",
              "       3])"
            ]
          },
          "execution_count": 60,
          "metadata": {},
          "output_type": "execute_result"
        }
      ],
      "source": [
        "y_pred = treeConsumer.predict(X_test)\n",
        "y_pred"
      ]
    },
    {
      "cell_type": "code",
      "execution_count": 61,
      "metadata": {
        "colab": {
          "base_uri": "https://localhost:8080/"
        },
        "id": "bnGZJRvn11Rn",
        "outputId": "fe52d59f-2f58-4808-d739-a982bdce0b50"
      },
      "outputs": [
        {
          "name": "stdout",
          "output_type": "stream",
          "text": [
            "Acurácia de previsão: 0.6119402985074627\n"
          ]
        }
      ],
      "source": [
        "print(\"Acurácia de previsão:\", accuracy_score(y_test, y_pred))  #Conseguimos acertar 0.61% da nossa previsão."
      ]
    },
    {
      "cell_type": "code",
      "execution_count": 62,
      "metadata": {
        "colab": {
          "base_uri": "https://localhost:8080/"
        },
        "id": "kq6veSmX1ASc",
        "outputId": "a3f6f92a-f2b1-4810-8a92-97eb84810306"
      },
      "outputs": [
        {
          "name": "stdout",
          "output_type": "stream",
          "text": [
            "[[11  4  1  2]\n",
            " [ 3 13  2  0]\n",
            " [ 4  1  4  1]\n",
            " [ 3  4  1 13]]\n"
          ]
        }
      ],
      "source": [
        "cnf_matrix = confusion_matrix(y_test, y_pred)\n",
        "print(cnf_matrix)"
      ]
    },
    {
      "cell_type": "code",
      "execution_count": 63,
      "metadata": {
        "colab": {
          "base_uri": "https://localhost:8080/"
        },
        "id": "SIEcksDN_HLU",
        "outputId": "de2d2cc4-937b-4e57-c116-45ddc9e18ff5"
      },
      "outputs": [
        {
          "name": "stdout",
          "output_type": "stream",
          "text": [
            "                precision    recall  f1-score   support\n",
            "\n",
            " Late Majority       0.52      0.61      0.56        18\n",
            "     Innovator       0.59      0.72      0.65        18\n",
            " Early Adopter       0.50      0.40      0.44        10\n",
            "Early Majority       0.81      0.62      0.70        21\n",
            "\n",
            "      accuracy                           0.61        67\n",
            "     macro avg       0.61      0.59      0.59        67\n",
            "  weighted avg       0.63      0.61      0.61        67\n",
            "\n"
          ]
        }
      ],
      "source": [
        "print(classification_report(y_test, y_pred, target_names=['Late Majority', 'Innovator', 'Early Adopter', 'Early Majority']))"
      ]
    },
    {
      "cell_type": "code",
      "execution_count": 64,
      "metadata": {
        "colab": {
          "base_uri": "https://localhost:8080/"
        },
        "id": "EitmN6Cs4enm",
        "outputId": "a84dcc06-0929-436f-fcb8-832e887cbcce"
      },
      "outputs": [
        {
          "data": {
            "text/plain": [
              "array(['Late Majority', 'Innovator', 'Early Adopter', 'Early Majority'],\n",
              "      dtype=object)"
            ]
          },
          "execution_count": 64,
          "metadata": {},
          "output_type": "execute_result"
        }
      ],
      "source": [
        "df_trein[\"Adoção_eReader\"].unique()"
      ]
    },
    {
      "cell_type": "markdown",
      "metadata": {
        "id": "-irdptHq_2rb"
      },
      "source": [
        "## Visualização das Decisões"
      ]
    },
    {
      "cell_type": "code",
      "execution_count": 65,
      "metadata": {
        "colab": {
          "base_uri": "https://localhost:8080/",
          "height": 300
        },
        "id": "V_A92_qYTCkY",
        "outputId": "ea7f5cf6-23f4-4184-bacd-01e2e84dae5b"
      },
      "outputs": [
        {
          "data": {
            "image/png": "[encoded data removed]",
            "text/plain": [
              "<IPython.core.display.Image object>"
            ]
          },
          "execution_count": 65,
          "metadata": {},
          "output_type": "execute_result"
        }
      ],
      "source": [
        "import pydotplus\n",
        "from IPython.display import Image\n",
        "# Create DOT data\n",
        "dot_data = tree.export_graphviz(treeConsumer, out_file=None, \n",
        "                                feature_names=vect.feature_names_,  \n",
        "                                rounded =True,\n",
        "                                filled=True,\n",
        "                                max_depth= 4 , #Limitamos a 4 para melhor visualização.\n",
        "                                #min_samples_leaf =4,\n",
        "                                #min_samples_split = 2,\n",
        "                                impurity=False,  # Adicionamos o atributo impurity para remover as impurezas de cada nó.\n",
        "                               \n",
        "                                class_names=le.classes_)\n",
        "\n",
        "# Draw graph\n",
        "graph = pydotplus.graph_from_dot_data(dot_data)  \n",
        "\n",
        "# Show graph\n",
        "Image(graph.create_png())"
      ]
    }
  ],
  "metadata": {
    "colab": {
      "collapsed_sections": [],
      "name": "ML_Ozeas_e_Victor Final.ipynb",
      "provenance": []
    },
    "kernelspec": {
      "display_name": "Python 3.10.4 64-bit",
      "language": "python",
      "name": "python3"
    },
    "language_info": {
      "name": "python",
      "version": "3.10.4"
    },
    "vscode": {
      "interpreter": {
        "hash": "230c00bc207ef41e7a33f3cce0fee5f3c2268fad3a9389c11521cbffb6db939c"
      }
    }
  },
  "nbformat": 4,
  "nbformat_minor": 0
}
