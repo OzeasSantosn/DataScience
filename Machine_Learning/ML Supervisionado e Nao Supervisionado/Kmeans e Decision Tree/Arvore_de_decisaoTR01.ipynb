{
  "cells": [
    {
      "cell_type": "markdown",
      "metadata": {
        "id": "1MsOiuBgAvBy"
      },
      "source": [
        "# Árvore de decisão\n",
        "\n",
        "### Base de dados: Clima-Nominal\n",
        "\n",
        "Ilustra o funcionamento do algoritmo de árvore de decisão com dados nominais.\n",
        "\n",
        "\n",
        "-------------------------------------------------------------------------------\n",
        "\n",
        "WEATHER.NOMINAL, Weka\n",
        "\n",
        "http://storm.cis.fordham.edu/~gweiss/data-mining/datasets.html\n",
        "\n",
        "DESCRIÇÃO DOS ATRIBUTOS:\n",
        "\n",
        "1. Aparência {Ensolarado, Nublado, Chuvoso}\n",
        "2. Temperatura {Quente, Moderado, Frio}\n",
        "3. Umidade {Alta, Normal}\n",
        "4. Vento {Fraco, Forte}\n",
        "5. Jogar {Sim, Não}\n",
        "\n",
        "\n",
        "### UPLOAD DE ARQUIVO LOCAL:\n",
        "\n",
        "Para fazer o upload de bases de dados, deve-se usar o objeto ```files``` do pacote ```goggle.colab```.\n",
        "\n",
        "Deve-se fazer o upload do arquivo \"train.csv\" disponível na pasta \"Datasets\\Titanic\".\n",
        "\n",
        "```Se você quiser um botão pra fazer upload do arquivo direto no notebook\n",
        "#  from google.colab import files\n",
        "#  uploaded = files.upload()\n",
        "#  df = pd.read_csv(next(iter(uploaded.keys())))\n",
        "```\n",
        "\n",
        "``` Se quiser ler de uma pasta que ja está salva no seu gdrive\n",
        "#  from google.colab import drive\n",
        "#  drive.mount('/content/drive')\n",
        "#  df = pd.read_excel('/content/drive/My Drive/arquivo.xlsx', sheet_name=0)\n",
        "```\n",
        "\n"
      ]
    },
    {
      "cell_type": "markdown",
      "metadata": {
        "id": "u76P84fufg5W"
      },
      "source": [
        "### Inicialização da plataforma do Colab.\n",
        "\n",
        "Essa seção instala e carrega os pacotes necessários para a execução do código."
      ]
    },
    {
      "cell_type": "markdown",
      "metadata": {
        "id": "A46kV4VTA_la"
      },
      "source": [
        "### Transformação de dados\n",
        "\n",
        "Inicialmente os atributos são convertidos para o formato de dicionário.\n",
        "Em seguida os atributos são transformados em binário, para cada par (key, value) do dicionário.\n",
        "\n",
        "<code>DictVectorizer(dtype=class ‘numpy.float64’, separator=’=’, sparse=True, sort=True)</code>\n",
        "\n",
        "A classe é convertida para labels únicos sequenciais.\n",
        "\n",
        "<code>\n",
        " le = preprocessing.LabelEncoder()\n",
        "  \n",
        " le.fit(dados)\n",
        "</code>\n"
      ]
    },
    {
      "cell_type": "code",
      "execution_count": 6,
      "metadata": {
        "id": "qByzyujfrFrv"
      },
      "outputs": [],
      "source": [
        "%%capture\n",
        "!pip install dtreeviz"
      ]
    },
    {
      "cell_type": "code",
      "execution_count": 7,
      "metadata": {
        "id": "PDVQg6ZJ_WXn"
      },
      "outputs": [],
      "source": [
        "import pandas as pd\n",
        "from sklearn.tree import DecisionTreeClassifier\n",
        "from sklearn.feature_extraction import DictVectorizer\n",
        "from sklearn.preprocessing import LabelEncoder\n",
        "from sklearn import tree"
      ]
    },
    {
      "cell_type": "code",
      "execution_count": 8,
      "metadata": {},
      "outputs": [],
      "source": [
        "df_validacao = pd.read_excel(\"Atividade 3 - Bases.xls\", sheet_name=\"VALIDAÇÃO\")\n",
        "df_treinamento = pd.read_excel(\"Atividade 3 - Bases.xls\", sheet_name=\"TREINAMENTO\")"
      ]
    },
    {
      "cell_type": "code",
      "execution_count": 9,
      "metadata": {},
      "outputs": [
        {
          "data": {
            "text/html": [
              "<div>\n",
              "<style scoped>\n",
              "    .dataframe tbody tr th:only-of-type {\n",
              "        vertical-align: middle;\n",
              "    }\n",
              "\n",
              "    .dataframe tbody tr th {\n",
              "        vertical-align: top;\n",
              "    }\n",
              "\n",
              "    .dataframe thead th {\n",
              "        text-align: right;\n",
              "    }\n",
              "</style>\n",
              "<table border=\"1\" class=\"dataframe\">\n",
              "  <thead>\n",
              "    <tr style=\"text-align: right;\">\n",
              "      <th></th>\n",
              "      <th>ID_usuário</th>\n",
              "      <th>Gênero</th>\n",
              "      <th>Idade</th>\n",
              "      <th>Estado_civil</th>\n",
              "      <th>Atividade_no_site</th>\n",
              "      <th>Pesquisou_eletronicos_12m</th>\n",
              "      <th>Comprou_eletronicos_12m</th>\n",
              "      <th>Pesquisou_mídia_digital_18m</th>\n",
              "      <th>Comprou_mídia_digital_18m</th>\n",
              "      <th>Forma_pagamento</th>\n",
              "    </tr>\n",
              "  </thead>\n",
              "  <tbody>\n",
              "    <tr>\n",
              "      <th>0</th>\n",
              "      <td>56031</td>\n",
              "      <td>M</td>\n",
              "      <td>57</td>\n",
              "      <td>S</td>\n",
              "      <td>Intermitente</td>\n",
              "      <td>Sim</td>\n",
              "      <td>Sim</td>\n",
              "      <td>Sim</td>\n",
              "      <td>Sim</td>\n",
              "      <td>Transferência</td>\n",
              "    </tr>\n",
              "    <tr>\n",
              "      <th>1</th>\n",
              "      <td>25913</td>\n",
              "      <td>F</td>\n",
              "      <td>51</td>\n",
              "      <td>C</td>\n",
              "      <td>Intermitente</td>\n",
              "      <td>Sim</td>\n",
              "      <td>Sim</td>\n",
              "      <td>Não</td>\n",
              "      <td>Não</td>\n",
              "      <td>Transferência</td>\n",
              "    </tr>\n",
              "    <tr>\n",
              "      <th>2</th>\n",
              "      <td>19396</td>\n",
              "      <td>M</td>\n",
              "      <td>41</td>\n",
              "      <td>C</td>\n",
              "      <td>Esporádico</td>\n",
              "      <td>Sim</td>\n",
              "      <td>Sim</td>\n",
              "      <td>Sim</td>\n",
              "      <td>Não</td>\n",
              "      <td>Website</td>\n",
              "    </tr>\n",
              "    <tr>\n",
              "      <th>3</th>\n",
              "      <td>93666</td>\n",
              "      <td>M</td>\n",
              "      <td>66</td>\n",
              "      <td>S</td>\n",
              "      <td>Intermitente</td>\n",
              "      <td>Sim</td>\n",
              "      <td>Sim</td>\n",
              "      <td>Sim</td>\n",
              "      <td>Sim</td>\n",
              "      <td>Cartão de crédito</td>\n",
              "    </tr>\n",
              "    <tr>\n",
              "      <th>4</th>\n",
              "      <td>72282</td>\n",
              "      <td>F</td>\n",
              "      <td>31</td>\n",
              "      <td>S</td>\n",
              "      <td>Esporádico</td>\n",
              "      <td>Sim</td>\n",
              "      <td>Não</td>\n",
              "      <td>Sim</td>\n",
              "      <td>Não</td>\n",
              "      <td>Website</td>\n",
              "    </tr>\n",
              "    <tr>\n",
              "      <th>...</th>\n",
              "      <td>...</td>\n",
              "      <td>...</td>\n",
              "      <td>...</td>\n",
              "      <td>...</td>\n",
              "      <td>...</td>\n",
              "      <td>...</td>\n",
              "      <td>...</td>\n",
              "      <td>...</td>\n",
              "      <td>...</td>\n",
              "      <td>...</td>\n",
              "    </tr>\n",
              "    <tr>\n",
              "      <th>468</th>\n",
              "      <td>45102</td>\n",
              "      <td>M</td>\n",
              "      <td>60</td>\n",
              "      <td>S</td>\n",
              "      <td>Esporádico</td>\n",
              "      <td>Sim</td>\n",
              "      <td>Não</td>\n",
              "      <td>Sim</td>\n",
              "      <td>Sim</td>\n",
              "      <td>Transferência</td>\n",
              "    </tr>\n",
              "    <tr>\n",
              "      <th>469</th>\n",
              "      <td>96393</td>\n",
              "      <td>F</td>\n",
              "      <td>24</td>\n",
              "      <td>S</td>\n",
              "      <td>Esporádico</td>\n",
              "      <td>Sim</td>\n",
              "      <td>Não</td>\n",
              "      <td>Não</td>\n",
              "      <td>Não</td>\n",
              "      <td>Cartão de crédito</td>\n",
              "    </tr>\n",
              "    <tr>\n",
              "      <th>470</th>\n",
              "      <td>40897</td>\n",
              "      <td>M</td>\n",
              "      <td>23</td>\n",
              "      <td>C</td>\n",
              "      <td>Intermitente</td>\n",
              "      <td>Sim</td>\n",
              "      <td>Sim</td>\n",
              "      <td>Sim</td>\n",
              "      <td>Sim</td>\n",
              "      <td>Website</td>\n",
              "    </tr>\n",
              "    <tr>\n",
              "      <th>471</th>\n",
              "      <td>23653</td>\n",
              "      <td>F</td>\n",
              "      <td>36</td>\n",
              "      <td>S</td>\n",
              "      <td>Esporádico</td>\n",
              "      <td>Sim</td>\n",
              "      <td>Não</td>\n",
              "      <td>Sim</td>\n",
              "      <td>Não</td>\n",
              "      <td>Transferência</td>\n",
              "    </tr>\n",
              "    <tr>\n",
              "      <th>472</th>\n",
              "      <td>88464</td>\n",
              "      <td>M</td>\n",
              "      <td>46</td>\n",
              "      <td>S</td>\n",
              "      <td>Esporádico</td>\n",
              "      <td>Sim</td>\n",
              "      <td>Sim</td>\n",
              "      <td>Sim</td>\n",
              "      <td>Sim</td>\n",
              "      <td>Transferência</td>\n",
              "    </tr>\n",
              "  </tbody>\n",
              "</table>\n",
              "<p>473 rows × 10 columns</p>\n",
              "</div>"
            ],
            "text/plain": [
              "     ID_usuário Gênero  Idade Estado_civil Atividade_no_site  \\\n",
              "0         56031      M     57            S      Intermitente   \n",
              "1         25913      F     51            C      Intermitente   \n",
              "2         19396      M     41            C        Esporádico   \n",
              "3         93666      M     66            S      Intermitente   \n",
              "4         72282      F     31            S        Esporádico   \n",
              "..          ...    ...    ...          ...               ...   \n",
              "468       45102      M     60            S        Esporádico   \n",
              "469       96393      F     24            S        Esporádico   \n",
              "470       40897      M     23            C      Intermitente   \n",
              "471       23653      F     36            S        Esporádico   \n",
              "472       88464      M     46            S        Esporádico   \n",
              "\n",
              "    Pesquisou_eletronicos_12m Comprou_eletronicos_12m  \\\n",
              "0                         Sim                     Sim   \n",
              "1                         Sim                     Sim   \n",
              "2                         Sim                     Sim   \n",
              "3                         Sim                     Sim   \n",
              "4                         Sim                     Não   \n",
              "..                        ...                     ...   \n",
              "468                       Sim                     Não   \n",
              "469                       Sim                     Não   \n",
              "470                       Sim                     Sim   \n",
              "471                       Sim                     Não   \n",
              "472                       Sim                     Sim   \n",
              "\n",
              "    Pesquisou_mídia_digital_18m Comprou_mídia_digital_18m    Forma_pagamento  \n",
              "0                           Sim                       Sim      Transferência  \n",
              "1                           Não                       Não      Transferência  \n",
              "2                           Sim                       Não            Website  \n",
              "3                           Sim                       Sim  Cartão de crédito  \n",
              "4                           Sim                       Não            Website  \n",
              "..                          ...                       ...                ...  \n",
              "468                         Sim                       Sim      Transferência  \n",
              "469                         Não                       Não  Cartão de crédito  \n",
              "470                         Sim                       Sim            Website  \n",
              "471                         Sim                       Não      Transferência  \n",
              "472                         Sim                       Sim      Transferência  \n",
              "\n",
              "[473 rows x 10 columns]"
            ]
          },
          "execution_count": 9,
          "metadata": {},
          "output_type": "execute_result"
        }
      ],
      "source": [
        "df_validacao"
      ]
    },
    {
      "cell_type": "code",
      "execution_count": 10,
      "metadata": {},
      "outputs": [
        {
          "data": {
            "text/html": [
              "<div>\n",
              "<style scoped>\n",
              "    .dataframe tbody tr th:only-of-type {\n",
              "        vertical-align: middle;\n",
              "    }\n",
              "\n",
              "    .dataframe tbody tr th {\n",
              "        vertical-align: top;\n",
              "    }\n",
              "\n",
              "    .dataframe thead th {\n",
              "        text-align: right;\n",
              "    }\n",
              "</style>\n",
              "<table border=\"1\" class=\"dataframe\">\n",
              "  <thead>\n",
              "    <tr style=\"text-align: right;\">\n",
              "      <th></th>\n",
              "      <th>ID_usuário</th>\n",
              "      <th>Gênero</th>\n",
              "      <th>Idade</th>\n",
              "      <th>Estado_civil</th>\n",
              "      <th>Atividade_no_site</th>\n",
              "      <th>Pesquisou_eletronicos_12m</th>\n",
              "      <th>Comprou_eletronicos_12m</th>\n",
              "      <th>Pesquisou_mídia_digital_18m</th>\n",
              "      <th>Comprou_mídia_digital_18m</th>\n",
              "      <th>Forma_pagamento</th>\n",
              "      <th>Adoção_eReader</th>\n",
              "    </tr>\n",
              "  </thead>\n",
              "  <tbody>\n",
              "    <tr>\n",
              "      <th>0</th>\n",
              "      <td>9552</td>\n",
              "      <td>M</td>\n",
              "      <td>61</td>\n",
              "      <td>C</td>\n",
              "      <td>Esporádico</td>\n",
              "      <td>Sim</td>\n",
              "      <td>Sim</td>\n",
              "      <td>Sim</td>\n",
              "      <td>Não</td>\n",
              "      <td>Transferência</td>\n",
              "      <td>Late Majority</td>\n",
              "    </tr>\n",
              "    <tr>\n",
              "      <th>1</th>\n",
              "      <td>6757</td>\n",
              "      <td>M</td>\n",
              "      <td>27</td>\n",
              "      <td>C</td>\n",
              "      <td>Intermitente</td>\n",
              "      <td>Sim</td>\n",
              "      <td>Não</td>\n",
              "      <td>Sim</td>\n",
              "      <td>Não</td>\n",
              "      <td>Transferência</td>\n",
              "      <td>Innovator</td>\n",
              "    </tr>\n",
              "    <tr>\n",
              "      <th>2</th>\n",
              "      <td>3599</td>\n",
              "      <td>F</td>\n",
              "      <td>29</td>\n",
              "      <td>C</td>\n",
              "      <td>Esporádico</td>\n",
              "      <td>Sim</td>\n",
              "      <td>Sim</td>\n",
              "      <td>Sim</td>\n",
              "      <td>Sim</td>\n",
              "      <td>Transferência</td>\n",
              "      <td>Early Adopter</td>\n",
              "    </tr>\n",
              "    <tr>\n",
              "      <th>3</th>\n",
              "      <td>6811</td>\n",
              "      <td>M</td>\n",
              "      <td>49</td>\n",
              "      <td>C</td>\n",
              "      <td>Esporádico</td>\n",
              "      <td>Sim</td>\n",
              "      <td>Sim</td>\n",
              "      <td>Sim</td>\n",
              "      <td>Sim</td>\n",
              "      <td>Website</td>\n",
              "      <td>Early Adopter</td>\n",
              "    </tr>\n",
              "    <tr>\n",
              "      <th>4</th>\n",
              "      <td>4104</td>\n",
              "      <td>M</td>\n",
              "      <td>29</td>\n",
              "      <td>S</td>\n",
              "      <td>Esporádico</td>\n",
              "      <td>Sim</td>\n",
              "      <td>Sim</td>\n",
              "      <td>Sim</td>\n",
              "      <td>Não</td>\n",
              "      <td>Website</td>\n",
              "      <td>Late Majority</td>\n",
              "    </tr>\n",
              "    <tr>\n",
              "      <th>...</th>\n",
              "      <td>...</td>\n",
              "      <td>...</td>\n",
              "      <td>...</td>\n",
              "      <td>...</td>\n",
              "      <td>...</td>\n",
              "      <td>...</td>\n",
              "      <td>...</td>\n",
              "      <td>...</td>\n",
              "      <td>...</td>\n",
              "      <td>...</td>\n",
              "      <td>...</td>\n",
              "    </tr>\n",
              "    <tr>\n",
              "      <th>656</th>\n",
              "      <td>8450</td>\n",
              "      <td>M</td>\n",
              "      <td>48</td>\n",
              "      <td>S</td>\n",
              "      <td>Frequênte</td>\n",
              "      <td>Sim</td>\n",
              "      <td>Sim</td>\n",
              "      <td>Sim</td>\n",
              "      <td>Sim</td>\n",
              "      <td>Website</td>\n",
              "      <td>Late Majority</td>\n",
              "    </tr>\n",
              "    <tr>\n",
              "      <th>657</th>\n",
              "      <td>2048</td>\n",
              "      <td>F</td>\n",
              "      <td>32</td>\n",
              "      <td>C</td>\n",
              "      <td>Intermitente</td>\n",
              "      <td>Sim</td>\n",
              "      <td>Não</td>\n",
              "      <td>Sim</td>\n",
              "      <td>Não</td>\n",
              "      <td>Website</td>\n",
              "      <td>Early Adopter</td>\n",
              "    </tr>\n",
              "    <tr>\n",
              "      <th>658</th>\n",
              "      <td>9630</td>\n",
              "      <td>F</td>\n",
              "      <td>26</td>\n",
              "      <td>C</td>\n",
              "      <td>Esporádico</td>\n",
              "      <td>Sim</td>\n",
              "      <td>Não</td>\n",
              "      <td>Sim</td>\n",
              "      <td>Sim</td>\n",
              "      <td>Website</td>\n",
              "      <td>Early Majority</td>\n",
              "    </tr>\n",
              "    <tr>\n",
              "      <th>659</th>\n",
              "      <td>9982</td>\n",
              "      <td>F</td>\n",
              "      <td>55</td>\n",
              "      <td>S</td>\n",
              "      <td>Esporádico</td>\n",
              "      <td>Sim</td>\n",
              "      <td>Não</td>\n",
              "      <td>Sim</td>\n",
              "      <td>Não</td>\n",
              "      <td>Boleto bancário</td>\n",
              "      <td>Early Adopter</td>\n",
              "    </tr>\n",
              "    <tr>\n",
              "      <th>660</th>\n",
              "      <td>2542</td>\n",
              "      <td>M</td>\n",
              "      <td>57</td>\n",
              "      <td>S</td>\n",
              "      <td>Intermitente</td>\n",
              "      <td>Não</td>\n",
              "      <td>Sim</td>\n",
              "      <td>Sim</td>\n",
              "      <td>Sim</td>\n",
              "      <td>Transferência</td>\n",
              "      <td>Early Majority</td>\n",
              "    </tr>\n",
              "  </tbody>\n",
              "</table>\n",
              "<p>661 rows × 11 columns</p>\n",
              "</div>"
            ],
            "text/plain": [
              "     ID_usuário Gênero  Idade Estado_civil Atividade_no_site  \\\n",
              "0          9552      M     61            C        Esporádico   \n",
              "1          6757      M     27            C      Intermitente   \n",
              "2          3599      F     29            C        Esporádico   \n",
              "3          6811      M     49            C        Esporádico   \n",
              "4          4104      M     29            S        Esporádico   \n",
              "..          ...    ...    ...          ...               ...   \n",
              "656        8450      M     48            S         Frequênte   \n",
              "657        2048      F     32            C      Intermitente   \n",
              "658        9630      F     26            C        Esporádico   \n",
              "659        9982      F     55            S        Esporádico   \n",
              "660        2542      M     57            S      Intermitente   \n",
              "\n",
              "    Pesquisou_eletronicos_12m Comprou_eletronicos_12m  \\\n",
              "0                         Sim                     Sim   \n",
              "1                         Sim                     Não   \n",
              "2                         Sim                     Sim   \n",
              "3                         Sim                     Sim   \n",
              "4                         Sim                     Sim   \n",
              "..                        ...                     ...   \n",
              "656                       Sim                     Sim   \n",
              "657                       Sim                     Não   \n",
              "658                       Sim                     Não   \n",
              "659                       Sim                     Não   \n",
              "660                       Não                     Sim   \n",
              "\n",
              "    Pesquisou_mídia_digital_18m Comprou_mídia_digital_18m  Forma_pagamento  \\\n",
              "0                           Sim                       Não    Transferência   \n",
              "1                           Sim                       Não    Transferência   \n",
              "2                           Sim                       Sim    Transferência   \n",
              "3                           Sim                       Sim          Website   \n",
              "4                           Sim                       Não          Website   \n",
              "..                          ...                       ...              ...   \n",
              "656                         Sim                       Sim          Website   \n",
              "657                         Sim                       Não          Website   \n",
              "658                         Sim                       Sim          Website   \n",
              "659                         Sim                       Não  Boleto bancário   \n",
              "660                         Sim                       Sim    Transferência   \n",
              "\n",
              "     Adoção_eReader  \n",
              "0     Late Majority  \n",
              "1         Innovator  \n",
              "2     Early Adopter  \n",
              "3     Early Adopter  \n",
              "4     Late Majority  \n",
              "..              ...  \n",
              "656   Late Majority  \n",
              "657   Early Adopter  \n",
              "658  Early Majority  \n",
              "659   Early Adopter  \n",
              "660  Early Majority  \n",
              "\n",
              "[661 rows x 11 columns]"
            ]
          },
          "execution_count": 10,
          "metadata": {},
          "output_type": "execute_result"
        }
      ],
      "source": [
        "df_treinamento"
      ]
    },
    {
      "cell_type": "code",
      "execution_count": 12,
      "metadata": {
        "colab": {
          "base_uri": "https://localhost:8080/"
        },
        "id": "Zub2lEwLvyAc",
        "outputId": "15908c59-9dd9-4b4e-d865-7122120f9f4a"
      },
      "outputs": [
        {
          "name": "stdout",
          "output_type": "stream",
          "text": [
            "<class 'pandas.core.frame.DataFrame'>\n",
            "RangeIndex: 473 entries, 0 to 472\n",
            "Data columns (total 10 columns):\n",
            " #   Column                       Non-Null Count  Dtype \n",
            "---  ------                       --------------  ----- \n",
            " 0   ID_usuário                   473 non-null    int64 \n",
            " 1   Gênero                       473 non-null    object\n",
            " 2   Idade                        473 non-null    int64 \n",
            " 3   Estado_civil                 473 non-null    object\n",
            " 4   Atividade_no_site            473 non-null    object\n",
            " 5   Pesquisou_eletronicos_12m    473 non-null    object\n",
            " 6   Comprou_eletronicos_12m      473 non-null    object\n",
            " 7   Pesquisou_mídia_digital_18m  473 non-null    object\n",
            " 8   Comprou_mídia_digital_18m    473 non-null    object\n",
            " 9   Forma_pagamento              473 non-null    object\n",
            "dtypes: int64(2), object(8)\n",
            "memory usage: 37.1+ KB\n"
          ]
        }
      ],
      "source": [
        "df_validacao.info()"
      ]
    },
    {
      "cell_type": "code",
      "execution_count": 13,
      "metadata": {
        "colab": {
          "base_uri": "https://localhost:8080/",
          "height": 175
        },
        "id": "Naoq3CSWyJ8h",
        "outputId": "a12b4970-42b4-45fa-e6fe-dddeab7c6355"
      },
      "outputs": [
        {
          "data": {
            "text/plain": [
              "<bound method NDFrame.describe of      ID_usuário Gênero  Idade Estado_civil Atividade_no_site  \\\n",
              "0         56031      M     57            S      Intermitente   \n",
              "1         25913      F     51            C      Intermitente   \n",
              "2         19396      M     41            C        Esporádico   \n",
              "3         93666      M     66            S      Intermitente   \n",
              "4         72282      F     31            S        Esporádico   \n",
              "..          ...    ...    ...          ...               ...   \n",
              "468       45102      M     60            S        Esporádico   \n",
              "469       96393      F     24            S        Esporádico   \n",
              "470       40897      M     23            C      Intermitente   \n",
              "471       23653      F     36            S        Esporádico   \n",
              "472       88464      M     46            S        Esporádico   \n",
              "\n",
              "    Pesquisou_eletronicos_12m Comprou_eletronicos_12m  \\\n",
              "0                         Sim                     Sim   \n",
              "1                         Sim                     Sim   \n",
              "2                         Sim                     Sim   \n",
              "3                         Sim                     Sim   \n",
              "4                         Sim                     Não   \n",
              "..                        ...                     ...   \n",
              "468                       Sim                     Não   \n",
              "469                       Sim                     Não   \n",
              "470                       Sim                     Sim   \n",
              "471                       Sim                     Não   \n",
              "472                       Sim                     Sim   \n",
              "\n",
              "    Pesquisou_mídia_digital_18m Comprou_mídia_digital_18m    Forma_pagamento  \n",
              "0                           Sim                       Sim      Transferência  \n",
              "1                           Não                       Não      Transferência  \n",
              "2                           Sim                       Não            Website  \n",
              "3                           Sim                       Sim  Cartão de crédito  \n",
              "4                           Sim                       Não            Website  \n",
              "..                          ...                       ...                ...  \n",
              "468                         Sim                       Sim      Transferência  \n",
              "469                         Não                       Não  Cartão de crédito  \n",
              "470                         Sim                       Sim            Website  \n",
              "471                         Sim                       Não      Transferência  \n",
              "472                         Sim                       Sim      Transferência  \n",
              "\n",
              "[473 rows x 10 columns]>"
            ]
          },
          "execution_count": 13,
          "metadata": {},
          "output_type": "execute_result"
        }
      ],
      "source": [
        "df_validacao.describe"
      ]
    },
    {
      "cell_type": "code",
      "execution_count": 14,
      "metadata": {
        "colab": {
          "base_uri": "https://localhost:8080/",
          "height": 206
        },
        "id": "pUU_bu4jud1t",
        "outputId": "e1e27174-2dd3-4a4d-a181-f144299ddcc6"
      },
      "outputs": [
        {
          "data": {
            "text/plain": [
              "ID_usuário                     0\n",
              "Gênero                         0\n",
              "Idade                          0\n",
              "Estado_civil                   0\n",
              "Atividade_no_site              0\n",
              "Pesquisou_eletronicos_12m      0\n",
              "Comprou_eletronicos_12m        0\n",
              "Pesquisou_mídia_digital_18m    0\n",
              "Comprou_mídia_digital_18m      0\n",
              "Forma_pagamento                0\n",
              "dtype: int64"
            ]
          },
          "execution_count": 14,
          "metadata": {},
          "output_type": "execute_result"
        }
      ],
      "source": [
        "df_validacao.isna().sum()"
      ]
    },
    {
      "cell_type": "code",
      "execution_count": null,
      "metadata": {
        "colab": {
          "base_uri": "https://localhost:8080/"
        },
        "id": "T1tLvIKvy10s",
        "outputId": "e576739c-b9e2-49dd-c97e-0e96f233e7b0"
      },
      "outputs": [],
      "source": [
        "#Selecionar todas colunas exceto a classe\n",
        "\n",
        "X_dict = df_validacao.iloc[:,df_validacao.columns != 'Adoção_eReader'].T.to_dict().values()\n",
        "# X_dict = clima_nominal.iloc[:,0:4].T.to_dict().values()\n",
        "\n",
        "# Exibe o dado convertido em dicionario.\n",
        "print(\"Atributos:\", X_dict)"
      ]
    },
    {
      "cell_type": "code",
      "execution_count": 17,
      "metadata": {
        "colab": {
          "base_uri": "https://localhost:8080/"
        },
        "id": "pQzY_XVp__pZ",
        "outputId": "7a12c1a3-49d4-4824-c446-da53378802b9"
      },
      "outputs": [
        {
          "name": "stdout",
          "output_type": "stream",
          "text": [
            "Shape do dado de treinamento apos binarizacao (dummies): (473, 21)\n"
          ]
        },
        {
          "data": {
            "text/plain": [
              "array([[0., 0., 1., ..., 1., 0., 1.],\n",
              "       [0., 0., 1., ..., 1., 1., 0.],\n",
              "       [1., 0., 0., ..., 1., 0., 1.],\n",
              "       ...,\n",
              "       [0., 0., 1., ..., 1., 0., 1.],\n",
              "       [1., 0., 0., ..., 1., 0., 1.],\n",
              "       [1., 0., 0., ..., 1., 0., 1.]])"
            ]
          },
          "execution_count": 17,
          "metadata": {},
          "output_type": "execute_result"
        }
      ],
      "source": [
        "# Transformar as variáveis categóricas\n",
        "\n",
        "vect = DictVectorizer(sparse=False) # Obs da doc: se deve produzir uma estrutura de dados to tipo scipy.sparse\n",
        "                                    # https://scikit-learn.org/stable/modules/generated/sklearn.feature_extraction.DictVectorizer.html\n",
        "\n",
        "X_train = vect.fit_transform(X_dict)\n",
        "\n",
        "# Exibe a estrutura do dado convertido em binário.\n",
        "print(\"Shape do dado de treinamento apos binarizacao (dummies): {0}\".format(X_train.shape))\n",
        "X_train\n"
      ]
    },
    {
      "cell_type": "code",
      "execution_count": 18,
      "metadata": {
        "colab": {
          "base_uri": "https://localhost:8080/"
        },
        "id": "7XZ4NPbf0LvG",
        "outputId": "e046f1f5-20eb-4ec1-df43-81a38046d27b"
      },
      "outputs": [
        {
          "data": {
            "text/plain": [
              "['Atividade_no_site=Esporádico',\n",
              " 'Atividade_no_site=Frequênte',\n",
              " 'Atividade_no_site=Intermitente',\n",
              " 'Comprou_eletronicos_12m=Não',\n",
              " 'Comprou_eletronicos_12m=Sim',\n",
              " 'Comprou_mídia_digital_18m=Não',\n",
              " 'Comprou_mídia_digital_18m=Sim',\n",
              " 'Estado_civil=C',\n",
              " 'Estado_civil=S',\n",
              " 'Forma_pagamento=Boleto bancário',\n",
              " 'Forma_pagamento=Cartão de crédito',\n",
              " 'Forma_pagamento=Transferência',\n",
              " 'Forma_pagamento=Website',\n",
              " 'Gênero=F',\n",
              " 'Gênero=M',\n",
              " 'ID_usuário',\n",
              " 'Idade',\n",
              " 'Pesquisou_eletronicos_12m=Não',\n",
              " 'Pesquisou_eletronicos_12m=Sim',\n",
              " 'Pesquisou_mídia_digital_18m=Não',\n",
              " 'Pesquisou_mídia_digital_18m=Sim']"
            ]
          },
          "execution_count": 18,
          "metadata": {},
          "output_type": "execute_result"
        }
      ],
      "source": [
        "vect.feature_names_"
      ]
    },
    {
      "cell_type": "code",
      "execution_count": 20,
      "metadata": {
        "colab": {
          "base_uri": "https://localhost:8080/",
          "height": 143
        },
        "id": "OLoMfYTeHU_e",
        "outputId": "c03a1f69-d14a-4a68-da5c-1dd27b97e725"
      },
      "outputs": [
        {
          "data": {
            "text/html": [
              "<div>\n",
              "<style scoped>\n",
              "    .dataframe tbody tr th:only-of-type {\n",
              "        vertical-align: middle;\n",
              "    }\n",
              "\n",
              "    .dataframe tbody tr th {\n",
              "        vertical-align: top;\n",
              "    }\n",
              "\n",
              "    .dataframe thead th {\n",
              "        text-align: right;\n",
              "    }\n",
              "</style>\n",
              "<table border=\"1\" class=\"dataframe\">\n",
              "  <thead>\n",
              "    <tr style=\"text-align: right;\">\n",
              "      <th></th>\n",
              "      <th>ID_usuário</th>\n",
              "      <th>Gênero</th>\n",
              "      <th>Idade</th>\n",
              "      <th>Estado_civil</th>\n",
              "      <th>Atividade_no_site</th>\n",
              "      <th>Pesquisou_eletronicos_12m</th>\n",
              "      <th>Comprou_eletronicos_12m</th>\n",
              "      <th>Pesquisou_mídia_digital_18m</th>\n",
              "      <th>Comprou_mídia_digital_18m</th>\n",
              "      <th>Forma_pagamento</th>\n",
              "    </tr>\n",
              "  </thead>\n",
              "  <tbody>\n",
              "    <tr>\n",
              "      <th>0</th>\n",
              "      <td>56031</td>\n",
              "      <td>M</td>\n",
              "      <td>57</td>\n",
              "      <td>S</td>\n",
              "      <td>Intermitente</td>\n",
              "      <td>Sim</td>\n",
              "      <td>Sim</td>\n",
              "      <td>Sim</td>\n",
              "      <td>Sim</td>\n",
              "      <td>Transferência</td>\n",
              "    </tr>\n",
              "    <tr>\n",
              "      <th>1</th>\n",
              "      <td>25913</td>\n",
              "      <td>F</td>\n",
              "      <td>51</td>\n",
              "      <td>C</td>\n",
              "      <td>Intermitente</td>\n",
              "      <td>Sim</td>\n",
              "      <td>Sim</td>\n",
              "      <td>Não</td>\n",
              "      <td>Não</td>\n",
              "      <td>Transferência</td>\n",
              "    </tr>\n",
              "    <tr>\n",
              "      <th>2</th>\n",
              "      <td>19396</td>\n",
              "      <td>M</td>\n",
              "      <td>41</td>\n",
              "      <td>C</td>\n",
              "      <td>Esporádico</td>\n",
              "      <td>Sim</td>\n",
              "      <td>Sim</td>\n",
              "      <td>Sim</td>\n",
              "      <td>Não</td>\n",
              "      <td>Website</td>\n",
              "    </tr>\n",
              "  </tbody>\n",
              "</table>\n",
              "</div>"
            ],
            "text/plain": [
              "   ID_usuário Gênero  Idade Estado_civil Atividade_no_site  \\\n",
              "0       56031      M     57            S      Intermitente   \n",
              "1       25913      F     51            C      Intermitente   \n",
              "2       19396      M     41            C        Esporádico   \n",
              "\n",
              "  Pesquisou_eletronicos_12m Comprou_eletronicos_12m  \\\n",
              "0                       Sim                     Sim   \n",
              "1                       Sim                     Sim   \n",
              "2                       Sim                     Sim   \n",
              "\n",
              "  Pesquisou_mídia_digital_18m Comprou_mídia_digital_18m Forma_pagamento  \n",
              "0                         Sim                       Sim   Transferência  \n",
              "1                         Não                       Não   Transferência  \n",
              "2                         Sim                       Não         Website  "
            ]
          },
          "execution_count": 20,
          "metadata": {},
          "output_type": "execute_result"
        }
      ],
      "source": [
        "df_validacao.head(3)"
      ]
    },
    {
      "cell_type": "code",
      "execution_count": 23,
      "metadata": {
        "colab": {
          "base_uri": "https://localhost:8080/"
        },
        "id": "sUpYM7u3yylt",
        "outputId": "a3f175e5-a679-403e-f60c-8895d29e1df6"
      },
      "outputs": [
        {
          "name": "stdout",
          "output_type": "stream",
          "text": [
            "Labels: [2 2 3 1 3 2 3 3 3 3 3 3 2 1 3 2 0 2 0 2 2 3 3 0 3 2 2 3 2 2 1 1 2 1 1 2 1\n",
            " 3 2 2 0 3 1 1 3 3 3 3 3 1 1 0 3 2 3 0 3 3 3 3 0 3 3 2 3 3 0 3 2 2 3 2 0 1\n",
            " 1 3 3 2 3 3 3 3 2 2 3 3 0 0 1 3 2 3 3 0 3 3 3 3 3 3 3 2 2 1 0 1 1 3 3 1 2\n",
            " 2 3 2 0 3 2 1 2 3 3 3 3 1 2 1 2 3 1 0 2 3 3 3 0 3 3 2 3 1 2 3 3 2 3 3 2 2\n",
            " 0 3 3 1 2 2 2 3 3 0 2 2 2 0 3 2 2 1 2 2 2 3 3 3 3 3 3 3 2 1 2 2 3 2 3 3 1\n",
            " 2 3 1 0 3 3 0 3 3 1 1 2 2 2 2 2 3 0 0 2 2 2 1 2 3 1 2 1 3 2 1 3 0 3 3 2 0\n",
            " 2 1 2 2 3 2 3 3 0 3 1 1 0 2 2 2 2 2 3 3 3 2 3 3 2 2 2 3 3 2 3 2 1 1 3 2 2\n",
            " 3 3 2 2 3 3 3 3 2 2 3 3 3 3 3 3 3 3 3 3 2 3 0 2 3 0 3 2 3 2 2 3 1 3 0 1 3\n",
            " 0 2 2 1 1 3 0 3 3 2 1 2 0 3 3 3 2 2 3 2 0 3 3 3 3 3 3 3 3 3 2 1 0 3 3 2 2\n",
            " 2 0 1 2 2 3 1 0 1 0 3 1 3 2 2 3 2 3 3 2 2 0 0 3 2 3 3 2 2 2 3 2 1 1 2 0 3\n",
            " 3 3 0 0 2 3 0 3 2 3 3 1 2 0 2 3 2 3 3 3 2 0 0 1 3 2 2 2 1 2 3 3 2 3 3 2 2\n",
            " 3 2 3 2 2 1 0 0 2 1 2 0 2 2 2 0 1 3 1 3 2 3 2 3 0 1 3 3 0 2 2 1 1 2 3 0 0\n",
            " 3 2 2 2 2 3 3 0 3 3 0 2 3 2 0 0 0 3 1 2 3 2 1 2 2 1 3 2 2]\n"
          ]
        }
      ],
      "source": [
        "le = LabelEncoder()\n",
        "\n",
        "y_train = le.fit_transform(df_validacao[\"Forma_pagamento\"])\n",
        "# y_train = le.fit_transform(clima_nominal.iloc[:,4])\n",
        "\n",
        "print(\"Labels:\", y_train)"
      ]
    },
    {
      "cell_type": "code",
      "execution_count": 24,
      "metadata": {
        "colab": {
          "base_uri": "https://localhost:8080/"
        },
        "id": "tHC5agecm2MP",
        "outputId": "f27bac36-25d1-47b4-98db-37e648bc73cc"
      },
      "outputs": [
        {
          "data": {
            "text/plain": [
              "array(['Boleto bancário', 'Cartão de crédito', 'Transferência', 'Website'],\n",
              "      dtype=object)"
            ]
          },
          "execution_count": 24,
          "metadata": {},
          "output_type": "execute_result"
        }
      ],
      "source": [
        "le.classes_"
      ]
    },
    {
      "cell_type": "markdown",
      "metadata": {
        "id": "kg3Fr_1XAoKi"
      },
      "source": [
        "### Indução do Modelo\n",
        "\n",
        "\n",
        "Os três passos para indução de um modelo são:\n",
        "\n",
        "1.   Instanciar o modelo: ``` DecisionTreeClassifier()```\n",
        "2.   Treinar o modelo: ```fit()```\n",
        "3.   Testar o modelo: ```predict()```\n",
        "\n"
      ]
    },
    {
      "cell_type": "code",
      "execution_count": 25,
      "metadata": {
        "colab": {
          "base_uri": "https://localhost:8080/"
        },
        "id": "QT3S0B39AnJD",
        "outputId": "db5853bf-3a11-4fe4-ed01-b23e3cd48e35"
      },
      "outputs": [
        {
          "data": {
            "text/plain": [
              "DecisionTreeClassifier(criterion='entropy', random_state=0)"
            ]
          },
          "execution_count": 25,
          "metadata": {},
          "output_type": "execute_result"
        }
      ],
      "source": [
        "treeClima = DecisionTreeClassifier(random_state=0, criterion='entropy')\n",
        "\n",
        "treeClima = treeClima.fit(X_train, y_train)\n",
        "treeClima"
      ]
    },
    {
      "cell_type": "code",
      "execution_count": 26,
      "metadata": {
        "colab": {
          "base_uri": "https://localhost:8080/"
        },
        "id": "ACMsBv7_yM9p",
        "outputId": "fe1878c2-d77f-4dfc-f531-77494e2d25e3"
      },
      "outputs": [
        {
          "data": {
            "text/plain": [
              "array([2, 2, 3, 1, 3, 2, 3, 3, 3, 3, 3, 3, 2, 1, 3, 2, 0, 2, 0, 2, 2, 3,\n",
              "       3, 0, 3, 2, 2, 3, 2, 2, 1, 1, 2, 1, 1, 2, 1, 3, 2, 2, 0, 3, 1, 1,\n",
              "       3, 3, 3, 3, 3, 1, 1, 0, 3, 2, 3, 0, 3, 3, 3, 3, 0, 3, 3, 2, 3, 3,\n",
              "       0, 3, 2, 2, 3, 2, 0, 1, 1, 3, 3, 2, 3, 3, 3, 3, 2, 2, 3, 3, 0, 0,\n",
              "       1, 3, 2, 3, 3, 0, 3, 3, 3, 3, 3, 3, 3, 2, 2, 1, 0, 1, 1, 3, 3, 1,\n",
              "       2, 2, 3, 2, 0, 3, 2, 1, 2, 3, 3, 3, 3, 1, 2, 1, 2, 3, 1, 0, 2, 3,\n",
              "       3, 3, 0, 3, 3, 2, 3, 1, 2, 3, 3, 2, 3, 3, 2, 2, 0, 3, 3, 1, 2, 2,\n",
              "       2, 3, 3, 0, 2, 2, 2, 0, 3, 2, 2, 1, 2, 2, 2, 3, 3, 3, 3, 3, 3, 3,\n",
              "       2, 1, 2, 2, 3, 2, 3, 3, 1, 2, 3, 1, 0, 3, 3, 0, 3, 3, 1, 1, 2, 2,\n",
              "       2, 2, 2, 3, 0, 0, 2, 2, 2, 1, 2, 3, 1, 2, 1, 3, 2, 1, 3, 0, 3, 3,\n",
              "       2, 0, 2, 1, 2, 2, 3, 2, 3, 3, 0, 3, 1, 1, 0, 2, 2, 2, 2, 2, 3, 3,\n",
              "       3, 2, 3, 3, 2, 2, 2, 3, 3, 2, 3, 2, 1, 1, 3, 2, 2, 3, 3, 2, 2, 3,\n",
              "       3, 3, 3, 2, 2, 3, 3, 3, 3, 3, 3, 3, 3, 3, 3, 2, 3, 0, 2, 3, 0, 3,\n",
              "       2, 3, 2, 2, 3, 1, 3, 0, 1, 3, 0, 2, 2, 1, 1, 3, 0, 3, 3, 2, 1, 2,\n",
              "       0, 3, 3, 3, 2, 2, 3, 2, 0, 3, 3, 3, 3, 3, 3, 3, 3, 3, 2, 1, 0, 3,\n",
              "       3, 2, 2, 2, 0, 1, 2, 2, 3, 1, 0, 1, 0, 3, 1, 3, 2, 2, 3, 2, 3, 3,\n",
              "       2, 2, 0, 0, 3, 2, 3, 3, 2, 2, 2, 3, 2, 1, 1, 2, 0, 3, 3, 3, 0, 0,\n",
              "       2, 3, 0, 3, 2, 3, 3, 1, 2, 0, 2, 3, 2, 3, 3, 3, 2, 0, 0, 1, 3, 2,\n",
              "       2, 2, 1, 2, 3, 3, 2, 3, 3, 2, 2, 3, 2, 3, 2, 2, 1, 0, 0, 2, 1, 2,\n",
              "       0, 2, 2, 2, 0, 1, 3, 1, 3, 2, 3, 2, 3, 0, 1, 3, 3, 0, 2, 2, 1, 1,\n",
              "       2, 3, 0, 0, 3, 2, 2, 2, 2, 3, 3, 0, 3, 3, 0, 2, 3, 2, 0, 0, 0, 3,\n",
              "       1, 2, 3, 2, 1, 2, 2, 1, 3, 2, 2])"
            ]
          },
          "execution_count": 26,
          "metadata": {},
          "output_type": "execute_result"
        }
      ],
      "source": [
        "treeClima.predict(X_train)"
      ]
    },
    {
      "cell_type": "code",
      "execution_count": null,
      "metadata": {
        "colab": {
          "base_uri": "https://localhost:8080/"
        },
        "id": "bfooXBOq0_Vn",
        "outputId": "fec73e8b-0da9-43aa-cd86-0a768398343a"
      },
      "outputs": [],
      "source": [
        "y_train"
      ]
    },
    {
      "cell_type": "markdown",
      "metadata": {
        "id": "-irdptHq_2rb"
      },
      "source": [
        "## Visualização das Decisões"
      ]
    },
    {
      "cell_type": "code",
      "execution_count": 28,
      "metadata": {},
      "outputs": [
        {
          "name": "stdout",
          "output_type": "stream",
          "text": [
            "Requirement already satisfied: pydotplus in c:\\users\\onascimento\\appdata\\local\\programs\\python\\python310\\lib\\site-packages (2.0.2)\n",
            "Requirement already satisfied: pyparsing>=2.0.1 in c:\\users\\onascimento\\appdata\\local\\programs\\python\\python310\\lib\\site-packages (from pydotplus) (3.0.8)\n",
            "Note: you may need to restart the kernel to use updated packages.\n"
          ]
        }
      ],
      "source": [
        "pip install pydotplus"
      ]
    },
    {
      "cell_type": "code",
      "execution_count": 31,
      "metadata": {},
      "outputs": [
        {
          "name": "stdout",
          "output_type": "stream",
          "text": [
            "Requirement already satisfied: graphviz in c:\\users\\onascimento\\appdata\\local\\programs\\python\\python310\\lib\\site-packages (0.20)\n",
            "Note: you may need to restart the kernel to use updated packages.\n"
          ]
        }
      ],
      "source": [
        "pip install graphviz "
      ]
    },
    {
      "cell_type": "code",
      "execution_count": 34,
      "metadata": {
        "colab": {
          "base_uri": "https://localhost:8080/",
          "height": 753
        },
        "id": "V_A92_qYTCkY",
        "outputId": "46a5b8f1-6f27-453e-aa08-c5c2f80024e0"
      },
      "outputs": [
        {
          "ename": "InvocationException",
          "evalue": "GraphViz's executables not found",
          "output_type": "error",
          "traceback": [
            "\u001b[1;31m---------------------------------------------------------------------------\u001b[0m",
            "\u001b[1;31mInvocationException\u001b[0m                       Traceback (most recent call last)",
            "\u001b[1;32mc:\\Users\\onascimento\\Desktop\\ML\\Arvore_de_decisaoTR01.ipynb Cell 25'\u001b[0m in \u001b[0;36m<cell line: 14>\u001b[1;34m()\u001b[0m\n\u001b[0;32m     <a href='vscode-notebook-cell:/c%3A/Users/onascimento/Desktop/ML/Arvore_de_decisaoTR01.ipynb#ch0000023?line=10'>11</a>\u001b[0m graph \u001b[39m=\u001b[39m pydotplus\u001b[39m.\u001b[39mgraph_from_dot_data(dot_data)  \n\u001b[0;32m     <a href='vscode-notebook-cell:/c%3A/Users/onascimento/Desktop/ML/Arvore_de_decisaoTR01.ipynb#ch0000023?line=12'>13</a>\u001b[0m \u001b[39m# Show graph\u001b[39;00m\n\u001b[1;32m---> <a href='vscode-notebook-cell:/c%3A/Users/onascimento/Desktop/ML/Arvore_de_decisaoTR01.ipynb#ch0000023?line=13'>14</a>\u001b[0m Image(graph\u001b[39m.\u001b[39;49mcreate_png())\n",
            "File \u001b[1;32mc:\\Users\\onascimento\\AppData\\Local\\Programs\\Python\\Python310\\lib\\site-packages\\pydotplus\\graphviz.py:1797\u001b[0m, in \u001b[0;36mDot.__init__.<locals>.<lambda>\u001b[1;34m(f, prog)\u001b[0m\n\u001b[0;32m   <a href='file:///c%3A/Users/onascimento/AppData/Local/Programs/Python/Python310/lib/site-packages/pydotplus/graphviz.py?line=1791'>1792</a>\u001b[0m \u001b[39m# Automatically creates all the methods enabling the creation\u001b[39;00m\n\u001b[0;32m   <a href='file:///c%3A/Users/onascimento/AppData/Local/Programs/Python/Python310/lib/site-packages/pydotplus/graphviz.py?line=1792'>1793</a>\u001b[0m \u001b[39m# of output in any of the supported formats.\u001b[39;00m\n\u001b[0;32m   <a href='file:///c%3A/Users/onascimento/AppData/Local/Programs/Python/Python310/lib/site-packages/pydotplus/graphviz.py?line=1793'>1794</a>\u001b[0m \u001b[39mfor\u001b[39;00m frmt \u001b[39min\u001b[39;00m \u001b[39mself\u001b[39m\u001b[39m.\u001b[39mformats:\n\u001b[0;32m   <a href='file:///c%3A/Users/onascimento/AppData/Local/Programs/Python/Python310/lib/site-packages/pydotplus/graphviz.py?line=1794'>1795</a>\u001b[0m     \u001b[39mself\u001b[39m\u001b[39m.\u001b[39m\u001b[39m__setattr__\u001b[39m(\n\u001b[0;32m   <a href='file:///c%3A/Users/onascimento/AppData/Local/Programs/Python/Python310/lib/site-packages/pydotplus/graphviz.py?line=1795'>1796</a>\u001b[0m         \u001b[39m'\u001b[39m\u001b[39mcreate_\u001b[39m\u001b[39m'\u001b[39m \u001b[39m+\u001b[39m frmt,\n\u001b[1;32m-> <a href='file:///c%3A/Users/onascimento/AppData/Local/Programs/Python/Python310/lib/site-packages/pydotplus/graphviz.py?line=1796'>1797</a>\u001b[0m         \u001b[39mlambda\u001b[39;00m f\u001b[39m=\u001b[39mfrmt, prog\u001b[39m=\u001b[39m\u001b[39mself\u001b[39m\u001b[39m.\u001b[39mprog: \u001b[39mself\u001b[39;49m\u001b[39m.\u001b[39;49mcreate(\u001b[39mformat\u001b[39;49m\u001b[39m=\u001b[39;49mf, prog\u001b[39m=\u001b[39;49mprog)\n\u001b[0;32m   <a href='file:///c%3A/Users/onascimento/AppData/Local/Programs/Python/Python310/lib/site-packages/pydotplus/graphviz.py?line=1797'>1798</a>\u001b[0m     )\n\u001b[0;32m   <a href='file:///c%3A/Users/onascimento/AppData/Local/Programs/Python/Python310/lib/site-packages/pydotplus/graphviz.py?line=1798'>1799</a>\u001b[0m     f \u001b[39m=\u001b[39m \u001b[39mself\u001b[39m\u001b[39m.\u001b[39m\u001b[39m__dict__\u001b[39m[\u001b[39m'\u001b[39m\u001b[39mcreate_\u001b[39m\u001b[39m'\u001b[39m \u001b[39m+\u001b[39m frmt]\n\u001b[0;32m   <a href='file:///c%3A/Users/onascimento/AppData/Local/Programs/Python/Python310/lib/site-packages/pydotplus/graphviz.py?line=1799'>1800</a>\u001b[0m     f\u001b[39m.\u001b[39m\u001b[39m__doc__\u001b[39m \u001b[39m=\u001b[39m (\n\u001b[0;32m   <a href='file:///c%3A/Users/onascimento/AppData/Local/Programs/Python/Python310/lib/site-packages/pydotplus/graphviz.py?line=1800'>1801</a>\u001b[0m         \u001b[39m'''Refer to the docstring accompanying the'''\u001b[39;00m\n\u001b[0;32m   <a href='file:///c%3A/Users/onascimento/AppData/Local/Programs/Python/Python310/lib/site-packages/pydotplus/graphviz.py?line=1801'>1802</a>\u001b[0m         \u001b[39m''''create' method for more information.'''\u001b[39;00m\n\u001b[0;32m   <a href='file:///c%3A/Users/onascimento/AppData/Local/Programs/Python/Python310/lib/site-packages/pydotplus/graphviz.py?line=1802'>1803</a>\u001b[0m     )\n",
            "File \u001b[1;32mc:\\Users\\onascimento\\AppData\\Local\\Programs\\Python\\Python310\\lib\\site-packages\\pydotplus\\graphviz.py:1959\u001b[0m, in \u001b[0;36mDot.create\u001b[1;34m(self, prog, format)\u001b[0m\n\u001b[0;32m   <a href='file:///c%3A/Users/onascimento/AppData/Local/Programs/Python/Python310/lib/site-packages/pydotplus/graphviz.py?line=1956'>1957</a>\u001b[0m     \u001b[39mself\u001b[39m\u001b[39m.\u001b[39mprogs \u001b[39m=\u001b[39m find_graphviz()\n\u001b[0;32m   <a href='file:///c%3A/Users/onascimento/AppData/Local/Programs/Python/Python310/lib/site-packages/pydotplus/graphviz.py?line=1957'>1958</a>\u001b[0m     \u001b[39mif\u001b[39;00m \u001b[39mself\u001b[39m\u001b[39m.\u001b[39mprogs \u001b[39mis\u001b[39;00m \u001b[39mNone\u001b[39;00m:\n\u001b[1;32m-> <a href='file:///c%3A/Users/onascimento/AppData/Local/Programs/Python/Python310/lib/site-packages/pydotplus/graphviz.py?line=1958'>1959</a>\u001b[0m         \u001b[39mraise\u001b[39;00m InvocationException(\n\u001b[0;32m   <a href='file:///c%3A/Users/onascimento/AppData/Local/Programs/Python/Python310/lib/site-packages/pydotplus/graphviz.py?line=1959'>1960</a>\u001b[0m             \u001b[39m'\u001b[39m\u001b[39mGraphViz\u001b[39m\u001b[39m\\'\u001b[39;00m\u001b[39ms executables not found\u001b[39m\u001b[39m'\u001b[39m)\n\u001b[0;32m   <a href='file:///c%3A/Users/onascimento/AppData/Local/Programs/Python/Python310/lib/site-packages/pydotplus/graphviz.py?line=1961'>1962</a>\u001b[0m \u001b[39mif\u001b[39;00m prog \u001b[39mnot\u001b[39;00m \u001b[39min\u001b[39;00m \u001b[39mself\u001b[39m\u001b[39m.\u001b[39mprogs:\n\u001b[0;32m   <a href='file:///c%3A/Users/onascimento/AppData/Local/Programs/Python/Python310/lib/site-packages/pydotplus/graphviz.py?line=1962'>1963</a>\u001b[0m     \u001b[39mraise\u001b[39;00m InvocationException(\n\u001b[0;32m   <a href='file:///c%3A/Users/onascimento/AppData/Local/Programs/Python/Python310/lib/site-packages/pydotplus/graphviz.py?line=1963'>1964</a>\u001b[0m         \u001b[39m'\u001b[39m\u001b[39mGraphViz\u001b[39m\u001b[39m\\'\u001b[39;00m\u001b[39ms executable \u001b[39m\u001b[39m\"\u001b[39m\u001b[39m%s\u001b[39;00m\u001b[39m\"\u001b[39m\u001b[39m not found\u001b[39m\u001b[39m'\u001b[39m \u001b[39m%\u001b[39m prog)\n",
            "\u001b[1;31mInvocationException\u001b[0m: GraphViz's executables not found"
          ]
        }
      ],
      "source": [
        "import pydotplus\n",
        "from IPython.display import Image\n",
        "# Create DOT data\n",
        "dot_data = tree.export_graphviz(treeClima, out_file=None, \n",
        "                                feature_names=vect.feature_names_,  \n",
        "                                rounded =True,\n",
        "                                filled=True,\n",
        "                                class_names=le.classes_)\n",
        "\n",
        "# Draw graph\n",
        "graph = pydotplus.graph_from_dot_data(dot_data)  \n",
        "\n",
        "# Show graph\n",
        "Image(graph.create_png())\n"
      ]
    },
    {
      "cell_type": "code",
      "execution_count": 36,
      "metadata": {
        "id": "1HHunavu8EH9"
      },
      "outputs": [
        {
          "ename": "SyntaxError",
          "evalue": "invalid syntax (2529819739.py, line 1)",
          "output_type": "error",
          "traceback": [
            "\u001b[1;36m  Input \u001b[1;32mIn [36]\u001b[1;36m\u001b[0m\n\u001b[1;33m    sudo apt-get install graphviz\u001b[0m\n\u001b[1;37m         ^\u001b[0m\n\u001b[1;31mSyntaxError\u001b[0m\u001b[1;31m:\u001b[0m invalid syntax\n"
          ]
        }
      ],
      "source": []
    }
  ],
  "metadata": {
    "colab": {
      "collapsed_sections": [],
      "name": "Arvore de decisao - Clima.ipynb",
      "provenance": []
    },
    "interpreter": {
      "hash": "230c00bc207ef41e7a33f3cce0fee5f3c2268fad3a9389c11521cbffb6db939c"
    },
    "kernelspec": {
      "display_name": "Python 3.10.4 64-bit",
      "language": "python",
      "name": "python3"
    },
    "language_info": {
      "codemirror_mode": {
        "name": "ipython",
        "version": 3
      },
      "file_extension": ".py",
      "mimetype": "text/x-python",
      "name": "python",
      "nbconvert_exporter": "python",
      "pygments_lexer": "ipython3",
      "version": "3.10.4"
    }
  },
  "nbformat": 4,
  "nbformat_minor": 0
}
