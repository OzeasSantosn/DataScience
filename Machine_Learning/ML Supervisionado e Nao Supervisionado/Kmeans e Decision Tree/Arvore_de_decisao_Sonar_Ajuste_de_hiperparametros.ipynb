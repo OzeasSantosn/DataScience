{
  "cells": [
    {
      "cell_type": "markdown",
      "metadata": {
        "id": "1MsOiuBgAvBy"
      },
      "source": [
        "# Árvore de decisão\n",
        "\n",
        "\n",
        "Ilustra o funcionamento do algoritmo de árvore de decisão com dados contínuos.\n",
        "\n",
        "-------------------------------------------------------------------------------\n",
        "\n",
        "### Base de dados: Sonar, Mines vs. Rocks\n",
        "\n",
        "https://archive.ics.uci.edu/ml/datasets/Connectionist+Bench+%28Sonar,+Mines+vs.+Rocks%29\n",
        "\n",
        "208 instâncias\n",
        "\n",
        "60 atributos\n",
        "\n",
        "2 classes (rocha, mina)\n",
        "\n",
        "### UPLOAD DE ARQUIVO LOCAL:\n",
        "\n",
        "Para fazer o upload de bases de dados, deve-se usar o objeto ```files``` do pacote ```goggle.colab```.\n",
        "\n",
        "Deve-se fazer o upload do arquivo \"train.csv\" disponível na pasta \"Datasets\\Titanic\".\n",
        "\n",
        "```Se você quiser um botão pra fazer upload do arquivo direto no notebook\n",
        "#  from google.colab import files\n",
        "#  uploaded = files.upload()\n",
        "#  df = pd.read_csv(next(iter(uploaded.keys())))\n",
        "```\n",
        "\n",
        "``` Se quiser ler de uma pasta que ja está salva no seu gdrive\n",
        "#  from google.colab import drive\n",
        "#  drive.mount('/content/drive')\n",
        "#  df = pd.read_excel('/content/drive/My Drive/arquivo.xlsx', sheet_name=0)\n",
        "```\n",
        "\n"
      ]
    },
    {
      "cell_type": "code",
      "execution_count": null,
      "metadata": {
        "id": "OwXOcJUaTV-I",
        "vscode": {
          "languageId": "python"
        }
      },
      "outputs": [],
      "source": [
        "%%capture\n",
        "!pip install pydotplus\n",
        "!pip install dtreeviz"
      ]
    },
    {
      "cell_type": "code",
      "execution_count": null,
      "metadata": {
        "id": "PDVQg6ZJ_WXn",
        "vscode": {
          "languageId": "python"
        }
      },
      "outputs": [],
      "source": [
        "import pandas as pd\n",
        "import numpy as np\n",
        "from sklearn import datasets, tree\n",
        "from sklearn.model_selection import train_test_split\n",
        "from sklearn.tree import DecisionTreeClassifier\n",
        "from sklearn.metrics import accuracy_score, classification_report, confusion_matrix\n",
        "from sklearn.feature_extraction import DictVectorizer\n",
        "from sklearn.preprocessing import LabelEncoder"
      ]
    },
    {
      "cell_type": "code",
      "execution_count": null,
      "metadata": {
        "id": "_i91qyax5H7Y",
        "vscode": {
          "languageId": "python"
        }
      },
      "outputs": [],
      "source": [
        "# Truque pra baixar direto pelo link\n",
        "download_url = 'https://drive.google.com/uc?export=download&id='\n",
        "url_drive_file = 'https://docs.google.com/spreadsheets/d/1cGZN3X8ydgwbbsaiQK5_\\\n",
        "yUwf3VTLH19W/edit?usp=sharing&ouid=114919786921075985733&rtpof=true&sd=true'\n",
        "\n",
        "download_path = download_url + url_drive_file.split('/')[-2]\n",
        "\n",
        "sonar = pd.read_excel(download_path, sheet_name=0)\n",
        "\n",
        "sonar.head()"
      ]
    },
    {
      "cell_type": "markdown",
      "metadata": {
        "id": "A46kV4VTA_la"
      },
      "source": [
        "### Carga dos dados e particionamento das bases de treinamento e teste\n",
        "\n",
        "### Transformação de dados\n",
        "\n",
        "A classe é convertida para labels únicos sequenciais.\n",
        "\n",
        "<code>\n",
        " le = preprocessing.LabelEncoder()\n",
        "  \n",
        " le.fit(dados)\n",
        "</code>\n",
        "\n",
        "\n",
        "### Particionamento da base\n",
        "\n",
        "<code>train_test_split(X, y) -- particiona a base de dados original em bases de treinamento e teste.</code>\n",
        "\n",
        "No código a seguir, são utilizados 10% para teste e 90% para treinamento.\n",
        "\n",
        "\n",
        "\n",
        "\n",
        "\n"
      ]
    },
    {
      "cell_type": "code",
      "execution_count": null,
      "metadata": {
        "id": "pQzY_XVp__pZ",
        "vscode": {
          "languageId": "python"
        }
      },
      "outputs": [],
      "source": [
        "print(\"\\nDimensões: {0}\".format(sonar.shape))\n",
        "print(\"\\nCampos: {0}\".format(sonar.keys())) \n",
        "print(sonar.describe(), sep='\\n')\n",
        "\n",
        "X = sonar.iloc[:,0:(sonar.shape[1] - 1)]\n",
        "\n",
        "le = LabelEncoder()\n",
        "y = le.fit_transform(sonar.iloc[:,(sonar.shape[1] - 1)])\n",
        "\n",
        "# Particiona a base de dados\n",
        "X_train, X_test, y_train, y_test = train_test_split(X, y, random_state=0, test_size=0.1)"
      ]
    },
    {
      "cell_type": "markdown",
      "metadata": {
        "id": "kg3Fr_1XAoKi"
      },
      "source": [
        "### Indução do Modelo\n",
        "\n",
        "\n",
        "Os três passos para indução de um modelo são:\n",
        "\n",
        "1.   Instanciar o modelo: ``` DecisionTreeClassifier()```\n",
        "2.   Treinar o modelo: ```fit()```\n",
        "3.   Testar o modelo: ```predict()```\n",
        "\n"
      ]
    },
    {
      "cell_type": "code",
      "execution_count": null,
      "metadata": {
        "id": "25z919Lp_aHu",
        "vscode": {
          "languageId": "python"
        }
      },
      "outputs": [],
      "source": []
    },
    {
      "cell_type": "code",
      "execution_count": null,
      "metadata": {
        "id": "Fo2oEQF40BfK",
        "vscode": {
          "languageId": "python"
        }
      },
      "outputs": [],
      "source": [
        "sonar_tree = DecisionTreeClassifier(random_state=0, criterion='gini')#, max_depth=2)\n",
        "sonar_tree = sonar_tree.fit(X_train, y_train)"
      ]
    },
    {
      "cell_type": "code",
      "execution_count": null,
      "metadata": {
        "id": "GgZQXS7v-iDa",
        "vscode": {
          "languageId": "python"
        }
      },
      "outputs": [],
      "source": [
        "print(\"Acurácia (base de treinamento):\", sonar_tree.score(X_train, y_train))"
      ]
    },
    {
      "cell_type": "code",
      "execution_count": null,
      "metadata": {
        "id": "LsEVb7HQMcfk",
        "vscode": {
          "languageId": "python"
        }
      },
      "outputs": [],
      "source": [
        "y_pred = sonar_tree.predict(X_test)\n",
        "y_pred"
      ]
    },
    {
      "cell_type": "code",
      "execution_count": null,
      "metadata": {
        "id": "wwWZ-UYIP4UQ",
        "vscode": {
          "languageId": "python"
        }
      },
      "outputs": [],
      "source": [
        "y_pred"
      ]
    },
    {
      "cell_type": "code",
      "execution_count": null,
      "metadata": {
        "id": "m9oG3aA2-fhJ",
        "vscode": {
          "languageId": "python"
        }
      },
      "outputs": [],
      "source": [
        "print(\"Acurácia de previsão:\", accuracy_score(y_test, y_pred))"
      ]
    },
    {
      "cell_type": "code",
      "execution_count": null,
      "metadata": {
        "id": "VLhw5eMx-1Fn",
        "vscode": {
          "languageId": "python"
        }
      },
      "outputs": [],
      "source": [
        "print(classification_report(y_test, y_pred, target_names=[\"Mina\", \"Rocha\"]))\n",
        "      \n",
        "cnf_matrix = confusion_matrix(y_test, y_pred)\n",
        "cnf_table = pd.DataFrame(data=cnf_matrix, index=[\"Mina\", \"Rocha\"], columns=[\"Mina (prev)\", \"Rocha (prev)\"])\n",
        "print(cnf_table)"
      ]
    },
    {
      "cell_type": "markdown",
      "metadata": {
        "id": "f2HUb-V-ihZt"
      },
      "source": [
        "### Exibição da árvore de decisão"
      ]
    },
    {
      "cell_type": "code",
      "execution_count": null,
      "metadata": {
        "id": "V_A92_qYTCkY",
        "vscode": {
          "languageId": "python"
        }
      },
      "outputs": [],
      "source": [
        "import pydotplus\n",
        "from IPython.display import Image\n",
        "\n",
        "# Create DOT data\n",
        "dot_data = tree.export_graphviz(sonar_tree, out_file=None, \n",
        "                                proportion=False,\n",
        "                                rounded =True,\n",
        "                                filled=True,\n",
        "                                feature_names=np.arange(0,60),  \n",
        "                                class_names=[\"mina\", \"rocha\"])\n",
        "\n",
        "# Draw graph\n",
        "graph = pydotplus.graph_from_dot_data(dot_data)  \n",
        "\n",
        "# Show graph\n",
        "Image(graph.create_png())\n"
      ]
    },
    {
      "cell_type": "markdown",
      "metadata": {
        "id": "jD3b9h9ubaLC"
      },
      "source": [
        "# Ajuste de hiperparâmetros utilizando grid search e random search"
      ]
    },
    {
      "cell_type": "code",
      "execution_count": null,
      "metadata": {
        "colab": {
          "base_uri": "https://localhost:8080/"
        },
        "id": "UmsKpX5V1R9H",
        "outputId": "b95543f9-6fd9-4c19-b41e-93558153be1a",
        "vscode": {
          "languageId": "python"
        }
      },
      "outputs": [
        {
          "data": {
            "text/plain": [
              "DecisionTreeClassifier(random_state=0)"
            ]
          },
          "execution_count": 26,
          "metadata": {},
          "output_type": "execute_result"
        }
      ],
      "source": [
        "sonar_tree"
      ]
    },
    {
      "cell_type": "code",
      "execution_count": null,
      "metadata": {
        "colab": {
          "base_uri": "https://localhost:8080/"
        },
        "id": "Ybu535adb9QA",
        "outputId": "af009a44-0d16-47d8-a88d-b2e20a870b14",
        "vscode": {
          "languageId": "python"
        }
      },
      "outputs": [
        {
          "data": {
            "text/plain": [
              "{'ccp_alpha': 0.0,\n",
              " 'class_weight': None,\n",
              " 'criterion': 'gini',\n",
              " 'max_depth': None,\n",
              " 'max_features': None,\n",
              " 'max_leaf_nodes': None,\n",
              " 'min_impurity_decrease': 0.0,\n",
              " 'min_samples_leaf': 1,\n",
              " 'min_samples_split': 2,\n",
              " 'min_weight_fraction_leaf': 0.0,\n",
              " 'random_state': 0,\n",
              " 'splitter': 'best'}"
            ]
          },
          "execution_count": 27,
          "metadata": {},
          "output_type": "execute_result"
        }
      ],
      "source": [
        "# Parametros da atuais\n",
        "sonar_tree.get_params()"
      ]
    },
    {
      "cell_type": "code",
      "execution_count": null,
      "metadata": {
        "id": "TaM4u2ICcBV5",
        "vscode": {
          "languageId": "python"
        }
      },
      "outputs": [],
      "source": [
        "# Analise outros hiperparametros possíveis: \n",
        "# https://scikit-learn.org/stable/modules/generated/sklearn.tree.DecisionTreeClassifier.html#sklearn.tree.DecisionTreeClassifier"
      ]
    },
    {
      "cell_type": "code",
      "execution_count": null,
      "metadata": {
        "id": "9cBlMuRWbjFE",
        "vscode": {
          "languageId": "python"
        }
      },
      "outputs": [],
      "source": [
        "from sklearn.model_selection import RandomizedSearchCV\n",
        "\n",
        "from time import time"
      ]
    },
    {
      "cell_type": "code",
      "execution_count": null,
      "metadata": {
        "colab": {
          "base_uri": "https://localhost:8080/"
        },
        "id": "lanKDQTg4ei9",
        "outputId": "08c0b2c0-a8bf-4203-eb39-60657ee86df3",
        "vscode": {
          "languageId": "python"
        }
      },
      "outputs": [
        {
          "data": {
            "text/plain": [
              "array([ 3,  4,  5,  6,  7,  8,  9, 10, 11, 12, 13, 14])"
            ]
          },
          "execution_count": 28,
          "metadata": {},
          "output_type": "execute_result"
        }
      ],
      "source": [
        "np.arange(3, 15)"
      ]
    },
    {
      "cell_type": "code",
      "execution_count": null,
      "metadata": {
        "colab": {
          "base_uri": "https://localhost:8080/"
        },
        "id": "O3bSwqBCNyhi",
        "outputId": "27f6f5cb-a381-4818-c4b4-88d9779fe5cb",
        "vscode": {
          "languageId": "python"
        }
      },
      "outputs": [
        {
          "data": {
            "text/plain": [
              "{'criterion': ['gini', 'entropy'],\n",
              " 'max_depth': array([ 3,  4,  5,  6,  7,  8,  9, 10, 11, 12, 13, 14]),\n",
              " 'min_samples_leaf': array([2, 3, 4]),\n",
              " 'min_samples_split': array([2, 3, 4])}"
            ]
          },
          "execution_count": 29,
          "metadata": {},
          "output_type": "execute_result"
        }
      ],
      "source": [
        "# specify parameters and distributions to sample from\n",
        "tree_params = {\"max_depth\": np.arange(3, 15),\n",
        "               \"criterion\": [\"gini\", \"entropy\"],\n",
        "               \"min_samples_split\": np.arange(2, 5),\n",
        "               \"min_samples_leaf\": np.arange(2, 5),\n",
        "               }\n",
        "\n",
        "tree_params"
      ]
    },
    {
      "cell_type": "code",
      "execution_count": null,
      "metadata": {
        "id": "WJWxAzb97XFY",
        "vscode": {
          "languageId": "python"
        }
      },
      "outputs": [],
      "source": [
        "|0|1|2| "
      ]
    },
    {
      "cell_type": "code",
      "execution_count": null,
      "metadata": {
        "id": "laRU1uc3b18P",
        "vscode": {
          "languageId": "python"
        }
      },
      "outputs": [],
      "source": [
        "# Executa randomized search\n",
        "n_iter_search = 20 \n",
        "\n",
        "random_search = RandomizedSearchCV(sonar_tree, # modelo\n",
        "                                   param_distributions=tree_params, #Parametros que criamos,\n",
        "                                   n_iter=n_iter_search, # É interessante incrementar esse valor para que mais permutações sejam testadas\n",
        "                                   cv=5,  # Cross Validation - Validação Cruzada \n",
        "                                   random_state=0)\n",
        "\n"
      ]
    },
    {
      "cell_type": "code",
      "execution_count": null,
      "metadata": {
        "colab": {
          "base_uri": "https://localhost:8080/"
        },
        "id": "_67lJ2jQIGGD",
        "outputId": "6cbea3bd-a949-4fcc-df8a-7ca1dfc176d0",
        "vscode": {
          "languageId": "python"
        }
      },
      "outputs": [
        {
          "name": "stdout",
          "output_type": "stream",
          "text": [
            "RandomizedSearchCV took 1.17 seconds for 20 candidates parameter settings \n",
            "\n",
            "\n"
          ]
        }
      ],
      "source": [
        "start = time()\n",
        "\n",
        "random_search.fit(X_train, y_train)\n",
        "\n",
        "print(\"RandomizedSearchCV took %.2f seconds for %d candidates\"\n",
        "      \" parameter settings \\n\\n\" % ((time() - start), n_iter_search))\n",
        "\n"
      ]
    },
    {
      "cell_type": "code",
      "execution_count": null,
      "metadata": {
        "colab": {
          "base_uri": "https://localhost:8080/"
        },
        "id": "Y39Pb3HJJXXh",
        "outputId": "27c5a73d-c562-4c14-8af4-ce0962e1edd4",
        "vscode": {
          "languageId": "python"
        }
      },
      "outputs": [
        {
          "data": {
            "text/plain": [
              "{'mean_fit_time': array([0.01078868, 0.00784626, 0.0064712 , 0.00902362, 0.00914016,\n",
              "        0.00720119, 0.00710907, 0.00944781, 0.00620041, 0.00729995,\n",
              "        0.00930452, 0.00938554, 0.00971446, 0.00885253, 0.00737467,\n",
              "        0.00872865, 0.00911932, 0.0060451 , 0.00903873, 0.00682626]),\n",
              " 'mean_score_time': array([0.00292239, 0.0025569 , 0.00220351, 0.00256982, 0.00265713,\n",
              "        0.00282454, 0.00299029, 0.00263057, 0.00273585, 0.00245748,\n",
              "        0.00322366, 0.00248661, 0.00319562, 0.00258241, 0.00276031,\n",
              "        0.00227933, 0.00231314, 0.00232663, 0.00221176, 0.00223994]),\n",
              " 'mean_test_score': array([0.7170697 , 0.7170697 , 0.72745377, 0.70583215, 0.71123755,\n",
              "        0.71692745, 0.72745377, 0.69530583, 0.70640114, 0.7170697 ,\n",
              "        0.7170697 , 0.7116643 , 0.71123755, 0.70071124, 0.7170697 ,\n",
              "        0.70583215, 0.70611664, 0.73271693, 0.7116643 , 0.7170697 ]),\n",
              " 'param_criterion': masked_array(data=['entropy', 'gini', 'gini', 'entropy', 'entropy',\n",
              "                    'gini', 'gini', 'entropy', 'gini', 'gini', 'gini',\n",
              "                    'entropy', 'entropy', 'entropy', 'gini', 'entropy',\n",
              "                    'entropy', 'gini', 'entropy', 'gini'],\n",
              "              mask=[False, False, False, False, False, False, False, False,\n",
              "                    False, False, False, False, False, False, False, False,\n",
              "                    False, False, False, False],\n",
              "        fill_value='?',\n",
              "             dtype=object),\n",
              " 'param_max_depth': masked_array(data=[13, 7, 12, 9, 7, 11, 13, 6, 3, 12, 9, 7, 8, 4, 11, 13,\n",
              "                    6, 4, 8, 14],\n",
              "              mask=[False, False, False, False, False, False, False, False,\n",
              "                    False, False, False, False, False, False, False, False,\n",
              "                    False, False, False, False],\n",
              "        fill_value='?',\n",
              "             dtype=object),\n",
              " 'param_min_samples_leaf': masked_array(data=[2, 2, 4, 4, 4, 3, 4, 3, 3, 2, 2, 2, 4, 2, 2, 4, 2, 3,\n",
              "                    2, 2],\n",
              "              mask=[False, False, False, False, False, False, False, False,\n",
              "                    False, False, False, False, False, False, False, False,\n",
              "                    False, False, False, False],\n",
              "        fill_value='?',\n",
              "             dtype=object),\n",
              " 'param_min_samples_split': masked_array(data=[3, 3, 4, 3, 4, 2, 2, 2, 4, 4, 3, 4, 4, 3, 4, 2, 2, 2,\n",
              "                    3, 4],\n",
              "              mask=[False, False, False, False, False, False, False, False,\n",
              "                    False, False, False, False, False, False, False, False,\n",
              "                    False, False, False, False],\n",
              "        fill_value='?',\n",
              "             dtype=object),\n",
              " 'params': [{'criterion': 'entropy',\n",
              "   'max_depth': 13,\n",
              "   'min_samples_leaf': 2,\n",
              "   'min_samples_split': 3},\n",
              "  {'criterion': 'gini',\n",
              "   'max_depth': 7,\n",
              "   'min_samples_leaf': 2,\n",
              "   'min_samples_split': 3},\n",
              "  {'criterion': 'gini',\n",
              "   'max_depth': 12,\n",
              "   'min_samples_leaf': 4,\n",
              "   'min_samples_split': 4},\n",
              "  {'criterion': 'entropy',\n",
              "   'max_depth': 9,\n",
              "   'min_samples_leaf': 4,\n",
              "   'min_samples_split': 3},\n",
              "  {'criterion': 'entropy',\n",
              "   'max_depth': 7,\n",
              "   'min_samples_leaf': 4,\n",
              "   'min_samples_split': 4},\n",
              "  {'criterion': 'gini',\n",
              "   'max_depth': 11,\n",
              "   'min_samples_leaf': 3,\n",
              "   'min_samples_split': 2},\n",
              "  {'criterion': 'gini',\n",
              "   'max_depth': 13,\n",
              "   'min_samples_leaf': 4,\n",
              "   'min_samples_split': 2},\n",
              "  {'criterion': 'entropy',\n",
              "   'max_depth': 6,\n",
              "   'min_samples_leaf': 3,\n",
              "   'min_samples_split': 2},\n",
              "  {'criterion': 'gini',\n",
              "   'max_depth': 3,\n",
              "   'min_samples_leaf': 3,\n",
              "   'min_samples_split': 4},\n",
              "  {'criterion': 'gini',\n",
              "   'max_depth': 12,\n",
              "   'min_samples_leaf': 2,\n",
              "   'min_samples_split': 4},\n",
              "  {'criterion': 'gini',\n",
              "   'max_depth': 9,\n",
              "   'min_samples_leaf': 2,\n",
              "   'min_samples_split': 3},\n",
              "  {'criterion': 'entropy',\n",
              "   'max_depth': 7,\n",
              "   'min_samples_leaf': 2,\n",
              "   'min_samples_split': 4},\n",
              "  {'criterion': 'entropy',\n",
              "   'max_depth': 8,\n",
              "   'min_samples_leaf': 4,\n",
              "   'min_samples_split': 4},\n",
              "  {'criterion': 'entropy',\n",
              "   'max_depth': 4,\n",
              "   'min_samples_leaf': 2,\n",
              "   'min_samples_split': 3},\n",
              "  {'criterion': 'gini',\n",
              "   'max_depth': 11,\n",
              "   'min_samples_leaf': 2,\n",
              "   'min_samples_split': 4},\n",
              "  {'criterion': 'entropy',\n",
              "   'max_depth': 13,\n",
              "   'min_samples_leaf': 4,\n",
              "   'min_samples_split': 2},\n",
              "  {'criterion': 'entropy',\n",
              "   'max_depth': 6,\n",
              "   'min_samples_leaf': 2,\n",
              "   'min_samples_split': 2},\n",
              "  {'criterion': 'gini',\n",
              "   'max_depth': 4,\n",
              "   'min_samples_leaf': 3,\n",
              "   'min_samples_split': 2},\n",
              "  {'criterion': 'entropy',\n",
              "   'max_depth': 8,\n",
              "   'min_samples_leaf': 2,\n",
              "   'min_samples_split': 3},\n",
              "  {'criterion': 'gini',\n",
              "   'max_depth': 14,\n",
              "   'min_samples_leaf': 2,\n",
              "   'min_samples_split': 4}],\n",
              " 'rank_test_score': array([ 4,  5,  2, 17, 13, 10,  2, 20, 15,  5,  5, 11, 13, 19,  5, 17, 16,\n",
              "         1, 11,  5], dtype=int32),\n",
              " 'split0_test_score': array([0.68421053, 0.73684211, 0.76315789, 0.73684211, 0.73684211,\n",
              "        0.73684211, 0.76315789, 0.68421053, 0.73684211, 0.73684211,\n",
              "        0.73684211, 0.68421053, 0.73684211, 0.71052632, 0.73684211,\n",
              "        0.73684211, 0.68421053, 0.76315789, 0.68421053, 0.73684211]),\n",
              " 'split1_test_score': array([0.65789474, 0.60526316, 0.65789474, 0.68421053, 0.68421053,\n",
              "        0.63157895, 0.65789474, 0.68421053, 0.57894737, 0.60526316,\n",
              "        0.60526316, 0.65789474, 0.68421053, 0.65789474, 0.60526316,\n",
              "        0.68421053, 0.68421053, 0.68421053, 0.65789474, 0.60526316]),\n",
              " 'split2_test_score': array([0.81081081, 0.83783784, 0.78378378, 0.75675676, 0.78378378,\n",
              "        0.81081081, 0.78378378, 0.72972973, 0.81081081, 0.83783784,\n",
              "        0.83783784, 0.78378378, 0.78378378, 0.75675676, 0.83783784,\n",
              "        0.75675676, 0.72972973, 0.83783784, 0.78378378, 0.83783784]),\n",
              " 'split3_test_score': array([0.7027027 , 0.72972973, 0.7027027 , 0.64864865, 0.64864865,\n",
              "        0.67567568, 0.7027027 , 0.64864865, 0.7027027 , 0.72972973,\n",
              "        0.72972973, 0.7027027 , 0.64864865, 0.67567568, 0.72972973,\n",
              "        0.64864865, 0.7027027 , 0.67567568, 0.7027027 , 0.72972973]),\n",
              " 'split4_test_score': array([0.72972973, 0.67567568, 0.72972973, 0.7027027 , 0.7027027 ,\n",
              "        0.72972973, 0.72972973, 0.72972973, 0.7027027 , 0.67567568,\n",
              "        0.67567568, 0.72972973, 0.7027027 , 0.7027027 , 0.67567568,\n",
              "        0.7027027 , 0.72972973, 0.7027027 , 0.72972973, 0.67567568]),\n",
              " 'std_fit_time': array([0.00145547, 0.0005286 , 0.00044654, 0.00066223, 0.00072134,\n",
              "        0.00115939, 0.00111266, 0.00076601, 0.00023184, 0.00061678,\n",
              "        0.00198015, 0.00066467, 0.00148942, 0.00042911, 0.00107963,\n",
              "        0.00069888, 0.00051466, 0.00028611, 0.00048012, 0.00038553]),\n",
              " 'std_score_time': array([2.53256677e-04, 9.72846671e-05, 5.70332724e-05, 1.77480597e-04,\n",
              "        3.18090395e-04, 6.59062838e-04, 7.70542621e-04, 2.42543988e-04,\n",
              "        2.76946636e-04, 9.90778347e-05, 9.11131303e-04, 7.40644313e-05,\n",
              "        5.98855202e-04, 1.53197442e-04, 4.98073100e-04, 1.30643931e-04,\n",
              "        1.97369518e-04, 2.42880769e-04, 8.00960678e-05, 1.22300226e-04]),\n",
              " 'std_test_score': array([0.05241275, 0.07661636, 0.04450643, 0.03821563, 0.04612857,\n",
              "        0.06059811, 0.04450643, 0.03096163, 0.07496646, 0.07661636,\n",
              "        0.07661636, 0.04301806, 0.04612857, 0.03376813, 0.07661636,\n",
              "        0.03821563, 0.02042825, 0.06080212, 0.04301806, 0.07661636])}"
            ]
          },
          "execution_count": 48,
          "metadata": {},
          "output_type": "execute_result"
        }
      ],
      "source": [
        "random_search.cv_results_"
      ]
    },
    {
      "cell_type": "code",
      "execution_count": null,
      "metadata": {
        "colab": {
          "base_uri": "https://localhost:8080/"
        },
        "id": "snp8ZBhThsck",
        "outputId": "7bb24de8-53f3-4fb9-8cbf-0a7a1672ac7a",
        "vscode": {
          "languageId": "python"
        }
      },
      "outputs": [
        {
          "data": {
            "text/plain": [
              "{'criterion': 'gini',\n",
              " 'max_depth': 4,\n",
              " 'min_samples_leaf': 3,\n",
              " 'min_samples_split': 2}"
            ]
          },
          "execution_count": 49,
          "metadata": {},
          "output_type": "execute_result"
        }
      ],
      "source": [
        "random_search.best_params_"
      ]
    },
    {
      "cell_type": "code",
      "execution_count": null,
      "metadata": {
        "colab": {
          "base_uri": "https://localhost:8080/"
        },
        "id": "tNrzodu-6Aqu",
        "outputId": "eee9e2d4-8697-48da-c681-0c3f3fee1c45",
        "vscode": {
          "languageId": "python"
        }
      },
      "outputs": [
        {
          "data": {
            "text/plain": [
              "DecisionTreeClassifier(max_depth=4, min_samples_leaf=3, random_state=0)"
            ]
          },
          "execution_count": 50,
          "metadata": {},
          "output_type": "execute_result"
        }
      ],
      "source": [
        "random_search.best_estimator_"
      ]
    },
    {
      "cell_type": "code",
      "execution_count": null,
      "metadata": {
        "colab": {
          "base_uri": "https://localhost:8080/"
        },
        "id": "m60QtVqRKECZ",
        "outputId": "9db2553a-a84e-4e12-d8b7-0326564c5a57",
        "vscode": {
          "languageId": "python"
        }
      },
      "outputs": [
        {
          "data": {
            "text/plain": [
              "DecisionTreeClassifier(random_state=0)"
            ]
          },
          "execution_count": 51,
          "metadata": {},
          "output_type": "execute_result"
        }
      ],
      "source": [
        "sonar_tree"
      ]
    },
    {
      "cell_type": "code",
      "execution_count": null,
      "metadata": {
        "colab": {
          "base_uri": "https://localhost:8080/"
        },
        "id": "1XXZBmr4huLK",
        "outputId": "ad843df5-02b1-48a4-bca9-823fdb61af91",
        "vscode": {
          "languageId": "python"
        }
      },
      "outputs": [
        {
          "name": "stdout",
          "output_type": "stream",
          "text": [
            "Acurácia de treinamento: 0.9090909090909091\n",
            "Acurácia de previsão: 0.7142857142857143\n"
          ]
        }
      ],
      "source": [
        "print(\"Acurácia de treinamento:\", random_search.best_estimator_.score(X_train, y_train))\n",
        "\n",
        "y_pred = random_search.best_estimator_.predict(X_test)\n",
        "print(\"Acurácia de previsão:\", accuracy_score(y_test, y_pred))"
      ]
    },
    {
      "cell_type": "code",
      "execution_count": null,
      "metadata": {
        "colab": {
          "base_uri": "https://localhost:8080/"
        },
        "id": "fse8E9zynQbw",
        "outputId": "5ebc0372-c16f-44cf-cfd2-8d5ae7df6e95",
        "vscode": {
          "languageId": "python"
        }
      },
      "outputs": [
        {
          "name": "stdout",
          "output_type": "stream",
          "text": [
            "              precision    recall  f1-score   support\n",
            "\n",
            "        Mina       0.60      0.75      0.67         8\n",
            "       Rocha       0.82      0.69      0.75        13\n",
            "\n",
            "    accuracy                           0.71        21\n",
            "   macro avg       0.71      0.72      0.71        21\n",
            "weighted avg       0.74      0.71      0.72        21\n",
            "\n",
            "       Mina (prev)  Rocha (prev)\n",
            "Mina             6             2\n",
            "Rocha            4             9\n"
          ]
        }
      ],
      "source": [
        "print(classification_report(y_test, y_pred, target_names=[\"Mina\", \"Rocha\"]))\n",
        "      \n",
        "cnf_matrix = confusion_matrix(y_test, y_pred)\n",
        "cnf_table = pd.DataFrame(data=cnf_matrix, index=[\"Mina\", \"Rocha\"], columns=[\"Mina (prev)\", \"Rocha (prev)\"])\n",
        "print(cnf_table)"
      ]
    }
  ],
  "metadata": {
    "colab": {
      "collapsed_sections": [],
      "name": "Arvore de decisao - Sonar - Ajuste de hiperparametros.ipynb",
      "provenance": []
    },
    "kernelspec": {
      "display_name": "Python 3",
      "name": "python3"
    }
  },
  "nbformat": 4,
  "nbformat_minor": 0
}
