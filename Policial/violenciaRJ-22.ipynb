{
 "cells": [
  {
   "attachments": {},
   "cell_type": "markdown",
   "metadata": {},
   "source": [
    "Nome: Ozea dos Santos Nascimento <br>\n",
    "Data: 16/12/2022 <br>\n",
    "<br>\n",
    "\n",
    "♫ O Rio de Janeiro continua lindo... <br>\n",
    "<br>\n",
    "É a segunda maior metropole do nosso querido Brasil; palco de uma beleza exuberante, possuidor das mais belas praias e serras além de uma população sempre animada e festiva. Porém, nem tudo são flores na cidade maravilhosa. Mesmo com todas as maravilhas que uma grande metropole pode fornecer, não está livre de problemas como a desigualdade social e a violencia.<br>\n",
    "<br>\n",
    "Atualmente, a população através das redes sociais, tem demonstrado insatisfação por um possível aumento da violencia, tendo como causa principal, a volta de um antigo partido político. <br>\n",
    "<br>\n",
    "Analisaremos então, os dados fornecidos pelo ISP (Instituto de Segurança Pública), observando a escalada da violencia durante o periodo de  2017,2018,2019 e os meses de 2022, se houve algum aumento ou não da violencia. <br>\n",
    "\n",
    "Esperamos também no final deste, realizar uma analise de sentimento da população atraves das redes sociais (Twitter)\n",
    "<br><br><br>\n",
    "Dados: ISP = http://www.isp.rj.gov.br/\n"
   ]
  },
  {
   "attachments": {},
   "cell_type": "markdown",
   "metadata": {},
   "source": [
    "Observar que, de acordo com o código penal vigente (2022), caracteriza-se \"ROUBO\" o crime de subtração de bens mediante ameaça armada."
   ]
  },
  {
   "attachments": {},
   "cell_type": "markdown",
   "metadata": {},
   "source": [
    "CISP - Delegacia onde a ocorrencia fora regitrado <br>\n",
    "mes - Mes da ocorrencia<br>\n",
    "vano - Ano da ocorrencia <br>\n",
    "munic - Municipio da ocorrencia<br>\n",
    "mcirc - Codigo do municipio<br>\n",
    "Regiao - Região da ocorrencia<br>\n",
    "estupro - Estupro Violencia a mulher<br>\n",
    "roubo_comercio - Roubo a Comerciantes<br>\n",
    "roubo_residencia - Roubo à residencias<br>\n",
    "roubo_veiculo - Roubo a Veiculos<br>\n",
    "roubo_carga - Roubo de Cargas<br>\n",
    "roubo_transeunte - Roubo a Pedestres<br> \n",
    "roubo_em_coletivo - Roubo a Transporte publico<br>\n",
    "roubo_banco - Roubo a banco<br>\n",
    "roubo_cx_eletronico - Roubo a caixas eletronicos<br>\n",
    "roubo_celular - Roubo de celular<br>\n",
    "roubo_conducao_saque - Roubo condução ao Saque<br>\n",
    "roubo_apos_saque - Roubo Saidinha do Banco<br>\n",
    "roubo_bicicleta - Roubo a bicicleta<br>\n",
    "outros_roubos - Outros Roubos<br>\n",
    "total_roubos - Total geral roubos<br>"
   ]
  },
  {
   "attachments": {},
   "cell_type": "markdown",
   "metadata": {},
   "source": [
    "========================================================"
   ]
  },
  {
   "attachments": {},
   "cell_type": "markdown",
   "metadata": {},
   "source": [
    "## Importando dados"
   ]
  },
  {
   "cell_type": "code",
   "execution_count": 1,
   "metadata": {},
   "outputs": [],
   "source": [
    "import pandas as pd\n",
    "import seaborn as sns\n",
    "import matplotlib.pyplot as plt\n",
    "#import plotly.express as px"
   ]
  },
  {
   "cell_type": "code",
   "execution_count": 4,
   "metadata": {},
   "outputs": [
    {
     "name": "stderr",
     "output_type": "stream",
     "text": [
      "C:\\Users\\ozeas\\AppData\\Local\\Temp\\ipykernel_9292\\1155578714.py:1: DtypeWarning: Columns (29,47,48,49,51,52,53,54) have mixed types. Specify dtype option on import or set low_memory=False.\n",
      "  df_roubo = pd.read_csv('Base.csv', delimiter=';', encoding='ISO-8859-1') #Carregando o dataset\n"
     ]
    },
    {
     "data": {
      "text/html": [
       "<div>\n",
       "<style scoped>\n",
       "    .dataframe tbody tr th:only-of-type {\n",
       "        vertical-align: middle;\n",
       "    }\n",
       "\n",
       "    .dataframe tbody tr th {\n",
       "        vertical-align: top;\n",
       "    }\n",
       "\n",
       "    .dataframe thead th {\n",
       "        text-align: right;\n",
       "    }\n",
       "</style>\n",
       "<table border=\"1\" class=\"dataframe\">\n",
       "  <thead>\n",
       "    <tr style=\"text-align: right;\">\n",
       "      <th></th>\n",
       "      <th>CISP</th>\n",
       "      <th>mes</th>\n",
       "      <th>ano</th>\n",
       "      <th>munic</th>\n",
       "      <th>mcirc</th>\n",
       "      <th>Regiao</th>\n",
       "      <th>estupro</th>\n",
       "      <th>roubo_comercio</th>\n",
       "      <th>roubo_residencia</th>\n",
       "      <th>roubo_veiculo</th>\n",
       "      <th>...</th>\n",
       "      <th>roubo_transeunte</th>\n",
       "      <th>roubo_em_coletivo</th>\n",
       "      <th>roubo_banco</th>\n",
       "      <th>roubo_cx_eletronico</th>\n",
       "      <th>roubo_celular</th>\n",
       "      <th>roubo_conducao_saque</th>\n",
       "      <th>roubo_apos_saque</th>\n",
       "      <th>roubo_bicicleta</th>\n",
       "      <th>outros_roubos</th>\n",
       "      <th>total_roubos</th>\n",
       "    </tr>\n",
       "  </thead>\n",
       "  <tbody>\n",
       "    <tr>\n",
       "      <th>22357</th>\n",
       "      <td>1</td>\n",
       "      <td>1</td>\n",
       "      <td>2017</td>\n",
       "      <td>Rio de Janeiro</td>\n",
       "      <td>3304557</td>\n",
       "      <td>Capital</td>\n",
       "      <td>0</td>\n",
       "      <td>2</td>\n",
       "      <td>1</td>\n",
       "      <td>2</td>\n",
       "      <td>...</td>\n",
       "      <td>36</td>\n",
       "      <td>0</td>\n",
       "      <td>0</td>\n",
       "      <td>0</td>\n",
       "      <td>7</td>\n",
       "      <td>0</td>\n",
       "      <td>1</td>\n",
       "      <td>0</td>\n",
       "      <td>5</td>\n",
       "      <td>54</td>\n",
       "    </tr>\n",
       "    <tr>\n",
       "      <th>22358</th>\n",
       "      <td>4</td>\n",
       "      <td>1</td>\n",
       "      <td>2017</td>\n",
       "      <td>Rio de Janeiro</td>\n",
       "      <td>3304557</td>\n",
       "      <td>Capital</td>\n",
       "      <td>3</td>\n",
       "      <td>2</td>\n",
       "      <td>0</td>\n",
       "      <td>26</td>\n",
       "      <td>...</td>\n",
       "      <td>80</td>\n",
       "      <td>36</td>\n",
       "      <td>0</td>\n",
       "      <td>0</td>\n",
       "      <td>11</td>\n",
       "      <td>0</td>\n",
       "      <td>1</td>\n",
       "      <td>0</td>\n",
       "      <td>17</td>\n",
       "      <td>173</td>\n",
       "    </tr>\n",
       "    <tr>\n",
       "      <th>22359</th>\n",
       "      <td>5</td>\n",
       "      <td>1</td>\n",
       "      <td>2017</td>\n",
       "      <td>Rio de Janeiro</td>\n",
       "      <td>3304557</td>\n",
       "      <td>Capital</td>\n",
       "      <td>3</td>\n",
       "      <td>6</td>\n",
       "      <td>0</td>\n",
       "      <td>0</td>\n",
       "      <td>...</td>\n",
       "      <td>126</td>\n",
       "      <td>2</td>\n",
       "      <td>0</td>\n",
       "      <td>0</td>\n",
       "      <td>18</td>\n",
       "      <td>0</td>\n",
       "      <td>3</td>\n",
       "      <td>0</td>\n",
       "      <td>37</td>\n",
       "      <td>193</td>\n",
       "    </tr>\n",
       "    <tr>\n",
       "      <th>22360</th>\n",
       "      <td>6</td>\n",
       "      <td>1</td>\n",
       "      <td>2017</td>\n",
       "      <td>Rio de Janeiro</td>\n",
       "      <td>3304557</td>\n",
       "      <td>Capital</td>\n",
       "      <td>0</td>\n",
       "      <td>4</td>\n",
       "      <td>0</td>\n",
       "      <td>28</td>\n",
       "      <td>...</td>\n",
       "      <td>57</td>\n",
       "      <td>24</td>\n",
       "      <td>0</td>\n",
       "      <td>0</td>\n",
       "      <td>9</td>\n",
       "      <td>0</td>\n",
       "      <td>0</td>\n",
       "      <td>0</td>\n",
       "      <td>19</td>\n",
       "      <td>146</td>\n",
       "    </tr>\n",
       "    <tr>\n",
       "      <th>22361</th>\n",
       "      <td>7</td>\n",
       "      <td>1</td>\n",
       "      <td>2017</td>\n",
       "      <td>Rio de Janeiro</td>\n",
       "      <td>3304557</td>\n",
       "      <td>Capital</td>\n",
       "      <td>2</td>\n",
       "      <td>0</td>\n",
       "      <td>0</td>\n",
       "      <td>10</td>\n",
       "      <td>...</td>\n",
       "      <td>41</td>\n",
       "      <td>1</td>\n",
       "      <td>0</td>\n",
       "      <td>0</td>\n",
       "      <td>7</td>\n",
       "      <td>0</td>\n",
       "      <td>0</td>\n",
       "      <td>0</td>\n",
       "      <td>24</td>\n",
       "      <td>83</td>\n",
       "    </tr>\n",
       "  </tbody>\n",
       "</table>\n",
       "<p>5 rows × 21 columns</p>\n",
       "</div>"
      ],
      "text/plain": [
       "       CISP  mes   ano           munic    mcirc   Regiao  estupro  \\\n",
       "22357     1    1  2017  Rio de Janeiro  3304557  Capital        0   \n",
       "22358     4    1  2017  Rio de Janeiro  3304557  Capital        3   \n",
       "22359     5    1  2017  Rio de Janeiro  3304557  Capital        3   \n",
       "22360     6    1  2017  Rio de Janeiro  3304557  Capital        0   \n",
       "22361     7    1  2017  Rio de Janeiro  3304557  Capital        2   \n",
       "\n",
       "       roubo_comercio  roubo_residencia  roubo_veiculo  ...  roubo_transeunte  \\\n",
       "22357               2                 1              2  ...                36   \n",
       "22358               2                 0             26  ...                80   \n",
       "22359               6                 0              0  ...               126   \n",
       "22360               4                 0             28  ...                57   \n",
       "22361               0                 0             10  ...                41   \n",
       "\n",
       "       roubo_em_coletivo  roubo_banco  roubo_cx_eletronico roubo_celular  \\\n",
       "22357                  0            0                    0             7   \n",
       "22358                 36            0                    0            11   \n",
       "22359                  2            0                    0            18   \n",
       "22360                 24            0                    0             9   \n",
       "22361                  1            0                    0             7   \n",
       "\n",
       "       roubo_conducao_saque  roubo_apos_saque  roubo_bicicleta outros_roubos  \\\n",
       "22357                     0                 1                0             5   \n",
       "22358                     0                 1                0            17   \n",
       "22359                     0                 3                0            37   \n",
       "22360                     0                 0                0            19   \n",
       "22361                     0                 0                0            24   \n",
       "\n",
       "       total_roubos  \n",
       "22357            54  \n",
       "22358           173  \n",
       "22359           193  \n",
       "22360           146  \n",
       "22361            83  \n",
       "\n",
       "[5 rows x 21 columns]"
      ]
     },
     "execution_count": 4,
     "metadata": {},
     "output_type": "execute_result"
    }
   ],
   "source": [
    "df_roubo = pd.read_csv('Base.csv', delimiter=';', encoding='ISO-8859-1') #Carregando o dataset\n",
    "df_roubo = df_roubo.loc[df_roubo['ano']>=2017]#) & (df_roubo['ano']<=2019)] #Aplicando filtro para dados apartir do ano de 2017\n",
    "\n",
    "#Criação do Dataframe, com apenas as colunas de interesse à nossa analise\n",
    "\n",
    "df_roubo = df_roubo[['CISP', 'mes', 'ano','munic', 'mcirc', 'Regiao', 'estupro',  'roubo_comercio','roubo_residencia', 'roubo_veiculo', 'roubo_carga', 'roubo_transeunte','roubo_em_coletivo', 'roubo_banco', 'roubo_cx_eletronico',\n",
    "'roubo_celular', 'roubo_conducao_saque', 'roubo_apos_saque','roubo_bicicleta', 'outros_roubos', 'total_roubos']]\n",
    "df_roubo.head()"
   ]
  },
  {
   "cell_type": "code",
   "execution_count": 5,
   "metadata": {},
   "outputs": [
    {
     "data": {
      "text/plain": [
       "array(['Capital', 'Baixada Fluminense', 'Interior', 'Grande Niterói',\n",
       "       'Capital           ', 'Interior          ', 'Grande Niterói    '],\n",
       "      dtype=object)"
      ]
     },
     "execution_count": 5,
     "metadata": {},
     "output_type": "execute_result"
    }
   ],
   "source": [
    "df_roubo['Regiao'].unique()"
   ]
  },
  {
   "attachments": {},
   "cell_type": "markdown",
   "metadata": {},
   "source": [
    "# Tratamento de Dados"
   ]
  },
  {
   "attachments": {},
   "cell_type": "markdown",
   "metadata": {},
   "source": [
    "Após selecionarmos os dados importantes a nossa analise, o nosso dataframe possui as seguintes caracteristicas: <br>\n",
    "Período analisado: 2017,2018 e 2019; <br>3608 registros; <br>21 colunas<br>não possui dados ausentes; <br> os tipos encontrados são: Object ( 03 - possivelmente sejam strings), float64 (18 - a ser convertidos para int)"
   ]
  },
  {
   "cell_type": "code",
   "execution_count": 6,
   "metadata": {},
   "outputs": [
    {
     "name": "stdout",
     "output_type": "stream",
     "text": [
      "<class 'pandas.core.frame.DataFrame'>\n",
      "Int64Index: 9614 entries, 22357 to 31970\n",
      "Data columns (total 21 columns):\n",
      " #   Column                Non-Null Count  Dtype \n",
      "---  ------                --------------  ----- \n",
      " 0   CISP                  9614 non-null   int64 \n",
      " 1   mes                   9614 non-null   int64 \n",
      " 2   ano                   9614 non-null   int64 \n",
      " 3   munic                 9614 non-null   object\n",
      " 4   mcirc                 9614 non-null   int64 \n",
      " 5   Regiao                9614 non-null   object\n",
      " 6   estupro               9614 non-null   int64 \n",
      " 7   roubo_comercio        9614 non-null   int64 \n",
      " 8   roubo_residencia      9614 non-null   int64 \n",
      " 9   roubo_veiculo         9614 non-null   int64 \n",
      " 10  roubo_carga           9614 non-null   int64 \n",
      " 11  roubo_transeunte      9614 non-null   int64 \n",
      " 12  roubo_em_coletivo     9614 non-null   int64 \n",
      " 13  roubo_banco           9614 non-null   int64 \n",
      " 14  roubo_cx_eletronico   9614 non-null   object\n",
      " 15  roubo_celular         9614 non-null   int64 \n",
      " 16  roubo_conducao_saque  9614 non-null   int64 \n",
      " 17  roubo_apos_saque      9614 non-null   int64 \n",
      " 18  roubo_bicicleta       9614 non-null   object\n",
      " 19  outros_roubos         9614 non-null   int64 \n",
      " 20  total_roubos          9614 non-null   int64 \n",
      "dtypes: int64(17), object(4)\n",
      "memory usage: 1.6+ MB\n"
     ]
    }
   ],
   "source": [
    "df_roubo.info()"
   ]
  },
  {
   "attachments": {},
   "cell_type": "markdown",
   "metadata": {},
   "source": [
    "Não foram encontrados dados ausentes"
   ]
  },
  {
   "cell_type": "code",
   "execution_count": 7,
   "metadata": {},
   "outputs": [
    {
     "data": {
      "text/plain": [
       "CISP                    0\n",
       "mes                     0\n",
       "ano                     0\n",
       "munic                   0\n",
       "mcirc                   0\n",
       "Regiao                  0\n",
       "estupro                 0\n",
       "roubo_comercio          0\n",
       "roubo_residencia        0\n",
       "roubo_veiculo           0\n",
       "roubo_carga             0\n",
       "roubo_transeunte        0\n",
       "roubo_em_coletivo       0\n",
       "roubo_banco             0\n",
       "roubo_cx_eletronico     0\n",
       "roubo_celular           0\n",
       "roubo_conducao_saque    0\n",
       "roubo_apos_saque        0\n",
       "roubo_bicicleta         0\n",
       "outros_roubos           0\n",
       "total_roubos            0\n",
       "dtype: int64"
      ]
     },
     "execution_count": 7,
     "metadata": {},
     "output_type": "execute_result"
    }
   ],
   "source": [
    "df_roubo.isna().sum()"
   ]
  },
  {
   "attachments": {},
   "cell_type": "markdown",
   "metadata": {},
   "source": [
    "Identificamos abaixo, os maiores valores presentes em nosso dataframe. Além disto, pode-se observar também a presença de espaços em branco nas colunas 'munic' e 'Regiao'. Estes espaços serão removidos"
   ]
  },
  {
   "cell_type": "code",
   "execution_count": 13,
   "metadata": {},
   "outputs": [
    {
     "data": {
      "text/plain": [
       "CISP                              168\n",
       "mes                                12\n",
       "ano                              2022\n",
       "munic                   Volta Redonda\n",
       "mcirc                         9999999\n",
       "Regiao                       Interior\n",
       "estupro                            28\n",
       "roubo_comercio                     35\n",
       "roubo_residencia                   12\n",
       "roubo_veiculo                     394\n",
       "roubo_carga                       103\n",
       "roubo_transeunte                  482\n",
       "roubo_em_coletivo                 189\n",
       "roubo_banco                         2\n",
       "roubo_cx_eletronico                 5\n",
       "roubo_celular                     205\n",
       "roubo_conducao_saque                4\n",
       "roubo_apos_saque                   13\n",
       "roubo_bicicleta                     8\n",
       "outros_roubos                     258\n",
       "total_roubos                     1160\n",
       "dtype: object"
      ]
     },
     "execution_count": 13,
     "metadata": {},
     "output_type": "execute_result"
    }
   ],
   "source": [
    "df_roubo.max()"
   ]
  },
  {
   "attachments": {},
   "cell_type": "markdown",
   "metadata": {},
   "source": [
    "Removendo espaços em branco da coluna 'munic' e 'Região'"
   ]
  },
  {
   "cell_type": "code",
   "execution_count": 12,
   "metadata": {},
   "outputs": [
    {
     "data": {
      "text/plain": [
       "array(['Capital', 'Baixada Fluminense', 'Interior', 'Grande Niterói',\n",
       "       'Capital '], dtype=object)"
      ]
     },
     "execution_count": 12,
     "metadata": {},
     "output_type": "execute_result"
    }
   ],
   "source": [
    "df_roubo['Regiao'].unique()"
   ]
  },
  {
   "cell_type": "code",
   "execution_count": 15,
   "metadata": {},
   "outputs": [
    {
     "ename": "AttributeError",
     "evalue": "Can only use .str accessor with string values!",
     "output_type": "error",
     "traceback": [
      "\u001b[1;31m---------------------------------------------------------------------------\u001b[0m",
      "\u001b[1;31mAttributeError\u001b[0m                            Traceback (most recent call last)",
      "Cell \u001b[1;32mIn[15], line 12\u001b[0m\n\u001b[0;32m      6\u001b[0m     \u001b[39mreturn\u001b[39;00m df\n\u001b[0;32m      7\u001b[0m         \u001b[39m#elif df.iloc[:,i].dtypes == 'float':\u001b[39;00m\n\u001b[0;32m      8\u001b[0m            \u001b[39m#df.iloc[:,i] = df.iloc[:,i].astype('int64')\u001b[39;00m\n\u001b[1;32m---> 12\u001b[0m df_roubo \u001b[39m=\u001b[39m tratamento(df_roubo)\n",
      "Cell \u001b[1;32mIn[15], line 5\u001b[0m, in \u001b[0;36mtratamento\u001b[1;34m(df)\u001b[0m\n\u001b[0;32m      2\u001b[0m \u001b[39mfor\u001b[39;00m i \u001b[39min\u001b[39;00m \u001b[39mrange\u001b[39m(df\u001b[39m.\u001b[39mshape[\u001b[39m1\u001b[39m]):\n\u001b[0;32m      3\u001b[0m     \u001b[39m#print(i)\u001b[39;00m\n\u001b[0;32m      4\u001b[0m     \u001b[39mif\u001b[39;00m df\u001b[39m.\u001b[39miloc[:,i]\u001b[39m.\u001b[39mdtypes \u001b[39m==\u001b[39m \u001b[39m'\u001b[39m\u001b[39mobject\u001b[39m\u001b[39m'\u001b[39m:\n\u001b[1;32m----> 5\u001b[0m         df\u001b[39m.\u001b[39miloc[:,i] \u001b[39m=\u001b[39m df\u001b[39m.\u001b[39;49miloc[:,i]\u001b[39m.\u001b[39;49mstr\u001b[39m.\u001b[39mreplace(\u001b[39m\"\u001b[39m\u001b[39m  \u001b[39m\u001b[39m\"\u001b[39m,\u001b[39m\"\u001b[39m\u001b[39m\"\u001b[39m)\u001b[39m.\u001b[39mreplace(\u001b[39m'\u001b[39m\u001b[39m \u001b[39m\u001b[39m\"\u001b[39m\u001b[39m'\u001b[39m,\u001b[39m'\u001b[39m\u001b[39m'\u001b[39m)\n\u001b[0;32m      6\u001b[0m \u001b[39mreturn\u001b[39;00m df\n",
      "File \u001b[1;32mc:\\Users\\ozeas\\AppData\\Local\\Programs\\Python\\Python38\\lib\\site-packages\\pandas\\core\\generic.py:5902\u001b[0m, in \u001b[0;36mNDFrame.__getattr__\u001b[1;34m(self, name)\u001b[0m\n\u001b[0;32m   5895\u001b[0m \u001b[39mif\u001b[39;00m (\n\u001b[0;32m   5896\u001b[0m     name \u001b[39mnot\u001b[39;00m \u001b[39min\u001b[39;00m \u001b[39mself\u001b[39m\u001b[39m.\u001b[39m_internal_names_set\n\u001b[0;32m   5897\u001b[0m     \u001b[39mand\u001b[39;00m name \u001b[39mnot\u001b[39;00m \u001b[39min\u001b[39;00m \u001b[39mself\u001b[39m\u001b[39m.\u001b[39m_metadata\n\u001b[0;32m   5898\u001b[0m     \u001b[39mand\u001b[39;00m name \u001b[39mnot\u001b[39;00m \u001b[39min\u001b[39;00m \u001b[39mself\u001b[39m\u001b[39m.\u001b[39m_accessors\n\u001b[0;32m   5899\u001b[0m     \u001b[39mand\u001b[39;00m \u001b[39mself\u001b[39m\u001b[39m.\u001b[39m_info_axis\u001b[39m.\u001b[39m_can_hold_identifiers_and_holds_name(name)\n\u001b[0;32m   5900\u001b[0m ):\n\u001b[0;32m   5901\u001b[0m     \u001b[39mreturn\u001b[39;00m \u001b[39mself\u001b[39m[name]\n\u001b[1;32m-> 5902\u001b[0m \u001b[39mreturn\u001b[39;00m \u001b[39mobject\u001b[39;49m\u001b[39m.\u001b[39;49m\u001b[39m__getattribute__\u001b[39;49m(\u001b[39mself\u001b[39;49m, name)\n",
      "File \u001b[1;32mc:\\Users\\ozeas\\AppData\\Local\\Programs\\Python\\Python38\\lib\\site-packages\\pandas\\core\\accessor.py:182\u001b[0m, in \u001b[0;36mCachedAccessor.__get__\u001b[1;34m(self, obj, cls)\u001b[0m\n\u001b[0;32m    179\u001b[0m \u001b[39mif\u001b[39;00m obj \u001b[39mis\u001b[39;00m \u001b[39mNone\u001b[39;00m:\n\u001b[0;32m    180\u001b[0m     \u001b[39m# we're accessing the attribute of the class, i.e., Dataset.geo\u001b[39;00m\n\u001b[0;32m    181\u001b[0m     \u001b[39mreturn\u001b[39;00m \u001b[39mself\u001b[39m\u001b[39m.\u001b[39m_accessor\n\u001b[1;32m--> 182\u001b[0m accessor_obj \u001b[39m=\u001b[39m \u001b[39mself\u001b[39;49m\u001b[39m.\u001b[39;49m_accessor(obj)\n\u001b[0;32m    183\u001b[0m \u001b[39m# Replace the property with the accessor object. Inspired by:\u001b[39;00m\n\u001b[0;32m    184\u001b[0m \u001b[39m# https://www.pydanny.com/cached-property.html\u001b[39;00m\n\u001b[0;32m    185\u001b[0m \u001b[39m# We need to use object.__setattr__ because we overwrite __setattr__ on\u001b[39;00m\n\u001b[0;32m    186\u001b[0m \u001b[39m# NDFrame\u001b[39;00m\n\u001b[0;32m    187\u001b[0m \u001b[39mobject\u001b[39m\u001b[39m.\u001b[39m\u001b[39m__setattr__\u001b[39m(obj, \u001b[39mself\u001b[39m\u001b[39m.\u001b[39m_name, accessor_obj)\n",
      "File \u001b[1;32mc:\\Users\\ozeas\\AppData\\Local\\Programs\\Python\\Python38\\lib\\site-packages\\pandas\\core\\strings\\accessor.py:181\u001b[0m, in \u001b[0;36mStringMethods.__init__\u001b[1;34m(self, data)\u001b[0m\n\u001b[0;32m    178\u001b[0m \u001b[39mdef\u001b[39;00m \u001b[39m__init__\u001b[39m(\u001b[39mself\u001b[39m, data) \u001b[39m-\u001b[39m\u001b[39m>\u001b[39m \u001b[39mNone\u001b[39;00m:\n\u001b[0;32m    179\u001b[0m     \u001b[39mfrom\u001b[39;00m \u001b[39mpandas\u001b[39;00m\u001b[39m.\u001b[39;00m\u001b[39mcore\u001b[39;00m\u001b[39m.\u001b[39;00m\u001b[39marrays\u001b[39;00m\u001b[39m.\u001b[39;00m\u001b[39mstring_\u001b[39;00m \u001b[39mimport\u001b[39;00m StringDtype\n\u001b[1;32m--> 181\u001b[0m     \u001b[39mself\u001b[39m\u001b[39m.\u001b[39m_inferred_dtype \u001b[39m=\u001b[39m \u001b[39mself\u001b[39;49m\u001b[39m.\u001b[39;49m_validate(data)\n\u001b[0;32m    182\u001b[0m     \u001b[39mself\u001b[39m\u001b[39m.\u001b[39m_is_categorical \u001b[39m=\u001b[39m is_categorical_dtype(data\u001b[39m.\u001b[39mdtype)\n\u001b[0;32m    183\u001b[0m     \u001b[39mself\u001b[39m\u001b[39m.\u001b[39m_is_string \u001b[39m=\u001b[39m \u001b[39misinstance\u001b[39m(data\u001b[39m.\u001b[39mdtype, StringDtype)\n",
      "File \u001b[1;32mc:\\Users\\ozeas\\AppData\\Local\\Programs\\Python\\Python38\\lib\\site-packages\\pandas\\core\\strings\\accessor.py:235\u001b[0m, in \u001b[0;36mStringMethods._validate\u001b[1;34m(data)\u001b[0m\n\u001b[0;32m    232\u001b[0m inferred_dtype \u001b[39m=\u001b[39m lib\u001b[39m.\u001b[39minfer_dtype(values, skipna\u001b[39m=\u001b[39m\u001b[39mTrue\u001b[39;00m)\n\u001b[0;32m    234\u001b[0m \u001b[39mif\u001b[39;00m inferred_dtype \u001b[39mnot\u001b[39;00m \u001b[39min\u001b[39;00m allowed_types:\n\u001b[1;32m--> 235\u001b[0m     \u001b[39mraise\u001b[39;00m \u001b[39mAttributeError\u001b[39;00m(\u001b[39m\"\u001b[39m\u001b[39mCan only use .str accessor with string values!\u001b[39m\u001b[39m\"\u001b[39m)\n\u001b[0;32m    236\u001b[0m \u001b[39mreturn\u001b[39;00m inferred_dtype\n",
      "\u001b[1;31mAttributeError\u001b[0m: Can only use .str accessor with string values!"
     ]
    }
   ],
   "source": [
    "def tratamento(df):\n",
    "    for i in range(df.shape[1]):\n",
    "        #print(i)\n",
    "        if df.iloc[:,i].dtypes == 'object':\n",
    "            df.iloc[:,i] = df.iloc[:,i].str.replace(\"  \",\"\").replace(' \"','')\n",
    "    return df\n",
    "        #elif df.iloc[:,i].dtypes == 'float':\n",
    "           #df.iloc[:,i] = df.iloc[:,i].astype('int64')\n",
    "       \n",
    "                            \n",
    "\n",
    "df_roubo = tratamento(df_roubo)"
   ]
  },
  {
   "cell_type": "code",
   "execution_count": 34,
   "metadata": {},
   "outputs": [
    {
     "name": "stderr",
     "output_type": "stream",
     "text": [
      "C:\\Users\\ozeas\\AppData\\Local\\Temp\\ipykernel_9292\\1654105632.py:1: SettingWithCopyWarning: \n",
      "A value is trying to be set on a copy of a slice from a DataFrame\n",
      "\n",
      "See the caveats in the documentation: https://pandas.pydata.org/pandas-docs/stable/user_guide/indexing.html#returning-a-view-versus-a-copy\n",
      "  total_roub_19['Regiao'][2] = total_roub_19['Regiao'][1]\n"
     ]
    }
   ],
   "source": [
    "total_roub_19['Regiao'][2] = total_roub_19['Regiao'][1]"
   ]
  },
  {
   "cell_type": "code",
   "execution_count": 36,
   "metadata": {},
   "outputs": [
    {
     "data": {
      "text/html": [
       "<div>\n",
       "<style scoped>\n",
       "    .dataframe tbody tr th:only-of-type {\n",
       "        vertical-align: middle;\n",
       "    }\n",
       "\n",
       "    .dataframe tbody tr th {\n",
       "        vertical-align: top;\n",
       "    }\n",
       "\n",
       "    .dataframe thead th {\n",
       "        text-align: right;\n",
       "    }\n",
       "</style>\n",
       "<table border=\"1\" class=\"dataframe\">\n",
       "  <thead>\n",
       "    <tr style=\"text-align: right;\">\n",
       "      <th></th>\n",
       "      <th>Regiao</th>\n",
       "      <th>CISP</th>\n",
       "      <th>mes</th>\n",
       "      <th>ano</th>\n",
       "      <th>mcirc</th>\n",
       "      <th>estupro</th>\n",
       "      <th>roubo_comercio</th>\n",
       "      <th>roubo_residencia</th>\n",
       "      <th>roubo_veiculo</th>\n",
       "      <th>roubo_carga</th>\n",
       "      <th>roubo_transeunte</th>\n",
       "      <th>roubo_em_coletivo</th>\n",
       "      <th>roubo_banco</th>\n",
       "      <th>roubo_celular</th>\n",
       "      <th>roubo_conducao_saque</th>\n",
       "      <th>roubo_apos_saque</th>\n",
       "      <th>outros_roubos</th>\n",
       "      <th>total_roubos</th>\n",
       "    </tr>\n",
       "  </thead>\n",
       "  <tbody>\n",
       "    <tr>\n",
       "      <th>0</th>\n",
       "      <td>Baixada Fluminense</td>\n",
       "      <td>13212</td>\n",
       "      <td>1482</td>\n",
       "      <td>460332</td>\n",
       "      <td>753040464</td>\n",
       "      <td>1421</td>\n",
       "      <td>998</td>\n",
       "      <td>247</td>\n",
       "      <td>13165</td>\n",
       "      <td>2337</td>\n",
       "      <td>21045</td>\n",
       "      <td>3935</td>\n",
       "      <td>4</td>\n",
       "      <td>7649</td>\n",
       "      <td>25</td>\n",
       "      <td>241</td>\n",
       "      <td>5201</td>\n",
       "      <td>54884</td>\n",
       "    </tr>\n",
       "    <tr>\n",
       "      <th>1</th>\n",
       "      <td>Capital</td>\n",
       "      <td>5862</td>\n",
       "      <td>861</td>\n",
       "      <td>496674</td>\n",
       "      <td>812921022</td>\n",
       "      <td>842</td>\n",
       "      <td>1415</td>\n",
       "      <td>214</td>\n",
       "      <td>9943</td>\n",
       "      <td>1589</td>\n",
       "      <td>22211</td>\n",
       "      <td>5579</td>\n",
       "      <td>8</td>\n",
       "      <td>7566</td>\n",
       "      <td>38</td>\n",
       "      <td>294</td>\n",
       "      <td>7807</td>\n",
       "      <td>56732</td>\n",
       "    </tr>\n",
       "    <tr>\n",
       "      <th>2</th>\n",
       "      <td>Capital</td>\n",
       "      <td>5862</td>\n",
       "      <td>2337</td>\n",
       "      <td>496674</td>\n",
       "      <td>812921022</td>\n",
       "      <td>884</td>\n",
       "      <td>1149</td>\n",
       "      <td>178</td>\n",
       "      <td>8523</td>\n",
       "      <td>1556</td>\n",
       "      <td>18245</td>\n",
       "      <td>4196</td>\n",
       "      <td>4</td>\n",
       "      <td>6867</td>\n",
       "      <td>41</td>\n",
       "      <td>348</td>\n",
       "      <td>6219</td>\n",
       "      <td>47407</td>\n",
       "    </tr>\n",
       "    <tr>\n",
       "      <th>3</th>\n",
       "      <td>Grande Niterói</td>\n",
       "      <td>9204</td>\n",
       "      <td>780</td>\n",
       "      <td>242280</td>\n",
       "      <td>396465912</td>\n",
       "      <td>478</td>\n",
       "      <td>610</td>\n",
       "      <td>196</td>\n",
       "      <td>6158</td>\n",
       "      <td>1573</td>\n",
       "      <td>11232</td>\n",
       "      <td>1271</td>\n",
       "      <td>1</td>\n",
       "      <td>2372</td>\n",
       "      <td>9</td>\n",
       "      <td>132</td>\n",
       "      <td>3323</td>\n",
       "      <td>26889</td>\n",
       "    </tr>\n",
       "    <tr>\n",
       "      <th>4</th>\n",
       "      <td>Interior</td>\n",
       "      <td>100272</td>\n",
       "      <td>5226</td>\n",
       "      <td>1623276</td>\n",
       "      <td>3378990684</td>\n",
       "      <td>1825</td>\n",
       "      <td>833</td>\n",
       "      <td>295</td>\n",
       "      <td>1960</td>\n",
       "      <td>401</td>\n",
       "      <td>5596</td>\n",
       "      <td>373</td>\n",
       "      <td>3</td>\n",
       "      <td>2334</td>\n",
       "      <td>8</td>\n",
       "      <td>56</td>\n",
       "      <td>1515</td>\n",
       "      <td>13402</td>\n",
       "    </tr>\n",
       "  </tbody>\n",
       "</table>\n",
       "</div>"
      ],
      "text/plain": [
       "               Regiao    CISP   mes      ano       mcirc  estupro  \\\n",
       "0  Baixada Fluminense   13212  1482   460332   753040464     1421   \n",
       "1             Capital    5862   861   496674   812921022      842   \n",
       "2             Capital    5862  2337   496674   812921022      884   \n",
       "3      Grande Niterói    9204   780   242280   396465912      478   \n",
       "4            Interior  100272  5226  1623276  3378990684     1825   \n",
       "\n",
       "   roubo_comercio  roubo_residencia  roubo_veiculo  roubo_carga  \\\n",
       "0             998               247          13165         2337   \n",
       "1            1415               214           9943         1589   \n",
       "2            1149               178           8523         1556   \n",
       "3             610               196           6158         1573   \n",
       "4             833               295           1960          401   \n",
       "\n",
       "   roubo_transeunte  roubo_em_coletivo  roubo_banco  roubo_celular  \\\n",
       "0             21045               3935            4           7649   \n",
       "1             22211               5579            8           7566   \n",
       "2             18245               4196            4           6867   \n",
       "3             11232               1271            1           2372   \n",
       "4              5596                373            3           2334   \n",
       "\n",
       "   roubo_conducao_saque  roubo_apos_saque  outros_roubos  total_roubos  \n",
       "0                    25               241           5201         54884  \n",
       "1                    38               294           7807         56732  \n",
       "2                    41               348           6219         47407  \n",
       "3                     9               132           3323         26889  \n",
       "4                     8                56           1515         13402  "
      ]
     },
     "execution_count": 36,
     "metadata": {},
     "output_type": "execute_result"
    }
   ],
   "source": [
    "total_roub_19"
   ]
  },
  {
   "attachments": {},
   "cell_type": "markdown",
   "metadata": {},
   "source": [
    "## 2017, 2018 e 2019\n",
    "O ano de 2017, foi governado pelo vice presidente da República Michel Temer, que assumiu em 2016, após o impeachment da então presidente Dilma Rousseff. \n",
    "Duramte o ano de 2018, o Rio de Janeiro, estava mergulhado em uma onda de violência, o que forçou o vice presidente a recorrer a intervenção federal, que teve seu início em fevereiro de 2018 até dezembro do mesmo ano (após as eleições: out/2018).\n",
    "O mesmo ano, foi marcado também pelas eleições, onde haviam candidatos como Jair Bolsonaro (Presidente da República) e Wilson Witzel (Governador RJ); estes prometeram combater duramente o crime organizado.\n",
    "No ano de 2019; foi o inicio de um novo governo, com os candidatos citados, agora eleitos.\n",
    "\n",
    "A partir da visualização abaixo, analisaremos se houve algum reflexo no número de roubos realizados durante os anos de 2017, 2018 e 2019."
   ]
  },
  {
   "cell_type": "code",
   "execution_count": 25,
   "metadata": {},
   "outputs": [
    {
     "name": "stderr",
     "output_type": "stream",
     "text": [
      "C:\\Users\\ozeas\\AppData\\Local\\Temp\\ipykernel_9292\\15968440.py:6: FutureWarning: The default value of numeric_only in DataFrameGroupBy.sum is deprecated. In a future version, numeric_only will default to False. Either specify numeric_only or select only columns which should be valid for the function.\n",
      "  total_roub_17 = df_roubo[df_roubo['ano'] == 2017].groupby('Regiao').sum().reset_index()\n",
      "C:\\Users\\ozeas\\AppData\\Local\\Temp\\ipykernel_9292\\15968440.py:7: FutureWarning: The default value of numeric_only in DataFrameGroupBy.sum is deprecated. In a future version, numeric_only will default to False. Either specify numeric_only or select only columns which should be valid for the function.\n",
      "  total_roub_18 = df_roubo[df_roubo['ano'] == 2018].groupby('Regiao').sum().reset_index()\n",
      "C:\\Users\\ozeas\\AppData\\Local\\Temp\\ipykernel_9292\\15968440.py:8: FutureWarning: The default value of numeric_only in DataFrameGroupBy.sum is deprecated. In a future version, numeric_only will default to False. Either specify numeric_only or select only columns which should be valid for the function.\n",
      "  total_roub_19 = df_roubo[df_roubo['ano'] == 2019].groupby('Regiao').sum().reset_index()\n",
      "C:\\Users\\ozeas\\AppData\\Local\\Temp\\ipykernel_9292\\15968440.py:33: UserWarning: Matplotlib is currently using module://matplotlib_inline.backend_inline, which is a non-GUI backend, so cannot show the figure.\n",
      "  figura.show()\n"
     ]
    },
    {
     "data": {
      "text/html": [
       "<div>\n",
       "<style scoped>\n",
       "    .dataframe tbody tr th:only-of-type {\n",
       "        vertical-align: middle;\n",
       "    }\n",
       "\n",
       "    .dataframe tbody tr th {\n",
       "        vertical-align: top;\n",
       "    }\n",
       "\n",
       "    .dataframe thead th {\n",
       "        text-align: right;\n",
       "    }\n",
       "</style>\n",
       "<table border=\"1\" class=\"dataframe\">\n",
       "  <thead>\n",
       "    <tr style=\"text-align: right;\">\n",
       "      <th></th>\n",
       "      <th>Regiao</th>\n",
       "      <th>2017</th>\n",
       "      <th>2018</th>\n",
       "      <th>2019</th>\n",
       "    </tr>\n",
       "  </thead>\n",
       "  <tbody>\n",
       "    <tr>\n",
       "      <th>0</th>\n",
       "      <td>Baixada Fluminense</td>\n",
       "      <td>61735</td>\n",
       "      <td>60226</td>\n",
       "      <td>54884</td>\n",
       "    </tr>\n",
       "    <tr>\n",
       "      <th>1</th>\n",
       "      <td>Capital</td>\n",
       "      <td>123126</td>\n",
       "      <td>121111</td>\n",
       "      <td>56732</td>\n",
       "    </tr>\n",
       "    <tr>\n",
       "      <th>2</th>\n",
       "      <td>Grande Niterói</td>\n",
       "      <td>30512</td>\n",
       "      <td>33600</td>\n",
       "      <td>47407</td>\n",
       "    </tr>\n",
       "    <tr>\n",
       "      <th>3</th>\n",
       "      <td>Interior</td>\n",
       "      <td>15064</td>\n",
       "      <td>16669</td>\n",
       "      <td>26889</td>\n",
       "    </tr>\n",
       "  </tbody>\n",
       "</table>\n",
       "</div>"
      ],
      "text/plain": [
       "               Regiao    2017    2018   2019\n",
       "0  Baixada Fluminense   61735   60226  54884\n",
       "1             Capital  123126  121111  56732\n",
       "2      Grande Niterói   30512   33600  47407\n",
       "3            Interior   15064   16669  26889"
      ]
     },
     "execution_count": 25,
     "metadata": {},
     "output_type": "execute_result"
    },
    {
     "data": {
      "image/png": "[encoded data removed]",
      "text/plain": [
       "<Figure size 2000x500 with 3 Axes>"
      ]
     },
     "metadata": {},
     "output_type": "display_data"
    }
   ],
   "source": [
    "eixo = 0\n",
    "max_y = 0\n",
    "\n",
    "titulos = ['2017', '2018', '2019']\n",
    "\n",
    "total_roub_17 = df_roubo[df_roubo['ano'] == 2017].groupby('Regiao').sum().reset_index()\n",
    "total_roub_18 = df_roubo[df_roubo['ano'] == 2018].groupby('Regiao').sum().reset_index()\n",
    "total_roub_19 = df_roubo[df_roubo['ano'] == 2019].groupby('Regiao').sum().reset_index()\n",
    "\n",
    "coluna = 'Qtd de Roubos'\n",
    "\n",
    "lst_dfs = [total_roub_17, total_roub_18, total_roub_19]\n",
    "\n",
    "figura, eixos = plt.subplots(1,3, figsize=(20, 5), sharex=True)\n",
    "\n",
    "for dataframe in lst_dfs:\n",
    "\n",
    "    f= sns.barplot(x='Regiao' ,y='total_roubos', data = dataframe, ax=eixos[eixo])\n",
    "    f.set(title=titulos[eixo])\n",
    "    f.set_xticklabels(labels=f.get_xticklabels(), rotation=45)\n",
    "\n",
    "    for i in f.containers:\n",
    "       f.bar_label(i,)\n",
    "    _, max_y_f = f.get_ylim()\n",
    "    max_y = max_y_f if max_y_f > max_y else max_y\n",
    "    f.set(ylim=(0, max_y))\n",
    "    \n",
    "    \n",
    "    eixo += 1\n",
    "    \n",
    "\n",
    "\n",
    "figura.show()\n",
    "\n",
    "total_roubos_17 = total_roub_17[['Regiao','total_roubos']]\n",
    "total_roubos_17 = total_roubos_17.rename(columns={'total_roubos':'2017'})\n",
    "total_roubos_18 = total_roub_18[['Regiao','total_roubos']]\n",
    "total_roubos_18 = total_roubos_18.rename(columns={'total_roubos':'2018'})\n",
    "total_roubos_19 = total_roub_19[['Regiao','total_roubos']]\n",
    "total_roubos_19 = total_roubos_19.rename(columns={'total_roubos':'2019'})\n",
    "total_roubos_17['2018'] = total_roubos_18['2018']\n",
    "total_roubos_17['2019'] = total_roubos_19['2019']\n",
    "total_roubos = total_roubos_17\n",
    "total_roubos"
   ]
  },
  {
   "cell_type": "code",
   "execution_count": 11,
   "metadata": {},
   "outputs": [
    {
     "name": "stderr",
     "output_type": "stream",
     "text": [
      "C:\\Users\\ozeas\\AppData\\Local\\Temp\\ipykernel_8292\\2998221960.py:1: SettingWithCopyWarning: \n",
      "A value is trying to be set on a copy of a slice from a DataFrame\n",
      "\n",
      "See the caveats in the documentation: https://pandas.pydata.org/pandas-docs/stable/user_guide/indexing.html#returning-a-view-versus-a-copy\n",
      "  total_roubos_19['Regiao'][2] = total_roubos_19['Regiao'][2].replace('Capital ', 'Capital')\n"
     ]
    }
   ],
   "source": [
    "total_roubos_19['Regiao'][2] = total_roubos_19['Regiao'][2].replace('Capital ', 'Capital')"
   ]
  },
  {
   "attachments": {},
   "cell_type": "markdown",
   "metadata": {},
   "source": [
    "### Analisaremos também os reflexos por Regiões (Baixada Fluminence, Grande Niterói, Capital e Interior"
   ]
  },
  {
   "cell_type": "code",
   "execution_count": 43,
   "metadata": {},
   "outputs": [
    {
     "data": {
      "text/html": [
       "<div>\n",
       "<style scoped>\n",
       "    .dataframe tbody tr th:only-of-type {\n",
       "        vertical-align: middle;\n",
       "    }\n",
       "\n",
       "    .dataframe tbody tr th {\n",
       "        vertical-align: top;\n",
       "    }\n",
       "\n",
       "    .dataframe thead th {\n",
       "        text-align: right;\n",
       "    }\n",
       "</style>\n",
       "<table border=\"1\" class=\"dataframe\">\n",
       "  <thead>\n",
       "    <tr style=\"text-align: right;\">\n",
       "      <th></th>\n",
       "      <th>Regiao</th>\n",
       "      <th>2018</th>\n",
       "    </tr>\n",
       "  </thead>\n",
       "  <tbody>\n",
       "    <tr>\n",
       "      <th>0</th>\n",
       "      <td>Baixada Fluminense</td>\n",
       "      <td>60226</td>\n",
       "    </tr>\n",
       "    <tr>\n",
       "      <th>1</th>\n",
       "      <td>Capital</td>\n",
       "      <td>121111</td>\n",
       "    </tr>\n",
       "    <tr>\n",
       "      <th>2</th>\n",
       "      <td>Grande Niterói</td>\n",
       "      <td>33600</td>\n",
       "    </tr>\n",
       "    <tr>\n",
       "      <th>3</th>\n",
       "      <td>Interior</td>\n",
       "      <td>16669</td>\n",
       "    </tr>\n",
       "  </tbody>\n",
       "</table>\n",
       "</div>"
      ],
      "text/plain": [
       "               Regiao    2018\n",
       "0  Baixada Fluminense   60226\n",
       "1             Capital  121111\n",
       "2      Grande Niterói   33600\n",
       "3            Interior   16669"
      ]
     },
     "execution_count": 43,
     "metadata": {},
     "output_type": "execute_result"
    }
   ],
   "source": [
    "total_roubos_18"
   ]
  },
  {
   "cell_type": "code",
   "execution_count": 42,
   "metadata": {},
   "outputs": [
    {
     "data": {
      "text/html": [
       "<div>\n",
       "<style scoped>\n",
       "    .dataframe tbody tr th:only-of-type {\n",
       "        vertical-align: middle;\n",
       "    }\n",
       "\n",
       "    .dataframe tbody tr th {\n",
       "        vertical-align: top;\n",
       "    }\n",
       "\n",
       "    .dataframe thead th {\n",
       "        text-align: right;\n",
       "    }\n",
       "</style>\n",
       "<table border=\"1\" class=\"dataframe\">\n",
       "  <thead>\n",
       "    <tr style=\"text-align: right;\">\n",
       "      <th></th>\n",
       "      <th>Regiao</th>\n",
       "      <th>2019</th>\n",
       "    </tr>\n",
       "  </thead>\n",
       "  <tbody>\n",
       "    <tr>\n",
       "      <th>0</th>\n",
       "      <td>Baixada Fluminense</td>\n",
       "      <td>54884</td>\n",
       "    </tr>\n",
       "    <tr>\n",
       "      <th>1</th>\n",
       "      <td>Capital</td>\n",
       "      <td>56732</td>\n",
       "    </tr>\n",
       "    <tr>\n",
       "      <th>2</th>\n",
       "      <td>Capital</td>\n",
       "      <td>47407</td>\n",
       "    </tr>\n",
       "    <tr>\n",
       "      <th>3</th>\n",
       "      <td>Grande Niterói</td>\n",
       "      <td>26889</td>\n",
       "    </tr>\n",
       "    <tr>\n",
       "      <th>4</th>\n",
       "      <td>Interior</td>\n",
       "      <td>13402</td>\n",
       "    </tr>\n",
       "  </tbody>\n",
       "</table>\n",
       "</div>"
      ],
      "text/plain": [
       "               Regiao   2019\n",
       "0  Baixada Fluminense  54884\n",
       "1             Capital  56732\n",
       "2             Capital  47407\n",
       "3      Grande Niterói  26889\n",
       "4            Interior  13402"
      ]
     },
     "execution_count": 42,
     "metadata": {},
     "output_type": "execute_result"
    }
   ],
   "source": [
    "total_roubos_19['Regiao'][1]"
   ]
  },
  {
   "cell_type": "code",
   "execution_count": null,
   "metadata": {},
   "outputs": [],
   "source": [
    "eixo = 0\n",
    "max_y = 0\n",
    "\n",
    "titulos = ['Baixada Fluminense', 'Capital ', 'Grande Niterói', 'Interior']\n",
    "\n",
    "\n",
    "roub_regiao = df_roubo[['ano','Regiao','total_roubos']]\n",
    "roub_regiao = roub_regiao.groupby(['ano','Regiao']).sum().reset_index()\n",
    "roub_regiao = roub_regiao.pivot(index = 'ano', columns='Regiao')\n",
    "\n",
    "rb_baixf = roub_regiao[('total_roubos', 'Baixada Fluminense')]#.reset_index()\n",
    "rb_capital = roub_regiao[('total_roubos', 'Capital ')]#.reset_index()\n",
    "rb_gniteroi = roub_regiao[('total_roubos', 'Grande Niterói')]#.reset_index()\n",
    "rb_interior = roub_regiao[('total_roubos', 'Interior')]#.reset_index()\n",
    "\n",
    "\n",
    "coluna = 'Qtd de Roubos'\n",
    "\n",
    "lst_dfs = [rb_baixf, rb_capital, rb_gniteroi, rb_interior]\n",
    "\n",
    "figura, eixos = plt.subplots(1,4, figsize=(24, 6), sharex=True)\n",
    "\n",
    "for dataframe in lst_dfs:\n",
    "    f= sns.lineplot(data = dataframe, ax=eixos[eixo]) #roub_regiao[('total_roubos', 'Capital ')], ax=eixos[eixo])  \n",
    "    \n",
    "    f.set(title=titulos[eixo])\n",
    "    f.set_xticklabels(labels=f.get_xticklabels(), rotation=45)\n",
    "\n",
    "    for i in f.containers:\n",
    "       f.bar_label(i,)\n",
    "   \n",
    "    _, max_y_f = f.get_ylim()\n",
    "    max_y = max_y_f if max_y_f > max_y else max_y\n",
    "    f.set(ylim=(0, max_y))\n",
    "    \n",
    "    \n",
    "    eixo += 1\n",
    "    \n",
    "figura.show()\n",
    "\n",
    "\n",
    "roub_regiao"
   ]
  },
  {
   "cell_type": "code",
   "execution_count": null,
   "metadata": {},
   "outputs": [],
   "source": [
    "sns.boxplot( x= 'Regiao', y = 'total_roubos',data = df_roubo)"
   ]
  },
  {
   "cell_type": "code",
   "execution_count": null,
   "metadata": {},
   "outputs": [],
   "source": [
    "roub_regiao.describe()"
   ]
  },
  {
   "cell_type": "code",
   "execution_count": null,
   "metadata": {},
   "outputs": [],
   "source": [
    "total_roubos.describe()"
   ]
  },
  {
   "cell_type": "code",
   "execution_count": null,
   "metadata": {},
   "outputs": [],
   "source": [
    "df_roubo.describe()"
   ]
  },
  {
   "cell_type": "code",
   "execution_count": null,
   "metadata": {},
   "outputs": [],
   "source": [
    "roubos_17 = df_roubo[df_roubo['ano'] == 2017]\n",
    "roubos_18 = df_roubo[df_roubo['ano'] == 2018]\n",
    "roubos_19 = df_roubo[df_roubo['ano'] == 2019]"
   ]
  },
  {
   "cell_type": "code",
   "execution_count": null,
   "metadata": {},
   "outputs": [],
   "source": [
    "roubos_17.describe()"
   ]
  },
  {
   "cell_type": "code",
   "execution_count": null,
   "metadata": {},
   "outputs": [],
   "source": [
    "roubos_18.describe()"
   ]
  },
  {
   "cell_type": "code",
   "execution_count": null,
   "metadata": {},
   "outputs": [],
   "source": [
    "roubos_19.describe()"
   ]
  }
 ],
 "metadata": {
  "kernelspec": {
   "display_name": "Python 3",
   "language": "python",
   "name": "python3"
  },
  "language_info": {
   "codemirror_mode": {
    "name": "ipython",
    "version": 3
   },
   "file_extension": ".py",
   "mimetype": "text/x-python",
   "name": "python",
   "nbconvert_exporter": "python",
   "pygments_lexer": "ipython3",
   "version": "3.8.10"
  },
  "orig_nbformat": 4,
  "vscode": {
   "interpreter": {
    "hash": "2e06956fd489a3329cb8434b4c7e43cc21bed0cc9b3070b5daf05e55565e9df5"
   }
  }
 },
 "nbformat": 4,
 "nbformat_minor": 2
}
